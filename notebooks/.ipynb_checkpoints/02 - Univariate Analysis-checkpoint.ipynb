{
 "cells": [
  {
   "cell_type": "markdown",
   "metadata": {},
   "source": [
    "# 02 - Univariate Analysis\n",
    "In this file, the majority of the attributes are looked at one at a time, to determine more columns, and maybe some rows, need to be removed tocreate some consistent data. "
   ]
  },
  {
   "cell_type": "code",
   "execution_count": 1,
   "metadata": {},
   "outputs": [],
   "source": [
    "# All import insertions\n",
    "import numpy as np\n",
    "import pandas as pd\n",
    "import seaborn as sns\n",
    "from pandas import isnull\n",
    "from sklearn import preprocessing\n",
    "import os    # For file paths\n",
    "import re    # Regular Expressions\n",
    "\n",
    "import matplotlib.pyplot as plt\n",
    "%matplotlib inline\n",
    "\n",
    "import datetime as dt\n",
    "\n",
    "from sklearn import feature_selection # For the Variance Check\n"
   ]
  },
  {
   "cell_type": "code",
   "execution_count": 2,
   "metadata": {},
   "outputs": [],
   "source": [
    "# Inserting some Jupyter Notebook settings\n",
    "pd.reset_option('display.max_categories')\n",
    "pd.reset_option('display.max_rows')\n",
    "pd.reset_option('display.max_columns')\n",
    "pd.reset_option('display.width')\n",
    "\n",
    "# pd.set_option('display.max_categories', 1000)\n",
    "# pd.set_option('display.max_rows', 500)\n",
    "# pd.set_option('display.max_columns', 500)\n",
    "# pd.set_option('display.width', 1000)"
   ]
  },
  {
   "cell_type": "code",
   "execution_count": 3,
   "metadata": {},
   "outputs": [],
   "source": [
    "# Open the file\n",
    "df = pd.read_csv(\"../data/processed/data_cleaned.csv\")"
   ]
  },
  {
   "cell_type": "markdown",
   "metadata": {},
   "source": [
    "### Game Id count\n",
    "31007 plays among 688 games"
   ]
  },
  {
   "cell_type": "code",
   "execution_count": 4,
   "metadata": {},
   "outputs": [
    {
     "data": {
      "text/plain": [
       "0"
      ]
     },
     "execution_count": 4,
     "metadata": {},
     "output_type": "execute_result"
    }
   ],
   "source": [
    "# Confirming that there are no null values in all the database\n",
    "df.isna().sum().sum()"
   ]
  },
  {
   "cell_type": "code",
   "execution_count": 5,
   "metadata": {},
   "outputs": [
    {
     "data": {
      "text/plain": [
       "688"
      ]
     },
     "execution_count": 5,
     "metadata": {},
     "output_type": "execute_result"
    }
   ],
   "source": [
    "# Number of unique games\n",
    "df['GameId'].nunique()"
   ]
  },
  {
   "cell_type": "markdown",
   "metadata": {},
   "source": [
    "## PlayID count\n",
    "Unique number to identify"
   ]
  },
  {
   "cell_type": "code",
   "execution_count": 6,
   "metadata": {},
   "outputs": [
    {
     "data": {
      "text/plain": [
       "31007"
      ]
     },
     "execution_count": 6,
     "metadata": {},
     "output_type": "execute_result"
    }
   ],
   "source": [
    "df['PlayId'].nunique()"
   ]
  },
  {
   "cell_type": "code",
   "execution_count": 7,
   "metadata": {},
   "outputs": [
    {
     "data": {
      "text/html": [
       "<div>\n",
       "<style scoped>\n",
       "    .dataframe tbody tr th:only-of-type {\n",
       "        vertical-align: middle;\n",
       "    }\n",
       "\n",
       "    .dataframe tbody tr th {\n",
       "        vertical-align: top;\n",
       "    }\n",
       "\n",
       "    .dataframe thead th {\n",
       "        text-align: right;\n",
       "    }\n",
       "</style>\n",
       "<table border=\"1\" class=\"dataframe\">\n",
       "  <thead>\n",
       "    <tr style=\"text-align: right;\">\n",
       "      <th></th>\n",
       "      <th>GameId</th>\n",
       "      <th>Team</th>\n",
       "      <th>isHomeTeam</th>\n",
       "      <th>X</th>\n",
       "      <th>Y</th>\n",
       "      <th>S</th>\n",
       "      <th>A</th>\n",
       "      <th>Dis</th>\n",
       "      <th>Orientation</th>\n",
       "      <th>Dir</th>\n",
       "      <th>...</th>\n",
       "      <th>Halfbacks</th>\n",
       "      <th>LineBackers</th>\n",
       "      <th>NoseTackles</th>\n",
       "      <th>OffensiveGuards</th>\n",
       "      <th>OffensiveTackles</th>\n",
       "      <th>Quarterbacks</th>\n",
       "      <th>RunningBacks</th>\n",
       "      <th>Safeties</th>\n",
       "      <th>TightEnds</th>\n",
       "      <th>WideReceivers</th>\n",
       "    </tr>\n",
       "    <tr>\n",
       "      <th>PlayId</th>\n",
       "      <th></th>\n",
       "      <th></th>\n",
       "      <th></th>\n",
       "      <th></th>\n",
       "      <th></th>\n",
       "      <th></th>\n",
       "      <th></th>\n",
       "      <th></th>\n",
       "      <th></th>\n",
       "      <th></th>\n",
       "      <th></th>\n",
       "      <th></th>\n",
       "      <th></th>\n",
       "      <th></th>\n",
       "      <th></th>\n",
       "      <th></th>\n",
       "      <th></th>\n",
       "      <th></th>\n",
       "      <th></th>\n",
       "      <th></th>\n",
       "      <th></th>\n",
       "    </tr>\n",
       "  </thead>\n",
       "  <tbody>\n",
       "    <tr>\n",
       "      <th>20170907000118</th>\n",
       "      <td>2017090700</td>\n",
       "      <td>home</td>\n",
       "      <td>1</td>\n",
       "      <td>78.75</td>\n",
       "      <td>30.53</td>\n",
       "      <td>3.63</td>\n",
       "      <td>3.35</td>\n",
       "      <td>0.38</td>\n",
       "      <td>161.98</td>\n",
       "      <td>245.74</td>\n",
       "      <td>...</td>\n",
       "      <td>0</td>\n",
       "      <td>1</td>\n",
       "      <td>0</td>\n",
       "      <td>2</td>\n",
       "      <td>2</td>\n",
       "      <td>1</td>\n",
       "      <td>1</td>\n",
       "      <td>3</td>\n",
       "      <td>1</td>\n",
       "      <td>3</td>\n",
       "    </tr>\n",
       "    <tr>\n",
       "      <th>20170907000139</th>\n",
       "      <td>2017090700</td>\n",
       "      <td>home</td>\n",
       "      <td>1</td>\n",
       "      <td>71.07</td>\n",
       "      <td>27.16</td>\n",
       "      <td>3.06</td>\n",
       "      <td>2.41</td>\n",
       "      <td>0.34</td>\n",
       "      <td>210.70</td>\n",
       "      <td>312.20</td>\n",
       "      <td>...</td>\n",
       "      <td>0</td>\n",
       "      <td>1</td>\n",
       "      <td>0</td>\n",
       "      <td>2</td>\n",
       "      <td>2</td>\n",
       "      <td>1</td>\n",
       "      <td>1</td>\n",
       "      <td>3</td>\n",
       "      <td>1</td>\n",
       "      <td>3</td>\n",
       "    </tr>\n",
       "    <tr>\n",
       "      <th>20170907000189</th>\n",
       "      <td>2017090700</td>\n",
       "      <td>home</td>\n",
       "      <td>1</td>\n",
       "      <td>48.66</td>\n",
       "      <td>19.11</td>\n",
       "      <td>5.77</td>\n",
       "      <td>2.42</td>\n",
       "      <td>0.60</td>\n",
       "      <td>140.82</td>\n",
       "      <td>221.96</td>\n",
       "      <td>...</td>\n",
       "      <td>0</td>\n",
       "      <td>1</td>\n",
       "      <td>0</td>\n",
       "      <td>2</td>\n",
       "      <td>2</td>\n",
       "      <td>1</td>\n",
       "      <td>1</td>\n",
       "      <td>3</td>\n",
       "      <td>1</td>\n",
       "      <td>3</td>\n",
       "    </tr>\n",
       "    <tr>\n",
       "      <th>20170907000345</th>\n",
       "      <td>2017090700</td>\n",
       "      <td>home</td>\n",
       "      <td>1</td>\n",
       "      <td>15.53</td>\n",
       "      <td>25.36</td>\n",
       "      <td>4.45</td>\n",
       "      <td>3.20</td>\n",
       "      <td>0.46</td>\n",
       "      <td>186.22</td>\n",
       "      <td>275.44</td>\n",
       "      <td>...</td>\n",
       "      <td>0</td>\n",
       "      <td>3</td>\n",
       "      <td>1</td>\n",
       "      <td>2</td>\n",
       "      <td>3</td>\n",
       "      <td>1</td>\n",
       "      <td>1</td>\n",
       "      <td>2</td>\n",
       "      <td>2</td>\n",
       "      <td>0</td>\n",
       "    </tr>\n",
       "    <tr>\n",
       "      <th>20170907000395</th>\n",
       "      <td>2017090700</td>\n",
       "      <td>away</td>\n",
       "      <td>0</td>\n",
       "      <td>29.99</td>\n",
       "      <td>27.12</td>\n",
       "      <td>3.90</td>\n",
       "      <td>2.53</td>\n",
       "      <td>0.44</td>\n",
       "      <td>34.27</td>\n",
       "      <td>157.92</td>\n",
       "      <td>...</td>\n",
       "      <td>0</td>\n",
       "      <td>2</td>\n",
       "      <td>0</td>\n",
       "      <td>1</td>\n",
       "      <td>3</td>\n",
       "      <td>1</td>\n",
       "      <td>1</td>\n",
       "      <td>4</td>\n",
       "      <td>3</td>\n",
       "      <td>1</td>\n",
       "    </tr>\n",
       "  </tbody>\n",
       "</table>\n",
       "<p>5 rows × 72 columns</p>\n",
       "</div>"
      ],
      "text/plain": [
       "                    GameId  Team  isHomeTeam      X      Y     S     A   Dis  \\\n",
       "PlayId                                                                         \n",
       "20170907000118  2017090700  home           1  78.75  30.53  3.63  3.35  0.38   \n",
       "20170907000139  2017090700  home           1  71.07  27.16  3.06  2.41  0.34   \n",
       "20170907000189  2017090700  home           1  48.66  19.11  5.77  2.42  0.60   \n",
       "20170907000345  2017090700  home           1  15.53  25.36  4.45  3.20  0.46   \n",
       "20170907000395  2017090700  away           0  29.99  27.12  3.90  2.53  0.44   \n",
       "\n",
       "                Orientation     Dir  ...  Halfbacks LineBackers  NoseTackles  \\\n",
       "PlayId                               ...                                       \n",
       "20170907000118       161.98  245.74  ...          0           1            0   \n",
       "20170907000139       210.70  312.20  ...          0           1            0   \n",
       "20170907000189       140.82  221.96  ...          0           1            0   \n",
       "20170907000345       186.22  275.44  ...          0           3            1   \n",
       "20170907000395        34.27  157.92  ...          0           2            0   \n",
       "\n",
       "                OffensiveGuards  OffensiveTackles Quarterbacks RunningBacks  \\\n",
       "PlayId                                                                        \n",
       "20170907000118                2                 2            1            1   \n",
       "20170907000139                2                 2            1            1   \n",
       "20170907000189                2                 2            1            1   \n",
       "20170907000345                2                 3            1            1   \n",
       "20170907000395                1                 3            1            1   \n",
       "\n",
       "                Safeties  TightEnds  WideReceivers  \n",
       "PlayId                                              \n",
       "20170907000118         3          1              3  \n",
       "20170907000139         3          1              3  \n",
       "20170907000189         3          1              3  \n",
       "20170907000345         2          2              0  \n",
       "20170907000395         4          3              1  \n",
       "\n",
       "[5 rows x 72 columns]"
      ]
     },
     "execution_count": 7,
     "metadata": {},
     "output_type": "execute_result"
    }
   ],
   "source": [
    "# Moving the PlayId into the index code. Removing from the database.\n",
    "df = df.set_index('PlayId')\n",
    "df.head()"
   ]
  },
  {
   "cell_type": "code",
   "execution_count": 8,
   "metadata": {},
   "outputs": [],
   "source": [
    "# Removing the game id code. It's an apttribute that isn't necessary for analysis\n",
    "df.drop(['GameId'],axis = 1, inplace = True)"
   ]
  },
  {
   "cell_type": "code",
   "execution_count": 9,
   "metadata": {
    "scrolled": false
   },
   "outputs": [
    {
     "data": {
      "text/plain": [
       "(71, 14)"
      ]
     },
     "execution_count": 9,
     "metadata": {},
     "output_type": "execute_result"
    }
   ],
   "source": [
    "# Many of these fields will be eliminated in this script\n",
    "desc = df.describe(percentiles = [.20, .40, .60, .80], include = ['object', 'float32', 'int32', 'float64', 'int64'] ).transpose()\n",
    "dvar = pd.DataFrame(df.var(), columns=['var'])\n",
    "mergeddesc = desc.join(dvar)\n",
    "mergeddesc.shape"
   ]
  },
  {
   "cell_type": "code",
   "execution_count": 10,
   "metadata": {},
   "outputs": [
    {
     "data": {
      "text/html": [
       "<div>\n",
       "<style scoped>\n",
       "    .dataframe tbody tr th:only-of-type {\n",
       "        vertical-align: middle;\n",
       "    }\n",
       "\n",
       "    .dataframe tbody tr th {\n",
       "        vertical-align: top;\n",
       "    }\n",
       "\n",
       "    .dataframe thead th {\n",
       "        text-align: right;\n",
       "    }\n",
       "</style>\n",
       "<table border=\"1\" class=\"dataframe\">\n",
       "  <thead>\n",
       "    <tr style=\"text-align: right;\">\n",
       "      <th></th>\n",
       "      <th>count</th>\n",
       "      <th>unique</th>\n",
       "      <th>top</th>\n",
       "      <th>freq</th>\n",
       "      <th>mean</th>\n",
       "      <th>std</th>\n",
       "      <th>min</th>\n",
       "      <th>20%</th>\n",
       "      <th>40%</th>\n",
       "      <th>50%</th>\n",
       "      <th>60%</th>\n",
       "      <th>80%</th>\n",
       "      <th>max</th>\n",
       "      <th>var</th>\n",
       "    </tr>\n",
       "  </thead>\n",
       "  <tbody>\n",
       "    <tr>\n",
       "      <th>Team</th>\n",
       "      <td>31007</td>\n",
       "      <td>2</td>\n",
       "      <td>home</td>\n",
       "      <td>15617</td>\n",
       "      <td>NaN</td>\n",
       "      <td>NaN</td>\n",
       "      <td>NaN</td>\n",
       "      <td>NaN</td>\n",
       "      <td>NaN</td>\n",
       "      <td>NaN</td>\n",
       "      <td>NaN</td>\n",
       "      <td>NaN</td>\n",
       "      <td>NaN</td>\n",
       "      <td>NaN</td>\n",
       "    </tr>\n",
       "    <tr>\n",
       "      <th>isHomeTeam</th>\n",
       "      <td>31007</td>\n",
       "      <td>NaN</td>\n",
       "      <td>NaN</td>\n",
       "      <td>NaN</td>\n",
       "      <td>0.50366</td>\n",
       "      <td>0.499995</td>\n",
       "      <td>0</td>\n",
       "      <td>0</td>\n",
       "      <td>0</td>\n",
       "      <td>1</td>\n",
       "      <td>1</td>\n",
       "      <td>1</td>\n",
       "      <td>1</td>\n",
       "      <td>0.249995</td>\n",
       "    </tr>\n",
       "    <tr>\n",
       "      <th>X</th>\n",
       "      <td>31007</td>\n",
       "      <td>NaN</td>\n",
       "      <td>NaN</td>\n",
       "      <td>NaN</td>\n",
       "      <td>60.0936</td>\n",
       "      <td>26.1968</td>\n",
       "      <td>5.25</td>\n",
       "      <td>32.77</td>\n",
       "      <td>50.85</td>\n",
       "      <td>60.31</td>\n",
       "      <td>69.69</td>\n",
       "      <td>87.048</td>\n",
       "      <td>115.1</td>\n",
       "      <td>686.270178</td>\n",
       "    </tr>\n",
       "    <tr>\n",
       "      <th>Y</th>\n",
       "      <td>31007</td>\n",
       "      <td>NaN</td>\n",
       "      <td>NaN</td>\n",
       "      <td>NaN</td>\n",
       "      <td>26.8297</td>\n",
       "      <td>3.46771</td>\n",
       "      <td>7.59</td>\n",
       "      <td>23.53</td>\n",
       "      <td>25.67</td>\n",
       "      <td>26.85</td>\n",
       "      <td>28</td>\n",
       "      <td>30.13</td>\n",
       "      <td>48.21</td>\n",
       "      <td>12.025010</td>\n",
       "    </tr>\n",
       "    <tr>\n",
       "      <th>S</th>\n",
       "      <td>31007</td>\n",
       "      <td>NaN</td>\n",
       "      <td>NaN</td>\n",
       "      <td>NaN</td>\n",
       "      <td>4.31258</td>\n",
       "      <td>1.12797</td>\n",
       "      <td>0</td>\n",
       "      <td>3.43</td>\n",
       "      <td>4.03</td>\n",
       "      <td>4.29</td>\n",
       "      <td>4.55</td>\n",
       "      <td>5.2</td>\n",
       "      <td>8.94</td>\n",
       "      <td>1.272319</td>\n",
       "    </tr>\n",
       "    <tr>\n",
       "      <th>...</th>\n",
       "      <td>...</td>\n",
       "      <td>...</td>\n",
       "      <td>...</td>\n",
       "      <td>...</td>\n",
       "      <td>...</td>\n",
       "      <td>...</td>\n",
       "      <td>...</td>\n",
       "      <td>...</td>\n",
       "      <td>...</td>\n",
       "      <td>...</td>\n",
       "      <td>...</td>\n",
       "      <td>...</td>\n",
       "      <td>...</td>\n",
       "      <td>...</td>\n",
       "    </tr>\n",
       "    <tr>\n",
       "      <th>Quarterbacks</th>\n",
       "      <td>31007</td>\n",
       "      <td>NaN</td>\n",
       "      <td>NaN</td>\n",
       "      <td>NaN</td>\n",
       "      <td>1.00471</td>\n",
       "      <td>0.0693945</td>\n",
       "      <td>0</td>\n",
       "      <td>1</td>\n",
       "      <td>1</td>\n",
       "      <td>1</td>\n",
       "      <td>1</td>\n",
       "      <td>1</td>\n",
       "      <td>2</td>\n",
       "      <td>0.004816</td>\n",
       "    </tr>\n",
       "    <tr>\n",
       "      <th>RunningBacks</th>\n",
       "      <td>31007</td>\n",
       "      <td>NaN</td>\n",
       "      <td>NaN</td>\n",
       "      <td>NaN</td>\n",
       "      <td>1.01171</td>\n",
       "      <td>0.297312</td>\n",
       "      <td>0</td>\n",
       "      <td>1</td>\n",
       "      <td>1</td>\n",
       "      <td>1</td>\n",
       "      <td>1</td>\n",
       "      <td>1</td>\n",
       "      <td>3</td>\n",
       "      <td>0.088394</td>\n",
       "    </tr>\n",
       "    <tr>\n",
       "      <th>Safeties</th>\n",
       "      <td>31007</td>\n",
       "      <td>NaN</td>\n",
       "      <td>NaN</td>\n",
       "      <td>NaN</td>\n",
       "      <td>2.00458</td>\n",
       "      <td>0.547002</td>\n",
       "      <td>0</td>\n",
       "      <td>2</td>\n",
       "      <td>2</td>\n",
       "      <td>2</td>\n",
       "      <td>2</td>\n",
       "      <td>2</td>\n",
       "      <td>5</td>\n",
       "      <td>0.299211</td>\n",
       "    </tr>\n",
       "    <tr>\n",
       "      <th>TightEnds</th>\n",
       "      <td>31007</td>\n",
       "      <td>NaN</td>\n",
       "      <td>NaN</td>\n",
       "      <td>NaN</td>\n",
       "      <td>1.42652</td>\n",
       "      <td>0.649014</td>\n",
       "      <td>0</td>\n",
       "      <td>1</td>\n",
       "      <td>1</td>\n",
       "      <td>1</td>\n",
       "      <td>1</td>\n",
       "      <td>2</td>\n",
       "      <td>4</td>\n",
       "      <td>0.421219</td>\n",
       "    </tr>\n",
       "    <tr>\n",
       "      <th>WideReceivers</th>\n",
       "      <td>31007</td>\n",
       "      <td>NaN</td>\n",
       "      <td>NaN</td>\n",
       "      <td>NaN</td>\n",
       "      <td>2.30574</td>\n",
       "      <td>0.789975</td>\n",
       "      <td>0</td>\n",
       "      <td>2</td>\n",
       "      <td>2</td>\n",
       "      <td>2</td>\n",
       "      <td>3</td>\n",
       "      <td>3</td>\n",
       "      <td>5</td>\n",
       "      <td>0.624060</td>\n",
       "    </tr>\n",
       "  </tbody>\n",
       "</table>\n",
       "<p>71 rows × 14 columns</p>\n",
       "</div>"
      ],
      "text/plain": [
       "               count unique   top   freq     mean        std   min    20%  \\\n",
       "Team           31007      2  home  15617      NaN        NaN   NaN    NaN   \n",
       "isHomeTeam     31007    NaN   NaN    NaN  0.50366   0.499995     0      0   \n",
       "X              31007    NaN   NaN    NaN  60.0936    26.1968  5.25  32.77   \n",
       "Y              31007    NaN   NaN    NaN  26.8297    3.46771  7.59  23.53   \n",
       "S              31007    NaN   NaN    NaN  4.31258    1.12797     0   3.43   \n",
       "...              ...    ...   ...    ...      ...        ...   ...    ...   \n",
       "Quarterbacks   31007    NaN   NaN    NaN  1.00471  0.0693945     0      1   \n",
       "RunningBacks   31007    NaN   NaN    NaN  1.01171   0.297312     0      1   \n",
       "Safeties       31007    NaN   NaN    NaN  2.00458   0.547002     0      2   \n",
       "TightEnds      31007    NaN   NaN    NaN  1.42652   0.649014     0      1   \n",
       "WideReceivers  31007    NaN   NaN    NaN  2.30574   0.789975     0      2   \n",
       "\n",
       "                 40%    50%    60%     80%    max         var  \n",
       "Team             NaN    NaN    NaN     NaN    NaN         NaN  \n",
       "isHomeTeam         0      1      1       1      1    0.249995  \n",
       "X              50.85  60.31  69.69  87.048  115.1  686.270178  \n",
       "Y              25.67  26.85     28   30.13  48.21   12.025010  \n",
       "S               4.03   4.29   4.55     5.2   8.94    1.272319  \n",
       "...              ...    ...    ...     ...    ...         ...  \n",
       "Quarterbacks       1      1      1       1      2    0.004816  \n",
       "RunningBacks       1      1      1       1      3    0.088394  \n",
       "Safeties           2      2      2       2      5    0.299211  \n",
       "TightEnds          1      1      1       2      4    0.421219  \n",
       "WideReceivers      2      2      3       3      5    0.624060  \n",
       "\n",
       "[71 rows x 14 columns]"
      ]
     },
     "execution_count": 10,
     "metadata": {},
     "output_type": "execute_result"
    }
   ],
   "source": [
    "mergeddesc"
   ]
  },
  {
   "cell_type": "markdown",
   "metadata": {},
   "source": [
    "## Yards and isFirstdown Variables (Predictor variable)\n",
    "Here, we are looking at the predictor variable. Yards was the original predictor variable. As you can see from the describe count, the mean and median is around 4 and 3, respectively. With a range of -15 to 99, this column will definitely be normalized before analysis. Before we do any machine learning methods, because the counts are at 21%, and not 50%, will have to be oversampled before analysis."
   ]
  },
  {
   "cell_type": "code",
   "execution_count": 11,
   "metadata": {},
   "outputs": [
    {
     "data": {
      "text/plain": [
       "count    31007.000000\n",
       "mean         4.227626\n",
       "std          6.449966\n",
       "min        -15.000000\n",
       "25%          1.000000\n",
       "50%          3.000000\n",
       "75%          6.000000\n",
       "max         99.000000\n",
       "Name: Yards, dtype: float64"
      ]
     },
     "execution_count": 11,
     "metadata": {},
     "output_type": "execute_result"
    }
   ],
   "source": [
    "df['Yards'].describe()"
   ]
  },
  {
   "cell_type": "code",
   "execution_count": 12,
   "metadata": {},
   "outputs": [
    {
     "data": {
      "text/plain": [
       "0    24415\n",
       "1     6592\n",
       "Name: isFirstDown, dtype: int64"
      ]
     },
     "execution_count": 12,
     "metadata": {},
     "output_type": "execute_result"
    }
   ],
   "source": [
    "# Counts of successful first downs (1) vs failed first downs (0)\n",
    "df['isFirstDown'].value_counts()"
   ]
  },
  {
   "cell_type": "code",
   "execution_count": 13,
   "metadata": {},
   "outputs": [
    {
     "data": {
      "text/plain": [
       "0    78.7\n",
       "1    21.3\n",
       "Name: isFirstDown, dtype: float64"
      ]
     },
     "execution_count": 13,
     "metadata": {},
     "output_type": "execute_result"
    }
   ],
   "source": [
    "# Percentage of first downs\n",
    "df['isFirstDown'].value_counts(normalize = True).mul(100).round(1)"
   ]
  },
  {
   "cell_type": "markdown",
   "metadata": {},
   "source": [
    "## Team variables\n",
    "Whether the team that has posession of the ball has the home field advantage, or are the visitor team. Unsure whether to keep this field, to determine if home field advantage is important to the success or not. "
   ]
  },
  {
   "cell_type": "code",
   "execution_count": 14,
   "metadata": {},
   "outputs": [
    {
     "data": {
      "text/plain": [
       "31007"
      ]
     },
     "execution_count": 14,
     "metadata": {},
     "output_type": "execute_result"
    }
   ],
   "source": [
    "df['Team'].count()"
   ]
  },
  {
   "cell_type": "code",
   "execution_count": 15,
   "metadata": {},
   "outputs": [
    {
     "data": {
      "text/plain": [
       "home    15617\n",
       "away    15390\n",
       "Name: Team, dtype: int64"
      ]
     },
     "execution_count": 15,
     "metadata": {},
     "output_type": "execute_result"
    }
   ],
   "source": [
    "# Pretty close to a 50-50 collection of home and away teams\n",
    "df['Team'].value_counts()"
   ]
  },
  {
   "cell_type": "code",
   "execution_count": 16,
   "metadata": {},
   "outputs": [
    {
     "data": {
      "text/plain": [
       "1    15617\n",
       "0    15390\n",
       "Name: isHomeTeam, dtype: int64"
      ]
     },
     "execution_count": 16,
     "metadata": {},
     "output_type": "execute_result"
    }
   ],
   "source": [
    "# Confirming the numerical code equal to the Team variable\n",
    "df['isHomeTeam'].value_counts()"
   ]
  },
  {
   "cell_type": "code",
   "execution_count": 17,
   "metadata": {
    "scrolled": false
   },
   "outputs": [
    {
     "data": {
      "image/png": "[encoded data removed]",
      "text/plain": [
       "<Figure size 1152x432 with 1 Axes>"
      ]
     },
     "metadata": {
      "needs_background": "light"
     },
     "output_type": "display_data"
    }
   ],
   "source": [
    "plt.figure(figsize=(16, 6))\n",
    "snsj=sns.countplot(y=df['Team'] ,palette=\"coolwarm\")\n",
    "plt.title('Team Home vs Away')\n",
    "plt.savefig(\"../reports/figures/data_team.png\")"
   ]
  },
  {
   "cell_type": "markdown",
   "metadata": {},
   "source": [
    "## Season variable\n",
    "A breakdown of all the season years. Not all of the 2019 weeks have been covered, but it shouldn't affect the whole data set. We could remove the 2019 season for balance, but it's not worth removing 7836 records. "
   ]
  },
  {
   "cell_type": "code",
   "execution_count": 18,
   "metadata": {
    "scrolled": true
   },
   "outputs": [
    {
     "data": {
      "text/html": [
       "<div>\n",
       "<style scoped>\n",
       "    .dataframe tbody tr th:only-of-type {\n",
       "        vertical-align: middle;\n",
       "    }\n",
       "\n",
       "    .dataframe tbody tr th {\n",
       "        vertical-align: top;\n",
       "    }\n",
       "\n",
       "    .dataframe thead th {\n",
       "        text-align: right;\n",
       "    }\n",
       "</style>\n",
       "<table border=\"1\" class=\"dataframe\">\n",
       "  <thead>\n",
       "    <tr style=\"text-align: right;\">\n",
       "      <th></th>\n",
       "      <th>index</th>\n",
       "      <th>Season</th>\n",
       "    </tr>\n",
       "  </thead>\n",
       "  <tbody>\n",
       "    <tr>\n",
       "      <th>0</th>\n",
       "      <td>2017</td>\n",
       "      <td>11900</td>\n",
       "    </tr>\n",
       "    <tr>\n",
       "      <th>1</th>\n",
       "      <td>2018</td>\n",
       "      <td>11271</td>\n",
       "    </tr>\n",
       "    <tr>\n",
       "      <th>2</th>\n",
       "      <td>2019</td>\n",
       "      <td>7836</td>\n",
       "    </tr>\n",
       "  </tbody>\n",
       "</table>\n",
       "</div>"
      ],
      "text/plain": [
       "   index  Season\n",
       "0   2017   11900\n",
       "1   2018   11271\n",
       "2   2019    7836"
      ]
     },
     "execution_count": 18,
     "metadata": {},
     "output_type": "execute_result"
    }
   ],
   "source": [
    "df['Season'].value_counts().reset_index().sort_values(by='index')"
   ]
  },
  {
   "cell_type": "code",
   "execution_count": 19,
   "metadata": {},
   "outputs": [
    {
     "data": {
      "image/png": "[encoded data removed]",
      "text/plain": [
       "<Figure size 1152x432 with 1 Axes>"
      ]
     },
     "metadata": {
      "needs_background": "light"
     },
     "output_type": "display_data"
    }
   ],
   "source": [
    "plt.figure(figsize=(16, 6))\n",
    "snsj=sns.countplot(y=df['Season'] ,palette=\"coolwarm\")\n",
    "plt.title('Season - Which year the game was played?')\n",
    "plt.savefig(\"../reports/figures/data_season.png\")"
   ]
  },
  {
   "cell_type": "markdown",
   "metadata": {},
   "source": [
    "## Yardline variables\n",
    "The yard positions. The majority of the data is at the 75 yards, which makes sense. On the opening kick, the ball has a large chance to get a touch back, which means that the kick goes further than the end zone, which gives the receiving the team to start their drive on the 25 yard line. This mostly happens at the start of the game, start of the third quarter, and after every touchdown, field goal or safety. Also, there are a good number of running plays at the 1 yard line, which is a popular play to run the ball into the end zone for the touchdown."
   ]
  },
  {
   "cell_type": "code",
   "execution_count": 20,
   "metadata": {},
   "outputs": [
    {
     "data": {
      "text/plain": [
       "1     562\n",
       "2     239\n",
       "3     199\n",
       "4     204\n",
       "5     209\n",
       "     ... \n",
       "95    106\n",
       "96     94\n",
       "97     77\n",
       "98     97\n",
       "99     76\n",
       "Name: YardsToTouchdown, Length: 99, dtype: int64"
      ]
     },
     "execution_count": 20,
     "metadata": {},
     "output_type": "execute_result"
    }
   ],
   "source": [
    "df['YardsToTouchdown'].value_counts().sort_index()"
   ]
  },
  {
   "cell_type": "code",
   "execution_count": 21,
   "metadata": {},
   "outputs": [
    {
     "data": {
      "image/png": "[encoded data removed]",
      "text/plain": [
       "<Figure size 1728x720 with 1 Axes>"
      ]
     },
     "metadata": {
      "needs_background": "light"
     },
     "output_type": "display_data"
    }
   ],
   "source": [
    "plt.figure(figsize=(24, 10))\n",
    "snsj=sns.countplot(x=df['YardsToTouchdown'] ,palette=\"coolwarm\")\n",
    "plt.title('How many yards are needed to make a touchdown?')\n",
    "plt.savefig(\"../reports/figures/data_YardsToTouchdown.png\")"
   ]
  },
  {
   "cell_type": "markdown",
   "metadata": {},
   "source": [
    "## Quarter variable\n",
    "Each game of football is broken down into 4 quarters. At the end of the 4th quarter, the team with the most points wins. In case of a tie, overtime begins, which is marked as a 5. There are not a lot of overtime plays and there is a possible chance for the data to be skewed. This means it's worth removing the 197 records. "
   ]
  },
  {
   "cell_type": "code",
   "execution_count": 22,
   "metadata": {},
   "outputs": [
    {
     "data": {
      "text/plain": [
       "1    7942\n",
       "2    7441\n",
       "3    7648\n",
       "4    7779\n",
       "5     197\n",
       "Name: Quarter, dtype: int64"
      ]
     },
     "execution_count": 22,
     "metadata": {},
     "output_type": "execute_result"
    }
   ],
   "source": [
    "df['Quarter'].value_counts().sort_index()"
   ]
  },
  {
   "cell_type": "code",
   "execution_count": 23,
   "metadata": {},
   "outputs": [
    {
     "data": {
      "text/plain": [
       "count    31007.000000\n",
       "mean         2.511336\n",
       "std          1.141080\n",
       "min          1.000000\n",
       "25%          1.000000\n",
       "50%          3.000000\n",
       "75%          4.000000\n",
       "max          5.000000\n",
       "Name: Quarter, dtype: float64"
      ]
     },
     "execution_count": 23,
     "metadata": {},
     "output_type": "execute_result"
    }
   ],
   "source": [
    "df['Quarter'].describe()"
   ]
  },
  {
   "cell_type": "code",
   "execution_count": 24,
   "metadata": {},
   "outputs": [
    {
     "data": {
      "image/png": "[encoded data removed]",
      "text/plain": [
       "<Figure size 1152x432 with 1 Axes>"
      ]
     },
     "metadata": {
      "needs_background": "light"
     },
     "output_type": "display_data"
    }
   ],
   "source": [
    "plt.figure(figsize=(16, 6))\n",
    "snsj=sns.countplot(y=df['Quarter'], hue=df['isFirstDown'], palette=\"coolwarm\")\n",
    "plt.title('What quarter was the play done in?')\n",
    "plt.savefig(\"../reports/figures/data_quarter.png\")"
   ]
  },
  {
   "cell_type": "code",
   "execution_count": 25,
   "metadata": {},
   "outputs": [],
   "source": [
    "df = df[(df['Quarter']>=1) & (df['Quarter']<=4)]"
   ]
  },
  {
   "cell_type": "markdown",
   "metadata": {},
   "source": [
    "## Down variable\n",
    "Each drive starts with a first down with 10 yards to gain. For each play done, if the 10 yards wasn't gained, the down number is added, and the drive gained. If the 10 yards is gained, the down counter is reset back to first down, and a new 10 yard marker is placed. If the team cannot make the 10 yards on the 4th down, it results in a loss of downs.\n",
    "\n",
    "Originally I was considering removing the 4th down because there is only 267 rows, but it's necessary to keep these because a lot of teams run during this play to get the final yards needed. And as you can see in the data below, the number of successful first downs on 4th down are close to the number of failures on 4th down. "
   ]
  },
  {
   "cell_type": "code",
   "execution_count": 26,
   "metadata": {},
   "outputs": [
    {
     "data": {
      "text/plain": [
       "1    17803\n",
       "2    10336\n",
       "3     2404\n",
       "4      267\n",
       "Name: Down, dtype: int64"
      ]
     },
     "execution_count": 26,
     "metadata": {},
     "output_type": "execute_result"
    }
   ],
   "source": [
    "df['Down'].value_counts().sort_index()"
   ]
  },
  {
   "cell_type": "code",
   "execution_count": 27,
   "metadata": {},
   "outputs": [
    {
     "data": {
      "text/plain": [
       "1    15625\n",
       "2     7271\n",
       "3     1250\n",
       "4      115\n",
       "Name: Down, dtype: int64"
      ]
     },
     "execution_count": 27,
     "metadata": {},
     "output_type": "execute_result"
    }
   ],
   "source": [
    "# Failed to make the first down, which down are you on\n",
    "df[df['isFirstDown'] == 0]['Down'].value_counts().sort_index()"
   ]
  },
  {
   "cell_type": "code",
   "execution_count": 28,
   "metadata": {},
   "outputs": [
    {
     "data": {
      "text/plain": [
       "1    2178\n",
       "2    3065\n",
       "3    1154\n",
       "4     152\n",
       "Name: Down, dtype: int64"
      ]
     },
     "execution_count": 28,
     "metadata": {},
     "output_type": "execute_result"
    }
   ],
   "source": [
    "# Successfully made the first down, which down are you on\n",
    "df[df['isFirstDown'] == 1]['Down'].value_counts().sort_index()"
   ]
  },
  {
   "cell_type": "code",
   "execution_count": 29,
   "metadata": {},
   "outputs": [
    {
     "data": {
      "image/png": "[encoded data removed]",
      "text/plain": [
       "<Figure size 1728x720 with 1 Axes>"
      ]
     },
     "metadata": {
      "needs_background": "light"
     },
     "output_type": "display_data"
    }
   ],
   "source": [
    "plt.figure(figsize=(24, 10))\n",
    "snsj=sns.countplot(x=df['Down'], hue=df['isFirstDown'], palette=\"coolwarm\")\n",
    "plt.title('Which down was the play in?')\n",
    "plt.savefig(\"../reports/figures/data_down.png\")"
   ]
  },
  {
   "cell_type": "markdown",
   "metadata": {},
   "source": [
    "### Players getting the ball more, and number of first down successes. \n",
    "Just a list of top 20 players who ran the ball in this data set, and the top 20 players with successful first downs. A lot of the same names are showing up in both lists. Later on, removing the identifying information will be removed, including the name and the playerID code. The goal is to have the determining factors to make the first down. "
   ]
  },
  {
   "cell_type": "code",
   "execution_count": 70,
   "metadata": {},
   "outputs": [
    {
     "data": {
      "text/plain": [
       "Ezekiel Elliott        737\n",
       "Todd Gurley            663\n",
       "Jordan Howard          625\n",
       "Leonard Fournette      593\n",
       "Derrick Henry          573\n",
       "Carlos Hyde            569\n",
       "Melvin Gordon          554\n",
       "Christian McCaffrey    541\n",
       "Adrian Peterson        538\n",
       "Frank Gore             536\n",
       "LeSean McCoy           509\n",
       "Mark Ingram            509\n",
       "Chris Carson           492\n",
       "Le'Veon Bell           478\n",
       "Marlon Mack            475\n",
       "Name: DisplayName, dtype: int64"
      ]
     },
     "execution_count": 70,
     "metadata": {},
     "output_type": "execute_result"
    }
   ],
   "source": [
    "df['DisplayName'].value_counts()[:15]"
   ]
  },
  {
   "cell_type": "code",
   "execution_count": 31,
   "metadata": {},
   "outputs": [
    {
     "data": {
      "text/plain": [
       "Ezekiel Elliott        176\n",
       "Todd Gurley            169\n",
       "Jordan Howard          133\n",
       "Derrick Henry          129\n",
       "Melvin Gordon          128\n",
       "Mark Ingram            125\n",
       "Chris Carson           124\n",
       "Joe Mixon              124\n",
       "Marlon Mack            120\n",
       "Alvin Kamara           115\n",
       "Leonard Fournette      114\n",
       "Christian McCaffrey    112\n",
       "Carlos Hyde            112\n",
       "Kareem Hunt            109\n",
       "Frank Gore             100\n",
       "Name: DisplayName, dtype: int64"
      ]
     },
     "execution_count": 31,
     "metadata": {},
     "output_type": "execute_result"
    }
   ],
   "source": [
    "df[df['isFirstDown'] == 1]['DisplayName'].value_counts().head(15)"
   ]
  },
  {
   "cell_type": "code",
   "execution_count": 136,
   "metadata": {},
   "outputs": [
    {
     "data": {
      "text/html": [
       "<div>\n",
       "<style scoped>\n",
       "    .dataframe tbody tr th:only-of-type {\n",
       "        vertical-align: middle;\n",
       "    }\n",
       "\n",
       "    .dataframe tbody tr th {\n",
       "        vertical-align: top;\n",
       "    }\n",
       "\n",
       "    .dataframe thead th {\n",
       "        text-align: right;\n",
       "    }\n",
       "</style>\n",
       "<table border=\"1\" class=\"dataframe\">\n",
       "  <thead>\n",
       "    <tr style=\"text-align: right;\">\n",
       "      <th>isFirstDown</th>\n",
       "      <th>DisplayName</th>\n",
       "      <th>0</th>\n",
       "      <th>1</th>\n",
       "      <th>Ttl</th>\n",
       "      <th>Perc</th>\n",
       "    </tr>\n",
       "  </thead>\n",
       "  <tbody>\n",
       "    <tr>\n",
       "      <th>9</th>\n",
       "      <td>Alvin Kamara</td>\n",
       "      <td>302</td>\n",
       "      <td>115</td>\n",
       "      <td>417</td>\n",
       "      <td>0.275779</td>\n",
       "    </tr>\n",
       "    <tr>\n",
       "      <th>189</th>\n",
       "      <td>Todd Gurley</td>\n",
       "      <td>494</td>\n",
       "      <td>169</td>\n",
       "      <td>663</td>\n",
       "      <td>0.254902</td>\n",
       "    </tr>\n",
       "    <tr>\n",
       "      <th>140</th>\n",
       "      <td>Marlon Mack</td>\n",
       "      <td>355</td>\n",
       "      <td>120</td>\n",
       "      <td>475</td>\n",
       "      <td>0.252632</td>\n",
       "    </tr>\n",
       "    <tr>\n",
       "      <th>35</th>\n",
       "      <td>Chris Carson</td>\n",
       "      <td>368</td>\n",
       "      <td>124</td>\n",
       "      <td>492</td>\n",
       "      <td>0.252033</td>\n",
       "    </tr>\n",
       "    <tr>\n",
       "      <th>139</th>\n",
       "      <td>Mark Ingram</td>\n",
       "      <td>384</td>\n",
       "      <td>125</td>\n",
       "      <td>509</td>\n",
       "      <td>0.245580</td>\n",
       "    </tr>\n",
       "    <tr>\n",
       "      <th>83</th>\n",
       "      <td>Ezekiel Elliott</td>\n",
       "      <td>561</td>\n",
       "      <td>176</td>\n",
       "      <td>737</td>\n",
       "      <td>0.238806</td>\n",
       "    </tr>\n",
       "    <tr>\n",
       "      <th>120</th>\n",
       "      <td>Kareem Hunt</td>\n",
       "      <td>355</td>\n",
       "      <td>109</td>\n",
       "      <td>464</td>\n",
       "      <td>0.234914</td>\n",
       "    </tr>\n",
       "    <tr>\n",
       "      <th>146</th>\n",
       "      <td>Melvin Gordon</td>\n",
       "      <td>426</td>\n",
       "      <td>128</td>\n",
       "      <td>554</td>\n",
       "      <td>0.231047</td>\n",
       "    </tr>\n",
       "    <tr>\n",
       "      <th>46</th>\n",
       "      <td>Dalvin Cook</td>\n",
       "      <td>321</td>\n",
       "      <td>94</td>\n",
       "      <td>415</td>\n",
       "      <td>0.226506</td>\n",
       "    </tr>\n",
       "    <tr>\n",
       "      <th>67</th>\n",
       "      <td>Derrick Henry</td>\n",
       "      <td>444</td>\n",
       "      <td>129</td>\n",
       "      <td>573</td>\n",
       "      <td>0.225131</td>\n",
       "    </tr>\n",
       "  </tbody>\n",
       "</table>\n",
       "</div>"
      ],
      "text/plain": [
       "isFirstDown      DisplayName    0    1  Ttl      Perc\n",
       "9               Alvin Kamara  302  115  417  0.275779\n",
       "189              Todd Gurley  494  169  663  0.254902\n",
       "140              Marlon Mack  355  120  475  0.252632\n",
       "35              Chris Carson  368  124  492  0.252033\n",
       "139              Mark Ingram  384  125  509  0.245580\n",
       "83           Ezekiel Elliott  561  176  737  0.238806\n",
       "120              Kareem Hunt  355  109  464  0.234914\n",
       "146            Melvin Gordon  426  128  554  0.231047\n",
       "46               Dalvin Cook  321   94  415  0.226506\n",
       "67             Derrick Henry  444  129  573  0.225131"
      ]
     },
     "execution_count": 136,
     "metadata": {},
     "output_type": "execute_result"
    }
   ],
   "source": [
    "# for name, group in df.groupby('DisplayName'):\n",
    "#     print(group[])\n",
    "# df.groupby('DisplayName')['isFirstDown'].sum()\n",
    "dfPlayer = df.groupby(['DisplayName','isFirstDown']).size().unstack().fillna(0).reset_index()\n",
    "dfPlayer[1] = dfPlayer[1].astype('int64')\n",
    "dfPlayer[0] = dfPlayer[0].astype('int64')\n",
    "dfPlayer['Ttl']  = dfPlayer.apply(lambda x:(int(x[1]) + int(x[0])), axis=1)\n",
    "dfPlayer['Perc'] = dfPlayer.apply(lambda x:int(x[1]) / (int(x[1]) + int(x[0])), axis=1)\n",
    "dfPlayerSort = dfPlayer[dfPlayer['Ttl'] >= 400].sort_values('Perc', ascending=False).head(10)\n",
    "dfPlayerSort"
   ]
  },
  {
   "cell_type": "code",
   "execution_count": 150,
   "metadata": {},
   "outputs": [
    {
     "data": {
      "image/png": "[encoded data removed]",
      "text/plain": [
       "<Figure size 1152x432 with 1 Axes>"
      ]
     },
     "metadata": {
      "needs_background": "light"
     },
     "output_type": "display_data"
    }
   ],
   "source": [
    "plt.figure(figsize=(16, 6))\n",
    "snsj=sns.barplot(x=dfPlayerSort['Perc'], y=dfPlayerSort['DisplayName'], palette=\"rocket\")\n",
    "plt.title('Most successful running backs with a first down (at least 400 attempts)')\n",
    "plt.savefig(\"../reports/figures/data_playerfirstdown.png\")"
   ]
  },
  {
   "cell_type": "markdown",
   "metadata": {},
   "source": [
    "## Position analysis\n",
    "This is the variable of the position of the player making the running play. Over 93% of the data is running backs, and the rest are very situational, like when the quarterback makes the run. So more data is dropped so that we are only looking at the running backs that are doing the running."
   ]
  },
  {
   "cell_type": "code",
   "execution_count": 32,
   "metadata": {
    "scrolled": true
   },
   "outputs": [
    {
     "data": {
      "text/plain": [
       "RB    28694\n",
       "HB      922\n",
       "WR      826\n",
       "FB      207\n",
       "QB       99\n",
       "TE       48\n",
       "CB       10\n",
       "DT        2\n",
       "G         1\n",
       "DE        1\n",
       "Name: Position, dtype: int64"
      ]
     },
     "execution_count": 32,
     "metadata": {},
     "output_type": "execute_result"
    }
   ],
   "source": [
    "df['Position'].value_counts()"
   ]
  },
  {
   "cell_type": "code",
   "execution_count": 33,
   "metadata": {},
   "outputs": [
    {
     "data": {
      "text/plain": [
       "RB    93.1\n",
       "HB     3.0\n",
       "WR     2.7\n",
       "FB     0.7\n",
       "QB     0.3\n",
       "TE     0.2\n",
       "CB     0.0\n",
       "DT     0.0\n",
       "G      0.0\n",
       "DE     0.0\n",
       "Name: Position, dtype: float64"
      ]
     },
     "execution_count": 33,
     "metadata": {},
     "output_type": "execute_result"
    }
   ],
   "source": [
    "df['Position'].value_counts(normalize = True).mul(100).round(1)"
   ]
  },
  {
   "cell_type": "code",
   "execution_count": 34,
   "metadata": {},
   "outputs": [],
   "source": [
    "df = df[(df['Position'] == 'RB')]"
   ]
  },
  {
   "cell_type": "markdown",
   "metadata": {},
   "source": [
    "## Player Height vs Weight\n",
    "While doing separate graphs for height and weight, a correlation was noticed between the two data sets. Enough so that we can remove one over the other. Because the number of outliers was higher in the weight category, it was determined that we can drop weight. \n",
    "(This could be done in the bivariate field)"
   ]
  },
  {
   "cell_type": "code",
   "execution_count": 35,
   "metadata": {},
   "outputs": [
    {
     "data": {
      "image/png": "[encoded data removed]",
      "text/plain": [
       "<Figure size 1152x432 with 1 Axes>"
      ]
     },
     "metadata": {
      "needs_background": "light"
     },
     "output_type": "display_data"
    }
   ],
   "source": [
    "plt.figure(figsize=(16, 6))\n",
    "snsj=sns.countplot(x=df['PlayerHeightInches'], palette=\"coolwarm\")\n",
    "plt.title('Histogram of Player Height')\n",
    "plt.savefig(\"../reports/figures/data_height.png\")"
   ]
  },
  {
   "cell_type": "code",
   "execution_count": 36,
   "metadata": {},
   "outputs": [
    {
     "data": {
      "image/png": "[encoded data removed]",
      "text/plain": [
       "<Figure size 2592x864 with 1 Axes>"
      ]
     },
     "metadata": {
      "needs_background": "light"
     },
     "output_type": "display_data"
    }
   ],
   "source": [
    "plt.figure(figsize=(36, 12))\n",
    "snsj=sns.countplot(x=df['PlayerWeight'], palette=\"coolwarm\")\n",
    "plt.title('Histogram of Player Weight')\n",
    "plt.savefig(\"../reports/figures/data_weight.png\")"
   ]
  },
  {
   "cell_type": "code",
   "execution_count": 37,
   "metadata": {},
   "outputs": [
    {
     "data": {
      "image/png": "[encoded data removed]",
      "text/plain": [
       "<Figure size 720x720 with 1 Axes>"
      ]
     },
     "metadata": {
      "needs_background": "light"
     },
     "output_type": "display_data"
    }
   ],
   "source": [
    "plt.figure(figsize=(10, 10))\n",
    "snsj=sns.regplot(x=df['PlayerHeightInches'], y=df['PlayerWeight'])\n",
    "plt.title('Histogram of Player Height vs Weight')\n",
    "plt.savefig(\"../reports/figures/data_height_vs_weight.png\")"
   ]
  },
  {
   "cell_type": "markdown",
   "metadata": {},
   "source": [
    "## Dis and Orientation Analysis\n",
    "These two fields are part of the advanced analytics of the data. It tells which direction the player was running immediately after the snap, and the dis is the distance ran right after the snap. The variance will be checked with this data later on to determine if it's worth keeping. "
   ]
  },
  {
   "cell_type": "code",
   "execution_count": 38,
   "metadata": {
    "scrolled": true
   },
   "outputs": [
    {
     "data": {
      "text/plain": [
       "0.00    21\n",
       "0.01    25\n",
       "0.02     7\n",
       "0.03    10\n",
       "0.04     7\n",
       "        ..\n",
       "0.83     3\n",
       "0.84     1\n",
       "0.85     2\n",
       "1.00     1\n",
       "1.16     1\n",
       "Name: Dis, Length: 87, dtype: int64"
      ]
     },
     "execution_count": 38,
     "metadata": {},
     "output_type": "execute_result"
    }
   ],
   "source": [
    "df['Dis'].value_counts().sort_index()"
   ]
  },
  {
   "cell_type": "code",
   "execution_count": 39,
   "metadata": {},
   "outputs": [
    {
     "data": {
      "text/plain": [
       "87"
      ]
     },
     "execution_count": 39,
     "metadata": {},
     "output_type": "execute_result"
    }
   ],
   "source": [
    "df['Dis'].nunique()"
   ]
  },
  {
   "cell_type": "code",
   "execution_count": 40,
   "metadata": {},
   "outputs": [
    {
     "name": "stdout",
     "output_type": "stream",
     "text": [
      "0.00    1\n",
      "0.02    1\n",
      "0.03    2\n",
      "0.04    1\n",
      "0.05    1\n",
      "0.06    2\n",
      "0.09    2\n",
      "0.11    3\n",
      "0.16    1\n",
      "0.17    1\n",
      "Name: Orientation, dtype: int64\n",
      "359.84    3\n",
      "359.86    3\n",
      "359.87    1\n",
      "359.88    1\n",
      "359.89    3\n",
      "359.90    1\n",
      "359.91    1\n",
      "359.93    1\n",
      "359.99    1\n",
      "360.00    1\n",
      "Name: Orientation, dtype: int64\n"
     ]
    }
   ],
   "source": [
    "print(df['Orientation'].value_counts().sort_index().head(10))\n",
    "print(df['Orientation'].value_counts().sort_index().tail(10))"
   ]
  },
  {
   "cell_type": "markdown",
   "metadata": {},
   "source": [
    "## Box plots to find outliers\n",
    "Boxplots were created to check for outliers on several variables. And it looks like a lot of the attributes, like Yards to Touchdown and \"Defenders in the Box\" either didn't have any outliers, or had outiers that were part of a natural progression, so we can overlook them.\n",
    "\n",
    "The only outliers that could be removed is the distance field. There was a lot of outliers above 20 yards. The odds of any play needed 20 or more yards to get the first down are pretty rare so they can be removed. Usually that happens when previous plays resulted in penalites on the offense, or sacking the quarterback in a poorly executed passing play. "
   ]
  },
  {
   "cell_type": "code",
   "execution_count": 41,
   "metadata": {},
   "outputs": [
    {
     "data": {
      "text/plain": [
       "<matplotlib.axes._subplots.AxesSubplot at 0x150b8a7f748>"
      ]
     },
     "execution_count": 41,
     "metadata": {},
     "output_type": "execute_result"
    },
    {
     "data": {
      "image/png": "[encoded data removed]",
      "text/plain": [
       "<Figure size 432x288 with 1 Axes>"
      ]
     },
     "metadata": {
      "needs_background": "light"
     },
     "output_type": "display_data"
    }
   ],
   "source": [
    "sns.boxplot( y=df[\"YardsToTouchdown\"] )"
   ]
  },
  {
   "cell_type": "code",
   "execution_count": 42,
   "metadata": {},
   "outputs": [
    {
     "data": {
      "text/plain": [
       "<matplotlib.axes._subplots.AxesSubplot at 0x150b8b00148>"
      ]
     },
     "execution_count": 42,
     "metadata": {},
     "output_type": "execute_result"
    },
    {
     "data": {
      "image/png": "[encoded data removed]",
      "text/plain": [
       "<Figure size 432x288 with 1 Axes>"
      ]
     },
     "metadata": {
      "needs_background": "light"
     },
     "output_type": "display_data"
    }
   ],
   "source": [
    "sns.boxplot( y=df[\"Yards\"] )"
   ]
  },
  {
   "cell_type": "code",
   "execution_count": 43,
   "metadata": {},
   "outputs": [
    {
     "data": {
      "text/plain": [
       "<matplotlib.axes._subplots.AxesSubplot at 0x150b8b58a88>"
      ]
     },
     "execution_count": 43,
     "metadata": {},
     "output_type": "execute_result"
    },
    {
     "data": {
      "image/png": "[encoded data removed]",
      "text/plain": [
       "<Figure size 432x288 with 1 Axes>"
      ]
     },
     "metadata": {
      "needs_background": "light"
     },
     "output_type": "display_data"
    }
   ],
   "source": [
    "sns.boxplot( y=df[\"PlayerWeight\"] )"
   ]
  },
  {
   "cell_type": "code",
   "execution_count": 44,
   "metadata": {},
   "outputs": [],
   "source": [
    "# Removing outliers based on height. Might not be needed. \n",
    "# df = df[(df['PlayerHeightInches'] <= 75)]"
   ]
  },
  {
   "cell_type": "code",
   "execution_count": 45,
   "metadata": {},
   "outputs": [
    {
     "data": {
      "text/plain": [
       "<matplotlib.axes._subplots.AxesSubplot at 0x150b8bd8748>"
      ]
     },
     "execution_count": 45,
     "metadata": {},
     "output_type": "execute_result"
    },
    {
     "data": {
      "image/png": "[encoded data removed]",
      "text/plain": [
       "<Figure size 432x288 with 1 Axes>"
      ]
     },
     "metadata": {
      "needs_background": "light"
     },
     "output_type": "display_data"
    }
   ],
   "source": [
    "sns.boxplot( y=df[\"DefendersInTheBox\"] )"
   ]
  },
  {
   "cell_type": "code",
   "execution_count": 46,
   "metadata": {
    "scrolled": true
   },
   "outputs": [
    {
     "data": {
      "text/plain": [
       "0    6305\n",
       "1    1832\n",
       "Name: isFirstDown, dtype: int64"
      ]
     },
     "execution_count": 46,
     "metadata": {},
     "output_type": "execute_result"
    }
   ],
   "source": [
    "df[(df['DefendersInTheBox'] >=8) | (df['DefendersInTheBox'] <=5)]['isFirstDown'].value_counts()"
   ]
  },
  {
   "cell_type": "code",
   "execution_count": 47,
   "metadata": {},
   "outputs": [
    {
     "data": {
      "text/plain": [
       "14.623961550884733"
      ]
     },
     "execution_count": 47,
     "metadata": {},
     "output_type": "execute_result"
    }
   ],
   "source": [
    "df[\"Distance\"].var()"
   ]
  },
  {
   "cell_type": "code",
   "execution_count": 48,
   "metadata": {},
   "outputs": [
    {
     "data": {
      "text/plain": [
       "0    182\n",
       "1      1\n",
       "Name: isFirstDown, dtype: int64"
      ]
     },
     "execution_count": 48,
     "metadata": {},
     "output_type": "execute_result"
    }
   ],
   "source": [
    "df[df[\"Distance\"]>20][\"isFirstDown\"].value_counts()"
   ]
  },
  {
   "cell_type": "code",
   "execution_count": 49,
   "metadata": {},
   "outputs": [],
   "source": [
    "df = df[df[\"Distance\"]<=20]"
   ]
  },
  {
   "cell_type": "code",
   "execution_count": 50,
   "metadata": {},
   "outputs": [
    {
     "data": {
      "text/plain": [
       "<matplotlib.axes._subplots.AxesSubplot at 0x150b8d95508>"
      ]
     },
     "execution_count": 50,
     "metadata": {},
     "output_type": "execute_result"
    },
    {
     "data": {
      "image/png": "[encoded data removed]",
      "text/plain": [
       "<Figure size 432x288 with 1 Axes>"
      ]
     },
     "metadata": {
      "needs_background": "light"
     },
     "output_type": "display_data"
    }
   ],
   "source": [
    "sns.countplot( x=df[\"Distance\"])"
   ]
  },
  {
   "cell_type": "code",
   "execution_count": 51,
   "metadata": {
    "scrolled": true
   },
   "outputs": [
    {
     "data": {
      "text/plain": [
       "<matplotlib.axes._subplots.AxesSubplot at 0x150b4cce588>"
      ]
     },
     "execution_count": 51,
     "metadata": {},
     "output_type": "execute_result"
    },
    {
     "data": {
      "image/png": "[encoded data removed]",
      "text/plain": [
       "<Figure size 432x288 with 1 Axes>"
      ]
     },
     "metadata": {
      "needs_background": "light"
     },
     "output_type": "display_data"
    }
   ],
   "source": [
    "sns.boxplot( y=df[\"Distance\"])"
   ]
  },
  {
   "cell_type": "code",
   "execution_count": 52,
   "metadata": {},
   "outputs": [
    {
     "data": {
      "text/plain": [
       "<matplotlib.axes._subplots.AxesSubplot at 0x150b85a79c8>"
      ]
     },
     "execution_count": 52,
     "metadata": {},
     "output_type": "execute_result"
    },
    {
     "data": {
      "image/png": "[encoded data removed]",
      "text/plain": [
       "<Figure size 432x288 with 1 Axes>"
      ]
     },
     "metadata": {
      "needs_background": "light"
     },
     "output_type": "display_data"
    }
   ],
   "source": [
    "sns.boxplot( y=df[\"Distance\"], x=df['isFirstDown'] )"
   ]
  },
  {
   "cell_type": "code",
   "execution_count": 53,
   "metadata": {},
   "outputs": [
    {
     "data": {
      "text/plain": [
       "1     6636\n",
       "2    20406\n",
       "3     1004\n",
       "4      465\n",
       "Name: DistanceBins, dtype: int64"
      ]
     },
     "execution_count": 53,
     "metadata": {},
     "output_type": "execute_result"
    }
   ],
   "source": [
    "#  Tried to make a categorical variable for the distance field, but it still was barely a normalized data set.\n",
    "df['DistanceBins'] = pd.cut(x=df['Distance'], bins=[-np.inf, 5.5, 10.5, 16.5, np.inf], labels=[1,2,3,4])\n",
    "df['DistanceBins'].value_counts().sort_index()"
   ]
  },
  {
   "cell_type": "code",
   "execution_count": 54,
   "metadata": {},
   "outputs": [
    {
     "data": {
      "text/plain": [
       "<matplotlib.axes._subplots.AxesSubplot at 0x150b5293288>"
      ]
     },
     "execution_count": 54,
     "metadata": {},
     "output_type": "execute_result"
    },
    {
     "data": {
      "image/png": "[encoded data removed]",
      "text/plain": [
       "<Figure size 432x288 with 1 Axes>"
      ]
     },
     "metadata": {
      "needs_background": "light"
     },
     "output_type": "display_data"
    }
   ],
   "source": [
    "sns.countplot( x=df[\"DistanceBins\"])"
   ]
  },
  {
   "cell_type": "markdown",
   "metadata": {},
   "source": [
    "## College\n",
    "For some, which college the player went to can identify the type of skillset the players have. This is a printout and a graph of the top 20 colleges represented in the data. Alabama leads this list, which makes perfect sense because of the fact they are one of the most dominant college football teams in the last decade, and the players representin them include Derrick Henry and Mark Ingram."
   ]
  },
  {
   "cell_type": "code",
   "execution_count": 55,
   "metadata": {},
   "outputs": [
    {
     "name": "stdout",
     "output_type": "stream",
     "text": [
      "Alabama             1869\n",
      "Georgia             1453\n",
      "Ohio State          1400\n",
      "Pittsburgh          1211\n",
      "Oklahoma            1069\n",
      "Indiana             1062\n",
      "Wisconsin            879\n",
      "Florida State        853\n",
      "Oregon               809\n",
      "Auburn               725\n",
      "Miami                710\n",
      "Stanford             668\n",
      "California           662\n",
      "Boise State          645\n",
      "Louisiana State      593\n",
      "Oklahoma State       529\n",
      "Georgia Southern     496\n",
      "Michigan State       487\n",
      "South Florida        478\n",
      "Toledo               472\n",
      "Name: PlayerCollegeName, dtype: int64\n",
      "Alabama\n"
     ]
    }
   ],
   "source": [
    "print(df['PlayerCollegeName'].value_counts()[:20])\n",
    "print(df['PlayerCollegeName'].value_counts().idxmax())"
   ]
  },
  {
   "cell_type": "code",
   "execution_count": 56,
   "metadata": {
    "scrolled": true
   },
   "outputs": [
    {
     "data": {
      "image/png": "[encoded data removed]",
      "text/plain": [
       "<Figure size 1152x432 with 1 Axes>"
      ]
     },
     "metadata": {
      "needs_background": "light"
     },
     "output_type": "display_data"
    }
   ],
   "source": [
    "plt.figure(figsize=(16, 6))\n",
    "snsj=sns.countplot(y=df['PlayerCollegeName'], palette=\"copper_r\", order=df['PlayerCollegeName'].value_counts()[:20].index.tolist())\n",
    "plt.title('Big College Listing')\n",
    "plt.savefig(\"../reports/figures/data_playercollege.png\")"
   ]
  },
  {
   "cell_type": "markdown",
   "metadata": {},
   "source": [
    "## Dropping fields and saving the current state\n",
    "Two sets of attributes are being dropped. The first set are dropping columns mentioned in this notebook, and other unnecessary fields. The other set of fields dropped can identify the player and the team making the play. We don't want the data to be skewed because some teams are better at the running game than others, and we don't want that to be a factor to the results. \n",
    "\n",
    "At the end of the day, after this process, we elimated enough fields to have a data set of 28511 records and 51 attributes."
   ]
  },
  {
   "cell_type": "code",
   "execution_count": null,
   "metadata": {},
   "outputs": [],
   "source": [
    "# Dropping the fields that are unnecessary\n",
    "df.drop(['Dis','NflId','NflIdRusher','JerseyNumber','DisplayName','GameClock','Temperature','WindSpeed', \\\n",
    "         'WindDirection','Team','FieldPosition','FieldPositionCode','PlayerWeight'], axis=1, inplace=True)"
   ]
  },
  {
   "cell_type": "code",
   "execution_count": null,
   "metadata": {},
   "outputs": [],
   "source": [
    "\n",
    "df.drop(['PossessionTeam','PossessionTeamAbbrCode','HomeTeamAbbr','HomeTeamAbbrCode', \\\n",
    "             'VisitorTeamAbbr','VisitorTeamAbbrCode','PlayerCollegeName','PlayerCollegeNameCode'], axis=1, inplace=True)\n"
   ]
  },
  {
   "cell_type": "code",
   "execution_count": null,
   "metadata": {},
   "outputs": [],
   "source": [
    "df.shape"
   ]
  },
  {
   "cell_type": "code",
   "execution_count": null,
   "metadata": {},
   "outputs": [],
   "source": [
    "df.to_csv(\"../data/processed/data_univ.csv\")"
   ]
  }
 ],
 "metadata": {
  "kernelspec": {
   "display_name": "Python 3",
   "language": "python",
   "name": "python3"
  },
  "language_info": {
   "codemirror_mode": {
    "name": "ipython",
    "version": 3
   },
   "file_extension": ".py",
   "mimetype": "text/x-python",
   "name": "python",
   "nbconvert_exporter": "python",
   "pygments_lexer": "ipython3",
   "version": "3.7.6"
  }
 },
 "nbformat": 4,
 "nbformat_minor": 4
}
