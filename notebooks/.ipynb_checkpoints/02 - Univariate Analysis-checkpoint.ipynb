{
 "cells": [
  {
   "cell_type": "code",
   "execution_count": 1,
   "metadata": {},
   "outputs": [],
   "source": [
    "# All import insertions\n",
    "import numpy as np\n",
    "import pandas as pd\n",
    "import seaborn as sns\n",
    "from pandas import isnull\n",
    "from sklearn import preprocessing\n",
    "import os    # For file paths\n",
    "import re    # Regular Expressions\n",
    "\n",
    "import matplotlib.pyplot as plt\n",
    "%matplotlib inline\n",
    "\n",
    "import datetime as dt"
   ]
  },
  {
   "cell_type": "code",
   "execution_count": 2,
   "metadata": {},
   "outputs": [],
   "source": [
    "# Open the file\n",
    "df = pd.read_csv(\"../data/processed/data_cleaned.csv\")"
   ]
  },
  {
   "cell_type": "code",
   "execution_count": 3,
   "metadata": {},
   "outputs": [
    {
     "data": {
      "text/plain": [
       "Index(['Unnamed: 0', 'GameId', 'PlayId', 'Team', 'X', 'Y', 'S', 'A', 'Dis',\n",
       "       'Orientation', 'Dir', 'NflId', 'DisplayName', 'JerseyNumber', 'Season',\n",
       "       'YardLine', 'Quarter', 'GameClock', 'PossessionTeam', 'Down',\n",
       "       'Distance', 'FieldPosition', 'HomeScoreBeforePlay',\n",
       "       'VisitorScoreBeforePlay', 'NflIdRusher', 'OffenseFormation',\n",
       "       'OffensePersonnel', 'DefendersInTheBox', 'DefensePersonnel',\n",
       "       'PlayDirection', 'TimeHandoff', 'TimeSnap', 'Yards', 'PlayerHeight',\n",
       "       'PlayerWeight', 'PlayerBirthDate', 'PlayerCollegeName', 'Position',\n",
       "       'HomeTeamAbbr', 'VisitorTeamAbbr', 'Week', 'Stadium', 'Location',\n",
       "       'StadiumType', 'Turf', 'GameWeather', 'Temperature', 'Humidity',\n",
       "       'WindSpeed', 'WindDirection', 'isFirstDown', 'isHomeTeam',\n",
       "       'FieldPositionCode', 'HomeTeamAbbrCode', 'VisitorTeamAbbrCode',\n",
       "       'PossessionTeamAbbrCode', 'YardsToTouchdown', 'TimeSnapDiff',\n",
       "       'PlayerHeightFt', 'PlayerHeightIn', 'PlayerHeightInches'],\n",
       "      dtype='object')"
      ]
     },
     "execution_count": 3,
     "metadata": {},
     "output_type": "execute_result"
    }
   ],
   "source": [
    "df.columns"
   ]
  },
  {
   "cell_type": "code",
   "execution_count": 4,
   "metadata": {},
   "outputs": [
    {
     "data": {
      "text/plain": [
       "Unnamed: 0            31007\n",
       "GameId                31007\n",
       "PlayId                31007\n",
       "Team                  31007\n",
       "X                     31007\n",
       "                      ...  \n",
       "YardsToTouchdown      31007\n",
       "TimeSnapDiff          31007\n",
       "PlayerHeightFt        31007\n",
       "PlayerHeightIn        31007\n",
       "PlayerHeightInches    31007\n",
       "Length: 61, dtype: int64"
      ]
     },
     "execution_count": 4,
     "metadata": {},
     "output_type": "execute_result"
    }
   ],
   "source": [
    "df.count()"
   ]
  },
  {
   "cell_type": "markdown",
   "metadata": {},
   "source": [
    "## Yards and isFirstdown Variables (Predictor variable)"
   ]
  },
  {
   "cell_type": "code",
   "execution_count": 5,
   "metadata": {},
   "outputs": [
    {
     "data": {
      "text/plain": [
       "-15    1\n",
       "-14    1\n",
       "-12    4\n",
       "-11    3\n",
       "-10    5\n",
       "      ..\n",
       " 90    2\n",
       " 91    1\n",
       " 92    1\n",
       " 97    1\n",
       " 99    1\n",
       "Name: Yards, Length: 102, dtype: int64"
      ]
     },
     "execution_count": 5,
     "metadata": {},
     "output_type": "execute_result"
    }
   ],
   "source": [
    "df['Yards'].value_counts().sort_index()"
   ]
  },
  {
   "cell_type": "code",
   "execution_count": 6,
   "metadata": {},
   "outputs": [
    {
     "data": {
      "text/plain": [
       "0    24415\n",
       "1     6592\n",
       "Name: isFirstDown, dtype: int64"
      ]
     },
     "execution_count": 6,
     "metadata": {},
     "output_type": "execute_result"
    }
   ],
   "source": [
    "df['isFirstDown'].value_counts()"
   ]
  },
  {
   "cell_type": "markdown",
   "metadata": {},
   "source": [
    "## Game Id count\n",
    "31007 plays among 688 games"
   ]
  },
  {
   "cell_type": "code",
   "execution_count": 7,
   "metadata": {},
   "outputs": [
    {
     "data": {
      "text/plain": [
       "Unnamed: 0            0\n",
       "GameId                0\n",
       "PlayId                0\n",
       "Team                  0\n",
       "X                     0\n",
       "                     ..\n",
       "YardsToTouchdown      0\n",
       "TimeSnapDiff          0\n",
       "PlayerHeightFt        0\n",
       "PlayerHeightIn        0\n",
       "PlayerHeightInches    0\n",
       "Length: 61, dtype: int64"
      ]
     },
     "execution_count": 7,
     "metadata": {},
     "output_type": "execute_result"
    }
   ],
   "source": [
    "df.isna().sum()"
   ]
  },
  {
   "cell_type": "code",
   "execution_count": 8,
   "metadata": {},
   "outputs": [
    {
     "data": {
      "text/plain": [
       "688"
      ]
     },
     "execution_count": 8,
     "metadata": {},
     "output_type": "execute_result"
    }
   ],
   "source": [
    "df['GameId'].nunique()"
   ]
  },
  {
   "cell_type": "markdown",
   "metadata": {},
   "source": [
    "## PlayID count\n",
    "Unique number to identify"
   ]
  },
  {
   "cell_type": "code",
   "execution_count": 9,
   "metadata": {},
   "outputs": [
    {
     "data": {
      "text/plain": [
       "0"
      ]
     },
     "execution_count": 9,
     "metadata": {},
     "output_type": "execute_result"
    }
   ],
   "source": [
    "df['PlayId'].isna().sum()"
   ]
  },
  {
   "cell_type": "code",
   "execution_count": 10,
   "metadata": {},
   "outputs": [
    {
     "data": {
      "text/plain": [
       "31007"
      ]
     },
     "execution_count": 10,
     "metadata": {},
     "output_type": "execute_result"
    }
   ],
   "source": [
    "df['PlayId'].nunique()"
   ]
  },
  {
   "cell_type": "markdown",
   "metadata": {},
   "source": [
    "## Team variables\n",
    "Whether the team that has posession of the ball has the home field advantage, or are the visitor team."
   ]
  },
  {
   "cell_type": "code",
   "execution_count": 11,
   "metadata": {},
   "outputs": [
    {
     "data": {
      "text/plain": [
       "31007"
      ]
     },
     "execution_count": 11,
     "metadata": {},
     "output_type": "execute_result"
    }
   ],
   "source": [
    "df['Team'].count()"
   ]
  },
  {
   "cell_type": "code",
   "execution_count": 12,
   "metadata": {},
   "outputs": [
    {
     "data": {
      "text/plain": [
       "home    15617\n",
       "away    15390\n",
       "Name: Team, dtype: int64"
      ]
     },
     "execution_count": 12,
     "metadata": {},
     "output_type": "execute_result"
    }
   ],
   "source": [
    "df['Team'].value_counts()"
   ]
  },
  {
   "cell_type": "code",
   "execution_count": 13,
   "metadata": {},
   "outputs": [
    {
     "data": {
      "text/plain": [
       "1    15617\n",
       "0    15390\n",
       "Name: isHomeTeam, dtype: int64"
      ]
     },
     "execution_count": 13,
     "metadata": {},
     "output_type": "execute_result"
    }
   ],
   "source": [
    "df['isHomeTeam'].value_counts()"
   ]
  },
  {
   "cell_type": "code",
   "execution_count": 14,
   "metadata": {
    "scrolled": false
   },
   "outputs": [
    {
     "data": {
      "image/png": "[encoded data removed]",
      "text/plain": [
       "<Figure size 1152x432 with 1 Axes>"
      ]
     },
     "metadata": {
      "needs_background": "light"
     },
     "output_type": "display_data"
    }
   ],
   "source": [
    "plt.figure(figsize=(16, 6))\n",
    "snsj=sns.countplot(y=df['Team'] ,palette=\"coolwarm\")\n",
    "plt.title('Team Home vs Away')\n",
    "plt.savefig(\"../reports/figures/data_team.png\")"
   ]
  },
  {
   "cell_type": "markdown",
   "metadata": {},
   "source": [
    "## Season variable\n",
    "A breakdown of all the season years"
   ]
  },
  {
   "cell_type": "code",
   "execution_count": 15,
   "metadata": {
    "scrolled": true
   },
   "outputs": [
    {
     "data": {
      "text/plain": [
       "2017    11900\n",
       "2018    11271\n",
       "2019     7836\n",
       "Name: Season, dtype: int64"
      ]
     },
     "execution_count": 15,
     "metadata": {},
     "output_type": "execute_result"
    }
   ],
   "source": [
    "df['Season'].value_counts()"
   ]
  },
  {
   "cell_type": "code",
   "execution_count": 16,
   "metadata": {},
   "outputs": [
    {
     "data": {
      "image/png": "[encoded data removed]",
      "text/plain": [
       "<Figure size 1152x432 with 1 Axes>"
      ]
     },
     "metadata": {
      "needs_background": "light"
     },
     "output_type": "display_data"
    }
   ],
   "source": [
    "plt.figure(figsize=(16, 6))\n",
    "snsj=sns.countplot(y=df['Season'] ,palette=\"coolwarm\")\n",
    "plt.title('Season - Which year the game was played?')\n",
    "plt.savefig(\"../reports/figures/data_season.png\")"
   ]
  },
  {
   "cell_type": "markdown",
   "metadata": {},
   "source": [
    "## Yardline variables\n",
    "The yard positions"
   ]
  },
  {
   "cell_type": "code",
   "execution_count": 28,
   "metadata": {
    "scrolled": true
   },
   "outputs": [
    {
     "data": {
      "text/plain": [
       "1      638\n",
       "2      336\n",
       "3      276\n",
       "4      298\n",
       "5      315\n",
       "6      305\n",
       "7      322\n",
       "8      386\n",
       "9      353\n",
       "10     442\n",
       "11     379\n",
       "12     420\n",
       "13     423\n",
       "14     443\n",
       "15     550\n",
       "16     427\n",
       "17     439\n",
       "18     469\n",
       "19     535\n",
       "20     766\n",
       "21     555\n",
       "22     588\n",
       "23     530\n",
       "24     602\n",
       "25    2587\n",
       "26     678\n",
       "27     625\n",
       "28     650\n",
       "29     680\n",
       "30     809\n",
       "31     741\n",
       "32     675\n",
       "33     701\n",
       "34     869\n",
       "35     775\n",
       "36     743\n",
       "37     754\n",
       "38     690\n",
       "39     712\n",
       "40     863\n",
       "41     731\n",
       "42     670\n",
       "43     682\n",
       "44     648\n",
       "45     774\n",
       "46     730\n",
       "47     666\n",
       "48     667\n",
       "49     699\n",
       "50     391\n",
       "Name: YardLine, dtype: int64"
      ]
     },
     "execution_count": 28,
     "metadata": {},
     "output_type": "execute_result"
    }
   ],
   "source": [
    "df['YardLine'].value_counts().sort_index()"
   ]
  },
  {
   "cell_type": "code",
   "execution_count": 29,
   "metadata": {},
   "outputs": [
    {
     "data": {
      "text/plain": [
       "1     562\n",
       "2     239\n",
       "3     199\n",
       "4     204\n",
       "5     209\n",
       "     ... \n",
       "95    106\n",
       "96     94\n",
       "97     77\n",
       "98     97\n",
       "99     76\n",
       "Name: YardsToTouchdown, Length: 99, dtype: int64"
      ]
     },
     "execution_count": 29,
     "metadata": {},
     "output_type": "execute_result"
    }
   ],
   "source": [
    "df['YardsToTouchdown'].value_counts().sort_index()"
   ]
  },
  {
   "cell_type": "code",
   "execution_count": 19,
   "metadata": {},
   "outputs": [
    {
     "data": {
      "image/png": "[encoded data removed]",
      "text/plain": [
       "<Figure size 1728x720 with 1 Axes>"
      ]
     },
     "metadata": {
      "needs_background": "light"
     },
     "output_type": "display_data"
    }
   ],
   "source": [
    "plt.figure(figsize=(24, 10))\n",
    "snsj=sns.countplot(x=df['YardsToTouchdown'] ,palette=\"coolwarm\")\n",
    "plt.title('How many yards are needed to make a touchdown?')\n",
    "plt.savefig(\"../reports/figures/data_YardsToTouchdown.png\")"
   ]
  },
  {
   "cell_type": "markdown",
   "metadata": {},
   "source": [
    "## Quarter variable"
   ]
  },
  {
   "cell_type": "code",
   "execution_count": 20,
   "metadata": {},
   "outputs": [
    {
     "data": {
      "text/plain": [
       "1    7942\n",
       "2    7441\n",
       "3    7648\n",
       "4    7779\n",
       "5     197\n",
       "Name: Quarter, dtype: int64"
      ]
     },
     "execution_count": 20,
     "metadata": {},
     "output_type": "execute_result"
    }
   ],
   "source": [
    "df['Quarter'].value_counts().sort_index()"
   ]
  },
  {
   "cell_type": "code",
   "execution_count": 21,
   "metadata": {},
   "outputs": [
    {
     "data": {
      "text/plain": [
       "count    31007.000000\n",
       "mean         2.511336\n",
       "std          1.141080\n",
       "min          1.000000\n",
       "25%          1.000000\n",
       "50%          3.000000\n",
       "75%          4.000000\n",
       "max          5.000000\n",
       "Name: Quarter, dtype: float64"
      ]
     },
     "execution_count": 21,
     "metadata": {},
     "output_type": "execute_result"
    }
   ],
   "source": [
    "df['Quarter'].describe()"
   ]
  },
  {
   "cell_type": "code",
   "execution_count": 22,
   "metadata": {},
   "outputs": [
    {
     "data": {
      "image/png": "[encoded data removed]",
      "text/plain": [
       "<Figure size 1152x432 with 1 Axes>"
      ]
     },
     "metadata": {
      "needs_background": "light"
     },
     "output_type": "display_data"
    }
   ],
   "source": [
    "plt.figure(figsize=(16, 6))\n",
    "snsj=sns.countplot(y=df['Quarter'], hue=df['isFirstDown'], palette=\"coolwarm\")\n",
    "plt.title('What quarter was the play done in?')\n",
    "plt.savefig(\"../reports/figures/data_quarter.png\")"
   ]
  },
  {
   "cell_type": "markdown",
   "metadata": {},
   "source": [
    "## Down variable"
   ]
  },
  {
   "cell_type": "code",
   "execution_count": 23,
   "metadata": {},
   "outputs": [
    {
     "data": {
      "text/plain": [
       "1    17925\n",
       "2    10393\n",
       "3     2421\n",
       "4      268\n",
       "Name: Down, dtype: int64"
      ]
     },
     "execution_count": 23,
     "metadata": {},
     "output_type": "execute_result"
    }
   ],
   "source": [
    "df['Down'].value_counts().sort_index()"
   ]
  },
  {
   "cell_type": "code",
   "execution_count": 24,
   "metadata": {},
   "outputs": [
    {
     "data": {
      "text/plain": [
       "1    15731\n",
       "2     7308\n",
       "3     1261\n",
       "4      115\n",
       "Name: Down, dtype: int64"
      ]
     },
     "execution_count": 24,
     "metadata": {},
     "output_type": "execute_result"
    }
   ],
   "source": [
    "# Failed to make the first down, which down are you on\n",
    "df[df['isFirstDown'] == 0]['Down'].value_counts().sort_index()"
   ]
  },
  {
   "cell_type": "code",
   "execution_count": 25,
   "metadata": {},
   "outputs": [
    {
     "data": {
      "text/plain": [
       "1    2194\n",
       "2    3085\n",
       "3    1160\n",
       "4     153\n",
       "Name: Down, dtype: int64"
      ]
     },
     "execution_count": 25,
     "metadata": {},
     "output_type": "execute_result"
    }
   ],
   "source": [
    "# Successfully made the first down, which down are you on\n",
    "df[df['isFirstDown'] == 1]['Down'].value_counts().sort_index()"
   ]
  },
  {
   "cell_type": "code",
   "execution_count": 26,
   "metadata": {},
   "outputs": [
    {
     "data": {
      "image/png": "[encoded data removed]",
      "text/plain": [
       "<Figure size 1728x720 with 1 Axes>"
      ]
     },
     "metadata": {
      "needs_background": "light"
     },
     "output_type": "display_data"
    }
   ],
   "source": [
    "plt.figure(figsize=(24, 10))\n",
    "snsj=sns.countplot(x=df['Down'], hue=df['isFirstDown'], palette=\"coolwarm\")\n",
    "plt.title('Which down was the play in?')\n",
    "plt.savefig(\"../reports/figures/data_down.png\")"
   ]
  },
  {
   "cell_type": "code",
   "execution_count": 30,
   "metadata": {},
   "outputs": [
    {
     "data": {
      "text/plain": [
       "Ezekiel Elliott      751\n",
       "Todd Gurley          667\n",
       "Jordan Howard        637\n",
       "Leonard Fournette    606\n",
       "Carlos Hyde          581\n",
       "                    ... \n",
       "Eli Manning            1\n",
       "Kyle Williams          1\n",
       "Paul Richardson        1\n",
       "Rishard Matthews       1\n",
       "Blake Bortles          1\n",
       "Name: DisplayName, Length: 445, dtype: int64"
      ]
     },
     "execution_count": 30,
     "metadata": {},
     "output_type": "execute_result"
    }
   ],
   "source": [
    "df['DisplayName'].value_counts()"
   ]
  },
  {
   "cell_type": "code",
   "execution_count": 39,
   "metadata": {},
   "outputs": [
    {
     "data": {
      "text/plain": [
       "Ezekiel Elliott        179\n",
       "Todd Gurley            169\n",
       "Jordan Howard          139\n",
       "Derrick Henry          129\n",
       "Melvin Gordon          128\n",
       "Mark Ingram            127\n",
       "Chris Carson           125\n",
       "Joe Mixon              124\n",
       "Marlon Mack            121\n",
       "Alvin Kamara           118\n",
       "Leonard Fournette      115\n",
       "Carlos Hyde            112\n",
       "Christian McCaffrey    112\n",
       "Kareem Hunt            109\n",
       "Frank Gore             102\n",
       "LeSean McCoy            99\n",
       "Le'Veon Bell            96\n",
       "Aaron Jones             96\n",
       "Dalvin Cook             94\n",
       "Sony Michel             93\n",
       "Name: DisplayName, dtype: int64"
      ]
     },
     "execution_count": 39,
     "metadata": {},
     "output_type": "execute_result"
    }
   ],
   "source": [
    "df[df['isFirstDown'] == 1]['DisplayName'].value_counts().head(20)"
   ]
  },
  {
   "cell_type": "code",
   "execution_count": 31,
   "metadata": {
    "scrolled": true
   },
   "outputs": [
    {
     "data": {
      "text/plain": [
       "RB    28886\n",
       "HB      923\n",
       "WR      828\n",
       "FB      209\n",
       "QB       99\n",
       "TE       48\n",
       "CB       10\n",
       "DT        2\n",
       "DE        1\n",
       "G         1\n",
       "Name: Position, dtype: int64"
      ]
     },
     "execution_count": 31,
     "metadata": {},
     "output_type": "execute_result"
    }
   ],
   "source": [
    "df['Position'].value_counts()"
   ]
  },
  {
   "cell_type": "code",
   "execution_count": null,
   "metadata": {},
   "outputs": [],
   "source": []
  },
  {
   "cell_type": "code",
   "execution_count": null,
   "metadata": {},
   "outputs": [],
   "source": []
  }
 ],
 "metadata": {
  "kernelspec": {
   "display_name": "Python 3",
   "language": "python",
   "name": "python3"
  },
  "language_info": {
   "codemirror_mode": {
    "name": "ipython",
    "version": 3
   },
   "file_extension": ".py",
   "mimetype": "text/x-python",
   "name": "python",
   "nbconvert_exporter": "python",
   "pygments_lexer": "ipython3",
   "version": "3.7.6"
  }
 },
 "nbformat": 4,
 "nbformat_minor": 4
}
