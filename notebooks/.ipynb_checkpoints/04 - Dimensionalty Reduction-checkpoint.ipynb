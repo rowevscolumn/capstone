{
 "cells": [
  {
   "cell_type": "markdown",
   "metadata": {},
   "source": [
    "# 04 - Dimensionality Reduction"
   ]
  },
  {
   "cell_type": "code",
   "execution_count": 1,
   "metadata": {},
   "outputs": [],
   "source": [
    "# All import insertions\n",
    "import pandas as pd\n",
    "import numpy as np\n",
    "import seaborn as sns\n",
    "import statsmodels.api as sm\n",
    "\n",
    "from pandas import isnull\n",
    "from sklearn import preprocessing\n",
    "import os    # For file paths\n",
    "import re    # Regular Expressions\n",
    "\n",
    "import matplotlib\n",
    "import matplotlib.pyplot as plt\n",
    "%matplotlib inline\n",
    "\n",
    "from sklearn.model_selection import train_test_split\n",
    "from sklearn.linear_model import LinearRegression\n",
    "from sklearn.feature_selection import RFE\n",
    "from sklearn.linear_model import RidgeCV, LassoCV, Ridge, Lasso"
   ]
  },
  {
   "cell_type": "code",
   "execution_count": 2,
   "metadata": {},
   "outputs": [],
   "source": [
    "#Open files\n",
    "df = pd.read_csv(\"../data/processed/data_bivariate.csv\", low_memory=False)"
   ]
  },
  {
   "cell_type": "markdown",
   "metadata": {},
   "source": [
    "## Backward Elimination"
   ]
  },
  {
   "cell_type": "code",
   "execution_count": 3,
   "metadata": {},
   "outputs": [],
   "source": [
    "X = df.drop(\"isFirstDown\",1)   #Feature Matrix\n",
    "y = df[\"isFirstDown\"]          #Target Variable"
   ]
  },
  {
   "cell_type": "code",
   "execution_count": 4,
   "metadata": {},
   "outputs": [
    {
     "data": {
      "text/plain": [
       "isHomeTeam                  int64\n",
       "X                         float64\n",
       "Y                         float64\n",
       "S                         float64\n",
       "A                         float64\n",
       "Orientation               float64\n",
       "Dir                       float64\n",
       "Season                      int64\n",
       "YardLine                    int64\n",
       "Quarter                     int64\n",
       "PossessionTeamAbbrCode      int64\n",
       "Down                        int64\n",
       "Distance                    int64\n",
       "HomeScoreBeforePlay         int64\n",
       "VisitorScoreBeforePlay      int64\n",
       "IsPossTeamInLead            int64\n",
       "DefendersInTheBox           int64\n",
       "isPlayDirectionLeft         int64\n",
       "TimeSnapDiff              float64\n",
       "YardsToTouchdown            int64\n",
       "PlayerHeightInches          int64\n",
       "PlayerWeight                int64\n",
       "Age                         int64\n",
       "HomeTeamAbbrCode            int64\n",
       "VisitorTeamAbbrCode         int64\n",
       "Week                        int64\n",
       "Centers                     int64\n",
       "Cornerbacks                 int64\n",
       "DefensiveEnds               int64\n",
       "DefensiveTackles            int64\n",
       "LineBackers                 int64\n",
       "NoseTackles                 int64\n",
       "OffensiveGuards             int64\n",
       "OffensiveTackles            int64\n",
       "Safeties                    int64\n",
       "WideReceivers               int64\n",
       "YardsNorm                 float64\n",
       "DistanceBins                int64\n",
       "dtype: object"
      ]
     },
     "execution_count": 4,
     "metadata": {},
     "output_type": "execute_result"
    }
   ],
   "source": [
    "X.dtypes"
   ]
  },
  {
   "cell_type": "code",
   "execution_count": 5,
   "metadata": {},
   "outputs": [
    {
     "data": {
      "text/plain": [
       "YardsNorm                  0.000000e+00\n",
       "Distance                  8.543118e-244\n",
       "Down                       1.941735e-79\n",
       "A                          3.718643e-12\n",
       "S                          1.299473e-05\n",
       "DistanceBins               1.054843e-04\n",
       "YardsToTouchdown           4.904788e-04\n",
       "IsPossTeamInLead           7.874753e-04\n",
       "HomeTeamAbbrCode           6.287589e-02\n",
       "VisitorScoreBeforePlay     9.628105e-02\n",
       "Age                        1.570933e-01\n",
       "Season                     2.078127e-01\n",
       "VisitorTeamAbbrCode        2.179721e-01\n",
       "PlayerWeight               2.267991e-01\n",
       "YardLine                   2.288758e-01\n",
       "const                      2.318256e-01\n",
       "X                          2.424257e-01\n",
       "Cornerbacks                3.134485e-01\n",
       "TimeSnapDiff               3.384020e-01\n",
       "HomeScoreBeforePlay        3.933824e-01\n",
       "Y                          3.989677e-01\n",
       "OffensiveTackles           4.994123e-01\n",
       "Orientation                5.104499e-01\n",
       "isHomeTeam                 5.421361e-01\n",
       "LineBackers                5.618409e-01\n",
       "Dir                        5.649985e-01\n",
       "WideReceivers              5.705888e-01\n",
       "isPlayDirectionLeft        5.821965e-01\n",
       "DefensiveEnds              6.017701e-01\n",
       "DefensiveTackles           6.563960e-01\n",
       "Week                       6.586548e-01\n",
       "PossessionTeamAbbrCode     6.706941e-01\n",
       "Centers                    6.738147e-01\n",
       "Safeties                   7.062902e-01\n",
       "OffensiveGuards            7.473923e-01\n",
       "NoseTackles                7.511220e-01\n",
       "DefendersInTheBox          7.569436e-01\n",
       "Quarter                    7.577345e-01\n",
       "PlayerHeightInches         8.451261e-01\n",
       "dtype: float64"
      ]
     },
     "execution_count": 5,
     "metadata": {},
     "output_type": "execute_result"
    }
   ],
   "source": [
    "#Adding constant column of ones, mandatory for sm.OLS model\n",
    "X_1 = sm.add_constant(X)\n",
    "\n",
    "#Fitting sm.OLS model\n",
    "model = sm.OLS(y,X_1).fit()\n",
    "model.pvalues.sort_values()"
   ]
  },
  {
   "cell_type": "code",
   "execution_count": 6,
   "metadata": {},
   "outputs": [
    {
     "name": "stdout",
     "output_type": "stream",
     "text": [
      "['S', 'A', 'Down', 'Distance', 'VisitorScoreBeforePlay', 'IsPossTeamInLead', 'YardsToTouchdown', 'Cornerbacks', 'YardsNorm', 'DistanceBins']\n"
     ]
    }
   ],
   "source": [
    "#Backward Elimination\n",
    "cols = list(X.columns)\n",
    "pmax = 1\n",
    "while (len(cols)>0):\n",
    "    p= []\n",
    "    X_1 = X[cols]\n",
    "    X_1 = sm.add_constant(X_1)\n",
    "    model = sm.OLS(y,X_1).fit()\n",
    "    p = pd.Series(model.pvalues.values[1:],index = cols)      \n",
    "    pmax = max(p)\n",
    "    feature_with_p_max = p.idxmax()\n",
    "    if(pmax>0.05):\n",
    "        cols.remove(feature_with_p_max)\n",
    "    else:\n",
    "        break\n",
    "selected_features_BE = cols\n",
    "print(selected_features_BE)"
   ]
  },
  {
   "cell_type": "markdown",
   "metadata": {},
   "source": [
    "## RFE (Recursive Feature Elimination)"
   ]
  },
  {
   "cell_type": "code",
   "execution_count": 7,
   "metadata": {},
   "outputs": [
    {
     "name": "stdout",
     "output_type": "stream",
     "text": [
      "[False False False False  True False False False False False False  True\n",
      "  True False False  True False False False False False False False False\n",
      " False False False  True False False False False False False False False\n",
      "  True  True]\n",
      "[12 30 20  7  1 32 31 13 28 11 29  1  1 25 19  1 14 21 10 23 18 26 17 22\n",
      " 24 27  9  1  3  4  2  5 15  8  6 16  1  1]\n"
     ]
    }
   ],
   "source": [
    "model = LinearRegression()\n",
    "\n",
    "#Initializing RFE model\n",
    "rfe = RFE(model, 7)\n",
    "\n",
    "#Transforming data using RFE\n",
    "X_rfe = rfe.fit_transform(X,y)  \n",
    "\n",
    "#Fitting the data to model\n",
    "model.fit(X_rfe,y)\n",
    "print(rfe.support_)\n",
    "print(rfe.ranking_)"
   ]
  },
  {
   "cell_type": "code",
   "execution_count": 8,
   "metadata": {},
   "outputs": [
    {
     "name": "stdout",
     "output_type": "stream",
     "text": [
      "Optimum number of features: 7\n",
      "Score with 7 features: 0.489976\n"
     ]
    }
   ],
   "source": [
    "#no of features\n",
    "nof_list=np.arange(1,13)            \n",
    "high_score=0\n",
    "\n",
    "#Variable to store the optimum features\n",
    "nof=0           \n",
    "score_list =[]\n",
    "for n in range(len(nof_list)):\n",
    "    X_train, X_test, y_train, y_test = train_test_split(X,y, test_size = 0.3, random_state = 0)\n",
    "    model = LinearRegression()\n",
    "    rfe = RFE(model,nof_list[n])\n",
    "    X_train_rfe = rfe.fit_transform(X_train,y_train)\n",
    "    X_test_rfe = rfe.transform(X_test)\n",
    "    model.fit(X_train_rfe,y_train)\n",
    "    score = model.score(X_test_rfe,y_test)\n",
    "    score_list.append(score)\n",
    "    if(score>high_score):\n",
    "        high_score = score\n",
    "        nof = nof_list[n]\n",
    "print(\"Optimum number of features: %d\" %nof)\n",
    "print(\"Score with %d features: %f\" % (nof, high_score))"
   ]
  },
  {
   "cell_type": "code",
   "execution_count": 9,
   "metadata": {},
   "outputs": [
    {
     "name": "stdout",
     "output_type": "stream",
     "text": [
      "Index(['A', 'Down', 'Distance', 'IsPossTeamInLead', 'Cornerbacks', 'YardsNorm',\n",
      "       'DistanceBins'],\n",
      "      dtype='object')\n"
     ]
    }
   ],
   "source": [
    "cols = list(X.columns)\n",
    "model = LinearRegression()\n",
    "\n",
    "#Initializing RFE model\n",
    "rfe = RFE(model, 7)\n",
    "\n",
    "#Transforming data using RFE\n",
    "X_rfe = rfe.fit_transform(X,y)  \n",
    "\n",
    "#Fitting the data to model\n",
    "model.fit(X_rfe,y)              \n",
    "temp = pd.Series(rfe.support_,index = cols)\n",
    "selected_features_rfe = temp[temp==True].index\n",
    "print(selected_features_rfe)"
   ]
  },
  {
   "cell_type": "markdown",
   "metadata": {},
   "source": [
    "## Embedded Method"
   ]
  },
  {
   "cell_type": "code",
   "execution_count": 10,
   "metadata": {},
   "outputs": [
    {
     "name": "stdout",
     "output_type": "stream",
     "text": [
      "Best alpha using built-in LassoCV: 0.001215\n",
      "Best score using built-in LassoCV: 0.487122\n"
     ]
    }
   ],
   "source": [
    "reg = LassoCV()\n",
    "reg.fit(X, y)\n",
    "print(\"Best alpha using built-in LassoCV: %f\" % reg.alpha_)\n",
    "print(\"Best score using built-in LassoCV: %f\" %reg.score(X,y))\n",
    "coef = pd.Series(reg.coef_, index = X.columns)"
   ]
  },
  {
   "cell_type": "code",
   "execution_count": 11,
   "metadata": {},
   "outputs": [
    {
     "name": "stdout",
     "output_type": "stream",
     "text": [
      "Lasso picked 24 variables and eliminated the other 14 variables\n"
     ]
    }
   ],
   "source": [
    "print(\"Lasso picked \" + str(sum(coef != 0)) + \" variables and eliminated the other \" +  str(sum(coef == 0)) + \" variables\")"
   ]
  },
  {
   "cell_type": "code",
   "execution_count": 12,
   "metadata": {},
   "outputs": [
    {
     "data": {
      "text/plain": [
       "Text(0.5, 1.0, 'Feature importance using Lasso Model')"
      ]
     },
     "execution_count": 12,
     "metadata": {},
     "output_type": "execute_result"
    },
    {
     "data": {
      "image/png": "[encoded data removed]",
      "text/plain": [
       "<Figure size 576x720 with 1 Axes>"
      ]
     },
     "metadata": {
      "needs_background": "light"
     },
     "output_type": "display_data"
    }
   ],
   "source": [
    "imp_coef = coef.sort_values()\n",
    "import matplotlib\n",
    "matplotlib.rcParams['figure.figsize'] = (8.0, 10.0)\n",
    "imp_coef.plot(kind = \"barh\")\n",
    "plt.title(\"Feature importance using Lasso Model\")"
   ]
  },
  {
   "cell_type": "code",
   "execution_count": 30,
   "metadata": {
    "scrolled": true
   },
   "outputs": [
    {
     "data": {
      "text/plain": [
       "Index(['Centers', 'isHomeTeam', 'LineBackers', 'NoseTackles',\n",
       "       'OffensiveTackles', 'WideReceivers', 'DefensiveEnds',\n",
       "       'DefensiveTackles', 'TimeSnapDiff', 'isPlayDirectionLeft',\n",
       "       'DefendersInTheBox', 'Quarter', 'Season', 'PlayerHeightInches'],\n",
       "      dtype='object')"
      ]
     },
     "execution_count": 30,
     "metadata": {},
     "output_type": "execute_result"
    }
   ],
   "source": [
    "#imp_coef.where((imp_coef == 0)).notna()\n",
    "imp_coef[imp_coef == 0].keys()"
   ]
  },
  {
   "cell_type": "code",
   "execution_count": null,
   "metadata": {},
   "outputs": [],
   "source": []
  }
 ],
 "metadata": {
  "kernelspec": {
   "display_name": "Python 3",
   "language": "python",
   "name": "python3"
  },
  "language_info": {
   "codemirror_mode": {
    "name": "ipython",
    "version": 3
   },
   "file_extension": ".py",
   "mimetype": "text/x-python",
   "name": "python",
   "nbconvert_exporter": "python",
   "pygments_lexer": "ipython3",
   "version": "3.7.6"
  }
 },
 "nbformat": 4,
 "nbformat_minor": 4
}
