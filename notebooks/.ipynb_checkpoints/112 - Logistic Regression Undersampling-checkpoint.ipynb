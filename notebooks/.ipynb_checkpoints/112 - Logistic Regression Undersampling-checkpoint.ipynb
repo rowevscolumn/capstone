{
 "cells": [
  {
   "cell_type": "markdown",
   "metadata": {},
   "source": [
    "# Logistic Regression - Undersampling"
   ]
  },
  {
   "cell_type": "code",
   "execution_count": 1,
   "metadata": {},
   "outputs": [
    {
     "name": "stderr",
     "output_type": "stream",
     "text": [
      "D:\\Users\\sourc\\Anaconda3\\lib\\site-packages\\sklearn\\externals\\six.py:31: FutureWarning: The module is deprecated in version 0.21 and will be removed in version 0.23 since we've dropped support for Python 2.7. Please rely on the official version of six (https://pypi.org/project/six/).\n",
      "  \"(https://pypi.org/project/six/).\", FutureWarning)\n"
     ]
    }
   ],
   "source": [
    "import pandas as pd\n",
    "import numpy as np\n",
    "import matplotlib.pyplot as plt\n",
    "import seaborn as sns\n",
    "%matplotlib inline\n",
    "\n",
    "from sklearn.model_selection import train_test_split\n",
    "from sklearn.utils import resample\n",
    "from sklearn.tree import DecisionTreeClassifier #Import scikit-Tree For Decision Tree\n",
    "from sklearn import metrics #Import scikit-learn metrics module for accuracy calculation\n",
    "from sklearn.metrics import classification_report,confusion_matrix #import Confusion Matrix\n",
    "from sklearn.model_selection import train_test_split # Splitting the data\n",
    "from sklearn import preprocessing # Normalizing\n",
    "\n",
    "from sklearn.metrics import accuracy_score, precision_score, recall_score, f1_score\n",
    "\n",
    "from IPython.display import Image  \n",
    "from sklearn.externals.six import StringIO  \n",
    "from sklearn.tree import export_graphviz\n",
    "import time\n"
   ]
  },
  {
   "cell_type": "code",
   "execution_count": 2,
   "metadata": {},
   "outputs": [],
   "source": [
    "df_o = pd.read_csv(\"../data/processed/data_undersampled.csv\",index_col=0)"
   ]
  },
  {
   "cell_type": "code",
   "execution_count": 3,
   "metadata": {},
   "outputs": [],
   "source": [
    "# Normalizing the data\n",
    "x = df_o.values #returns a numpy array\n",
    "col = df_o.columns\n",
    "min_max_scaler = preprocessing.MinMaxScaler()\n",
    "x_scaled = min_max_scaler.fit_transform(x)\n",
    "df_n = pd.DataFrame(x_scaled, columns = col)\n",
    "\n",
    "# df_n"
   ]
  },
  {
   "cell_type": "code",
   "execution_count": 4,
   "metadata": {},
   "outputs": [],
   "source": [
    "X = df_o.drop(\"isFirstDown\",1)   #Feature Matrix\n",
    "y = df_o[\"isFirstDown\"]          #Target Variable"
   ]
  },
  {
   "cell_type": "code",
   "execution_count": 5,
   "metadata": {},
   "outputs": [
    {
     "ename": "SyntaxError",
     "evalue": "invalid syntax (<ipython-input-5-e862929c12e3>, line 9)",
     "output_type": "error",
     "traceback": [
      "\u001b[1;36m  File \u001b[1;32m\"<ipython-input-5-e862929c12e3>\"\u001b[1;36m, line \u001b[1;32m9\u001b[0m\n\u001b[1;33m    print(y_test.shape)s\u001b[0m\n\u001b[1;37m                       ^\u001b[0m\n\u001b[1;31mSyntaxError\u001b[0m\u001b[1;31m:\u001b[0m invalid syntax\n"
     ]
    }
   ],
   "source": [
    "# from sklearn.model_selection import train_test_split # Splitting the data\n",
    "X_train, X_test, y_train, y_test = train_test_split(X, y, test_size=0.30, random_state=72)\n",
    "\n",
    "numDimensions = X_test.shape[1]\n",
    "\n",
    "print(X_train.shape)\n",
    "print(X_test.shape)\n",
    "print(y_train.shape)\n",
    "print(y_test.shape)"
   ]
  },
  {
   "cell_type": "code",
   "execution_count": null,
   "metadata": {},
   "outputs": [],
   "source": [
    "# Fitting Logistic Regression to the Training set\n",
    "from sklearn.linear_model import LogisticRegression\n",
    "classifier = LogisticRegression(random_state=0, max_iter=2000) #Max iterations had to be significantly increased from default\n",
    "classifier.fit(X_train, y_train)"
   ]
  },
  {
   "cell_type": "code",
   "execution_count": null,
   "metadata": {},
   "outputs": [],
   "source": [
    "# Predicting the Test set results\n",
    "y_pred = classifier.predict(X_test)"
   ]
  },
  {
   "cell_type": "code",
   "execution_count": null,
   "metadata": {},
   "outputs": [],
   "source": [
    "accText = 'Logistic regression, Undersampled'"
   ]
  },
  {
   "cell_type": "code",
   "execution_count": null,
   "metadata": {},
   "outputs": [],
   "source": [
    "# Model Accuracy, how often is the classifier correct?\n",
    "\n",
    "# accuracy: (tp + tn) / (p + n)\n",
    "accuracy = (accuracy_score(y_test, y_pred)).astype('float64')\n",
    "print('{:>10}: {:0.2%}'.format('Accuracy',accuracy))\n",
    "# precision tp / (tp + fp)\n",
    "precision = (precision_score(y_test, y_pred)).astype('float64')\n",
    "print('{:>10}: {:0.2%}'.format('Precision',precision))\n",
    "# recall: tp / (tp + fn)\n",
    "recall = (recall_score(y_test, y_pred)).astype('float64')\n",
    "print('{:>10}: {:0.2%}'.format('Recall',recall))\n",
    "# f1: 2 tp / (2 tp + fp + fn)\n",
    "f1 = (f1_score(y_test, y_pred)).astype('float64')\n",
    "print('{:>10}: {:0.2%}'.format('F1 score',f1))\n",
    "from sklearn.metrics import roc_curve, auc\n",
    "false_positive_rate, true_positive_rate, thresholds = roc_curve(y_test, y_pred)\n",
    "roc_auc = (auc(false_positive_rate, true_positive_rate)).astype('float64')\n",
    "print('{:>10}: {:0.2%}'.format('ROC score',roc_auc))\n",
    "\n",
    "acc = pd.read_csv(\"../data/external/accuracies.csv\", index_col=0)\n",
    "acc.at[accText, 'Accuracy'] = (accuracy)\n",
    "acc.at[accText, 'Precision'] = (precision)\n",
    "acc.at[accText, 'Recall'] = (recall)\n",
    "acc.at[accText, 'F1'] = (f1)\n",
    "acc.at[accText, 'ROC'] = (roc_auc)\n",
    "acc.to_csv(\"../data/external/accuracies.csv\")"
   ]
  },
  {
   "cell_type": "code",
   "execution_count": null,
   "metadata": {},
   "outputs": [],
   "source": [
    "# Making the confusion matrix\n",
    "print(\"\\nConfusion Matrix:\\n\")\n",
    "print(confusion_matrix(y_test, y_pred, labels=[1,0]))\n",
    "print(\"\\nClassification Report:\\n\")\n",
    "print(classification_report(y_test, y_pred))"
   ]
  },
  {
   "cell_type": "code",
   "execution_count": null,
   "metadata": {},
   "outputs": [],
   "source": [
    "cf_matrix=confusion_matrix(y_test, y_pred)\n",
    "group_names = ['True Neg','False Pos','False Neg','True Pos']\n",
    "group_counts = [\"{0:0.0f}\".format(value) for value in cf_matrix.flatten()]\n",
    "group_percentages = [\"{0:.2%}\".format(value) for value in\n",
    "                     cf_matrix.flatten()/np.sum(cf_matrix)]\n",
    "labels = [f\"{v1}\\n{v2}\\n{v3}\" for v1, v2, v3 in\n",
    "          zip(group_names,group_counts,group_percentages)]\n",
    "labels = np.asarray(labels).reshape(2,2)\n",
    "sns.heatmap(cf_matrix, annot=labels, fmt='', cmap='Blues')"
   ]
  }
 ],
 "metadata": {
  "kernelspec": {
   "display_name": "Python 3",
   "language": "python",
   "name": "python3"
  },
  "language_info": {
   "codemirror_mode": {
    "name": "ipython",
    "version": 3
   },
   "file_extension": ".py",
   "mimetype": "text/x-python",
   "name": "python",
   "nbconvert_exporter": "python",
   "pygments_lexer": "ipython3",
   "version": "3.7.6"
  }
 },
 "nbformat": 4,
 "nbformat_minor": 4
}
