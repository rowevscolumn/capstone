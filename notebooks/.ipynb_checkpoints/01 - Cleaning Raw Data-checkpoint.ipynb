{
 "cells": [
  {
   "cell_type": "markdown",
   "metadata": {},
   "source": [
    "# Data Cleaning, converting to prepared data set\n",
    "\n",
    "(https://www.kaggle.com/c/nfl-big-data-bowl-2020)\n",
    "\n",
    "The data that arrived is in one big csv formatted file, which contains 49 attributes and 682154 records, representing 31007 plays in 688 games. The opening lines of code are here to show the data, and look at some field info and data. For the most part, the columns are coded correctly, but some have to be changed. Also, it looks like we have some missing data that has to be addressed."
   ]
  },
  {
   "cell_type": "code",
   "execution_count": 1,
   "metadata": {},
   "outputs": [],
   "source": [
    "# All import insertions\n",
    "import numpy as np\n",
    "import pandas as pd\n",
    "import seaborn as sns\n",
    "from pandas import isnull\n",
    "from sklearn import preprocessing\n",
    "import os    # For file paths\n",
    "import re    # Regular Expressions\n",
    "\n",
    "import matplotlib.pyplot as plt\n",
    "%matplotlib inline\n",
    "\n",
    "import datetime as dt\n",
    "import time"
   ]
  },
  {
   "cell_type": "code",
   "execution_count": 2,
   "metadata": {},
   "outputs": [],
   "source": [
    "# Opening the original file\n",
    "df = pd.read_csv(\"../data/raw/train.csv\", low_memory=False)"
   ]
  },
  {
   "cell_type": "code",
   "execution_count": 3,
   "metadata": {},
   "outputs": [
    {
     "data": {
      "text/html": [
       "<div>\n",
       "<style scoped>\n",
       "    .dataframe tbody tr th:only-of-type {\n",
       "        vertical-align: middle;\n",
       "    }\n",
       "\n",
       "    .dataframe tbody tr th {\n",
       "        vertical-align: top;\n",
       "    }\n",
       "\n",
       "    .dataframe thead th {\n",
       "        text-align: right;\n",
       "    }\n",
       "</style>\n",
       "<table border=\"1\" class=\"dataframe\">\n",
       "  <thead>\n",
       "    <tr style=\"text-align: right;\">\n",
       "      <th></th>\n",
       "      <th>GameId</th>\n",
       "      <th>PlayId</th>\n",
       "      <th>Team</th>\n",
       "      <th>X</th>\n",
       "      <th>Y</th>\n",
       "      <th>S</th>\n",
       "      <th>A</th>\n",
       "      <th>Dis</th>\n",
       "      <th>Orientation</th>\n",
       "      <th>Dir</th>\n",
       "      <th>...</th>\n",
       "      <th>Week</th>\n",
       "      <th>Stadium</th>\n",
       "      <th>Location</th>\n",
       "      <th>StadiumType</th>\n",
       "      <th>Turf</th>\n",
       "      <th>GameWeather</th>\n",
       "      <th>Temperature</th>\n",
       "      <th>Humidity</th>\n",
       "      <th>WindSpeed</th>\n",
       "      <th>WindDirection</th>\n",
       "    </tr>\n",
       "  </thead>\n",
       "  <tbody>\n",
       "    <tr>\n",
       "      <th>0</th>\n",
       "      <td>2017090700</td>\n",
       "      <td>20170907000118</td>\n",
       "      <td>away</td>\n",
       "      <td>73.91</td>\n",
       "      <td>34.84</td>\n",
       "      <td>1.69</td>\n",
       "      <td>1.13</td>\n",
       "      <td>0.40</td>\n",
       "      <td>81.99</td>\n",
       "      <td>177.18</td>\n",
       "      <td>...</td>\n",
       "      <td>1</td>\n",
       "      <td>Gillette Stadium</td>\n",
       "      <td>Foxborough, MA</td>\n",
       "      <td>Outdoor</td>\n",
       "      <td>Field Turf</td>\n",
       "      <td>Clear and warm</td>\n",
       "      <td>63.0</td>\n",
       "      <td>77.0</td>\n",
       "      <td>8</td>\n",
       "      <td>SW</td>\n",
       "    </tr>\n",
       "    <tr>\n",
       "      <th>1</th>\n",
       "      <td>2017090700</td>\n",
       "      <td>20170907000118</td>\n",
       "      <td>away</td>\n",
       "      <td>74.67</td>\n",
       "      <td>32.64</td>\n",
       "      <td>0.42</td>\n",
       "      <td>1.35</td>\n",
       "      <td>0.01</td>\n",
       "      <td>27.61</td>\n",
       "      <td>198.70</td>\n",
       "      <td>...</td>\n",
       "      <td>1</td>\n",
       "      <td>Gillette Stadium</td>\n",
       "      <td>Foxborough, MA</td>\n",
       "      <td>Outdoor</td>\n",
       "      <td>Field Turf</td>\n",
       "      <td>Clear and warm</td>\n",
       "      <td>63.0</td>\n",
       "      <td>77.0</td>\n",
       "      <td>8</td>\n",
       "      <td>SW</td>\n",
       "    </tr>\n",
       "    <tr>\n",
       "      <th>2</th>\n",
       "      <td>2017090700</td>\n",
       "      <td>20170907000118</td>\n",
       "      <td>away</td>\n",
       "      <td>74.00</td>\n",
       "      <td>33.20</td>\n",
       "      <td>1.22</td>\n",
       "      <td>0.59</td>\n",
       "      <td>0.31</td>\n",
       "      <td>3.01</td>\n",
       "      <td>202.73</td>\n",
       "      <td>...</td>\n",
       "      <td>1</td>\n",
       "      <td>Gillette Stadium</td>\n",
       "      <td>Foxborough, MA</td>\n",
       "      <td>Outdoor</td>\n",
       "      <td>Field Turf</td>\n",
       "      <td>Clear and warm</td>\n",
       "      <td>63.0</td>\n",
       "      <td>77.0</td>\n",
       "      <td>8</td>\n",
       "      <td>SW</td>\n",
       "    </tr>\n",
       "    <tr>\n",
       "      <th>3</th>\n",
       "      <td>2017090700</td>\n",
       "      <td>20170907000118</td>\n",
       "      <td>away</td>\n",
       "      <td>71.46</td>\n",
       "      <td>27.70</td>\n",
       "      <td>0.42</td>\n",
       "      <td>0.54</td>\n",
       "      <td>0.02</td>\n",
       "      <td>359.77</td>\n",
       "      <td>105.64</td>\n",
       "      <td>...</td>\n",
       "      <td>1</td>\n",
       "      <td>Gillette Stadium</td>\n",
       "      <td>Foxborough, MA</td>\n",
       "      <td>Outdoor</td>\n",
       "      <td>Field Turf</td>\n",
       "      <td>Clear and warm</td>\n",
       "      <td>63.0</td>\n",
       "      <td>77.0</td>\n",
       "      <td>8</td>\n",
       "      <td>SW</td>\n",
       "    </tr>\n",
       "    <tr>\n",
       "      <th>4</th>\n",
       "      <td>2017090700</td>\n",
       "      <td>20170907000118</td>\n",
       "      <td>away</td>\n",
       "      <td>69.32</td>\n",
       "      <td>35.42</td>\n",
       "      <td>1.82</td>\n",
       "      <td>2.43</td>\n",
       "      <td>0.16</td>\n",
       "      <td>12.63</td>\n",
       "      <td>164.31</td>\n",
       "      <td>...</td>\n",
       "      <td>1</td>\n",
       "      <td>Gillette Stadium</td>\n",
       "      <td>Foxborough, MA</td>\n",
       "      <td>Outdoor</td>\n",
       "      <td>Field Turf</td>\n",
       "      <td>Clear and warm</td>\n",
       "      <td>63.0</td>\n",
       "      <td>77.0</td>\n",
       "      <td>8</td>\n",
       "      <td>SW</td>\n",
       "    </tr>\n",
       "  </tbody>\n",
       "</table>\n",
       "<p>5 rows × 49 columns</p>\n",
       "</div>"
      ],
      "text/plain": [
       "       GameId          PlayId  Team      X      Y     S     A   Dis  \\\n",
       "0  2017090700  20170907000118  away  73.91  34.84  1.69  1.13  0.40   \n",
       "1  2017090700  20170907000118  away  74.67  32.64  0.42  1.35  0.01   \n",
       "2  2017090700  20170907000118  away  74.00  33.20  1.22  0.59  0.31   \n",
       "3  2017090700  20170907000118  away  71.46  27.70  0.42  0.54  0.02   \n",
       "4  2017090700  20170907000118  away  69.32  35.42  1.82  2.43  0.16   \n",
       "\n",
       "   Orientation     Dir  ...  Week           Stadium        Location  \\\n",
       "0        81.99  177.18  ...     1  Gillette Stadium  Foxborough, MA   \n",
       "1        27.61  198.70  ...     1  Gillette Stadium  Foxborough, MA   \n",
       "2         3.01  202.73  ...     1  Gillette Stadium  Foxborough, MA   \n",
       "3       359.77  105.64  ...     1  Gillette Stadium  Foxborough, MA   \n",
       "4        12.63  164.31  ...     1  Gillette Stadium  Foxborough, MA   \n",
       "\n",
       "   StadiumType        Turf     GameWeather Temperature Humidity  WindSpeed  \\\n",
       "0      Outdoor  Field Turf  Clear and warm        63.0     77.0          8   \n",
       "1      Outdoor  Field Turf  Clear and warm        63.0     77.0          8   \n",
       "2      Outdoor  Field Turf  Clear and warm        63.0     77.0          8   \n",
       "3      Outdoor  Field Turf  Clear and warm        63.0     77.0          8   \n",
       "4      Outdoor  Field Turf  Clear and warm        63.0     77.0          8   \n",
       "\n",
       "   WindDirection  \n",
       "0             SW  \n",
       "1             SW  \n",
       "2             SW  \n",
       "3             SW  \n",
       "4             SW  \n",
       "\n",
       "[5 rows x 49 columns]"
      ]
     },
     "execution_count": 3,
     "metadata": {},
     "output_type": "execute_result"
    }
   ],
   "source": [
    "# A quick opening to look at the format of the data.\n",
    "df.head()"
   ]
  },
  {
   "cell_type": "code",
   "execution_count": 4,
   "metadata": {},
   "outputs": [
    {
     "data": {
      "text/plain": [
       "(682154, 49)"
      ]
     },
     "execution_count": 4,
     "metadata": {},
     "output_type": "execute_result"
    }
   ],
   "source": [
    "#Number of records in the dataframe\n",
    "df.shape"
   ]
  },
  {
   "cell_type": "code",
   "execution_count": 5,
   "metadata": {},
   "outputs": [
    {
     "data": {
      "text/plain": [
       "31007"
      ]
     },
     "execution_count": 5,
     "metadata": {},
     "output_type": "execute_result"
    }
   ],
   "source": [
    "# Number of unique plays in the data\n",
    "df['PlayId'].nunique()"
   ]
  },
  {
   "cell_type": "code",
   "execution_count": 6,
   "metadata": {},
   "outputs": [
    {
     "data": {
      "text/plain": [
       "688"
      ]
     },
     "execution_count": 6,
     "metadata": {},
     "output_type": "execute_result"
    }
   ],
   "source": [
    "# Number of unique games in the data\n",
    "df['GameId'].nunique()"
   ]
  },
  {
   "cell_type": "code",
   "execution_count": 7,
   "metadata": {},
   "outputs": [
    {
     "name": "stdout",
     "output_type": "stream",
     "text": [
      "2017: \n",
      "[ 1  2  3  4  5  6  7  8  9 10 11 12 13 14 15 16 17]\n",
      "2018: \n",
      "[ 1  2  3  4  5  6  7  8  9 10 11 12 13 14 15 16 17]\n",
      "2019: \n",
      "[ 1  2  3  4  5  6  7  8  9 10 11 12]\n"
     ]
    }
   ],
   "source": [
    "# Breaking down the week numbers so we know that breakdown. \n",
    "# It looks like we don't have a full season for 2019, but that shouldn't affect the data\n",
    "print(\"2017: \")\n",
    "print(df[df['Season'] == 2017]['Week'].unique())\n",
    "print(\"2018: \")\n",
    "print(df[df['Season'] == 2018]['Week'].unique())\n",
    "print(\"2019: \")\n",
    "print(df[df['Season'] == 2019]['Week'].unique())"
   ]
  },
  {
   "cell_type": "code",
   "execution_count": 8,
   "metadata": {
    "scrolled": false
   },
   "outputs": [
    {
     "name": "stdout",
     "output_type": "stream",
     "text": [
      "<class 'pandas.core.frame.DataFrame'>\n",
      "RangeIndex: 682154 entries, 0 to 682153\n",
      "Data columns (total 49 columns):\n",
      " #   Column                  Non-Null Count   Dtype  \n",
      "---  ------                  --------------   -----  \n",
      " 0   GameId                  682154 non-null  int64  \n",
      " 1   PlayId                  682154 non-null  int64  \n",
      " 2   Team                    682154 non-null  object \n",
      " 3   X                       682154 non-null  float64\n",
      " 4   Y                       682154 non-null  float64\n",
      " 5   S                       682154 non-null  float64\n",
      " 6   A                       682154 non-null  float64\n",
      " 7   Dis                     682154 non-null  float64\n",
      " 8   Orientation             682131 non-null  float64\n",
      " 9   Dir                     682126 non-null  float64\n",
      " 10  NflId                   682154 non-null  int64  \n",
      " 11  DisplayName             682154 non-null  object \n",
      " 12  JerseyNumber            682154 non-null  int64  \n",
      " 13  Season                  682154 non-null  int64  \n",
      " 14  YardLine                682154 non-null  int64  \n",
      " 15  Quarter                 682154 non-null  int64  \n",
      " 16  GameClock               682154 non-null  object \n",
      " 17  PossessionTeam          682154 non-null  object \n",
      " 18  Down                    682154 non-null  int64  \n",
      " 19  Distance                682154 non-null  int64  \n",
      " 20  FieldPosition           673552 non-null  object \n",
      " 21  HomeScoreBeforePlay     682154 non-null  int64  \n",
      " 22  VisitorScoreBeforePlay  682154 non-null  int64  \n",
      " 23  NflIdRusher             682154 non-null  int64  \n",
      " 24  OffenseFormation        682066 non-null  object \n",
      " 25  OffensePersonnel        682154 non-null  object \n",
      " 26  DefendersInTheBox       682132 non-null  float64\n",
      " 27  DefensePersonnel        682154 non-null  object \n",
      " 28  PlayDirection           682154 non-null  object \n",
      " 29  TimeHandoff             682154 non-null  object \n",
      " 30  TimeSnap                682154 non-null  object \n",
      " 31  Yards                   682154 non-null  int64  \n",
      " 32  PlayerHeight            682154 non-null  object \n",
      " 33  PlayerWeight            682154 non-null  int64  \n",
      " 34  PlayerBirthDate         682154 non-null  object \n",
      " 35  PlayerCollegeName       682154 non-null  object \n",
      " 36  Position                682154 non-null  object \n",
      " 37  HomeTeamAbbr            682154 non-null  object \n",
      " 38  VisitorTeamAbbr         682154 non-null  object \n",
      " 39  Week                    682154 non-null  int64  \n",
      " 40  Stadium                 682154 non-null  object \n",
      " 41  Location                682154 non-null  object \n",
      " 42  StadiumType             640464 non-null  object \n",
      " 43  Turf                    682154 non-null  object \n",
      " 44  GameWeather             621984 non-null  object \n",
      " 45  Temperature             618508 non-null  float64\n",
      " 46  Humidity                675994 non-null  float64\n",
      " 47  WindSpeed               590282 non-null  object \n",
      " 48  WindDirection           577478 non-null  object \n",
      "dtypes: float64(10), int64(15), object(24)\n",
      "memory usage: 255.0+ MB\n"
     ]
    }
   ],
   "source": [
    "df.info()"
   ]
  },
  {
   "cell_type": "code",
   "execution_count": 9,
   "metadata": {},
   "outputs": [
    {
     "data": {
      "text/html": [
       "<div>\n",
       "<style scoped>\n",
       "    .dataframe tbody tr th:only-of-type {\n",
       "        vertical-align: middle;\n",
       "    }\n",
       "\n",
       "    .dataframe tbody tr th {\n",
       "        vertical-align: top;\n",
       "    }\n",
       "\n",
       "    .dataframe thead th {\n",
       "        text-align: right;\n",
       "    }\n",
       "</style>\n",
       "<table border=\"1\" class=\"dataframe\">\n",
       "  <thead>\n",
       "    <tr style=\"text-align: right;\">\n",
       "      <th></th>\n",
       "      <th>count</th>\n",
       "      <th>mean</th>\n",
       "      <th>std</th>\n",
       "      <th>min</th>\n",
       "      <th>25%</th>\n",
       "      <th>50%</th>\n",
       "      <th>75%</th>\n",
       "      <th>max</th>\n",
       "    </tr>\n",
       "  </thead>\n",
       "  <tbody>\n",
       "    <tr>\n",
       "      <th>GameId</th>\n",
       "      <td>682154.0</td>\n",
       "      <td>2.017975e+09</td>\n",
       "      <td>7.844593e+05</td>\n",
       "      <td>2.017091e+09</td>\n",
       "      <td>2.017113e+09</td>\n",
       "      <td>2.018101e+09</td>\n",
       "      <td>2.019091e+09</td>\n",
       "      <td>2.019112e+09</td>\n",
       "    </tr>\n",
       "    <tr>\n",
       "      <th>PlayId</th>\n",
       "      <td>682154.0</td>\n",
       "      <td>2.017975e+13</td>\n",
       "      <td>7.844593e+09</td>\n",
       "      <td>2.017091e+13</td>\n",
       "      <td>2.017113e+13</td>\n",
       "      <td>2.018101e+13</td>\n",
       "      <td>2.019091e+13</td>\n",
       "      <td>2.019113e+13</td>\n",
       "    </tr>\n",
       "    <tr>\n",
       "      <th>X</th>\n",
       "      <td>682154.0</td>\n",
       "      <td>6.003686e+01</td>\n",
       "      <td>2.549931e+01</td>\n",
       "      <td>6.600000e-01</td>\n",
       "      <td>3.908000e+01</td>\n",
       "      <td>6.023000e+01</td>\n",
       "      <td>8.099000e+01</td>\n",
       "      <td>1.176500e+02</td>\n",
       "    </tr>\n",
       "    <tr>\n",
       "      <th>Y</th>\n",
       "      <td>682154.0</td>\n",
       "      <td>2.679146e+01</td>\n",
       "      <td>7.192919e+00</td>\n",
       "      <td>1.850000e+00</td>\n",
       "      <td>2.276000e+01</td>\n",
       "      <td>2.680000e+01</td>\n",
       "      <td>3.085000e+01</td>\n",
       "      <td>5.645000e+01</td>\n",
       "    </tr>\n",
       "    <tr>\n",
       "      <th>S</th>\n",
       "      <td>682154.0</td>\n",
       "      <td>2.634598e+00</td>\n",
       "      <td>1.404773e+00</td>\n",
       "      <td>0.000000e+00</td>\n",
       "      <td>1.520000e+00</td>\n",
       "      <td>2.510000e+00</td>\n",
       "      <td>3.620000e+00</td>\n",
       "      <td>9.410000e+00</td>\n",
       "    </tr>\n",
       "    <tr>\n",
       "      <th>A</th>\n",
       "      <td>682154.0</td>\n",
       "      <td>1.701739e+00</td>\n",
       "      <td>9.913802e-01</td>\n",
       "      <td>0.000000e+00</td>\n",
       "      <td>9.500000e-01</td>\n",
       "      <td>1.550000e+00</td>\n",
       "      <td>2.310000e+00</td>\n",
       "      <td>1.471000e+01</td>\n",
       "    </tr>\n",
       "    <tr>\n",
       "      <th>Dis</th>\n",
       "      <td>682154.0</td>\n",
       "      <td>2.781932e-01</td>\n",
       "      <td>1.452182e-01</td>\n",
       "      <td>0.000000e+00</td>\n",
       "      <td>1.600000e-01</td>\n",
       "      <td>2.700000e-01</td>\n",
       "      <td>3.900000e-01</td>\n",
       "      <td>1.390000e+00</td>\n",
       "    </tr>\n",
       "    <tr>\n",
       "      <th>Orientation</th>\n",
       "      <td>682131.0</td>\n",
       "      <td>1.799967e+02</td>\n",
       "      <td>1.027946e+02</td>\n",
       "      <td>0.000000e+00</td>\n",
       "      <td>9.006000e+01</td>\n",
       "      <td>1.796400e+02</td>\n",
       "      <td>2.697800e+02</td>\n",
       "      <td>3.600000e+02</td>\n",
       "    </tr>\n",
       "    <tr>\n",
       "      <th>Dir</th>\n",
       "      <td>682126.0</td>\n",
       "      <td>1.800406e+02</td>\n",
       "      <td>1.061895e+02</td>\n",
       "      <td>0.000000e+00</td>\n",
       "      <td>9.015000e+01</td>\n",
       "      <td>1.801800e+02</td>\n",
       "      <td>2.702600e+02</td>\n",
       "      <td>3.600000e+02</td>\n",
       "    </tr>\n",
       "    <tr>\n",
       "      <th>NflId</th>\n",
       "      <td>682154.0</td>\n",
       "      <td>2.369743e+06</td>\n",
       "      <td>6.053648e+05</td>\n",
       "      <td>2.220000e+02</td>\n",
       "      <td>2.532989e+06</td>\n",
       "      <td>2.550541e+06</td>\n",
       "      <td>2.556445e+06</td>\n",
       "      <td>2.563364e+06</td>\n",
       "    </tr>\n",
       "    <tr>\n",
       "      <th>JerseyNumber</th>\n",
       "      <td>682154.0</td>\n",
       "      <td>5.403480e+01</td>\n",
       "      <td>2.835869e+01</td>\n",
       "      <td>1.000000e+00</td>\n",
       "      <td>2.600000e+01</td>\n",
       "      <td>5.600000e+01</td>\n",
       "      <td>7.800000e+01</td>\n",
       "      <td>9.900000e+01</td>\n",
       "    </tr>\n",
       "    <tr>\n",
       "      <th>Season</th>\n",
       "      <td>682154.0</td>\n",
       "      <td>2.017869e+03</td>\n",
       "      <td>7.869712e-01</td>\n",
       "      <td>2.017000e+03</td>\n",
       "      <td>2.017000e+03</td>\n",
       "      <td>2.018000e+03</td>\n",
       "      <td>2.019000e+03</td>\n",
       "      <td>2.019000e+03</td>\n",
       "    </tr>\n",
       "    <tr>\n",
       "      <th>YardLine</th>\n",
       "      <td>682154.0</td>\n",
       "      <td>2.833747e+01</td>\n",
       "      <td>1.306565e+01</td>\n",
       "      <td>1.000000e+00</td>\n",
       "      <td>1.900000e+01</td>\n",
       "      <td>2.900000e+01</td>\n",
       "      <td>3.900000e+01</td>\n",
       "      <td>5.000000e+01</td>\n",
       "    </tr>\n",
       "    <tr>\n",
       "      <th>Quarter</th>\n",
       "      <td>682154.0</td>\n",
       "      <td>2.511336e+00</td>\n",
       "      <td>1.141062e+00</td>\n",
       "      <td>1.000000e+00</td>\n",
       "      <td>1.000000e+00</td>\n",
       "      <td>3.000000e+00</td>\n",
       "      <td>4.000000e+00</td>\n",
       "      <td>5.000000e+00</td>\n",
       "    </tr>\n",
       "    <tr>\n",
       "      <th>Down</th>\n",
       "      <td>682154.0</td>\n",
       "      <td>1.517270e+00</td>\n",
       "      <td>6.765500e-01</td>\n",
       "      <td>1.000000e+00</td>\n",
       "      <td>1.000000e+00</td>\n",
       "      <td>1.000000e+00</td>\n",
       "      <td>2.000000e+00</td>\n",
       "      <td>4.000000e+00</td>\n",
       "    </tr>\n",
       "    <tr>\n",
       "      <th>Distance</th>\n",
       "      <td>682154.0</td>\n",
       "      <td>8.319154e+00</td>\n",
       "      <td>3.818716e+00</td>\n",
       "      <td>1.000000e+00</td>\n",
       "      <td>6.000000e+00</td>\n",
       "      <td>1.000000e+01</td>\n",
       "      <td>1.000000e+01</td>\n",
       "      <td>4.000000e+01</td>\n",
       "    </tr>\n",
       "    <tr>\n",
       "      <th>HomeScoreBeforePlay</th>\n",
       "      <td>682154.0</td>\n",
       "      <td>1.104799e+01</td>\n",
       "      <td>1.009556e+01</td>\n",
       "      <td>0.000000e+00</td>\n",
       "      <td>3.000000e+00</td>\n",
       "      <td>1.000000e+01</td>\n",
       "      <td>1.700000e+01</td>\n",
       "      <td>5.700000e+01</td>\n",
       "    </tr>\n",
       "    <tr>\n",
       "      <th>VisitorScoreBeforePlay</th>\n",
       "      <td>682154.0</td>\n",
       "      <td>9.762570e+00</td>\n",
       "      <td>9.532945e+00</td>\n",
       "      <td>0.000000e+00</td>\n",
       "      <td>0.000000e+00</td>\n",
       "      <td>7.000000e+00</td>\n",
       "      <td>1.600000e+01</td>\n",
       "      <td>5.900000e+01</td>\n",
       "    </tr>\n",
       "    <tr>\n",
       "      <th>NflIdRusher</th>\n",
       "      <td>682154.0</td>\n",
       "      <td>2.446079e+06</td>\n",
       "      <td>4.833287e+05</td>\n",
       "      <td>2.340000e+02</td>\n",
       "      <td>2.540269e+06</td>\n",
       "      <td>2.555224e+06</td>\n",
       "      <td>2.558116e+06</td>\n",
       "      <td>2.563327e+06</td>\n",
       "    </tr>\n",
       "    <tr>\n",
       "      <th>DefendersInTheBox</th>\n",
       "      <td>682132.0</td>\n",
       "      <td>6.910340e+00</td>\n",
       "      <td>9.850654e-01</td>\n",
       "      <td>2.000000e+00</td>\n",
       "      <td>6.000000e+00</td>\n",
       "      <td>7.000000e+00</td>\n",
       "      <td>7.000000e+00</td>\n",
       "      <td>1.100000e+01</td>\n",
       "    </tr>\n",
       "    <tr>\n",
       "      <th>Yards</th>\n",
       "      <td>682154.0</td>\n",
       "      <td>4.227626e+00</td>\n",
       "      <td>6.449866e+00</td>\n",
       "      <td>-1.500000e+01</td>\n",
       "      <td>1.000000e+00</td>\n",
       "      <td>3.000000e+00</td>\n",
       "      <td>6.000000e+00</td>\n",
       "      <td>9.900000e+01</td>\n",
       "    </tr>\n",
       "    <tr>\n",
       "      <th>PlayerWeight</th>\n",
       "      <td>682154.0</td>\n",
       "      <td>2.534146e+02</td>\n",
       "      <td>4.846987e+01</td>\n",
       "      <td>1.530000e+02</td>\n",
       "      <td>2.100000e+02</td>\n",
       "      <td>2.450000e+02</td>\n",
       "      <td>3.050000e+02</td>\n",
       "      <td>3.800000e+02</td>\n",
       "    </tr>\n",
       "    <tr>\n",
       "      <th>Week</th>\n",
       "      <td>682154.0</td>\n",
       "      <td>8.401587e+00</td>\n",
       "      <td>4.808791e+00</td>\n",
       "      <td>1.000000e+00</td>\n",
       "      <td>4.000000e+00</td>\n",
       "      <td>8.000000e+00</td>\n",
       "      <td>1.200000e+01</td>\n",
       "      <td>1.700000e+01</td>\n",
       "    </tr>\n",
       "    <tr>\n",
       "      <th>Temperature</th>\n",
       "      <td>618508.0</td>\n",
       "      <td>6.201007e+01</td>\n",
       "      <td>1.707112e+01</td>\n",
       "      <td>9.000000e+00</td>\n",
       "      <td>5.000000e+01</td>\n",
       "      <td>6.400000e+01</td>\n",
       "      <td>7.500000e+01</td>\n",
       "      <td>9.700000e+01</td>\n",
       "    </tr>\n",
       "    <tr>\n",
       "      <th>Humidity</th>\n",
       "      <td>675994.0</td>\n",
       "      <td>5.474156e+01</td>\n",
       "      <td>2.514669e+01</td>\n",
       "      <td>0.000000e+00</td>\n",
       "      <td>4.300000e+01</td>\n",
       "      <td>5.900000e+01</td>\n",
       "      <td>7.100000e+01</td>\n",
       "      <td>1.000000e+02</td>\n",
       "    </tr>\n",
       "  </tbody>\n",
       "</table>\n",
       "</div>"
      ],
      "text/plain": [
       "                           count          mean           std           min  \\\n",
       "GameId                  682154.0  2.017975e+09  7.844593e+05  2.017091e+09   \n",
       "PlayId                  682154.0  2.017975e+13  7.844593e+09  2.017091e+13   \n",
       "X                       682154.0  6.003686e+01  2.549931e+01  6.600000e-01   \n",
       "Y                       682154.0  2.679146e+01  7.192919e+00  1.850000e+00   \n",
       "S                       682154.0  2.634598e+00  1.404773e+00  0.000000e+00   \n",
       "A                       682154.0  1.701739e+00  9.913802e-01  0.000000e+00   \n",
       "Dis                     682154.0  2.781932e-01  1.452182e-01  0.000000e+00   \n",
       "Orientation             682131.0  1.799967e+02  1.027946e+02  0.000000e+00   \n",
       "Dir                     682126.0  1.800406e+02  1.061895e+02  0.000000e+00   \n",
       "NflId                   682154.0  2.369743e+06  6.053648e+05  2.220000e+02   \n",
       "JerseyNumber            682154.0  5.403480e+01  2.835869e+01  1.000000e+00   \n",
       "Season                  682154.0  2.017869e+03  7.869712e-01  2.017000e+03   \n",
       "YardLine                682154.0  2.833747e+01  1.306565e+01  1.000000e+00   \n",
       "Quarter                 682154.0  2.511336e+00  1.141062e+00  1.000000e+00   \n",
       "Down                    682154.0  1.517270e+00  6.765500e-01  1.000000e+00   \n",
       "Distance                682154.0  8.319154e+00  3.818716e+00  1.000000e+00   \n",
       "HomeScoreBeforePlay     682154.0  1.104799e+01  1.009556e+01  0.000000e+00   \n",
       "VisitorScoreBeforePlay  682154.0  9.762570e+00  9.532945e+00  0.000000e+00   \n",
       "NflIdRusher             682154.0  2.446079e+06  4.833287e+05  2.340000e+02   \n",
       "DefendersInTheBox       682132.0  6.910340e+00  9.850654e-01  2.000000e+00   \n",
       "Yards                   682154.0  4.227626e+00  6.449866e+00 -1.500000e+01   \n",
       "PlayerWeight            682154.0  2.534146e+02  4.846987e+01  1.530000e+02   \n",
       "Week                    682154.0  8.401587e+00  4.808791e+00  1.000000e+00   \n",
       "Temperature             618508.0  6.201007e+01  1.707112e+01  9.000000e+00   \n",
       "Humidity                675994.0  5.474156e+01  2.514669e+01  0.000000e+00   \n",
       "\n",
       "                                 25%           50%           75%           max  \n",
       "GameId                  2.017113e+09  2.018101e+09  2.019091e+09  2.019112e+09  \n",
       "PlayId                  2.017113e+13  2.018101e+13  2.019091e+13  2.019113e+13  \n",
       "X                       3.908000e+01  6.023000e+01  8.099000e+01  1.176500e+02  \n",
       "Y                       2.276000e+01  2.680000e+01  3.085000e+01  5.645000e+01  \n",
       "S                       1.520000e+00  2.510000e+00  3.620000e+00  9.410000e+00  \n",
       "A                       9.500000e-01  1.550000e+00  2.310000e+00  1.471000e+01  \n",
       "Dis                     1.600000e-01  2.700000e-01  3.900000e-01  1.390000e+00  \n",
       "Orientation             9.006000e+01  1.796400e+02  2.697800e+02  3.600000e+02  \n",
       "Dir                     9.015000e+01  1.801800e+02  2.702600e+02  3.600000e+02  \n",
       "NflId                   2.532989e+06  2.550541e+06  2.556445e+06  2.563364e+06  \n",
       "JerseyNumber            2.600000e+01  5.600000e+01  7.800000e+01  9.900000e+01  \n",
       "Season                  2.017000e+03  2.018000e+03  2.019000e+03  2.019000e+03  \n",
       "YardLine                1.900000e+01  2.900000e+01  3.900000e+01  5.000000e+01  \n",
       "Quarter                 1.000000e+00  3.000000e+00  4.000000e+00  5.000000e+00  \n",
       "Down                    1.000000e+00  1.000000e+00  2.000000e+00  4.000000e+00  \n",
       "Distance                6.000000e+00  1.000000e+01  1.000000e+01  4.000000e+01  \n",
       "HomeScoreBeforePlay     3.000000e+00  1.000000e+01  1.700000e+01  5.700000e+01  \n",
       "VisitorScoreBeforePlay  0.000000e+00  7.000000e+00  1.600000e+01  5.900000e+01  \n",
       "NflIdRusher             2.540269e+06  2.555224e+06  2.558116e+06  2.563327e+06  \n",
       "DefendersInTheBox       6.000000e+00  7.000000e+00  7.000000e+00  1.100000e+01  \n",
       "Yards                   1.000000e+00  3.000000e+00  6.000000e+00  9.900000e+01  \n",
       "PlayerWeight            2.100000e+02  2.450000e+02  3.050000e+02  3.800000e+02  \n",
       "Week                    4.000000e+00  8.000000e+00  1.200000e+01  1.700000e+01  \n",
       "Temperature             5.000000e+01  6.400000e+01  7.500000e+01  9.700000e+01  \n",
       "Humidity                4.300000e+01  5.900000e+01  7.100000e+01  1.000000e+02  "
      ]
     },
     "execution_count": 9,
     "metadata": {},
     "output_type": "execute_result"
    }
   ],
   "source": [
    "df.describe().transpose()"
   ]
  },
  {
   "cell_type": "markdown",
   "metadata": {},
   "source": [
    "## Creating the new predictor variable\n",
    "The data came with a predictor variable in the number of yards collected. I wanted to create a new predictor variable for this study, so I created the binary column of whether or not the play made a first down or not. For this, if the number of yards gained is greater than, or equal to the number yards needed to get the first down, the result is a first down success (1), otherwise, it's marked as a fail (0)"
   ]
  },
  {
   "cell_type": "code",
   "execution_count": 10,
   "metadata": {
    "scrolled": true
   },
   "outputs": [
    {
     "data": {
      "text/plain": [
       "count    682154.000000\n",
       "mean          4.227626\n",
       "std           6.449866\n",
       "min         -15.000000\n",
       "25%           1.000000\n",
       "50%           3.000000\n",
       "75%           6.000000\n",
       "max          99.000000\n",
       "Name: Yards, dtype: float64"
      ]
     },
     "execution_count": 10,
     "metadata": {},
     "output_type": "execute_result"
    }
   ],
   "source": [
    "# The original predictor variable\n",
    "df['Yards'].describe()"
   ]
  },
  {
   "cell_type": "code",
   "execution_count": 11,
   "metadata": {},
   "outputs": [],
   "source": [
    "# Add the column if the first down was met, new predictor variable\n",
    "df['isFirstDown'] = np.where(df['Distance']<=df['Yards'], 1, 0)"
   ]
  },
  {
   "cell_type": "code",
   "execution_count": 12,
   "metadata": {},
   "outputs": [
    {
     "data": {
      "text/html": [
       "<div>\n",
       "<style scoped>\n",
       "    .dataframe tbody tr th:only-of-type {\n",
       "        vertical-align: middle;\n",
       "    }\n",
       "\n",
       "    .dataframe tbody tr th {\n",
       "        vertical-align: top;\n",
       "    }\n",
       "\n",
       "    .dataframe thead th {\n",
       "        text-align: right;\n",
       "    }\n",
       "</style>\n",
       "<table border=\"1\" class=\"dataframe\">\n",
       "  <thead>\n",
       "    <tr style=\"text-align: right;\">\n",
       "      <th></th>\n",
       "      <th>Down</th>\n",
       "      <th>Distance</th>\n",
       "      <th>Yards</th>\n",
       "      <th>isFirstDown</th>\n",
       "    </tr>\n",
       "  </thead>\n",
       "  <tbody>\n",
       "    <tr>\n",
       "      <th>348444</th>\n",
       "      <td>2</td>\n",
       "      <td>26</td>\n",
       "      <td>6</td>\n",
       "      <td>0</td>\n",
       "    </tr>\n",
       "    <tr>\n",
       "      <th>257609</th>\n",
       "      <td>2</td>\n",
       "      <td>6</td>\n",
       "      <td>3</td>\n",
       "      <td>0</td>\n",
       "    </tr>\n",
       "    <tr>\n",
       "      <th>598402</th>\n",
       "      <td>2</td>\n",
       "      <td>10</td>\n",
       "      <td>4</td>\n",
       "      <td>0</td>\n",
       "    </tr>\n",
       "    <tr>\n",
       "      <th>169077</th>\n",
       "      <td>1</td>\n",
       "      <td>10</td>\n",
       "      <td>0</td>\n",
       "      <td>0</td>\n",
       "    </tr>\n",
       "    <tr>\n",
       "      <th>297095</th>\n",
       "      <td>1</td>\n",
       "      <td>14</td>\n",
       "      <td>0</td>\n",
       "      <td>0</td>\n",
       "    </tr>\n",
       "    <tr>\n",
       "      <th>365572</th>\n",
       "      <td>1</td>\n",
       "      <td>10</td>\n",
       "      <td>14</td>\n",
       "      <td>1</td>\n",
       "    </tr>\n",
       "    <tr>\n",
       "      <th>397421</th>\n",
       "      <td>2</td>\n",
       "      <td>5</td>\n",
       "      <td>23</td>\n",
       "      <td>1</td>\n",
       "    </tr>\n",
       "    <tr>\n",
       "      <th>477100</th>\n",
       "      <td>1</td>\n",
       "      <td>10</td>\n",
       "      <td>3</td>\n",
       "      <td>0</td>\n",
       "    </tr>\n",
       "    <tr>\n",
       "      <th>365563</th>\n",
       "      <td>1</td>\n",
       "      <td>10</td>\n",
       "      <td>14</td>\n",
       "      <td>1</td>\n",
       "    </tr>\n",
       "    <tr>\n",
       "      <th>352907</th>\n",
       "      <td>3</td>\n",
       "      <td>1</td>\n",
       "      <td>1</td>\n",
       "      <td>1</td>\n",
       "    </tr>\n",
       "    <tr>\n",
       "      <th>676390</th>\n",
       "      <td>1</td>\n",
       "      <td>10</td>\n",
       "      <td>4</td>\n",
       "      <td>0</td>\n",
       "    </tr>\n",
       "    <tr>\n",
       "      <th>175966</th>\n",
       "      <td>1</td>\n",
       "      <td>10</td>\n",
       "      <td>0</td>\n",
       "      <td>0</td>\n",
       "    </tr>\n",
       "    <tr>\n",
       "      <th>393340</th>\n",
       "      <td>4</td>\n",
       "      <td>1</td>\n",
       "      <td>4</td>\n",
       "      <td>1</td>\n",
       "    </tr>\n",
       "    <tr>\n",
       "      <th>456312</th>\n",
       "      <td>2</td>\n",
       "      <td>7</td>\n",
       "      <td>8</td>\n",
       "      <td>1</td>\n",
       "    </tr>\n",
       "    <tr>\n",
       "      <th>191423</th>\n",
       "      <td>2</td>\n",
       "      <td>3</td>\n",
       "      <td>3</td>\n",
       "      <td>1</td>\n",
       "    </tr>\n",
       "    <tr>\n",
       "      <th>510921</th>\n",
       "      <td>2</td>\n",
       "      <td>17</td>\n",
       "      <td>12</td>\n",
       "      <td>0</td>\n",
       "    </tr>\n",
       "    <tr>\n",
       "      <th>224283</th>\n",
       "      <td>2</td>\n",
       "      <td>9</td>\n",
       "      <td>5</td>\n",
       "      <td>0</td>\n",
       "    </tr>\n",
       "    <tr>\n",
       "      <th>199123</th>\n",
       "      <td>1</td>\n",
       "      <td>10</td>\n",
       "      <td>5</td>\n",
       "      <td>0</td>\n",
       "    </tr>\n",
       "    <tr>\n",
       "      <th>252095</th>\n",
       "      <td>2</td>\n",
       "      <td>5</td>\n",
       "      <td>1</td>\n",
       "      <td>0</td>\n",
       "    </tr>\n",
       "    <tr>\n",
       "      <th>505503</th>\n",
       "      <td>1</td>\n",
       "      <td>10</td>\n",
       "      <td>9</td>\n",
       "      <td>0</td>\n",
       "    </tr>\n",
       "  </tbody>\n",
       "</table>\n",
       "</div>"
      ],
      "text/plain": [
       "        Down  Distance  Yards  isFirstDown\n",
       "348444     2        26      6            0\n",
       "257609     2         6      3            0\n",
       "598402     2        10      4            0\n",
       "169077     1        10      0            0\n",
       "297095     1        14      0            0\n",
       "365572     1        10     14            1\n",
       "397421     2         5     23            1\n",
       "477100     1        10      3            0\n",
       "365563     1        10     14            1\n",
       "352907     3         1      1            1\n",
       "676390     1        10      4            0\n",
       "175966     1        10      0            0\n",
       "393340     4         1      4            1\n",
       "456312     2         7      8            1\n",
       "191423     2         3      3            1\n",
       "510921     2        17     12            0\n",
       "224283     2         9      5            0\n",
       "199123     1        10      5            0\n",
       "252095     2         5      1            0\n",
       "505503     1        10      9            0"
      ]
     },
     "execution_count": 12,
     "metadata": {},
     "output_type": "execute_result"
    }
   ],
   "source": [
    "# Grab 20 random records to test the new predictive variable\n",
    "df[['Down', 'Distance', 'Yards', 'isFirstDown']].sample(n=20, random_state=52)"
   ]
  },
  {
   "cell_type": "markdown",
   "metadata": {},
   "source": [
    "## Fixing the Wind Speed and Wind Direction fields\n",
    "The only real fields that needs some extended fixing was the Wind Speed and the Wind Direction. The data collected was transposed in certain scenarios, so it needs to be adjusted before we do anything else. Some columns have the wind direction in compass notation in the wind speed column, so to fix this, we got an index list of all the rows that have compass directions and swapped fields. This looked to fix the problem."
   ]
  },
  {
   "cell_type": "code",
   "execution_count": 13,
   "metadata": {
    "scrolled": false
   },
   "outputs": [
    {
     "data": {
      "text/plain": [
       "array(['8', '6', '10', '9', '11', nan, '7', '5', '2', '12', '1', '3', '4',\n",
       "       '13', '0', 'SSW', '14', '15', '17', '18', '16', '11-17', '23',\n",
       "       '14-23', '13 MPH', '24', '12-22', '4 MPh', '15 gusts up to 25',\n",
       "       '10MPH', '10mph', '22', 'E', '7 MPH', 'Calm', '6 mph', '19', 'SE',\n",
       "       '20', '10-20', '12mph', '6mph', '9mph', 'SSE', '14 Gusting to 24',\n",
       "       '6 mph, Gusts to 10', '2 mph, gusts to 5', '12 mph',\n",
       "       '9 mph, gusts to 13', '10 mph, gusts to 15'], dtype=object)"
      ]
     },
     "execution_count": 13,
     "metadata": {},
     "output_type": "execute_result"
    }
   ],
   "source": [
    "df['WindSpeed'].unique()"
   ]
  },
  {
   "cell_type": "code",
   "execution_count": 14,
   "metadata": {},
   "outputs": [],
   "source": [
    "# Fixing the fields that are in the wrong columns\n",
    "from itertools import compress\n",
    "dfindex = df['WindSpeed'].str.contains(\"[NESW]+\", regex=True, na=False)\n",
    "dfres = list(compress(range(len(dfindex)), dfindex)) "
   ]
  },
  {
   "cell_type": "code",
   "execution_count": 15,
   "metadata": {},
   "outputs": [],
   "source": [
    "# Swap the incorrect fields\n",
    "for (k) in dfres:\n",
    "    ws = df.iloc[k]['WindDirection']\n",
    "    wd = df.iloc[k]['WindSpeed']\n",
    "    df.at[k, 'WindDirection'] = wd\n",
    "    df.at[k, 'WindSpeed'] = ws"
   ]
  },
  {
   "cell_type": "code",
   "execution_count": 16,
   "metadata": {},
   "outputs": [
    {
     "data": {
      "text/plain": [
       "array(['8', '6', '10', '9', '11', nan, '7', '5', '2', '12', '1', '3', '4',\n",
       "       '13', '0', '14', '15', '17', '18', '16', '11-17', '23', '14-23',\n",
       "       '13 MPH', '24', '12-22', '4 MPh', '15 gusts up to 25', '10MPH',\n",
       "       '10mph', '22', '7 MPH', 'Calm', '6 mph', '19', '20', '10-20',\n",
       "       '12mph', '6mph', '9mph', '14 Gusting to 24', '6 mph, Gusts to 10',\n",
       "       '2 mph, gusts to 5', '12 mph', '9 mph, gusts to 13',\n",
       "       '10 mph, gusts to 15'], dtype=object)"
      ]
     },
     "execution_count": 16,
     "metadata": {},
     "output_type": "execute_result"
    }
   ],
   "source": [
    "df['WindSpeed'].unique()"
   ]
  },
  {
   "cell_type": "code",
   "execution_count": 17,
   "metadata": {},
   "outputs": [],
   "source": [
    "# Filling the missing fields\n",
    "df['WindSpeed']=df['WindSpeed'].fillna(0)\n",
    "df['WindDirection']=df['WindDirection'].fillna('No Wind')"
   ]
  },
  {
   "cell_type": "code",
   "execution_count": 18,
   "metadata": {},
   "outputs": [],
   "source": [
    "# Correcting the fields that have spare texts\n",
    "df['WindSpeed'].replace(to_replace=\"^[\\D]*(\\d+).*$\", value=r\"\\1\", regex=True, inplace=True)\n",
    "df['WindSpeed'].replace(to_replace=\"Calm\", value=r\"0\", regex=True, inplace=True)"
   ]
  },
  {
   "cell_type": "code",
   "execution_count": 19,
   "metadata": {},
   "outputs": [
    {
     "data": {
      "text/plain": [
       "array(['8', '6', '10', '9', '11', 0, '7', '5', '2', '12', '1', '3', '4',\n",
       "       '13', '0', '14', '15', '17', '18', '16', '23', '24', '22', '19',\n",
       "       '20'], dtype=object)"
      ]
     },
     "execution_count": 19,
     "metadata": {},
     "output_type": "execute_result"
    }
   ],
   "source": [
    "df['WindSpeed'].unique()"
   ]
  },
  {
   "cell_type": "markdown",
   "metadata": {},
   "source": [
    "## Fixing the timestamps as date types\n",
    "The Majority of the fields were correctly labeled as integeres, floats and strings, but there are several date fields that need to be changed before we continue."
   ]
  },
  {
   "cell_type": "code",
   "execution_count": 20,
   "metadata": {
    "scrolled": false
   },
   "outputs": [
    {
     "name": "stdout",
     "output_type": "stream",
     "text": [
      "<class 'pandas.core.frame.DataFrame'>\n",
      "RangeIndex: 682154 entries, 0 to 682153\n",
      "Data columns (total 50 columns):\n",
      " #   Column                  Non-Null Count   Dtype         \n",
      "---  ------                  --------------   -----         \n",
      " 0   GameId                  682154 non-null  int64         \n",
      " 1   PlayId                  682154 non-null  int64         \n",
      " 2   Team                    682154 non-null  object        \n",
      " 3   X                       682154 non-null  float64       \n",
      " 4   Y                       682154 non-null  float64       \n",
      " 5   S                       682154 non-null  float64       \n",
      " 6   A                       682154 non-null  float64       \n",
      " 7   Dis                     682154 non-null  float64       \n",
      " 8   Orientation             682131 non-null  float64       \n",
      " 9   Dir                     682126 non-null  float64       \n",
      " 10  NflId                   682154 non-null  int64         \n",
      " 11  DisplayName             682154 non-null  object        \n",
      " 12  JerseyNumber            682154 non-null  int64         \n",
      " 13  Season                  682154 non-null  int64         \n",
      " 14  YardLine                682154 non-null  int64         \n",
      " 15  Quarter                 682154 non-null  int64         \n",
      " 16  GameClock               682154 non-null  datetime64[ns]\n",
      " 17  PossessionTeam          682154 non-null  object        \n",
      " 18  Down                    682154 non-null  int64         \n",
      " 19  Distance                682154 non-null  int64         \n",
      " 20  FieldPosition           673552 non-null  object        \n",
      " 21  HomeScoreBeforePlay     682154 non-null  int64         \n",
      " 22  VisitorScoreBeforePlay  682154 non-null  int64         \n",
      " 23  NflIdRusher             682154 non-null  int64         \n",
      " 24  OffenseFormation        682066 non-null  object        \n",
      " 25  OffensePersonnel        682154 non-null  object        \n",
      " 26  DefendersInTheBox       682132 non-null  float64       \n",
      " 27  DefensePersonnel        682154 non-null  object        \n",
      " 28  PlayDirection           682154 non-null  object        \n",
      " 29  TimeHandoff             682154 non-null  datetime64[ns]\n",
      " 30  TimeSnap                682154 non-null  datetime64[ns]\n",
      " 31  Yards                   682154 non-null  int64         \n",
      " 32  PlayerHeight            682154 non-null  object        \n",
      " 33  PlayerWeight            682154 non-null  int64         \n",
      " 34  PlayerBirthDate         682154 non-null  datetime64[ns]\n",
      " 35  PlayerCollegeName       682154 non-null  object        \n",
      " 36  Position                682154 non-null  object        \n",
      " 37  HomeTeamAbbr            682154 non-null  object        \n",
      " 38  VisitorTeamAbbr         682154 non-null  object        \n",
      " 39  Week                    682154 non-null  int64         \n",
      " 40  Stadium                 682154 non-null  object        \n",
      " 41  Location                682154 non-null  object        \n",
      " 42  StadiumType             640464 non-null  object        \n",
      " 43  Turf                    682154 non-null  object        \n",
      " 44  GameWeather             621984 non-null  object        \n",
      " 45  Temperature             618508 non-null  float64       \n",
      " 46  Humidity                675994 non-null  float64       \n",
      " 47  WindSpeed               682154 non-null  object        \n",
      " 48  WindDirection           682154 non-null  object        \n",
      " 49  isFirstDown             682154 non-null  int32         \n",
      "dtypes: datetime64[ns](4), float64(10), int32(1), int64(15), object(20)\n",
      "memory usage: 257.6+ MB\n"
     ]
    }
   ],
   "source": [
    "df['TimeHandoff'] = df['TimeHandoff'].astype('datetime64')\n",
    "df['TimeSnap'] = df['TimeSnap'].astype('datetime64')\n",
    "df['PlayerBirthDate'] = df['PlayerBirthDate'].astype('datetime64')\n",
    "df['GameClock'] = df['GameClock'].astype('datetime64')\n",
    "\n",
    "df.info() # .dtypes "
   ]
  },
  {
   "cell_type": "code",
   "execution_count": 21,
   "metadata": {},
   "outputs": [],
   "source": [
    "#df['GameClock'].head()"
   ]
  },
  {
   "cell_type": "markdown",
   "metadata": {},
   "source": [
    "## Creating a numerical field for home/away\n",
    "The home and away column is text, so I made it into a binary column"
   ]
  },
  {
   "cell_type": "code",
   "execution_count": 22,
   "metadata": {},
   "outputs": [],
   "source": [
    "df.insert(df.columns.get_loc('Team') + 1, 'isHomeTeam', np.where(df['Team'] == 'home', 1, 0 ))\n",
    "#df[['Team','isHomeTeam']].head(22)"
   ]
  },
  {
   "cell_type": "markdown",
   "metadata": {},
   "source": [
    "## Fixing the abbreviated team names\n",
    "For the team abbriviations, some teams had more than one listed in some columns, so this was normalized manually to make sure the team name abbreviations are consistent across the board."
   ]
  },
  {
   "cell_type": "code",
   "execution_count": 23,
   "metadata": {},
   "outputs": [
    {
     "data": {
      "text/plain": [
       "array(['ARI', 'ATL', 'BAL', 'BUF', 'CAR', 'CHI', 'CIN', 'CLE', 'DAL',\n",
       "       'DEN', 'DET', 'GB', 'HOU', 'IND', 'JAX', 'KC', 'LA', 'LAC', 'MIA',\n",
       "       'MIN', 'NE', 'NO', 'NYG', 'NYJ', 'OAK', 'PHI', 'PIT', 'SEA', 'SF',\n",
       "       'TB', 'TEN', 'WAS'], dtype=object)"
      ]
     },
     "execution_count": 23,
     "metadata": {},
     "output_type": "execute_result"
    }
   ],
   "source": [
    "df['HomeTeamAbbr'].sort_values().unique()"
   ]
  },
  {
   "cell_type": "code",
   "execution_count": 24,
   "metadata": {},
   "outputs": [
    {
     "data": {
      "text/plain": [
       "array(['ARI', 'ATL', 'BAL', 'BUF', 'CAR', 'CHI', 'CIN', 'CLE', 'DAL',\n",
       "       'DEN', 'DET', 'GB', 'HOU', 'IND', 'JAX', 'KC', 'LA', 'LAC', 'MIA',\n",
       "       'MIN', 'Midfield', 'NE', 'NO', 'NYG', 'NYJ', 'OAK', 'PHI', 'PIT',\n",
       "       'SEA', 'SF', 'TB', 'TEN', 'WAS'], dtype=object)"
      ]
     },
     "execution_count": 24,
     "metadata": {},
     "output_type": "execute_result"
    }
   ],
   "source": [
    "# Fixing the abbreviations, some of them differed from the other\n",
    "df['FieldPosition']=df['FieldPosition'].fillna('Midfield')\n",
    "df['FieldPosition']=df['FieldPosition'].replace('ARZ','ARI')\n",
    "df['FieldPosition']=df['FieldPosition'].replace('BLT','BAL')\n",
    "df['FieldPosition']=df['FieldPosition'].replace('CLV','CLE')\n",
    "df['FieldPosition']=df['FieldPosition'].replace('HST','HOU')\n",
    "\n",
    "df['FieldPosition'].sort_values().unique()"
   ]
  },
  {
   "cell_type": "code",
   "execution_count": 25,
   "metadata": {},
   "outputs": [
    {
     "data": {
      "text/plain": [
       "array(['ARI', 'ATL', 'BAL', 'BUF', 'CAR', 'CHI', 'CIN', 'CLE', 'DAL',\n",
       "       'DEN', 'DET', 'GB', 'HOU', 'IND', 'JAX', 'KC', 'LA', 'LAC', 'MIA',\n",
       "       'MIN', 'NE', 'NO', 'NYG', 'NYJ', 'OAK', 'PHI', 'PIT', 'SEA', 'SF',\n",
       "       'TB', 'TEN', 'WAS'], dtype=object)"
      ]
     },
     "execution_count": 25,
     "metadata": {},
     "output_type": "execute_result"
    }
   ],
   "source": [
    "df['HomeTeamAbbr'].sort_values().unique()"
   ]
  },
  {
   "cell_type": "code",
   "execution_count": 26,
   "metadata": {
    "scrolled": true
   },
   "outputs": [
    {
     "data": {
      "text/plain": [
       "array(['ARI', 'ATL', 'BAL', 'BUF', 'CAR', 'CHI', 'CIN', 'CLE', 'DAL',\n",
       "       'DEN', 'DET', 'GB', 'HOU', 'IND', 'JAX', 'KC', 'LA', 'LAC', 'MIA',\n",
       "       'MIN', 'NE', 'NO', 'NYG', 'NYJ', 'OAK', 'PHI', 'PIT', 'SEA', 'SF',\n",
       "       'TB', 'TEN', 'WAS'], dtype=object)"
      ]
     },
     "execution_count": 26,
     "metadata": {},
     "output_type": "execute_result"
    }
   ],
   "source": [
    "df['VisitorTeamAbbr'].sort_values().unique()"
   ]
  },
  {
   "cell_type": "code",
   "execution_count": 27,
   "metadata": {},
   "outputs": [
    {
     "data": {
      "text/plain": [
       "array(['ARI', 'ATL', 'BAL', 'BUF', 'CAR', 'CHI', 'CIN', 'CLE', 'DAL',\n",
       "       'DEN', 'DET', 'GB', 'HOU', 'IND', 'JAX', 'KC', 'LA', 'LAC', 'MIA',\n",
       "       'MIN', 'NE', 'NO', 'NYG', 'NYJ', 'OAK', 'PHI', 'PIT', 'SEA', 'SF',\n",
       "       'TB', 'TEN', 'WAS'], dtype=object)"
      ]
     },
     "execution_count": 27,
     "metadata": {},
     "output_type": "execute_result"
    }
   ],
   "source": [
    "# Fixing the abbreviations, some of them differed from the other\n",
    "df['PossessionTeam']=df['PossessionTeam'].replace('ARZ','ARI')\n",
    "df['PossessionTeam']=df['PossessionTeam'].replace('BLT','BAL')\n",
    "df['PossessionTeam']=df['PossessionTeam'].replace('CLV','CLE')\n",
    "df['PossessionTeam']=df['PossessionTeam'].replace('HST','HOU')\n",
    "\n",
    "df['PossessionTeam'].sort_values().unique()"
   ]
  },
  {
   "cell_type": "code",
   "execution_count": 28,
   "metadata": {
    "scrolled": true
   },
   "outputs": [],
   "source": [
    "teamabtxt=df['HomeTeamAbbr'].sort_values().unique()\n",
    "dctTeamab={}\n",
    "cnt=1\n",
    "for x in teamabtxt:\n",
    "    dctTeamab[x]=cnt\n",
    "    cnt=cnt+1\n",
    "\n",
    "df['FieldPosition']=df['FieldPosition'].fillna('Midfield')\n",
    "dctTeamab['Midfield']=0 #Mid-field\n",
    "\n",
    "# Populate the numerical fields\n",
    "df.insert(df.columns.get_loc('FieldPosition') + 1, 'FieldPositionCode', df['FieldPosition'].map(lambda x: dctTeamab[x]) )\n",
    "df.insert(df.columns.get_loc('HomeTeamAbbr') + 1, 'HomeTeamAbbrCode', df['HomeTeamAbbr'].map(lambda x: dctTeamab[x]) )\n",
    "df.insert(df.columns.get_loc('VisitorTeamAbbr') + 1, 'VisitorTeamAbbrCode', df['VisitorTeamAbbr'].map(lambda x: dctTeamab[x]) )\n",
    "df.insert(df.columns.get_loc('PossessionTeam') + 1, 'PossessionTeamAbbrCode', df['PossessionTeam'].map(lambda x: dctTeamab[x]) )"
   ]
  },
  {
   "cell_type": "markdown",
   "metadata": {},
   "source": [
    "## Calculating the number of yards to the end zone, based on the yardline and which team has the bowl\n",
    "A new attribute is being created called the Yards to Touchdown. It helps clarify how many yards are needed for the touchdown, instead of using the position field, which has the location and you need which team has the ball. So for example, if the team is 20 yards from the end zone, the Field position should read 20, which is correct. But if the possessing team has 60 yards to go, the field position would read 40, because at yard markers displayed go descending from midfield (50 yards between each end zone). "
   ]
  },
  {
   "cell_type": "code",
   "execution_count": 29,
   "metadata": {},
   "outputs": [],
   "source": [
    "df.insert(df.columns.get_loc('Yards') + 1, 'YardsToTouchdown', np.NaN )"
   ]
  },
  {
   "cell_type": "code",
   "execution_count": 30,
   "metadata": {},
   "outputs": [],
   "source": [
    "df['YardsToTouchdown'] = np.where( df['PossessionTeam'] == df['FieldPosition'], (50 + (50 - df['YardLine'])), df['YardLine'])"
   ]
  },
  {
   "cell_type": "code",
   "execution_count": 31,
   "metadata": {},
   "outputs": [
    {
     "data": {
      "text/plain": [
       "array([35, 43,  2, 25, 29, 19, 10, 50,  9, 30, 12,  8, 45, 18, 22, 48, 36,\n",
       "       20, 11,  7, 23, 37, 40,  4, 28, 46, 14,  1,  5, 13, 15, 49, 21, 42,\n",
       "       33, 32, 34, 31, 41, 38, 17, 47, 26,  6, 44, 39, 24, 16,  3, 27],\n",
       "      dtype=int64)"
      ]
     },
     "execution_count": 31,
     "metadata": {},
     "output_type": "execute_result"
    }
   ],
   "source": [
    "df['YardLine'].unique()"
   ]
  },
  {
   "cell_type": "code",
   "execution_count": 32,
   "metadata": {},
   "outputs": [
    {
     "data": {
      "text/plain": [
       "array([ 1,  2,  3,  4,  5,  6,  7,  8,  9, 10, 11, 12, 13, 14, 15, 16, 17,\n",
       "       18, 19, 20, 21, 22, 23, 24, 25, 26, 27, 28, 29, 30, 31, 32, 33, 34,\n",
       "       35, 36, 37, 38, 39, 40, 41, 42, 43, 44, 45, 46, 47, 48, 49, 50, 51,\n",
       "       52, 53, 54, 55, 56, 57, 58, 59, 60, 61, 62, 63, 64, 65, 66, 67, 68,\n",
       "       69, 70, 71, 72, 73, 74, 75, 76, 77, 78, 79, 80, 81, 82, 83, 84, 85,\n",
       "       86, 87, 88, 89, 90, 91, 92, 93, 94, 95, 96, 97, 98, 99],\n",
       "      dtype=int64)"
      ]
     },
     "execution_count": 32,
     "metadata": {},
     "output_type": "execute_result"
    }
   ],
   "source": [
    "df['YardsToTouchdown'].sort_values().unique()"
   ]
  },
  {
   "cell_type": "markdown",
   "metadata": {},
   "source": [
    "## Calculating the number of seconds from snap to handoff\n",
    "We have two attributes of the exact time the ball was snapped, and the time the ball was handed off to the running back. A new field was added to the data as the difference between the two. If the number is 0, the ball was snapped directly to the running back, or the quarterback is running with the ball instead of throwing the ball."
   ]
  },
  {
   "cell_type": "code",
   "execution_count": 33,
   "metadata": {},
   "outputs": [
    {
     "data": {
      "text/html": [
       "<div>\n",
       "<style scoped>\n",
       "    .dataframe tbody tr th:only-of-type {\n",
       "        vertical-align: middle;\n",
       "    }\n",
       "\n",
       "    .dataframe tbody tr th {\n",
       "        vertical-align: top;\n",
       "    }\n",
       "\n",
       "    .dataframe thead th {\n",
       "        text-align: right;\n",
       "    }\n",
       "</style>\n",
       "<table border=\"1\" class=\"dataframe\">\n",
       "  <thead>\n",
       "    <tr style=\"text-align: right;\">\n",
       "      <th></th>\n",
       "      <th>TimeHandoff</th>\n",
       "      <th>TimeSnap</th>\n",
       "    </tr>\n",
       "  </thead>\n",
       "  <tbody>\n",
       "    <tr>\n",
       "      <th>0</th>\n",
       "      <td>2017-09-08 00:44:06</td>\n",
       "      <td>2017-09-08 00:44:05</td>\n",
       "    </tr>\n",
       "    <tr>\n",
       "      <th>1</th>\n",
       "      <td>2017-09-08 00:44:06</td>\n",
       "      <td>2017-09-08 00:44:05</td>\n",
       "    </tr>\n",
       "    <tr>\n",
       "      <th>2</th>\n",
       "      <td>2017-09-08 00:44:06</td>\n",
       "      <td>2017-09-08 00:44:05</td>\n",
       "    </tr>\n",
       "    <tr>\n",
       "      <th>3</th>\n",
       "      <td>2017-09-08 00:44:06</td>\n",
       "      <td>2017-09-08 00:44:05</td>\n",
       "    </tr>\n",
       "    <tr>\n",
       "      <th>4</th>\n",
       "      <td>2017-09-08 00:44:06</td>\n",
       "      <td>2017-09-08 00:44:05</td>\n",
       "    </tr>\n",
       "  </tbody>\n",
       "</table>\n",
       "</div>"
      ],
      "text/plain": [
       "          TimeHandoff            TimeSnap\n",
       "0 2017-09-08 00:44:06 2017-09-08 00:44:05\n",
       "1 2017-09-08 00:44:06 2017-09-08 00:44:05\n",
       "2 2017-09-08 00:44:06 2017-09-08 00:44:05\n",
       "3 2017-09-08 00:44:06 2017-09-08 00:44:05\n",
       "4 2017-09-08 00:44:06 2017-09-08 00:44:05"
      ]
     },
     "execution_count": 33,
     "metadata": {},
     "output_type": "execute_result"
    }
   ],
   "source": [
    "df[['TimeHandoff','TimeSnap']].head()"
   ]
  },
  {
   "cell_type": "code",
   "execution_count": 34,
   "metadata": {
    "scrolled": true
   },
   "outputs": [],
   "source": [
    "df.insert(df.columns.get_loc('TimeSnap') + 1, 'TimeSnapDiff', np.NaN )\n",
    "df['TimeSnapDiff'] = (pd.to_datetime(df['TimeHandoff'])-pd.to_datetime(df['TimeSnap']))\n",
    "df['TimeSnapDiff']=(df['TimeSnapDiff']).dt.total_seconds()"
   ]
  },
  {
   "cell_type": "code",
   "execution_count": 35,
   "metadata": {},
   "outputs": [
    {
     "data": {
      "text/html": [
       "<div>\n",
       "<style scoped>\n",
       "    .dataframe tbody tr th:only-of-type {\n",
       "        vertical-align: middle;\n",
       "    }\n",
       "\n",
       "    .dataframe tbody tr th {\n",
       "        vertical-align: top;\n",
       "    }\n",
       "\n",
       "    .dataframe thead th {\n",
       "        text-align: right;\n",
       "    }\n",
       "</style>\n",
       "<table border=\"1\" class=\"dataframe\">\n",
       "  <thead>\n",
       "    <tr style=\"text-align: right;\">\n",
       "      <th></th>\n",
       "      <th>TimeHandoff</th>\n",
       "      <th>TimeSnap</th>\n",
       "      <th>TimeSnapDiff</th>\n",
       "    </tr>\n",
       "  </thead>\n",
       "  <tbody>\n",
       "    <tr>\n",
       "      <th>164175</th>\n",
       "      <td>2017-11-23 18:37:57</td>\n",
       "      <td>2017-11-23 18:37:55</td>\n",
       "      <td>2.0</td>\n",
       "    </tr>\n",
       "    <tr>\n",
       "      <th>377225</th>\n",
       "      <td>2018-10-30 00:53:11</td>\n",
       "      <td>2018-10-30 00:53:10</td>\n",
       "      <td>1.0</td>\n",
       "    </tr>\n",
       "    <tr>\n",
       "      <th>119164</th>\n",
       "      <td>2017-10-29 20:55:41</td>\n",
       "      <td>2017-10-29 20:55:40</td>\n",
       "      <td>1.0</td>\n",
       "    </tr>\n",
       "    <tr>\n",
       "      <th>3532</th>\n",
       "      <td>2017-09-10 18:23:04</td>\n",
       "      <td>2017-09-10 18:23:03</td>\n",
       "      <td>1.0</td>\n",
       "    </tr>\n",
       "    <tr>\n",
       "      <th>458372</th>\n",
       "      <td>2018-12-09 23:39:36</td>\n",
       "      <td>2018-12-09 23:39:35</td>\n",
       "      <td>1.0</td>\n",
       "    </tr>\n",
       "    <tr>\n",
       "      <th>135181</th>\n",
       "      <td>2017-11-10 01:32:23</td>\n",
       "      <td>2017-11-10 01:32:22</td>\n",
       "      <td>1.0</td>\n",
       "    </tr>\n",
       "    <tr>\n",
       "      <th>639010</th>\n",
       "      <td>2019-11-04 00:04:34</td>\n",
       "      <td>2019-11-04 00:04:31</td>\n",
       "      <td>3.0</td>\n",
       "    </tr>\n",
       "    <tr>\n",
       "      <th>428296</th>\n",
       "      <td>2018-11-25 23:29:06</td>\n",
       "      <td>2018-11-25 23:29:04</td>\n",
       "      <td>2.0</td>\n",
       "    </tr>\n",
       "    <tr>\n",
       "      <th>559365</th>\n",
       "      <td>2019-09-29 20:09:38</td>\n",
       "      <td>2019-09-29 20:09:37</td>\n",
       "      <td>1.0</td>\n",
       "    </tr>\n",
       "    <tr>\n",
       "      <th>552938</th>\n",
       "      <td>2019-09-22 21:27:05</td>\n",
       "      <td>2019-09-22 21:27:03</td>\n",
       "      <td>2.0</td>\n",
       "    </tr>\n",
       "  </tbody>\n",
       "</table>\n",
       "</div>"
      ],
      "text/plain": [
       "               TimeHandoff            TimeSnap  TimeSnapDiff\n",
       "164175 2017-11-23 18:37:57 2017-11-23 18:37:55           2.0\n",
       "377225 2018-10-30 00:53:11 2018-10-30 00:53:10           1.0\n",
       "119164 2017-10-29 20:55:41 2017-10-29 20:55:40           1.0\n",
       "3532   2017-09-10 18:23:04 2017-09-10 18:23:03           1.0\n",
       "458372 2018-12-09 23:39:36 2018-12-09 23:39:35           1.0\n",
       "135181 2017-11-10 01:32:23 2017-11-10 01:32:22           1.0\n",
       "639010 2019-11-04 00:04:34 2019-11-04 00:04:31           3.0\n",
       "428296 2018-11-25 23:29:06 2018-11-25 23:29:04           2.0\n",
       "559365 2019-09-29 20:09:38 2019-09-29 20:09:37           1.0\n",
       "552938 2019-09-22 21:27:05 2019-09-22 21:27:03           2.0"
      ]
     },
     "execution_count": 35,
     "metadata": {},
     "output_type": "execute_result"
    }
   ],
   "source": [
    "df[['TimeHandoff','TimeSnap','TimeSnapDiff']].sample(n=10, random_state=68)"
   ]
  },
  {
   "cell_type": "code",
   "execution_count": 36,
   "metadata": {},
   "outputs": [
    {
     "data": {
      "text/plain": [
       "0.0      5610\n",
       "1.0    489456\n",
       "2.0    185834\n",
       "3.0       968\n",
       "4.0       176\n",
       "5.0        66\n",
       "7.0        44\n",
       "Name: TimeSnapDiff, dtype: int64"
      ]
     },
     "execution_count": 36,
     "metadata": {},
     "output_type": "execute_result"
    }
   ],
   "source": [
    "df['TimeSnapDiff'].value_counts(dropna = False).sort_index()"
   ]
  },
  {
   "cell_type": "markdown",
   "metadata": {},
   "source": [
    "## Calculating Age\n",
    "Instead of using the birth date, we are creating an age attribute by taking the time of handoff, and subtracting it from the player's birth date."
   ]
  },
  {
   "cell_type": "code",
   "execution_count": 37,
   "metadata": {},
   "outputs": [
    {
     "data": {
      "text/html": [
       "<div>\n",
       "<style scoped>\n",
       "    .dataframe tbody tr th:only-of-type {\n",
       "        vertical-align: middle;\n",
       "    }\n",
       "\n",
       "    .dataframe tbody tr th {\n",
       "        vertical-align: top;\n",
       "    }\n",
       "\n",
       "    .dataframe thead th {\n",
       "        text-align: right;\n",
       "    }\n",
       "</style>\n",
       "<table border=\"1\" class=\"dataframe\">\n",
       "  <thead>\n",
       "    <tr style=\"text-align: right;\">\n",
       "      <th></th>\n",
       "      <th>TimeHandoff</th>\n",
       "      <th>PlayerBirthDate</th>\n",
       "    </tr>\n",
       "  </thead>\n",
       "  <tbody>\n",
       "    <tr>\n",
       "      <th>0</th>\n",
       "      <td>2017-09-08 00:44:06+00:00</td>\n",
       "      <td>1988-12-29 00:00:00+00:00</td>\n",
       "    </tr>\n",
       "    <tr>\n",
       "      <th>1</th>\n",
       "      <td>2017-09-08 00:44:06+00:00</td>\n",
       "      <td>1989-03-25 00:00:00+00:00</td>\n",
       "    </tr>\n",
       "    <tr>\n",
       "      <th>2</th>\n",
       "      <td>2017-09-08 00:44:06+00:00</td>\n",
       "      <td>1989-01-21 00:00:00+00:00</td>\n",
       "    </tr>\n",
       "    <tr>\n",
       "      <th>3</th>\n",
       "      <td>2017-09-08 00:44:06+00:00</td>\n",
       "      <td>1982-11-22 00:00:00+00:00</td>\n",
       "    </tr>\n",
       "    <tr>\n",
       "      <th>4</th>\n",
       "      <td>2017-09-08 00:44:06+00:00</td>\n",
       "      <td>1987-08-17 00:00:00+00:00</td>\n",
       "    </tr>\n",
       "  </tbody>\n",
       "</table>\n",
       "</div>"
      ],
      "text/plain": [
       "                TimeHandoff           PlayerBirthDate\n",
       "0 2017-09-08 00:44:06+00:00 1988-12-29 00:00:00+00:00\n",
       "1 2017-09-08 00:44:06+00:00 1989-03-25 00:00:00+00:00\n",
       "2 2017-09-08 00:44:06+00:00 1989-01-21 00:00:00+00:00\n",
       "3 2017-09-08 00:44:06+00:00 1982-11-22 00:00:00+00:00\n",
       "4 2017-09-08 00:44:06+00:00 1987-08-17 00:00:00+00:00"
      ]
     },
     "execution_count": 37,
     "metadata": {},
     "output_type": "execute_result"
    }
   ],
   "source": [
    "df['PlayerBirthDate'] = pd.to_datetime(df['PlayerBirthDate'], utc=True)\n",
    "df['TimeHandoff'] = pd.to_datetime(df['TimeHandoff'], utc=True)\n",
    "df[['TimeHandoff','PlayerBirthDate']].head()"
   ]
  },
  {
   "cell_type": "code",
   "execution_count": 38,
   "metadata": {},
   "outputs": [],
   "source": [
    "df.insert(df.columns.get_loc('PlayerBirthDate') + 1, 'Age', np.NaN )"
   ]
  },
  {
   "cell_type": "code",
   "execution_count": 39,
   "metadata": {},
   "outputs": [],
   "source": [
    "df['Age'] =  (((pd.to_datetime(df['TimeHandoff']) - pd.to_datetime(df['PlayerBirthDate'])).dt.days)/365)\n",
    "df['Age'] = df['Age'].astype('int')"
   ]
  },
  {
   "cell_type": "code",
   "execution_count": 40,
   "metadata": {},
   "outputs": [
    {
     "data": {
      "text/html": [
       "<div>\n",
       "<style scoped>\n",
       "    .dataframe tbody tr th:only-of-type {\n",
       "        vertical-align: middle;\n",
       "    }\n",
       "\n",
       "    .dataframe tbody tr th {\n",
       "        vertical-align: top;\n",
       "    }\n",
       "\n",
       "    .dataframe thead th {\n",
       "        text-align: right;\n",
       "    }\n",
       "</style>\n",
       "<table border=\"1\" class=\"dataframe\">\n",
       "  <thead>\n",
       "    <tr style=\"text-align: right;\">\n",
       "      <th></th>\n",
       "      <th>TimeHandoff</th>\n",
       "      <th>PlayerBirthDate</th>\n",
       "      <th>Age</th>\n",
       "    </tr>\n",
       "  </thead>\n",
       "  <tbody>\n",
       "    <tr>\n",
       "      <th>0</th>\n",
       "      <td>2017-09-08 00:44:06+00:00</td>\n",
       "      <td>1988-12-29 00:00:00+00:00</td>\n",
       "      <td>28</td>\n",
       "    </tr>\n",
       "    <tr>\n",
       "      <th>1</th>\n",
       "      <td>2017-09-08 00:44:06+00:00</td>\n",
       "      <td>1989-03-25 00:00:00+00:00</td>\n",
       "      <td>28</td>\n",
       "    </tr>\n",
       "    <tr>\n",
       "      <th>2</th>\n",
       "      <td>2017-09-08 00:44:06+00:00</td>\n",
       "      <td>1989-01-21 00:00:00+00:00</td>\n",
       "      <td>28</td>\n",
       "    </tr>\n",
       "    <tr>\n",
       "      <th>3</th>\n",
       "      <td>2017-09-08 00:44:06+00:00</td>\n",
       "      <td>1982-11-22 00:00:00+00:00</td>\n",
       "      <td>34</td>\n",
       "    </tr>\n",
       "    <tr>\n",
       "      <th>4</th>\n",
       "      <td>2017-09-08 00:44:06+00:00</td>\n",
       "      <td>1987-08-17 00:00:00+00:00</td>\n",
       "      <td>30</td>\n",
       "    </tr>\n",
       "  </tbody>\n",
       "</table>\n",
       "</div>"
      ],
      "text/plain": [
       "                TimeHandoff           PlayerBirthDate  Age\n",
       "0 2017-09-08 00:44:06+00:00 1988-12-29 00:00:00+00:00   28\n",
       "1 2017-09-08 00:44:06+00:00 1989-03-25 00:00:00+00:00   28\n",
       "2 2017-09-08 00:44:06+00:00 1989-01-21 00:00:00+00:00   28\n",
       "3 2017-09-08 00:44:06+00:00 1982-11-22 00:00:00+00:00   34\n",
       "4 2017-09-08 00:44:06+00:00 1987-08-17 00:00:00+00:00   30"
      ]
     },
     "execution_count": 40,
     "metadata": {},
     "output_type": "execute_result"
    }
   ],
   "source": [
    "df[['TimeHandoff','PlayerBirthDate','Age']].head()"
   ]
  },
  {
   "cell_type": "markdown",
   "metadata": {},
   "source": [
    "## Converting score fields to lead/deficit field\n",
    "Two of the fields provided are the score of the game the moment the play is being made. A new field was created to create a binary of whether the team possessing has the lead, or is in a deficit, and by how much. "
   ]
  },
  {
   "cell_type": "code",
   "execution_count": 41,
   "metadata": {},
   "outputs": [
    {
     "data": {
      "text/html": [
       "<div>\n",
       "<style scoped>\n",
       "    .dataframe tbody tr th:only-of-type {\n",
       "        vertical-align: middle;\n",
       "    }\n",
       "\n",
       "    .dataframe tbody tr th {\n",
       "        vertical-align: top;\n",
       "    }\n",
       "\n",
       "    .dataframe thead th {\n",
       "        text-align: right;\n",
       "    }\n",
       "</style>\n",
       "<table border=\"1\" class=\"dataframe\">\n",
       "  <thead>\n",
       "    <tr style=\"text-align: right;\">\n",
       "      <th></th>\n",
       "      <th>HomeScoreBeforePlay</th>\n",
       "      <th>VisitorScoreBeforePlay</th>\n",
       "      <th>isHomeTeam</th>\n",
       "    </tr>\n",
       "  </thead>\n",
       "  <tbody>\n",
       "    <tr>\n",
       "      <th>348444</th>\n",
       "      <td>0</td>\n",
       "      <td>21</td>\n",
       "      <td>0</td>\n",
       "    </tr>\n",
       "    <tr>\n",
       "      <th>257609</th>\n",
       "      <td>15</td>\n",
       "      <td>10</td>\n",
       "      <td>1</td>\n",
       "    </tr>\n",
       "    <tr>\n",
       "      <th>598402</th>\n",
       "      <td>0</td>\n",
       "      <td>13</td>\n",
       "      <td>0</td>\n",
       "    </tr>\n",
       "    <tr>\n",
       "      <th>169077</th>\n",
       "      <td>23</td>\n",
       "      <td>16</td>\n",
       "      <td>0</td>\n",
       "    </tr>\n",
       "    <tr>\n",
       "      <th>297095</th>\n",
       "      <td>3</td>\n",
       "      <td>3</td>\n",
       "      <td>0</td>\n",
       "    </tr>\n",
       "  </tbody>\n",
       "</table>\n",
       "</div>"
      ],
      "text/plain": [
       "        HomeScoreBeforePlay  VisitorScoreBeforePlay  isHomeTeam\n",
       "348444                    0                      21           0\n",
       "257609                   15                      10           1\n",
       "598402                    0                      13           0\n",
       "169077                   23                      16           0\n",
       "297095                    3                       3           0"
      ]
     },
     "execution_count": 41,
     "metadata": {},
     "output_type": "execute_result"
    }
   ],
   "source": [
    "df[['HomeScoreBeforePlay','VisitorScoreBeforePlay','isHomeTeam']].sample(n=5, random_state=52)"
   ]
  },
  {
   "cell_type": "code",
   "execution_count": 42,
   "metadata": {},
   "outputs": [],
   "source": [
    "df.insert(df.columns.get_loc('VisitorScoreBeforePlay') + 1, 'LeadDeficit', np.where(df['isHomeTeam'] == 1, df['HomeScoreBeforePlay'] - df['VisitorScoreBeforePlay'], df['VisitorScoreBeforePlay'] - df['HomeScoreBeforePlay'] ) )"
   ]
  },
  {
   "cell_type": "code",
   "execution_count": 43,
   "metadata": {},
   "outputs": [],
   "source": [
    "df.insert(df.columns.get_loc('LeadDeficit') + 1, 'IsPossTeamInLead', np.where(df['LeadDeficit'] < 0, 1, 0 ) )"
   ]
  },
  {
   "cell_type": "code",
   "execution_count": 44,
   "metadata": {},
   "outputs": [],
   "source": [
    "df.insert(df.columns.get_loc('IsPossTeamInLead') + 1, 'IsPossTeamInDeficit', np.where(df['LeadDeficit'] > 0, 1, 0 ) )"
   ]
  },
  {
   "cell_type": "code",
   "execution_count": 45,
   "metadata": {},
   "outputs": [
    {
     "data": {
      "text/html": [
       "<div>\n",
       "<style scoped>\n",
       "    .dataframe tbody tr th:only-of-type {\n",
       "        vertical-align: middle;\n",
       "    }\n",
       "\n",
       "    .dataframe tbody tr th {\n",
       "        vertical-align: top;\n",
       "    }\n",
       "\n",
       "    .dataframe thead th {\n",
       "        text-align: right;\n",
       "    }\n",
       "</style>\n",
       "<table border=\"1\" class=\"dataframe\">\n",
       "  <thead>\n",
       "    <tr style=\"text-align: right;\">\n",
       "      <th></th>\n",
       "      <th>HomeScoreBeforePlay</th>\n",
       "      <th>VisitorScoreBeforePlay</th>\n",
       "      <th>isHomeTeam</th>\n",
       "      <th>LeadDeficit</th>\n",
       "    </tr>\n",
       "  </thead>\n",
       "  <tbody>\n",
       "    <tr>\n",
       "      <th>348444</th>\n",
       "      <td>0</td>\n",
       "      <td>21</td>\n",
       "      <td>0</td>\n",
       "      <td>21</td>\n",
       "    </tr>\n",
       "    <tr>\n",
       "      <th>257609</th>\n",
       "      <td>15</td>\n",
       "      <td>10</td>\n",
       "      <td>1</td>\n",
       "      <td>5</td>\n",
       "    </tr>\n",
       "    <tr>\n",
       "      <th>598402</th>\n",
       "      <td>0</td>\n",
       "      <td>13</td>\n",
       "      <td>0</td>\n",
       "      <td>13</td>\n",
       "    </tr>\n",
       "    <tr>\n",
       "      <th>169077</th>\n",
       "      <td>23</td>\n",
       "      <td>16</td>\n",
       "      <td>0</td>\n",
       "      <td>-7</td>\n",
       "    </tr>\n",
       "    <tr>\n",
       "      <th>297095</th>\n",
       "      <td>3</td>\n",
       "      <td>3</td>\n",
       "      <td>0</td>\n",
       "      <td>0</td>\n",
       "    </tr>\n",
       "  </tbody>\n",
       "</table>\n",
       "</div>"
      ],
      "text/plain": [
       "        HomeScoreBeforePlay  VisitorScoreBeforePlay  isHomeTeam  LeadDeficit\n",
       "348444                    0                      21           0           21\n",
       "257609                   15                      10           1            5\n",
       "598402                    0                      13           0           13\n",
       "169077                   23                      16           0           -7\n",
       "297095                    3                       3           0            0"
      ]
     },
     "execution_count": 45,
     "metadata": {},
     "output_type": "execute_result"
    }
   ],
   "source": [
    "df[['HomeScoreBeforePlay','VisitorScoreBeforePlay','isHomeTeam','LeadDeficit']].sample(n=5, random_state=52)"
   ]
  },
  {
   "cell_type": "code",
   "execution_count": 46,
   "metadata": {},
   "outputs": [
    {
     "data": {
      "text/plain": [
       "-49     88\n",
       "-44    220\n",
       "-43     88\n",
       "-42    143\n",
       "-41     99\n",
       "      ... \n",
       " 41     99\n",
       " 42    143\n",
       " 43     88\n",
       " 44    220\n",
       " 49     88\n",
       "Name: LeadDeficit, Length: 91, dtype: int64"
      ]
     },
     "execution_count": 46,
     "metadata": {},
     "output_type": "execute_result"
    }
   ],
   "source": [
    "df['LeadDeficit'].value_counts(dropna = False).sort_index()"
   ]
  },
  {
   "cell_type": "markdown",
   "metadata": {},
   "source": [
    "## Converting the player height to inches\n",
    "Height was given as a text column, so several columns were created to simplify the calculation from text to the number of inches the player stands."
   ]
  },
  {
   "cell_type": "code",
   "execution_count": 47,
   "metadata": {},
   "outputs": [],
   "source": [
    "df['PlayerHeight'].unique()\n",
    "df.insert(df.columns.get_loc('PlayerHeight') + 1, 'PlayerHeightInches', np.NaN )\n",
    "df.insert(df.columns.get_loc('PlayerHeight') + 1, 'PlayerHeightIn', np.NaN )\n",
    "df.insert(df.columns.get_loc('PlayerHeight') + 1, 'PlayerHeightFt', np.NaN )"
   ]
  },
  {
   "cell_type": "code",
   "execution_count": 48,
   "metadata": {},
   "outputs": [],
   "source": [
    "df['PlayerHeightFt'] = df['PlayerHeight'].str.extract('^(\\d+)', expand=True)\n",
    "df['PlayerHeightIn'] = df['PlayerHeight'].str.extract('(\\d+)$', expand=True)"
   ]
  },
  {
   "cell_type": "code",
   "execution_count": 49,
   "metadata": {},
   "outputs": [],
   "source": [
    "df['PlayerHeightFt']=df['PlayerHeightFt'].astype('int64')\n",
    "df['PlayerHeightIn']=df['PlayerHeightIn'].astype('int64')"
   ]
  },
  {
   "cell_type": "code",
   "execution_count": 50,
   "metadata": {},
   "outputs": [],
   "source": [
    "df['PlayerHeightInches'] = (df['PlayerHeightFt'].mul(12) + df['PlayerHeightIn']).astype('int64')"
   ]
  },
  {
   "cell_type": "code",
   "execution_count": 51,
   "metadata": {},
   "outputs": [
    {
     "data": {
      "text/html": [
       "<div>\n",
       "<style scoped>\n",
       "    .dataframe tbody tr th:only-of-type {\n",
       "        vertical-align: middle;\n",
       "    }\n",
       "\n",
       "    .dataframe tbody tr th {\n",
       "        vertical-align: top;\n",
       "    }\n",
       "\n",
       "    .dataframe thead th {\n",
       "        text-align: right;\n",
       "    }\n",
       "</style>\n",
       "<table border=\"1\" class=\"dataframe\">\n",
       "  <thead>\n",
       "    <tr style=\"text-align: right;\">\n",
       "      <th></th>\n",
       "      <th>PlayerHeight</th>\n",
       "      <th>PlayerHeightFt</th>\n",
       "      <th>PlayerHeightIn</th>\n",
       "      <th>PlayerHeightInches</th>\n",
       "    </tr>\n",
       "  </thead>\n",
       "  <tbody>\n",
       "    <tr>\n",
       "      <th>478618</th>\n",
       "      <td>6-6</td>\n",
       "      <td>6</td>\n",
       "      <td>6</td>\n",
       "      <td>78</td>\n",
       "    </tr>\n",
       "    <tr>\n",
       "      <th>117392</th>\n",
       "      <td>5-11</td>\n",
       "      <td>5</td>\n",
       "      <td>11</td>\n",
       "      <td>71</td>\n",
       "    </tr>\n",
       "    <tr>\n",
       "      <th>575601</th>\n",
       "      <td>6-2</td>\n",
       "      <td>6</td>\n",
       "      <td>2</td>\n",
       "      <td>74</td>\n",
       "    </tr>\n",
       "    <tr>\n",
       "      <th>425934</th>\n",
       "      <td>6-3</td>\n",
       "      <td>6</td>\n",
       "      <td>3</td>\n",
       "      <td>75</td>\n",
       "    </tr>\n",
       "    <tr>\n",
       "      <th>557854</th>\n",
       "      <td>6-4</td>\n",
       "      <td>6</td>\n",
       "      <td>4</td>\n",
       "      <td>76</td>\n",
       "    </tr>\n",
       "    <tr>\n",
       "      <th>632881</th>\n",
       "      <td>6-5</td>\n",
       "      <td>6</td>\n",
       "      <td>5</td>\n",
       "      <td>77</td>\n",
       "    </tr>\n",
       "    <tr>\n",
       "      <th>213322</th>\n",
       "      <td>6-5</td>\n",
       "      <td>6</td>\n",
       "      <td>5</td>\n",
       "      <td>77</td>\n",
       "    </tr>\n",
       "    <tr>\n",
       "      <th>570202</th>\n",
       "      <td>6-4</td>\n",
       "      <td>6</td>\n",
       "      <td>4</td>\n",
       "      <td>76</td>\n",
       "    </tr>\n",
       "    <tr>\n",
       "      <th>116284</th>\n",
       "      <td>6-4</td>\n",
       "      <td>6</td>\n",
       "      <td>4</td>\n",
       "      <td>76</td>\n",
       "    </tr>\n",
       "    <tr>\n",
       "      <th>446294</th>\n",
       "      <td>6-1</td>\n",
       "      <td>6</td>\n",
       "      <td>1</td>\n",
       "      <td>73</td>\n",
       "    </tr>\n",
       "  </tbody>\n",
       "</table>\n",
       "</div>"
      ],
      "text/plain": [
       "       PlayerHeight  PlayerHeightFt  PlayerHeightIn  PlayerHeightInches\n",
       "478618          6-6               6               6                  78\n",
       "117392         5-11               5              11                  71\n",
       "575601          6-2               6               2                  74\n",
       "425934          6-3               6               3                  75\n",
       "557854          6-4               6               4                  76\n",
       "632881          6-5               6               5                  77\n",
       "213322          6-5               6               5                  77\n",
       "570202          6-4               6               4                  76\n",
       "116284          6-4               6               4                  76\n",
       "446294          6-1               6               1                  73"
      ]
     },
     "execution_count": 51,
     "metadata": {},
     "output_type": "execute_result"
    }
   ],
   "source": [
    "df[['PlayerHeight', 'PlayerHeightFt', 'PlayerHeightIn', 'PlayerHeightInches']].sample(n=10, random_state=34)"
   ]
  },
  {
   "cell_type": "code",
   "execution_count": 52,
   "metadata": {},
   "outputs": [
    {
     "data": {
      "text/plain": [
       "5-10     32286\n",
       "5-11     54009\n",
       "5-6        522\n",
       "5-7        945\n",
       "5-8       4638\n",
       "5-9      12251\n",
       "6-0      67819\n",
       "6-1      82336\n",
       "6-2      71347\n",
       "6-3     108240\n",
       "6-4      90139\n",
       "6-5      83706\n",
       "6-6      47488\n",
       "6-7      16099\n",
       "6-8       7646\n",
       "6-9       2683\n",
       "Name: PlayerHeight, dtype: int64"
      ]
     },
     "execution_count": 52,
     "metadata": {},
     "output_type": "execute_result"
    }
   ],
   "source": [
    "df['PlayerHeight'].value_counts(dropna = False).sort_index()"
   ]
  },
  {
   "cell_type": "code",
   "execution_count": 53,
   "metadata": {},
   "outputs": [
    {
     "data": {
      "text/plain": [
       "66       522\n",
       "67       945\n",
       "68      4638\n",
       "69     12251\n",
       "70     32286\n",
       "71     54009\n",
       "72     67819\n",
       "73     82336\n",
       "74     71347\n",
       "75    108240\n",
       "76     90139\n",
       "77     83706\n",
       "78     47488\n",
       "79     16099\n",
       "80      7646\n",
       "81      2683\n",
       "Name: PlayerHeightInches, dtype: int64"
      ]
     },
     "execution_count": 53,
     "metadata": {},
     "output_type": "execute_result"
    }
   ],
   "source": [
    "df['PlayerHeightInches'].value_counts(dropna = False).sort_index()"
   ]
  },
  {
   "cell_type": "markdown",
   "metadata": {},
   "source": [
    "## Filling the empty fields\n",
    "Many blank fields needs to be addressed, most of them are text fields which may already be tossed later, but still needs to be cleaned before anything else. "
   ]
  },
  {
   "cell_type": "code",
   "execution_count": 54,
   "metadata": {},
   "outputs": [
    {
     "data": {
      "text/plain": [
       "Orientation             23\n",
       "Dir                     28\n",
       "OffenseFormation        88\n",
       "DefendersInTheBox       22\n",
       "StadiumType          41690\n",
       "GameWeather          60170\n",
       "Temperature          63646\n",
       "Humidity              6160\n",
       "dtype: int64"
      ]
     },
     "execution_count": 54,
     "metadata": {},
     "output_type": "execute_result"
    }
   ],
   "source": [
    "null_columns=df.columns[df.isnull().any()]\n",
    "df[null_columns].isnull().sum()"
   ]
  },
  {
   "cell_type": "code",
   "execution_count": 55,
   "metadata": {},
   "outputs": [
    {
     "name": "stdout",
     "output_type": "stream",
     "text": [
      "Orientation has 23 null values\n",
      "Dir has 28 null values\n",
      "OffenseFormation has 88 null values\n",
      "DefendersInTheBox has 22 null values\n",
      "StadiumType has 41690 null values\n",
      "GameWeather has 60170 null values\n",
      "Temperature has 63646 null values\n",
      "Humidity has 6160 null values\n"
     ]
    }
   ],
   "source": [
    "for column in df:\n",
    "    if df[column].isnull().any():\n",
    "       print('{0} has {1} null values'.format(column, df[column].isnull().sum()))"
   ]
  },
  {
   "cell_type": "code",
   "execution_count": 56,
   "metadata": {},
   "outputs": [
    {
     "name": "stdout",
     "output_type": "stream",
     "text": [
      "Before:  [ 81.99  27.61   3.01 ... 231.96 263.02 243.55]\n",
      "After:   [ 81.99  27.61   3.01 ... 231.96 263.02 243.55]\n"
     ]
    }
   ],
   "source": [
    "# Orientation Blank Fills (mean)\n",
    "print(\"Before: \", df['Orientation'].unique())\n",
    "df['Orientation']=df['Orientation'].fillna(df['Orientation'].mean())\n",
    "print(\"After:  \", df['Orientation'].unique())"
   ]
  },
  {
   "cell_type": "code",
   "execution_count": 57,
   "metadata": {},
   "outputs": [
    {
     "name": "stdout",
     "output_type": "stream",
     "text": [
      "Before:  [177.18 198.7  202.73 ... 117.84 253.69  80.28]\n",
      "After:   [177.18 198.7  202.73 ... 117.84 253.69  80.28]\n"
     ]
    }
   ],
   "source": [
    "# Dir Blank Fills  (Mean)\n",
    "print(\"Before: \", df['Dir'].unique())\n",
    "df['Dir']=df['Dir'].fillna(df['Dir'].mean())\n",
    "print(\"After:  \", df['Dir'].unique())"
   ]
  },
  {
   "cell_type": "code",
   "execution_count": 58,
   "metadata": {},
   "outputs": [
    {
     "name": "stdout",
     "output_type": "stream",
     "text": [
      "Before:  ['SHOTGUN' 'SINGLEBACK' 'JUMBO' 'PISTOL' 'I_FORM' 'ACE' 'WILDCAT' nan\n",
      " 'EMPTY']\n",
      "After:   ['SHOTGUN' 'SINGLEBACK' 'JUMBO' 'PISTOL' 'I_FORM' 'ACE' 'WILDCAT'\n",
      " 'UNKNOWN' 'EMPTY']\n"
     ]
    }
   ],
   "source": [
    "# Offensive Formations Blank Fills (Empty Text)\n",
    "print(\"Before: \", df['OffenseFormation'].unique())\n",
    "df['OffenseFormation']=df['OffenseFormation'].fillna('UNKNOWN')\n",
    "print(\"After:  \",df['OffenseFormation'].unique())"
   ]
  },
  {
   "cell_type": "code",
   "execution_count": 59,
   "metadata": {},
   "outputs": [
    {
     "name": "stdout",
     "output_type": "stream",
     "text": [
      "Before:  [ 2.  3.  4.  5.  6.  7.  8.  9. 10. 11. nan]\n",
      "After:   [ 2  3  4  5  6  7  8  9 10 11]\n"
     ]
    }
   ],
   "source": [
    "# Number of Defenders in the Box Blank Fills (Mean)\n",
    "print(\"Before: \", df['DefendersInTheBox'].sort_values().unique())\n",
    "df['DefendersInTheBox']=df['DefendersInTheBox'].fillna(round(df['DefendersInTheBox'].mean()))\n",
    "df['DefendersInTheBox'] = df['DefendersInTheBox'].astype('int64')\n",
    "print(\"After:  \", df['DefendersInTheBox'].sort_values().unique())"
   ]
  },
  {
   "cell_type": "code",
   "execution_count": 60,
   "metadata": {},
   "outputs": [],
   "source": [
    "df[df['Humidity'].isnull()]['Stadium'].unique()\n",
    "df['Humidity'].fillna(0, inplace=True)\n",
    "#Humidity has too many 0's and missing fields, remove (Bottom of script)\n",
    "#df.drop(['Humidity'], axis=1, inplace=True)"
   ]
  },
  {
   "cell_type": "code",
   "execution_count": 61,
   "metadata": {},
   "outputs": [],
   "source": [
    "nullstadium = list(df[df['Temperature'].isnull()]['Stadium'].unique())"
   ]
  },
  {
   "cell_type": "code",
   "execution_count": 62,
   "metadata": {},
   "outputs": [
    {
     "name": "stdout",
     "output_type": "stream",
     "text": [
      "Data before filling nulls with the mean per stadium\n",
      "--------------------------------------------------\n",
      "AT&T Stadium\n",
      "54.0     1144\n",
      "58.0     1166\n",
      "67.0     1254\n",
      "70.0      968\n",
      "74.0      968\n",
      "NaN     15862\n",
      "Name: Temperature, dtype: int64\n",
      "Mean:  64.148\n",
      "--------------------------------------------------\n",
      "\n",
      "\n",
      "--------------------------------------------------\n",
      "U.S. Bank Stadium\n",
      "70.0     1078\n",
      "NaN     20526\n",
      "Name: Temperature, dtype: int64\n",
      "Mean:  70.0\n",
      "--------------------------------------------------\n",
      "\n",
      "\n",
      "--------------------------------------------------\n",
      "University of Phoenix Stadium\n",
      "71.0     968\n",
      "79.0    1848\n",
      "NaN     4796\n",
      "Name: Temperature, dtype: int64\n",
      "Mean:  76.25\n",
      "--------------------------------------------------\n",
      "\n",
      "\n",
      "--------------------------------------------------\n",
      "Mercedes-Benz Stadium\n",
      "52.0      968\n",
      "59.0      924\n",
      "60.0      770\n",
      "65.0     1012\n",
      "66.0      990\n",
      "67.0      990\n",
      "NaN     13420\n",
      "Name: Temperature, dtype: int64\n",
      "Mean:  61.63813229571984\n",
      "--------------------------------------------------\n",
      "\n",
      "\n",
      "--------------------------------------------------\n",
      "NRG Stadium\n",
      "46.0     792\n",
      "51.0    1100\n",
      "60.0    1056\n",
      "72.0     858\n",
      "75.0    1232\n",
      "76.0     990\n",
      "78.0     858\n",
      "80.0    1254\n",
      "83.0     968\n",
      "84.0    1034\n",
      "85.0     968\n",
      "86.0    1012\n",
      "87.0     968\n",
      "89.0    2970\n",
      "NaN     1012\n",
      "Name: Temperature, dtype: int64\n",
      "Mean:  77.06164383561644\n",
      "--------------------------------------------------\n",
      "\n",
      "\n",
      "--------------------------------------------------\n",
      "State Farm Stadium\n",
      "70.0    1078\n",
      "72.0    2486\n",
      "75.0    1012\n",
      "82.0    1034\n",
      "NaN     8030\n",
      "Name: Temperature, dtype: int64\n",
      "Mean:  74.0\n",
      "--------------------------------------------------\n",
      "\n",
      "\n"
     ]
    }
   ],
   "source": [
    "print (\"Data before filling nulls with the mean per stadium\")\n",
    "for stdm in nullstadium:\n",
    "    print('-' * 50)\n",
    "    print(stdm)\n",
    "    print(df[(df['Stadium'] == stdm)]['Temperature'].value_counts(dropna = False).sort_index())\n",
    "    print(\"Mean: \",df[(df['Stadium'] == stdm)]['Temperature'].mean())\n",
    "    print('-' * 50)\n",
    "    print(\"\\n\")"
   ]
  },
  {
   "cell_type": "code",
   "execution_count": 63,
   "metadata": {},
   "outputs": [],
   "source": [
    "# For each stadium that is missing temperature values, replace missing values with the average\n",
    "for stdm in nullstadium:\n",
    "    m1 = (df['Stadium'] == stdm)\n",
    "    m1m = round(df.loc[m1,'Temperature'].mean(),0)\n",
    "    df.loc[m1,'Temperature'] = df.loc[m1,'Temperature'].fillna(m1m)"
   ]
  },
  {
   "cell_type": "code",
   "execution_count": 64,
   "metadata": {},
   "outputs": [
    {
     "name": "stdout",
     "output_type": "stream",
     "text": [
      "Data after filling nulls with the mean per stadium\n",
      "--------------------------------------------------\n",
      "AT&T Stadium\n",
      "54.0     1144\n",
      "58.0     1166\n",
      "64.0    15862\n",
      "67.0     1254\n",
      "70.0      968\n",
      "74.0      968\n",
      "Name: Temperature, dtype: int64\n",
      "Mean:  64.03810504634397\n",
      "--------------------------------------------------\n",
      "\n",
      "\n",
      "--------------------------------------------------\n",
      "U.S. Bank Stadium\n",
      "70.0    21604\n",
      "Name: Temperature, dtype: int64\n",
      "Mean:  70.0\n",
      "--------------------------------------------------\n",
      "\n",
      "\n",
      "--------------------------------------------------\n",
      "University of Phoenix Stadium\n",
      "71.0     968\n",
      "76.0    4796\n",
      "79.0    1848\n",
      "Name: Temperature, dtype: int64\n",
      "Mean:  76.09248554913295\n",
      "--------------------------------------------------\n",
      "\n",
      "\n",
      "--------------------------------------------------\n",
      "Mercedes-Benz Stadium\n",
      "52.0      968\n",
      "59.0      924\n",
      "60.0      770\n",
      "62.0    13420\n",
      "65.0     1012\n",
      "66.0      990\n",
      "67.0      990\n",
      "Name: Temperature, dtype: int64\n",
      "Mean:  61.89273356401384\n",
      "--------------------------------------------------\n",
      "\n",
      "\n",
      "--------------------------------------------------\n",
      "NRG Stadium\n",
      "46.0     792\n",
      "51.0    1100\n",
      "60.0    1056\n",
      "72.0     858\n",
      "75.0    1232\n",
      "76.0     990\n",
      "77.0    1012\n",
      "78.0     858\n",
      "80.0    1254\n",
      "83.0     968\n",
      "84.0    1034\n",
      "85.0     968\n",
      "86.0    1012\n",
      "87.0     968\n",
      "89.0    2970\n",
      "Name: Temperature, dtype: int64\n",
      "Mean:  77.05798969072166\n",
      "--------------------------------------------------\n",
      "\n",
      "\n",
      "--------------------------------------------------\n",
      "State Farm Stadium\n",
      "70.0    1078\n",
      "72.0    2486\n",
      "74.0    8030\n",
      "75.0    1012\n",
      "82.0    1034\n",
      "Name: Temperature, dtype: int64\n",
      "Mean:  74.0\n",
      "--------------------------------------------------\n",
      "\n",
      "\n"
     ]
    }
   ],
   "source": [
    "print (\"Data after filling nulls with the mean per stadium\")\n",
    "for stdm in nullstadium:\n",
    "    print('-' * 50)\n",
    "    print(stdm)\n",
    "    print(df[(df['Stadium'] == stdm)]['Temperature'].value_counts(dropna = False).sort_index())\n",
    "    print(\"Mean: \",df[(df['Stadium'] == stdm)]['Temperature'].mean())\n",
    "    print('-' * 50)\n",
    "    print(\"\\n\")"
   ]
  },
  {
   "cell_type": "code",
   "execution_count": 65,
   "metadata": {},
   "outputs": [
    {
     "data": {
      "text/plain": [
       "0"
      ]
     },
     "execution_count": 65,
     "metadata": {},
     "output_type": "execute_result"
    }
   ],
   "source": [
    "df[(df['Stadium'] == 'AT&T Stadium')]['Temperature'].isna().sum()"
   ]
  },
  {
   "cell_type": "code",
   "execution_count": 66,
   "metadata": {
    "scrolled": true
   },
   "outputs": [
    {
     "data": {
      "text/plain": [
       "array(['AT&T Stadium', 'Wembley Stadium', 'Mercedes-Benz Stadium',\n",
       "       'University of Phoenix Stadium', 'EverBank Field',\n",
       "       'Hard Rock Stadium', 'Everbank Field', 'MetLife',\n",
       "       'FirstEnergy Stadium', 'TIAA Bank Field', 'Ford Field',\n",
       "       'StubHub Center', 'Arrowhead Stadium', 'State Farm Stadium',\n",
       "       'Dignity Health Sports Park', 'Lambeau Field'], dtype=object)"
      ]
     },
     "execution_count": 66,
     "metadata": {},
     "output_type": "execute_result"
    }
   ],
   "source": [
    "# Looking at the GameWeather field for nulls and for cleaning\n",
    "df[df['GameWeather'].isnull()]['Stadium'].unique()"
   ]
  },
  {
   "cell_type": "code",
   "execution_count": 67,
   "metadata": {},
   "outputs": [
    {
     "data": {
      "text/plain": [
       "array(['Clear and warm', 'Sun & clouds', 'Sunny', 'Controlled Climate',\n",
       "       'Mostly Sunny', 'Clear', nan, 'Indoor', 'Mostly Cloudy',\n",
       "       'Mostly Coudy', 'Partly sunny', 'Partly Cloudy', 'Cloudy',\n",
       "       'Sunny, highs to upper 80s', 'Indoors', 'Light Rain', 'Showers',\n",
       "       'Partly cloudy', 'Partly Sunny', '30% Chance of Rain',\n",
       "       'Cloudy with periods of rain, thunder possible. Winds shifting to WNW, 10-20 mph.',\n",
       "       'Rain', 'Cloudy, fog started developing in 2nd quarter', 'Coudy',\n",
       "       'Rain likely, temps in low 40s.', 'Cold', 'N/A (Indoors)',\n",
       "       'Clear skies', 'cloudy', 'Fair', 'Mostly cloudy',\n",
       "       'Cloudy, chance of rain', 'Heavy lake effect snow', 'Party Cloudy',\n",
       "       'Cloudy, light snow accumulating 1-3\"', 'Cloudy and cold', 'Snow',\n",
       "       'Hazy', 'Scattered Showers', 'Cloudy and Cool', 'N/A Indoor',\n",
       "       'Rain Chance 40%', 'Clear and sunny', 'Mostly sunny',\n",
       "       'Sunny and warm', 'Partly clear', 'Cloudy, 50% change of rain',\n",
       "       'Clear and Sunny', 'Sunny, Windy', 'Clear and Cool',\n",
       "       'Sunny and clear', 'Mostly Sunny Skies', 'Partly Clouidy',\n",
       "       'Clear Skies', 'Sunny Skies', 'Overcast',\n",
       "       'T: 51; H: 55; W: NW 10 mph', 'Cloudy, Rain', 'Rain shower',\n",
       "       'Clear and cold', 'Rainy', 'Sunny and cold',\n",
       "       'Partly cloudy and mild', 'Breezy', 'Light rain', 'partly cloudy',\n",
       "       'Mostly Clear', 'N/A Indoors', 'sUNNY',\n",
       "       'Cloudy with showers and wind', 'overcast', 'Mostly clear',\n",
       "       'Raining', 'Rain and Wind'], dtype=object)"
      ]
     },
     "execution_count": 67,
     "metadata": {},
     "output_type": "execute_result"
    }
   ],
   "source": [
    "df['GameWeather'].unique()"
   ]
  },
  {
   "cell_type": "code",
   "execution_count": 68,
   "metadata": {},
   "outputs": [],
   "source": [
    "df[df['GameWeather'].isnull()]['StadiumType'].unique()\n",
    "#Gameweather is too inconsistent,  can remove\n",
    "df['GameWeather'].fillna(\"Unknown\", inplace=True)\n",
    "#df.drop(['GameWeather'], axis=1, inplace=True)"
   ]
  },
  {
   "cell_type": "markdown",
   "metadata": {},
   "source": [
    "## Cleaning the Stadium Column for consistency\n",
    "The field, Stadium Type was way too large and inconsistent. It needs to be cleaned up, and broken down into a different set of categories"
   ]
  },
  {
   "cell_type": "code",
   "execution_count": 69,
   "metadata": {},
   "outputs": [
    {
     "data": {
      "text/plain": [
       "Outdoor          463804\n",
       "Indoors           77132\n",
       "Domed, closed     57640\n",
       "Domed, Open       41888\n",
       "NaN               41690\n",
       "Name: StadiumType, dtype: int64"
      ]
     },
     "execution_count": 69,
     "metadata": {},
     "output_type": "execute_result"
    }
   ],
   "source": [
    "df['StadiumType']=df['StadiumType'].replace('Oudoor','Outdoor')\n",
    "df['StadiumType']=df['StadiumType'].replace('Outdoors','Outdoor')\n",
    "df['StadiumType']=df['StadiumType'].replace('Outddors','Outdoor')\n",
    "df['StadiumType']=df['StadiumType'].replace('Outdor','Outdoor')\n",
    "df['StadiumType']=df['StadiumType'].replace('Ourdoor','Outdoor')\n",
    "df['StadiumType']=df['StadiumType'].replace('Outside','Outdoor')\n",
    "df['StadiumType']=df['StadiumType'].replace('OUTDOOR','Outdoor')\n",
    "\n",
    "df['StadiumType']=df['StadiumType'].replace('Indoor','Indoors')\n",
    "df['StadiumType']=df['StadiumType'].replace('indoor','Indoors')\n",
    "\n",
    "df['StadiumType']=df['StadiumType'].replace('Heinz Field','Outdoor')\n",
    "df['StadiumType']=df['StadiumType'].replace('Cloudy','Outdoor')\n",
    "df['StadiumType']=df['StadiumType'].replace('Indoor, roof open','Indoor, Open Roof')\n",
    "\n",
    "df['StadiumType']=df['StadiumType'].replace('Bowl','Outdoor')\n",
    "\n",
    "df['StadiumType']=df['StadiumType'].replace('Indoor, Roof Closed','Domed, closed')\n",
    "df['StadiumType']=df['StadiumType'].replace('Closed Dome','Domed, closed')\n",
    "df['StadiumType']=df['StadiumType'].replace('Dome, closed','Domed, closed')\n",
    "df['StadiumType']=df['StadiumType'].replace('Retr. Roof-Closed','Domed, closed')\n",
    "df['StadiumType']=df['StadiumType'].replace('Retr. Roof - Closed','Domed, closed')\n",
    "df['StadiumType']=df['StadiumType'].replace('Retr. Roof Closed','Domed, closed')\n",
    "\n",
    "df['StadiumType']=df['StadiumType'].replace('Dome','Domed, closed')\n",
    "df['StadiumType']=df['StadiumType'].replace('Domed','Domed, closed')\n",
    "df['StadiumType']=df['StadiumType'].replace('Retractable Roof - Closed','Domed, closed')\n",
    "\n",
    "\n",
    "df['StadiumType']=df['StadiumType'].replace('Domed, open','Domed, Open')\n",
    "df['StadiumType']=df['StadiumType'].replace('Indoor, Open Roof','Domed, Open')\n",
    "df['StadiumType']=df['StadiumType'].replace('Indoor, Open Roof','Domed, Open')\n",
    "df['StadiumType']=df['StadiumType'].replace('Retr. Roof-Open','Domed, Open')\n",
    "df['StadiumType']=df['StadiumType'].replace('Retr. Roof - Open','Domed, Open')\n",
    "df['StadiumType']=df['StadiumType'].replace('Open','Domed, Open')\n",
    "df['StadiumType']=df['StadiumType'].replace('Outdoor Retr Roof-Open','Domed, Open')\n",
    "df['StadiumType']=df['StadiumType'].replace('Retractable Roof','Domed, Open')\n",
    "\n",
    "df['StadiumType'].value_counts(dropna = False)"
   ]
  },
  {
   "cell_type": "code",
   "execution_count": 70,
   "metadata": {},
   "outputs": [
    {
     "data": {
      "text/plain": [
       "array(['Domed, closed', 'Domed, Open'], dtype=object)"
      ]
     },
     "execution_count": 70,
     "metadata": {},
     "output_type": "execute_result"
    }
   ],
   "source": [
    "df[df['Stadium'] == 'University of Phoenix Stadium']['StadiumType'].unique()"
   ]
  },
  {
   "cell_type": "code",
   "execution_count": 71,
   "metadata": {},
   "outputs": [
    {
     "data": {
      "text/plain": [
       "MetLife Stadium               21406\n",
       "StubHub Center                14630\n",
       "Dignity Health Sports Park     4686\n",
       "TIAA Bank Field                 968\n",
       "Name: Stadium, dtype: int64"
      ]
     },
     "execution_count": 71,
     "metadata": {},
     "output_type": "execute_result"
    }
   ],
   "source": [
    "# These Stadiums are blank, so we will rely on what was placed prior. If not, Wikipedia will confirm if the stadium is a dome or not\n",
    "df[df['StadiumType'].isnull()]['Stadium'].value_counts(dropna = False)"
   ]
  },
  {
   "cell_type": "code",
   "execution_count": 72,
   "metadata": {},
   "outputs": [
    {
     "data": {
      "text/plain": [
       "array(['Outdoor'], dtype=object)"
      ]
     },
     "execution_count": 72,
     "metadata": {},
     "output_type": "execute_result"
    }
   ],
   "source": [
    "## MetLife Stadium - Home of the New York Giants and Jets\n",
    "df[df['Stadium'] == 'MetLife Stadium']['StadiumType'].unique()  ## array([nan, 'Outdoor'], dtype=object)\n",
    "df[df['Stadium'] == 'MetLife Stadium'] = df[df['Stadium'] == 'MetLife Stadium'].replace(np.nan,'Outdoor')\n",
    "df[df['Stadium'] == 'MetLife Stadium']['StadiumType'].unique()"
   ]
  },
  {
   "cell_type": "code",
   "execution_count": 73,
   "metadata": {},
   "outputs": [
    {
     "data": {
      "text/plain": [
       "array(['Outdoor'], dtype=object)"
      ]
     },
     "execution_count": 73,
     "metadata": {},
     "output_type": "execute_result"
    }
   ],
   "source": [
    "## StubHub Center, now Dignity Health Sports Park, home of the Chargers\n",
    "df[df['Stadium'] == 'StubHub Center']['StadiumType'].unique()  # array([nan], dtype=object)\n",
    "df[df['Stadium'] == 'Dignity Health Sports Park']['StadiumType'].unique()\n",
    "df[df['Stadium'] == 'StubHub Center'] = df[df['Stadium'] == 'StubHub Center'].replace(np.nan,'Outdoor')\n",
    "df[df['Stadium'] == 'Dignity Health Sports Park'] = df[df['Stadium'] == 'Dignity Health Sports Park'].replace(np.nan,'Outdoor')\n",
    "df[df['Stadium'] == 'StubHub Center']['StadiumType'].unique()  # array([nan], dtype=object)\n",
    "df[df['Stadium'] == 'Dignity Health Sports Park']['StadiumType'].unique()"
   ]
  },
  {
   "cell_type": "code",
   "execution_count": 74,
   "metadata": {},
   "outputs": [
    {
     "data": {
      "text/plain": [
       "array(['Domed, Open', 'Outdoor'], dtype=object)"
      ]
     },
     "execution_count": 74,
     "metadata": {},
     "output_type": "execute_result"
    }
   ],
   "source": [
    "# TIAA Bank Field, Home of the Jacksonville Jaguars\n",
    "df[df['Stadium'] == 'TIAA Bank Field']['StadiumType'].unique()  ## array(['Open', 'Outdoor', nan, 'Bowl'], dtype=object)\n",
    "df[df['Stadium'] == 'TIAA Bank Field'] = df[df['Stadium'] == 'TIAA Bank Field'].replace(np.nan,'Outdoor')\n",
    "df[df['Stadium'] == 'TIAA Bank Field']['StadiumType'].unique()"
   ]
  },
  {
   "cell_type": "code",
   "execution_count": 75,
   "metadata": {},
   "outputs": [
    {
     "data": {
      "text/plain": [
       "Series([], Name: Stadium, dtype: int64)"
      ]
     },
     "execution_count": 75,
     "metadata": {},
     "output_type": "execute_result"
    }
   ],
   "source": [
    "df[df['StadiumType'].isnull()]['Stadium'].value_counts()"
   ]
  },
  {
   "cell_type": "code",
   "execution_count": 76,
   "metadata": {},
   "outputs": [],
   "source": [
    "StadiumTypesCodes = {'Outdoor':1, 'Indoors':2, 'Domed, closed':3, 'Domed, Open':4}\n",
    "df.insert(df.columns.get_loc('StadiumType') + 1, 'StadiumTypeCode', df['StadiumType'].map(StadiumTypesCodes ))"
   ]
  },
  {
   "cell_type": "code",
   "execution_count": 77,
   "metadata": {},
   "outputs": [
    {
     "data": {
      "text/html": [
       "<div>\n",
       "<style scoped>\n",
       "    .dataframe tbody tr th:only-of-type {\n",
       "        vertical-align: middle;\n",
       "    }\n",
       "\n",
       "    .dataframe tbody tr th {\n",
       "        vertical-align: top;\n",
       "    }\n",
       "\n",
       "    .dataframe thead th {\n",
       "        text-align: right;\n",
       "    }\n",
       "</style>\n",
       "<table border=\"1\" class=\"dataframe\">\n",
       "  <thead>\n",
       "    <tr style=\"text-align: right;\">\n",
       "      <th></th>\n",
       "      <th>StadiumType</th>\n",
       "      <th>StadiumTypeCode</th>\n",
       "    </tr>\n",
       "  </thead>\n",
       "  <tbody>\n",
       "    <tr>\n",
       "      <th>429747</th>\n",
       "      <td>Indoors</td>\n",
       "      <td>2</td>\n",
       "    </tr>\n",
       "    <tr>\n",
       "      <th>389379</th>\n",
       "      <td>Indoors</td>\n",
       "      <td>2</td>\n",
       "    </tr>\n",
       "    <tr>\n",
       "      <th>370007</th>\n",
       "      <td>Outdoor</td>\n",
       "      <td>1</td>\n",
       "    </tr>\n",
       "    <tr>\n",
       "      <th>36447</th>\n",
       "      <td>Indoors</td>\n",
       "      <td>2</td>\n",
       "    </tr>\n",
       "    <tr>\n",
       "      <th>320504</th>\n",
       "      <td>Outdoor</td>\n",
       "      <td>1</td>\n",
       "    </tr>\n",
       "    <tr>\n",
       "      <th>423622</th>\n",
       "      <td>Domed, closed</td>\n",
       "      <td>3</td>\n",
       "    </tr>\n",
       "    <tr>\n",
       "      <th>473503</th>\n",
       "      <td>Indoors</td>\n",
       "      <td>2</td>\n",
       "    </tr>\n",
       "    <tr>\n",
       "      <th>222549</th>\n",
       "      <td>Outdoor</td>\n",
       "      <td>1</td>\n",
       "    </tr>\n",
       "    <tr>\n",
       "      <th>175390</th>\n",
       "      <td>Outdoor</td>\n",
       "      <td>1</td>\n",
       "    </tr>\n",
       "    <tr>\n",
       "      <th>125752</th>\n",
       "      <td>Domed, Open</td>\n",
       "      <td>4</td>\n",
       "    </tr>\n",
       "  </tbody>\n",
       "</table>\n",
       "</div>"
      ],
      "text/plain": [
       "          StadiumType  StadiumTypeCode\n",
       "429747        Indoors                2\n",
       "389379        Indoors                2\n",
       "370007        Outdoor                1\n",
       "36447         Indoors                2\n",
       "320504        Outdoor                1\n",
       "423622  Domed, closed                3\n",
       "473503        Indoors                2\n",
       "222549        Outdoor                1\n",
       "175390        Outdoor                1\n",
       "125752    Domed, Open                4"
      ]
     },
     "execution_count": 77,
     "metadata": {},
     "output_type": "execute_result"
    }
   ],
   "source": [
    "df[['StadiumType','StadiumTypeCode']].sample(n=10, random_state=99)"
   ]
  },
  {
   "cell_type": "code",
   "execution_count": 78,
   "metadata": {
    "scrolled": true
   },
   "outputs": [
    {
     "data": {
      "text/plain": [
       "0.0"
      ]
     },
     "execution_count": 78,
     "metadata": {},
     "output_type": "execute_result"
    }
   ],
   "source": [
    "null_columns=df.columns[df.isnull().any()]\n",
    "df[null_columns].isnull().sum().sum()"
   ]
  },
  {
   "cell_type": "code",
   "execution_count": 79,
   "metadata": {},
   "outputs": [],
   "source": [
    "for column in df:\n",
    "    if df[column].isnull().any():\n",
    "       print('{0} has {1} null values'.format(column, df[column].isnull().sum()))"
   ]
  },
  {
   "cell_type": "markdown",
   "metadata": {},
   "source": [
    "# Extracting the numbers from the offensive and defensive line\n",
    "Looking at the OffensePersonnel and DefensePersonnel fields, there was a consideration to extract the numbers individually. There's another way of doing it, which is normalizing the other players and count that, so these attributes can be removed."
   ]
  },
  {
   "cell_type": "code",
   "execution_count": 80,
   "metadata": {},
   "outputs": [
    {
     "data": {
      "text/plain": [
       "4 DL, 2 LB, 5 DB          177188\n",
       "4 DL, 3 LB, 4 DB          173250\n",
       "3 DL, 4 LB, 4 DB          110418\n",
       "2 DL, 4 LB, 5 DB           81378\n",
       "3 DL, 3 LB, 5 DB           74932\n",
       "2 DL, 3 LB, 6 DB           17336\n",
       "4 DL, 1 LB, 6 DB           10450\n",
       "5 DL, 2 LB, 4 DB            7084\n",
       "4 DL, 4 LB, 3 DB            6490\n",
       "3 DL, 2 LB, 6 DB            5258\n",
       "5 DL, 3 LB, 3 DB            3212\n",
       "1 DL, 4 LB, 6 DB            2200\n",
       "5 DL, 4 LB, 2 DB            1672\n",
       "3 DL, 5 LB, 3 DB            1672\n",
       "6 DL, 3 LB, 2 DB            1408\n",
       "6 DL, 4 LB, 1 DB            1364\n",
       "5 DL, 1 LB, 5 DB            1100\n",
       "1 DL, 5 LB, 5 DB             924\n",
       "6 DL, 2 LB, 3 DB             880\n",
       "2 DL, 5 LB, 4 DB             616\n",
       "1 DL, 3 LB, 7 DB             506\n",
       "2 DL, 2 LB, 7 DB             418\n",
       "4 DL, 5 LB, 2 DB             352\n",
       "5 DL, 5 LB, 1 DB             330\n",
       "3 DL, 1 LB, 7 DB             286\n",
       "2 DL, 4 LB, 4 DB, 1 RB       220\n",
       "1 DL, 4 LB, 5 DB, 1 RB       154\n",
       "5 DL, 3 LB, 2 DB, 1 OL       154\n",
       "0 DL, 4 LB, 7 DB             132\n",
       "0 DL, 5 LB, 6 DB             132\n",
       "1 DL, 3 LB, 6 DB, 1 RB        88\n",
       "4 DL, 0 LB, 7 DB              66\n",
       "4 DL, 6 LB, 1 DB              66\n",
       "2 DL, 4 LB, 4 DB, 1 OL        66\n",
       "5 DL, 4 LB, 1 DB, 1 OL        66\n",
       "0 DL, 6 LB, 5 DB              44\n",
       "3 DL, 4 LB, 3 DB, 1 RB        44\n",
       "2 DL, 3 LB, 5 DB, 1 RB        44\n",
       "7 DL, 2 LB, 2 DB              22\n",
       "4 DL, 3 LB, 5 DB              22\n",
       "4 DL, 5 LB, 1 DB, 1 OL        22\n",
       "6 DL, 1 LB, 4 DB              22\n",
       "1 DL, 2 LB, 8 DB              22\n",
       "0 DL, 4 LB, 6 DB, 1 RB        22\n",
       "3 DL, 4 LB, 3 DB, 1 OL        22\n",
       "Name: DefensePersonnel, dtype: int64"
      ]
     },
     "execution_count": 80,
     "metadata": {},
     "output_type": "execute_result"
    }
   ],
   "source": [
    "df['DefensePersonnel'].value_counts(dropna = False)"
   ]
  },
  {
   "cell_type": "code",
   "execution_count": 81,
   "metadata": {},
   "outputs": [],
   "source": [
    "# Both text fields are redundant after the normalization data, so it can be removed\n",
    "#df.drop(['OffensePersonnel', 'DefensePersonnel'], axis=1, inplace=True)"
   ]
  },
  {
   "cell_type": "markdown",
   "metadata": {},
   "source": [
    "## Fixing other fields that are string to integer\n",
    "Some of the string fields need to be factorized to categorical integers. Most have been done in the process, so the only one outstanding is the play direction. "
   ]
  },
  {
   "cell_type": "code",
   "execution_count": 82,
   "metadata": {},
   "outputs": [],
   "source": [
    "#df['PlayDirection'].unique()\n",
    "df.insert(df.columns.get_loc('PlayDirection') + 1, 'isPlayDirectionLeft', np.where(df['PlayDirection'] == 'left', 1, 0 ) )"
   ]
  },
  {
   "cell_type": "code",
   "execution_count": 83,
   "metadata": {},
   "outputs": [],
   "source": [
    "df.insert(df.columns.get_loc('PlayerCollegeName') + 1, 'PlayerCollegeNameCode', df['PlayerCollegeName'].factorize()[0])\n",
    "df[['PlayerCollegeNameCode','PlayerCollegeName']].drop_duplicates().sort_index().to_csv('../data/interim/data_PlayerCollegeName.csv', index=False)"
   ]
  },
  {
   "cell_type": "code",
   "execution_count": 84,
   "metadata": {},
   "outputs": [],
   "source": [
    "df[['NflId','DisplayName']].drop_duplicates().sort_index().to_csv('../data/interim/data_DisplayName.csv', index=False)"
   ]
  },
  {
   "cell_type": "code",
   "execution_count": 85,
   "metadata": {},
   "outputs": [],
   "source": [
    "dfTeam = pd.DataFrame.from_dict(dctTeamab, orient=\"index\").to_csv(\"../data/interim/data_TeamAbbreviations.csv\")"
   ]
  },
  {
   "cell_type": "code",
   "execution_count": 86,
   "metadata": {
    "scrolled": true
   },
   "outputs": [
    {
     "data": {
      "text/plain": [
       "Index(['Team', 'DisplayName', 'PossessionTeam', 'FieldPosition',\n",
       "       'OffenseFormation', 'OffensePersonnel', 'DefensePersonnel',\n",
       "       'PlayDirection', 'PlayerHeight', 'PlayerCollegeName', 'Position',\n",
       "       'HomeTeamAbbr', 'VisitorTeamAbbr', 'Stadium', 'Location', 'StadiumType',\n",
       "       'Turf', 'GameWeather', 'WindSpeed', 'WindDirection'],\n",
       "      dtype='object')"
      ]
     },
     "execution_count": 86,
     "metadata": {},
     "output_type": "execute_result"
    }
   ],
   "source": [
    "df.select_dtypes(include=['object']).columns"
   ]
  },
  {
   "cell_type": "code",
   "execution_count": 87,
   "metadata": {},
   "outputs": [
    {
     "data": {
      "text/plain": [
       "array(['Foxborough, MA', 'Orchard Park NY', 'Chicago. IL',\n",
       "       'Cincinnati, Ohio', 'Cleveland, Ohio', 'Detroit, MI',\n",
       "       'Houston, Texas', 'Nashville, TN', 'Landover, MD',\n",
       "       'Los Angeles, Calif.', 'Green Bay, WI', 'Santa Clara, CA',\n",
       "       'Arlington, Texas', 'Minneapolis, MN', 'Denver, CO',\n",
       "       'Baltimore, Md.', 'Charlotte, North Carolina',\n",
       "       'Indianapolis, Ind.', 'Jacksonville, FL', 'Kansas City, MO',\n",
       "       'New Orleans, LA', 'Pittsburgh', 'Tampa, FL', 'Carson, CA',\n",
       "       'Oakland, CA', 'Seattle, WA', 'Atlanta, GA', 'East Rutherford, NJ',\n",
       "       'London, England', 'Chicago, IL', 'Detroit', 'Philadelphia, Pa.',\n",
       "       'Glendale, AZ', 'Cleveland, OH', 'Foxborough, Ma',\n",
       "       'E. Rutherford, NJ', 'Miami Gardens, Fla.', 'Houston, TX',\n",
       "       'London', 'New Orleans, La.', 'Mexico City', 'Baltimore, Maryland',\n",
       "       'Arlington, TX', 'Jacksonville, Fl', 'Jacksonville, Florida',\n",
       "       'Pittsburgh, PA', 'Charlotte, NC', 'Cleveland,Ohio',\n",
       "       'East Rutherford, N.J.', 'Philadelphia, PA', 'Seattle',\n",
       "       'Cleveland Ohio', 'Miami Gardens, FLA', 'Orchard Park, NY',\n",
       "       'Cleveland', 'Cincinnati, OH', 'Kansas City,  MO',\n",
       "       'Jacksonville Florida', 'Los Angeles, CA', 'New Orleans',\n",
       "       'Chicago', 'Charlotte North Carolina', 'Miami Gardens, FL',\n",
       "       'Denver CO', 'Santa Clara, CSA', 'Baltimore, MD',\n",
       "       'Mexico City, Mexico'], dtype=object)"
      ]
     },
     "execution_count": 87,
     "metadata": {},
     "output_type": "execute_result"
    }
   ],
   "source": [
    "# Location is redundant, remove\n",
    "df['Location'].unique()\n",
    "#df.drop(['Location'], axis=1, inplace=True)"
   ]
  },
  {
   "cell_type": "markdown",
   "metadata": {},
   "source": [
    "# Turf Text to Categorical\n",
    "The turf field can be cleaned up. The field mentions when the field is grass, turf, or a hybrid of both. The attribute has a list of products, so I normalized the data so that it falls under the three categories, and then made a categorical integer field. "
   ]
  },
  {
   "cell_type": "code",
   "execution_count": 88,
   "metadata": {},
   "outputs": [
    {
     "data": {
      "text/plain": [
       "['Field Turf',\n",
       " 'A-Turf Titan',\n",
       " 'Grass',\n",
       " 'UBU Sports Speed S5-M',\n",
       " 'Artificial',\n",
       " 'DD GrassMaster',\n",
       " 'Natural Grass',\n",
       " 'UBU Speed Series-S5-M',\n",
       " 'FieldTurf',\n",
       " 'FieldTurf 360',\n",
       " 'Natural grass',\n",
       " 'grass',\n",
       " 'Natural',\n",
       " 'Artifical',\n",
       " 'FieldTurf360',\n",
       " 'Naturall Grass',\n",
       " 'Field turf',\n",
       " 'SISGrass',\n",
       " 'Twenty-Four/Seven Turf',\n",
       " 'natural grass',\n",
       " 'UBU-Speed Series-S5-M',\n",
       " 'Twenty Four/Seven Turf',\n",
       " 'Turf']"
      ]
     },
     "execution_count": 88,
     "metadata": {},
     "output_type": "execute_result"
    }
   ],
   "source": [
    "list(df['Turf'].unique())"
   ]
  },
  {
   "cell_type": "code",
   "execution_count": 89,
   "metadata": {},
   "outputs": [],
   "source": [
    "# df['Turf']=df['Turf'].replace('Domed','Domed, closed')\n",
    "df['Turf']=df['Turf'].str.replace(r'^.*\\b(?:[Tt]urf)\\b.*$','Turf')\n",
    "df['Turf']=df['Turf'].str.replace(r'^.*\\b(?:[Gg]rass)\\b.*$','Grass')\n",
    "\n",
    "df['Turf']=df['Turf'].str.replace(r'^.*SISGrass.*$','Hybrid')\n",
    "df['Turf']=df['Turf'].str.replace(r'^.*DD GrassMaster.*$','Hybrid')\n",
    "\n",
    "df['Turf']=df['Turf'].str.replace(r'^.*Turf.*$','Turf')\n",
    "df['Turf']=df['Turf'].str.replace(r'^.*UBU.*$','Turf')\n",
    "df['Turf']=df['Turf'].str.replace(r'^.*Artific[i]?al.*$','Turf')\n",
    "df['Turf']=df['Turf'].str.replace(r'^.*FieldTurf.*$','Turf')\n",
    "\n",
    "df['Turf']=df['Turf'].str.replace(r'^.*Natural.*$','Grass')\n",
    "\n"
   ]
  },
  {
   "cell_type": "code",
   "execution_count": 90,
   "metadata": {},
   "outputs": [
    {
     "data": {
      "text/plain": [
       "Grass     377278\n",
       "Turf      283140\n",
       "Hybrid     21736\n",
       "Name: Turf, dtype: int64"
      ]
     },
     "execution_count": 90,
     "metadata": {},
     "output_type": "execute_result"
    }
   ],
   "source": [
    "df['Turf'].value_counts(dropna = False)"
   ]
  },
  {
   "cell_type": "code",
   "execution_count": 91,
   "metadata": {},
   "outputs": [],
   "source": [
    "TurfCodes = {'Grass':1, 'Turf':2, 'Hybrid':3}\n",
    "df.insert(df.columns.get_loc('Turf') + 1, 'TurfCode', df['Turf'].map(TurfCodes ))"
   ]
  },
  {
   "cell_type": "markdown",
   "metadata": {},
   "source": [
    "## Position field corrections\n",
    "There are 22 players on the field for every play. So every PlayId has 22 entries for each. All that will be focussed on is the running back making the play, but to remove all the other players info seems like a waste. So the position of the player will be collected. So, for example, if in one play, there are 2 defensive tackles on the field at the time of the play, the newly created column of Defensive Tackles will have a 2 in it. "
   ]
  },
  {
   "cell_type": "code",
   "execution_count": 92,
   "metadata": {},
   "outputs": [],
   "source": [
    "# Add a new Position Text field for cleaning\n",
    "df.insert(df.columns.get_loc('Position') + 1, 'PositionText', df['Position'] )"
   ]
  },
  {
   "cell_type": "code",
   "execution_count": 93,
   "metadata": {
    "scrolled": false
   },
   "outputs": [
    {
     "data": {
      "text/plain": [
       "CB     74474\n",
       "WR     71494\n",
       "T      56266\n",
       "G      54613\n",
       "DT     47220\n",
       "DE     46827\n",
       "TE     44232\n",
       "OLB    43333\n",
       "C      32997\n",
       "FS     32691\n",
       "RB     31370\n",
       "QB     31153\n",
       "SS     26790\n",
       "ILB    23029\n",
       "LB     13989\n",
       "MLB    13276\n",
       "NT     10753\n",
       "OT      8370\n",
       "OG      4945\n",
       "FB      4799\n",
       "DB      4756\n",
       "S       2656\n",
       "DL      1134\n",
       "HB       968\n",
       "SAF       19\n",
       "Name: PositionText, dtype: int64"
      ]
     },
     "execution_count": 93,
     "metadata": {},
     "output_type": "execute_result"
    }
   ],
   "source": [
    "df['PositionText'].value_counts(dropna = False)"
   ]
  },
  {
   "cell_type": "code",
   "execution_count": 94,
   "metadata": {},
   "outputs": [],
   "source": [
    "# Strong Safety and Free Safety, and \"SAF\" are just safety\n",
    "df['PositionText']=df['PositionText'].replace('SS','S')\n",
    "df['PositionText']=df['PositionText'].replace('FS','S')\n",
    "df['PositionText']=df['PositionText'].replace('SAF','S')\n",
    "# Outside Line Backers, Inside Line backers and Middle Line Backgers to Line Backers\n",
    "df['PositionText']=df['PositionText'].replace('OLB','LB')\n",
    "df['PositionText']=df['PositionText'].replace('MLB','LB')\n",
    "df['PositionText']=df['PositionText'].replace('ILB','LB')\n",
    "# For Simplicity sake, Defensive backs can be Cornerbacks or Safeties, so I'll set them as Cornerbacks\n",
    "df['PositionText']=df['PositionText'].replace('DB','CB')\n",
    "# Defensive linemen are gouped as linemen\n",
    "df['PositionText']=df['PositionText'].replace('DL','LB')\n",
    "# Offensive tacles and offensive guards are grouped together for simplicity\n",
    "df['PositionText']=df['PositionText'].replace('T','OT')\n",
    "df['PositionText']=df['PositionText'].replace('G','OG')"
   ]
  },
  {
   "cell_type": "code",
   "execution_count": 95,
   "metadata": {},
   "outputs": [],
   "source": [
    "df['PositionText']=df['PositionText'].replace('QB','Quarterbacks')\n",
    "df['PositionText']=df['PositionText'].replace('RB','RunningBacks')\n",
    "df['PositionText']=df['PositionText'].replace('FB','Fullbacks')\n",
    "df['PositionText']=df['PositionText'].replace('WR','WideReceivers')\n",
    "df['PositionText']=df['PositionText'].replace('TE','TightEnds')\n",
    "df['PositionText']=df['PositionText'].replace('HB','Halfbacks')\n",
    "\n",
    "df['PositionText']=df['PositionText'].replace('CB','Cornerbacks')\n",
    "df['PositionText']=df['PositionText'].replace('S','Safeties')\n",
    "df['PositionText']=df['PositionText'].replace('DT','DefensiveTackles')\n",
    "df['PositionText']=df['PositionText'].replace('NT','NoseTackles')\n",
    "df['PositionText']=df['PositionText'].replace('DE','DefensiveEnds')\n",
    "df['PositionText']=df['PositionText'].replace('LB','LineBackers')\n",
    "\n",
    "df['PositionText']=df['PositionText'].replace('C','Centers')\n",
    "df['PositionText']=df['PositionText'].replace('OT','OffensiveTackles')\n",
    "df['PositionText']=df['PositionText'].replace('OG','OffensiveGuards')\n"
   ]
  },
  {
   "cell_type": "code",
   "execution_count": 96,
   "metadata": {},
   "outputs": [],
   "source": [
    "# Normalizing the newly created PositionText field to add 15 new attributes, containing the counts of each position\n",
    "# This will replace the OffensivePersonnel and DefensePersonnel attributes.\n",
    "dfpositions = df.groupby('PlayId')['PositionText'].value_counts().unstack().fillna(0).astype('int64')"
   ]
  },
  {
   "cell_type": "code",
   "execution_count": 97,
   "metadata": {},
   "outputs": [
    {
     "data": {
      "text/plain": [
       "(31007, 69)"
      ]
     },
     "execution_count": 97,
     "metadata": {},
     "output_type": "execute_result"
    }
   ],
   "source": [
    "# Separating the dataset so that the player making the play is the focus\n",
    "dfrun = df[df[\"NflIdRusher\"] == df[\"NflId\"]]\n",
    "dfrun.shape"
   ]
  },
  {
   "cell_type": "code",
   "execution_count": 98,
   "metadata": {},
   "outputs": [],
   "source": [
    "# Merging the normalized data with the newly extracted data\n",
    "dfmerge = pd.merge(dfrun, dfpositions, on='PlayId')"
   ]
  },
  {
   "cell_type": "markdown",
   "metadata": {},
   "source": [
    "### Save the new files to the appropriate directories\n",
    "One final check of the data, dropping some of the obviously unneeded columns, and saving the first stage of data into a csv file. It looks like all of the fields are full with no N/A fields. Also, the data went from 45 columns to 83 columns, so a lot of attributes are going to be dropped in the next stages. "
   ]
  },
  {
   "cell_type": "code",
   "execution_count": 99,
   "metadata": {},
   "outputs": [
    {
     "name": "stdout",
     "output_type": "stream",
     "text": [
      "<class 'pandas.core.frame.DataFrame'>\n",
      "Int64Index: 31007 entries, 0 to 31006\n",
      "Data columns (total 84 columns):\n",
      " #   Column                  Non-Null Count  Dtype              \n",
      "---  ------                  --------------  -----              \n",
      " 0   GameId                  31007 non-null  int64              \n",
      " 1   PlayId                  31007 non-null  int64              \n",
      " 2   Team                    31007 non-null  object             \n",
      " 3   isHomeTeam              31007 non-null  int32              \n",
      " 4   X                       31007 non-null  float64            \n",
      " 5   Y                       31007 non-null  float64            \n",
      " 6   S                       31007 non-null  float64            \n",
      " 7   A                       31007 non-null  float64            \n",
      " 8   Dis                     31007 non-null  float64            \n",
      " 9   Orientation             31007 non-null  float64            \n",
      " 10  Dir                     31007 non-null  float64            \n",
      " 11  NflId                   31007 non-null  int64              \n",
      " 12  DisplayName             31007 non-null  object             \n",
      " 13  JerseyNumber            31007 non-null  int64              \n",
      " 14  Season                  31007 non-null  int64              \n",
      " 15  YardLine                31007 non-null  int64              \n",
      " 16  Quarter                 31007 non-null  int64              \n",
      " 17  GameClock               31007 non-null  datetime64[ns]     \n",
      " 18  PossessionTeam          31007 non-null  object             \n",
      " 19  PossessionTeamAbbrCode  31007 non-null  int64              \n",
      " 20  Down                    31007 non-null  int64              \n",
      " 21  Distance                31007 non-null  int64              \n",
      " 22  FieldPosition           31007 non-null  object             \n",
      " 23  FieldPositionCode       31007 non-null  int64              \n",
      " 24  HomeScoreBeforePlay     31007 non-null  int64              \n",
      " 25  VisitorScoreBeforePlay  31007 non-null  int64              \n",
      " 26  LeadDeficit             31007 non-null  int64              \n",
      " 27  IsPossTeamInLead        31007 non-null  int32              \n",
      " 28  IsPossTeamInDeficit     31007 non-null  int32              \n",
      " 29  NflIdRusher             31007 non-null  int64              \n",
      " 30  OffenseFormation        31007 non-null  object             \n",
      " 31  OffensePersonnel        31007 non-null  object             \n",
      " 32  DefendersInTheBox       31007 non-null  int64              \n",
      " 33  DefensePersonnel        31007 non-null  object             \n",
      " 34  PlayDirection           31007 non-null  object             \n",
      " 35  isPlayDirectionLeft     31007 non-null  int32              \n",
      " 36  TimeHandoff             31007 non-null  datetime64[ns, UTC]\n",
      " 37  TimeSnap                31007 non-null  datetime64[ns]     \n",
      " 38  TimeSnapDiff            31007 non-null  float64            \n",
      " 39  Yards                   31007 non-null  int64              \n",
      " 40  YardsToTouchdown        31007 non-null  int64              \n",
      " 41  PlayerHeight            31007 non-null  object             \n",
      " 42  PlayerHeightFt          31007 non-null  int64              \n",
      " 43  PlayerHeightIn          31007 non-null  int64              \n",
      " 44  PlayerHeightInches      31007 non-null  int64              \n",
      " 45  PlayerWeight            31007 non-null  int64              \n",
      " 46  PlayerBirthDate         31007 non-null  datetime64[ns, UTC]\n",
      " 47  Age                     31007 non-null  int32              \n",
      " 48  PlayerCollegeName       31007 non-null  object             \n",
      " 49  PlayerCollegeNameCode   31007 non-null  int64              \n",
      " 50  Position                31007 non-null  object             \n",
      " 51  PositionText            31007 non-null  object             \n",
      " 52  HomeTeamAbbr            31007 non-null  object             \n",
      " 53  HomeTeamAbbrCode        31007 non-null  int64              \n",
      " 54  VisitorTeamAbbr         31007 non-null  object             \n",
      " 55  VisitorTeamAbbrCode     31007 non-null  int64              \n",
      " 56  Week                    31007 non-null  int64              \n",
      " 57  Stadium                 31007 non-null  object             \n",
      " 58  Location                31007 non-null  object             \n",
      " 59  StadiumType             31007 non-null  object             \n",
      " 60  StadiumTypeCode         31007 non-null  int64              \n",
      " 61  Turf                    31007 non-null  object             \n",
      " 62  TurfCode                31007 non-null  int64              \n",
      " 63  GameWeather             31007 non-null  object             \n",
      " 64  Temperature             31007 non-null  float64            \n",
      " 65  Humidity                31007 non-null  float64            \n",
      " 66  WindSpeed               31007 non-null  object             \n",
      " 67  WindDirection           31007 non-null  object             \n",
      " 68  isFirstDown             31007 non-null  int32              \n",
      " 69  Centers                 31007 non-null  int64              \n",
      " 70  Cornerbacks             31007 non-null  int64              \n",
      " 71  DefensiveEnds           31007 non-null  int64              \n",
      " 72  DefensiveTackles        31007 non-null  int64              \n",
      " 73  Fullbacks               31007 non-null  int64              \n",
      " 74  Halfbacks               31007 non-null  int64              \n",
      " 75  LineBackers             31007 non-null  int64              \n",
      " 76  NoseTackles             31007 non-null  int64              \n",
      " 77  OffensiveGuards         31007 non-null  int64              \n",
      " 78  OffensiveTackles        31007 non-null  int64              \n",
      " 79  Quarterbacks            31007 non-null  int64              \n",
      " 80  RunningBacks            31007 non-null  int64              \n",
      " 81  Safeties                31007 non-null  int64              \n",
      " 82  TightEnds               31007 non-null  int64              \n",
      " 83  WideReceivers           31007 non-null  int64              \n",
      "dtypes: datetime64[ns, UTC](2), datetime64[ns](2), float64(10), int32(6), int64(43), object(21)\n",
      "memory usage: 19.4+ MB\n"
     ]
    }
   ],
   "source": [
    "dfmerge.info()"
   ]
  },
  {
   "cell_type": "code",
   "execution_count": 100,
   "metadata": {},
   "outputs": [],
   "source": [
    "# Dropping the columns that are definitely not needed moving forward\n",
    "dfmerge.drop(['Stadium','Humidity','Location','OffensePersonnel', 'DefensePersonnel','GameWeather'], axis=1, inplace=True)\n",
    "dfmerge.drop(['PlayerHeight','PlayerHeightFt','PlayerHeightIn'], axis=1, inplace=True)\n",
    "dfmerge.drop(['YardLine','LeadDeficit'], axis=1, inplace=True)\n"
   ]
  },
  {
   "cell_type": "code",
   "execution_count": 101,
   "metadata": {
    "scrolled": false
   },
   "outputs": [],
   "source": [
    "dfmerge.to_csv(\"../data/processed/data_cleaned.csv\", index=False)"
   ]
  }
 ],
 "metadata": {
  "kernelspec": {
   "display_name": "Python 3",
   "language": "python",
   "name": "python3"
  },
  "language_info": {
   "codemirror_mode": {
    "name": "ipython",
    "version": 3
   },
   "file_extension": ".py",
   "mimetype": "text/x-python",
   "name": "python",
   "nbconvert_exporter": "python",
   "pygments_lexer": "ipython3",
   "version": "3.7.6"
  }
 },
 "nbformat": 4,
 "nbformat_minor": 2
}
