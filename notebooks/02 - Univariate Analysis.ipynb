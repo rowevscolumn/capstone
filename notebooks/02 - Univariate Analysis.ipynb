{
 "cells": [
  {
   "cell_type": "markdown",
   "metadata": {},
   "source": [
    "# 02 - Univariate Analysis"
   ]
  },
  {
   "cell_type": "code",
   "execution_count": 1,
   "metadata": {},
   "outputs": [],
   "source": [
    "# All import insertions\n",
    "import numpy as np\n",
    "import pandas as pd\n",
    "import seaborn as sns\n",
    "from pandas import isnull\n",
    "from sklearn import preprocessing\n",
    "import os    # For file paths\n",
    "import re    # Regular Expressions\n",
    "\n",
    "import matplotlib.pyplot as plt\n",
    "%matplotlib inline\n",
    "\n",
    "import datetime as dt\n"
   ]
  },
  {
   "cell_type": "code",
   "execution_count": 2,
   "metadata": {},
   "outputs": [],
   "source": [
    "pd.reset_option('display.max_categories')\n",
    "pd.reset_option('display.max_rows')\n",
    "pd.reset_option('display.max_columns')\n",
    "pd.reset_option('display.width')"
   ]
  },
  {
   "cell_type": "code",
   "execution_count": 3,
   "metadata": {},
   "outputs": [],
   "source": [
    "# pd.set_option('display.max_categories', 1000)\n",
    "# pd.set_option('display.max_rows', 500)\n",
    "# pd.set_option('display.max_columns', 500)\n",
    "# pd.set_option('display.width', 1000)"
   ]
  },
  {
   "cell_type": "code",
   "execution_count": 4,
   "metadata": {},
   "outputs": [],
   "source": [
    "# Open the file\n",
    "df = pd.read_csv(\"../data/processed/data_cleaned.csv\")"
   ]
  },
  {
   "cell_type": "markdown",
   "metadata": {},
   "source": [
    "## Game Id count\n",
    "31007 plays among 688 games"
   ]
  },
  {
   "cell_type": "code",
   "execution_count": 5,
   "metadata": {},
   "outputs": [
    {
     "data": {
      "text/plain": [
       "GameId           0\n",
       "PlayId           0\n",
       "Team             0\n",
       "isHomeTeam       0\n",
       "X                0\n",
       "                ..\n",
       "Quarterbacks     0\n",
       "RunningBacks     0\n",
       "Safeties         0\n",
       "TightEnds        0\n",
       "WideReceivers    0\n",
       "Length: 78, dtype: int64"
      ]
     },
     "execution_count": 5,
     "metadata": {},
     "output_type": "execute_result"
    }
   ],
   "source": [
    "df.isna().sum()"
   ]
  },
  {
   "cell_type": "code",
   "execution_count": 6,
   "metadata": {},
   "outputs": [
    {
     "data": {
      "text/plain": [
       "688"
      ]
     },
     "execution_count": 6,
     "metadata": {},
     "output_type": "execute_result"
    }
   ],
   "source": [
    "df['GameId'].nunique()"
   ]
  },
  {
   "cell_type": "markdown",
   "metadata": {},
   "source": [
    "## PlayID count\n",
    "Unique number to identify"
   ]
  },
  {
   "cell_type": "code",
   "execution_count": 7,
   "metadata": {},
   "outputs": [
    {
     "data": {
      "text/plain": [
       "0"
      ]
     },
     "execution_count": 7,
     "metadata": {},
     "output_type": "execute_result"
    }
   ],
   "source": [
    "df['PlayId'].isna().sum()"
   ]
  },
  {
   "cell_type": "code",
   "execution_count": 8,
   "metadata": {},
   "outputs": [
    {
     "data": {
      "text/plain": [
       "31007"
      ]
     },
     "execution_count": 8,
     "metadata": {},
     "output_type": "execute_result"
    }
   ],
   "source": [
    "df['PlayId'].nunique()"
   ]
  },
  {
   "cell_type": "code",
   "execution_count": 9,
   "metadata": {},
   "outputs": [
    {
     "data": {
      "text/html": [
       "<div>\n",
       "<style scoped>\n",
       "    .dataframe tbody tr th:only-of-type {\n",
       "        vertical-align: middle;\n",
       "    }\n",
       "\n",
       "    .dataframe tbody tr th {\n",
       "        vertical-align: top;\n",
       "    }\n",
       "\n",
       "    .dataframe thead th {\n",
       "        text-align: right;\n",
       "    }\n",
       "</style>\n",
       "<table border=\"1\" class=\"dataframe\">\n",
       "  <thead>\n",
       "    <tr style=\"text-align: right;\">\n",
       "      <th></th>\n",
       "      <th>GameId</th>\n",
       "      <th>Team</th>\n",
       "      <th>isHomeTeam</th>\n",
       "      <th>X</th>\n",
       "      <th>Y</th>\n",
       "      <th>S</th>\n",
       "      <th>A</th>\n",
       "      <th>Dis</th>\n",
       "      <th>Orientation</th>\n",
       "      <th>Dir</th>\n",
       "      <th>...</th>\n",
       "      <th>Halfbacks</th>\n",
       "      <th>LineBackers</th>\n",
       "      <th>NoseTackles</th>\n",
       "      <th>OffensiveGuards</th>\n",
       "      <th>OffensiveTackles</th>\n",
       "      <th>Quarterbacks</th>\n",
       "      <th>RunningBacks</th>\n",
       "      <th>Safeties</th>\n",
       "      <th>TightEnds</th>\n",
       "      <th>WideReceivers</th>\n",
       "    </tr>\n",
       "    <tr>\n",
       "      <th>PlayId</th>\n",
       "      <th></th>\n",
       "      <th></th>\n",
       "      <th></th>\n",
       "      <th></th>\n",
       "      <th></th>\n",
       "      <th></th>\n",
       "      <th></th>\n",
       "      <th></th>\n",
       "      <th></th>\n",
       "      <th></th>\n",
       "      <th></th>\n",
       "      <th></th>\n",
       "      <th></th>\n",
       "      <th></th>\n",
       "      <th></th>\n",
       "      <th></th>\n",
       "      <th></th>\n",
       "      <th></th>\n",
       "      <th></th>\n",
       "      <th></th>\n",
       "      <th></th>\n",
       "    </tr>\n",
       "  </thead>\n",
       "  <tbody>\n",
       "    <tr>\n",
       "      <td>20170907000118</td>\n",
       "      <td>2017090700</td>\n",
       "      <td>home</td>\n",
       "      <td>1</td>\n",
       "      <td>78.75</td>\n",
       "      <td>30.53</td>\n",
       "      <td>3.63</td>\n",
       "      <td>3.35</td>\n",
       "      <td>0.38</td>\n",
       "      <td>161.98</td>\n",
       "      <td>245.74</td>\n",
       "      <td>...</td>\n",
       "      <td>0</td>\n",
       "      <td>1</td>\n",
       "      <td>0</td>\n",
       "      <td>2</td>\n",
       "      <td>2</td>\n",
       "      <td>1</td>\n",
       "      <td>1</td>\n",
       "      <td>3</td>\n",
       "      <td>1</td>\n",
       "      <td>3</td>\n",
       "    </tr>\n",
       "    <tr>\n",
       "      <td>20170907000139</td>\n",
       "      <td>2017090700</td>\n",
       "      <td>home</td>\n",
       "      <td>1</td>\n",
       "      <td>71.07</td>\n",
       "      <td>27.16</td>\n",
       "      <td>3.06</td>\n",
       "      <td>2.41</td>\n",
       "      <td>0.34</td>\n",
       "      <td>210.70</td>\n",
       "      <td>312.20</td>\n",
       "      <td>...</td>\n",
       "      <td>0</td>\n",
       "      <td>1</td>\n",
       "      <td>0</td>\n",
       "      <td>2</td>\n",
       "      <td>2</td>\n",
       "      <td>1</td>\n",
       "      <td>1</td>\n",
       "      <td>3</td>\n",
       "      <td>1</td>\n",
       "      <td>3</td>\n",
       "    </tr>\n",
       "    <tr>\n",
       "      <td>20170907000189</td>\n",
       "      <td>2017090700</td>\n",
       "      <td>home</td>\n",
       "      <td>1</td>\n",
       "      <td>48.66</td>\n",
       "      <td>19.11</td>\n",
       "      <td>5.77</td>\n",
       "      <td>2.42</td>\n",
       "      <td>0.60</td>\n",
       "      <td>140.82</td>\n",
       "      <td>221.96</td>\n",
       "      <td>...</td>\n",
       "      <td>0</td>\n",
       "      <td>1</td>\n",
       "      <td>0</td>\n",
       "      <td>2</td>\n",
       "      <td>2</td>\n",
       "      <td>1</td>\n",
       "      <td>1</td>\n",
       "      <td>3</td>\n",
       "      <td>1</td>\n",
       "      <td>3</td>\n",
       "    </tr>\n",
       "    <tr>\n",
       "      <td>20170907000345</td>\n",
       "      <td>2017090700</td>\n",
       "      <td>home</td>\n",
       "      <td>1</td>\n",
       "      <td>15.53</td>\n",
       "      <td>25.36</td>\n",
       "      <td>4.45</td>\n",
       "      <td>3.20</td>\n",
       "      <td>0.46</td>\n",
       "      <td>186.22</td>\n",
       "      <td>275.44</td>\n",
       "      <td>...</td>\n",
       "      <td>0</td>\n",
       "      <td>3</td>\n",
       "      <td>1</td>\n",
       "      <td>2</td>\n",
       "      <td>3</td>\n",
       "      <td>1</td>\n",
       "      <td>1</td>\n",
       "      <td>2</td>\n",
       "      <td>2</td>\n",
       "      <td>0</td>\n",
       "    </tr>\n",
       "    <tr>\n",
       "      <td>20170907000395</td>\n",
       "      <td>2017090700</td>\n",
       "      <td>away</td>\n",
       "      <td>0</td>\n",
       "      <td>29.99</td>\n",
       "      <td>27.12</td>\n",
       "      <td>3.90</td>\n",
       "      <td>2.53</td>\n",
       "      <td>0.44</td>\n",
       "      <td>34.27</td>\n",
       "      <td>157.92</td>\n",
       "      <td>...</td>\n",
       "      <td>0</td>\n",
       "      <td>2</td>\n",
       "      <td>0</td>\n",
       "      <td>1</td>\n",
       "      <td>3</td>\n",
       "      <td>1</td>\n",
       "      <td>1</td>\n",
       "      <td>4</td>\n",
       "      <td>3</td>\n",
       "      <td>1</td>\n",
       "    </tr>\n",
       "  </tbody>\n",
       "</table>\n",
       "<p>5 rows × 77 columns</p>\n",
       "</div>"
      ],
      "text/plain": [
       "                    GameId  Team  isHomeTeam      X      Y     S     A   Dis  \\\n",
       "PlayId                                                                         \n",
       "20170907000118  2017090700  home           1  78.75  30.53  3.63  3.35  0.38   \n",
       "20170907000139  2017090700  home           1  71.07  27.16  3.06  2.41  0.34   \n",
       "20170907000189  2017090700  home           1  48.66  19.11  5.77  2.42  0.60   \n",
       "20170907000345  2017090700  home           1  15.53  25.36  4.45  3.20  0.46   \n",
       "20170907000395  2017090700  away           0  29.99  27.12  3.90  2.53  0.44   \n",
       "\n",
       "                Orientation     Dir  ...  Halfbacks LineBackers  NoseTackles  \\\n",
       "PlayId                               ...                                       \n",
       "20170907000118       161.98  245.74  ...          0           1            0   \n",
       "20170907000139       210.70  312.20  ...          0           1            0   \n",
       "20170907000189       140.82  221.96  ...          0           1            0   \n",
       "20170907000345       186.22  275.44  ...          0           3            1   \n",
       "20170907000395        34.27  157.92  ...          0           2            0   \n",
       "\n",
       "                OffensiveGuards  OffensiveTackles  Quarterbacks RunningBacks  \\\n",
       "PlayId                                                                         \n",
       "20170907000118                2                 2             1            1   \n",
       "20170907000139                2                 2             1            1   \n",
       "20170907000189                2                 2             1            1   \n",
       "20170907000345                2                 3             1            1   \n",
       "20170907000395                1                 3             1            1   \n",
       "\n",
       "               Safeties  TightEnds  WideReceivers  \n",
       "PlayId                                             \n",
       "20170907000118        3          1              3  \n",
       "20170907000139        3          1              3  \n",
       "20170907000189        3          1              3  \n",
       "20170907000345        2          2              0  \n",
       "20170907000395        4          3              1  \n",
       "\n",
       "[5 rows x 77 columns]"
      ]
     },
     "execution_count": 9,
     "metadata": {},
     "output_type": "execute_result"
    }
   ],
   "source": [
    "df = df.set_index('PlayId')\n",
    "df.head()"
   ]
  },
  {
   "cell_type": "code",
   "execution_count": 10,
   "metadata": {},
   "outputs": [],
   "source": [
    "df.drop(['GameId'],axis = 1, inplace = True)"
   ]
  },
  {
   "cell_type": "code",
   "execution_count": 11,
   "metadata": {
    "scrolled": false
   },
   "outputs": [
    {
     "data": {
      "text/plain": [
       "Team              object\n",
       "isHomeTeam         int64\n",
       "X                float64\n",
       "Y                float64\n",
       "S                float64\n",
       "                  ...   \n",
       "Quarterbacks       int64\n",
       "RunningBacks       int64\n",
       "Safeties           int64\n",
       "TightEnds          int64\n",
       "WideReceivers      int64\n",
       "Length: 76, dtype: object"
      ]
     },
     "execution_count": 11,
     "metadata": {},
     "output_type": "execute_result"
    }
   ],
   "source": [
    "# Many of these fields will be eliminated in this script\n",
    "#df.columns\n",
    "df.dtypes"
   ]
  },
  {
   "cell_type": "code",
   "execution_count": 12,
   "metadata": {},
   "outputs": [
    {
     "data": {
      "text/plain": [
       "Quarterbacks              4.815602e-03\n",
       "Dis                       1.155248e-02\n",
       "Halfbacks                 3.134168e-02\n",
       "RunningBacks              8.839419e-02\n",
       "Fullbacks                 1.347562e-01\n",
       "isFirstDown               1.674050e-01\n",
       "TimeSnapDiff              2.203841e-01\n",
       "IsPossTeamInLead          2.337093e-01\n",
       "IsPossTeamInDeficit       2.424338e-01\n",
       "TurfeCode                 2.427943e-01\n",
       "PlayerHeightFt            2.461437e-01\n",
       "isPlayDirectionLeft       2.499842e-01\n",
       "isHomeTeam                2.499947e-01\n",
       "Centers                   2.878889e-01\n",
       "NoseTackles               2.889743e-01\n",
       "Safeties                  2.992114e-01\n",
       "OffensiveTackles          3.297516e-01\n",
       "TightEnds                 4.212191e-01\n",
       "Down                      4.577340e-01\n",
       "OffensiveGuards           5.060138e-01\n",
       "Cornerbacks               5.440615e-01\n",
       "Season                    6.193428e-01\n",
       "WideReceivers             6.240602e-01\n",
       "DefensiveTackles          7.087504e-01\n",
       "DefensiveEnds             7.615468e-01\n",
       "StadiumTypeCode           7.863155e-01\n",
       "LineBackers               7.998567e-01\n",
       "A                         8.919049e-01\n",
       "DefendersInTheBox         9.703526e-01\n",
       "S                         1.272319e+00\n",
       "Quarter                   1.302063e+00\n",
       "PlayerHeightInches        3.407035e+00\n",
       "Age                       9.225533e+00\n",
       "Y                         1.202501e+01\n",
       "Distance                  1.458304e+01\n",
       "PlayerHeightIn            2.124895e+01\n",
       "Week                      2.312518e+01\n",
       "Yards                     4.160206e+01\n",
       "JerseyNumber              6.815798e+01\n",
       "PossessionTeamAbbrCode    8.413938e+01\n",
       "VisitorTeamAbbrCode       8.433541e+01\n",
       "HomeTeamAbbrCode          8.499195e+01\n",
       "FieldPositionCode         8.768331e+01\n",
       "VisitorScoreBeforePlay    9.087983e+01\n",
       "HomeScoreBeforePlay       1.019234e+02\n",
       "LeadDeficit               1.166230e+02\n",
       "YardLine                  1.707166e+02\n",
       "PlayerWeight              1.781187e+02\n",
       "Temperature               2.693552e+02\n",
       "YardsToTouchdown          6.372013e+02\n",
       "X                         6.862702e+02\n",
       "Dir                       1.031987e+04\n",
       "Orientation               1.055711e+04\n",
       "NflId                     2.336138e+11\n",
       "NflIdRusher               2.336138e+11\n",
       "dtype: float64"
      ]
     },
     "execution_count": 12,
     "metadata": {},
     "output_type": "execute_result"
    }
   ],
   "source": [
    "df.var().sort_values()"
   ]
  },
  {
   "cell_type": "markdown",
   "metadata": {},
   "source": [
    "## Yards and isFirstdown Variables (Predictor variable)"
   ]
  },
  {
   "cell_type": "code",
   "execution_count": 13,
   "metadata": {},
   "outputs": [
    {
     "data": {
      "text/plain": [
       "-15    1\n",
       "-14    1\n",
       "-12    4\n",
       "-11    3\n",
       "-10    5\n",
       "      ..\n",
       " 90    2\n",
       " 91    1\n",
       " 92    1\n",
       " 97    1\n",
       " 99    1\n",
       "Name: Yards, Length: 102, dtype: int64"
      ]
     },
     "execution_count": 13,
     "metadata": {},
     "output_type": "execute_result"
    }
   ],
   "source": [
    "df['Yards'].value_counts().sort_index()"
   ]
  },
  {
   "cell_type": "code",
   "execution_count": 14,
   "metadata": {},
   "outputs": [
    {
     "data": {
      "text/plain": [
       "0    24415\n",
       "1     6592\n",
       "Name: isFirstDown, dtype: int64"
      ]
     },
     "execution_count": 14,
     "metadata": {},
     "output_type": "execute_result"
    }
   ],
   "source": [
    "df['isFirstDown'].value_counts()"
   ]
  },
  {
   "cell_type": "code",
   "execution_count": 15,
   "metadata": {},
   "outputs": [
    {
     "data": {
      "text/plain": [
       "0    78.7\n",
       "1    21.3\n",
       "Name: isFirstDown, dtype: float64"
      ]
     },
     "execution_count": 15,
     "metadata": {},
     "output_type": "execute_result"
    }
   ],
   "source": [
    "df['isFirstDown'].value_counts(normalize = True).mul(100).round(1)"
   ]
  },
  {
   "cell_type": "markdown",
   "metadata": {},
   "source": [
    "## Team variables\n",
    "Whether the team that has posession of the ball has the home field advantage, or are the visitor team."
   ]
  },
  {
   "cell_type": "code",
   "execution_count": 16,
   "metadata": {},
   "outputs": [
    {
     "data": {
      "text/plain": [
       "31007"
      ]
     },
     "execution_count": 16,
     "metadata": {},
     "output_type": "execute_result"
    }
   ],
   "source": [
    "df['Team'].count()"
   ]
  },
  {
   "cell_type": "code",
   "execution_count": 17,
   "metadata": {},
   "outputs": [
    {
     "data": {
      "text/plain": [
       "home    15617\n",
       "away    15390\n",
       "Name: Team, dtype: int64"
      ]
     },
     "execution_count": 17,
     "metadata": {},
     "output_type": "execute_result"
    }
   ],
   "source": [
    "df['Team'].value_counts()"
   ]
  },
  {
   "cell_type": "code",
   "execution_count": 18,
   "metadata": {},
   "outputs": [
    {
     "data": {
      "text/plain": [
       "1    15617\n",
       "0    15390\n",
       "Name: isHomeTeam, dtype: int64"
      ]
     },
     "execution_count": 18,
     "metadata": {},
     "output_type": "execute_result"
    }
   ],
   "source": [
    "df['isHomeTeam'].value_counts()"
   ]
  },
  {
   "cell_type": "code",
   "execution_count": 19,
   "metadata": {
    "scrolled": false
   },
   "outputs": [
    {
     "data": {
      "image/png": "[encoded data removed]",
      "text/plain": [
       "<Figure size 1152x432 with 1 Axes>"
      ]
     },
     "metadata": {
      "needs_background": "light"
     },
     "output_type": "display_data"
    }
   ],
   "source": [
    "plt.figure(figsize=(16, 6))\n",
    "snsj=sns.countplot(y=df['Team'] ,palette=\"coolwarm\")\n",
    "plt.title('Team Home vs Away')\n",
    "plt.savefig(\"../reports/figures/data_team.png\")"
   ]
  },
  {
   "cell_type": "markdown",
   "metadata": {},
   "source": [
    "## Season variable\n",
    "A breakdown of all the season years"
   ]
  },
  {
   "cell_type": "code",
   "execution_count": 20,
   "metadata": {
    "scrolled": true
   },
   "outputs": [
    {
     "data": {
      "text/plain": [
       "2017    11900\n",
       "2018    11271\n",
       "2019     7836\n",
       "Name: Season, dtype: int64"
      ]
     },
     "execution_count": 20,
     "metadata": {},
     "output_type": "execute_result"
    }
   ],
   "source": [
    "df['Season'].value_counts()"
   ]
  },
  {
   "cell_type": "code",
   "execution_count": 21,
   "metadata": {},
   "outputs": [
    {
     "data": {
      "image/png": "[encoded data removed]",
      "text/plain": [
       "<Figure size 1152x432 with 1 Axes>"
      ]
     },
     "metadata": {
      "needs_background": "light"
     },
     "output_type": "display_data"
    }
   ],
   "source": [
    "plt.figure(figsize=(16, 6))\n",
    "snsj=sns.countplot(y=df['Season'] ,palette=\"coolwarm\")\n",
    "plt.title('Season - Which year the game was played?')\n",
    "plt.savefig(\"../reports/figures/data_season.png\")"
   ]
  },
  {
   "cell_type": "markdown",
   "metadata": {},
   "source": [
    "## Yardline variables\n",
    "The yard positions"
   ]
  },
  {
   "cell_type": "code",
   "execution_count": 22,
   "metadata": {
    "scrolled": true
   },
   "outputs": [
    {
     "data": {
      "text/plain": [
       "1      638\n",
       "2      336\n",
       "3      276\n",
       "4      298\n",
       "5      315\n",
       "6      305\n",
       "7      322\n",
       "8      386\n",
       "9      353\n",
       "10     442\n",
       "11     379\n",
       "12     420\n",
       "13     423\n",
       "14     443\n",
       "15     550\n",
       "16     427\n",
       "17     439\n",
       "18     469\n",
       "19     535\n",
       "20     766\n",
       "21     555\n",
       "22     588\n",
       "23     530\n",
       "24     602\n",
       "25    2587\n",
       "26     678\n",
       "27     625\n",
       "28     650\n",
       "29     680\n",
       "30     809\n",
       "31     741\n",
       "32     675\n",
       "33     701\n",
       "34     869\n",
       "35     775\n",
       "36     743\n",
       "37     754\n",
       "38     690\n",
       "39     712\n",
       "40     863\n",
       "41     731\n",
       "42     670\n",
       "43     682\n",
       "44     648\n",
       "45     774\n",
       "46     730\n",
       "47     666\n",
       "48     667\n",
       "49     699\n",
       "50     391\n",
       "Name: YardLine, dtype: int64"
      ]
     },
     "execution_count": 22,
     "metadata": {},
     "output_type": "execute_result"
    }
   ],
   "source": [
    "df['YardLine'].value_counts().sort_index()"
   ]
  },
  {
   "cell_type": "code",
   "execution_count": 23,
   "metadata": {},
   "outputs": [
    {
     "data": {
      "text/plain": [
       "1     562\n",
       "2     239\n",
       "3     199\n",
       "4     204\n",
       "5     209\n",
       "     ... \n",
       "95    106\n",
       "96     94\n",
       "97     77\n",
       "98     97\n",
       "99     76\n",
       "Name: YardsToTouchdown, Length: 99, dtype: int64"
      ]
     },
     "execution_count": 23,
     "metadata": {},
     "output_type": "execute_result"
    }
   ],
   "source": [
    "df['YardsToTouchdown'].value_counts().sort_index()"
   ]
  },
  {
   "cell_type": "code",
   "execution_count": 24,
   "metadata": {},
   "outputs": [
    {
     "data": {
      "image/png": "[encoded data removed]",
      "text/plain": [
       "<Figure size 1728x720 with 1 Axes>"
      ]
     },
     "metadata": {
      "needs_background": "light"
     },
     "output_type": "display_data"
    }
   ],
   "source": [
    "plt.figure(figsize=(24, 10))\n",
    "snsj=sns.countplot(x=df['YardsToTouchdown'] ,palette=\"coolwarm\")\n",
    "plt.title('How many yards are needed to make a touchdown?')\n",
    "plt.savefig(\"../reports/figures/data_YardsToTouchdown.png\")"
   ]
  },
  {
   "cell_type": "markdown",
   "metadata": {},
   "source": [
    "## Quarter variable"
   ]
  },
  {
   "cell_type": "code",
   "execution_count": 25,
   "metadata": {},
   "outputs": [
    {
     "data": {
      "text/plain": [
       "1    7942\n",
       "2    7441\n",
       "3    7648\n",
       "4    7779\n",
       "5     197\n",
       "Name: Quarter, dtype: int64"
      ]
     },
     "execution_count": 25,
     "metadata": {},
     "output_type": "execute_result"
    }
   ],
   "source": [
    "df['Quarter'].value_counts().sort_index()"
   ]
  },
  {
   "cell_type": "code",
   "execution_count": 26,
   "metadata": {},
   "outputs": [
    {
     "data": {
      "text/plain": [
       "count    31007.000000\n",
       "mean         2.511336\n",
       "std          1.141080\n",
       "min          1.000000\n",
       "25%          1.000000\n",
       "50%          3.000000\n",
       "75%          4.000000\n",
       "max          5.000000\n",
       "Name: Quarter, dtype: float64"
      ]
     },
     "execution_count": 26,
     "metadata": {},
     "output_type": "execute_result"
    }
   ],
   "source": [
    "df['Quarter'].describe()"
   ]
  },
  {
   "cell_type": "code",
   "execution_count": 27,
   "metadata": {},
   "outputs": [
    {
     "data": {
      "image/png": "[encoded data removed]",
      "text/plain": [
       "<Figure size 1152x432 with 1 Axes>"
      ]
     },
     "metadata": {
      "needs_background": "light"
     },
     "output_type": "display_data"
    }
   ],
   "source": [
    "plt.figure(figsize=(16, 6))\n",
    "snsj=sns.countplot(y=df['Quarter'], hue=df['isFirstDown'], palette=\"coolwarm\")\n",
    "plt.title('What quarter was the play done in?')\n",
    "plt.savefig(\"../reports/figures/data_quarter.png\")"
   ]
  },
  {
   "cell_type": "markdown",
   "metadata": {},
   "source": [
    "## Down variable"
   ]
  },
  {
   "cell_type": "code",
   "execution_count": 28,
   "metadata": {},
   "outputs": [
    {
     "data": {
      "text/plain": [
       "1    17925\n",
       "2    10393\n",
       "3     2421\n",
       "4      268\n",
       "Name: Down, dtype: int64"
      ]
     },
     "execution_count": 28,
     "metadata": {},
     "output_type": "execute_result"
    }
   ],
   "source": [
    "df['Down'].value_counts().sort_index()"
   ]
  },
  {
   "cell_type": "code",
   "execution_count": 29,
   "metadata": {},
   "outputs": [
    {
     "data": {
      "text/plain": [
       "1    15731\n",
       "2     7308\n",
       "3     1261\n",
       "4      115\n",
       "Name: Down, dtype: int64"
      ]
     },
     "execution_count": 29,
     "metadata": {},
     "output_type": "execute_result"
    }
   ],
   "source": [
    "# Failed to make the first down, which down are you on\n",
    "df[df['isFirstDown'] == 0]['Down'].value_counts().sort_index()"
   ]
  },
  {
   "cell_type": "code",
   "execution_count": 30,
   "metadata": {},
   "outputs": [
    {
     "data": {
      "text/plain": [
       "1    2194\n",
       "2    3085\n",
       "3    1160\n",
       "4     153\n",
       "Name: Down, dtype: int64"
      ]
     },
     "execution_count": 30,
     "metadata": {},
     "output_type": "execute_result"
    }
   ],
   "source": [
    "# Successfully made the first down, which down are you on\n",
    "df[df['isFirstDown'] == 1]['Down'].value_counts().sort_index()"
   ]
  },
  {
   "cell_type": "code",
   "execution_count": 31,
   "metadata": {},
   "outputs": [
    {
     "data": {
      "image/png": "[encoded data removed]",
      "text/plain": [
       "<Figure size 1728x720 with 1 Axes>"
      ]
     },
     "metadata": {
      "needs_background": "light"
     },
     "output_type": "display_data"
    }
   ],
   "source": [
    "plt.figure(figsize=(24, 10))\n",
    "snsj=sns.countplot(x=df['Down'], hue=df['isFirstDown'], palette=\"coolwarm\")\n",
    "plt.title('Which down was the play in?')\n",
    "plt.savefig(\"../reports/figures/data_down.png\")"
   ]
  },
  {
   "cell_type": "code",
   "execution_count": 32,
   "metadata": {},
   "outputs": [
    {
     "data": {
      "text/plain": [
       "Ezekiel Elliott      751\n",
       "Todd Gurley          667\n",
       "Jordan Howard        637\n",
       "Leonard Fournette    606\n",
       "Carlos Hyde          581\n",
       "                    ... \n",
       "Bryce Treggs           1\n",
       "Dante Pettis           1\n",
       "Ed Dickson             1\n",
       "Josh Allen             1\n",
       "Geronimo Allison       1\n",
       "Name: DisplayName, Length: 445, dtype: int64"
      ]
     },
     "execution_count": 32,
     "metadata": {},
     "output_type": "execute_result"
    }
   ],
   "source": [
    "df['DisplayName'].value_counts()"
   ]
  },
  {
   "cell_type": "code",
   "execution_count": 33,
   "metadata": {},
   "outputs": [
    {
     "data": {
      "text/plain": [
       "Ezekiel Elliott        179\n",
       "Todd Gurley            169\n",
       "Jordan Howard          139\n",
       "Derrick Henry          129\n",
       "Melvin Gordon          128\n",
       "Mark Ingram            127\n",
       "Chris Carson           125\n",
       "Joe Mixon              124\n",
       "Marlon Mack            121\n",
       "Alvin Kamara           118\n",
       "Leonard Fournette      115\n",
       "Christian McCaffrey    112\n",
       "Carlos Hyde            112\n",
       "Kareem Hunt            109\n",
       "Frank Gore             102\n",
       "LeSean McCoy            99\n",
       "Aaron Jones             96\n",
       "Le'Veon Bell            96\n",
       "Dalvin Cook             94\n",
       "Sony Michel             93\n",
       "Name: DisplayName, dtype: int64"
      ]
     },
     "execution_count": 33,
     "metadata": {},
     "output_type": "execute_result"
    }
   ],
   "source": [
    "df[df['isFirstDown'] == 1]['DisplayName'].value_counts().head(20)"
   ]
  },
  {
   "cell_type": "code",
   "execution_count": 34,
   "metadata": {
    "scrolled": true
   },
   "outputs": [
    {
     "data": {
      "text/plain": [
       "RB    28886\n",
       "HB      923\n",
       "WR      828\n",
       "FB      209\n",
       "QB       99\n",
       "TE       48\n",
       "CB       10\n",
       "DT        2\n",
       "G         1\n",
       "DE        1\n",
       "Name: Position, dtype: int64"
      ]
     },
     "execution_count": 34,
     "metadata": {},
     "output_type": "execute_result"
    }
   ],
   "source": [
    "df['Position'].value_counts()"
   ]
  },
  {
   "cell_type": "markdown",
   "metadata": {},
   "source": [
    "## Player Height vs Weight"
   ]
  },
  {
   "cell_type": "code",
   "execution_count": 35,
   "metadata": {},
   "outputs": [
    {
     "data": {
      "image/png": "[encoded data removed]",
      "text/plain": [
       "<Figure size 1152x432 with 1 Axes>"
      ]
     },
     "metadata": {
      "needs_background": "light"
     },
     "output_type": "display_data"
    }
   ],
   "source": [
    "plt.figure(figsize=(16, 6))\n",
    "snsj=sns.countplot(x=df['PlayerHeight'], palette=\"coolwarm\", order=['5-6','5-7','5-8','5-9','5-10','5-11','6-0','6-1','6-2','6-3','6-4','6-5','6-6','6-7','6-8'])\n",
    "plt.title('Histogram of Player Height')\n",
    "plt.savefig(\"../reports/figures/data_height.png\")"
   ]
  },
  {
   "cell_type": "code",
   "execution_count": 36,
   "metadata": {},
   "outputs": [
    {
     "data": {
      "image/png": "[encoded data removed]",
      "text/plain": [
       "<Figure size 2592x864 with 1 Axes>"
      ]
     },
     "metadata": {
      "needs_background": "light"
     },
     "output_type": "display_data"
    }
   ],
   "source": [
    "plt.figure(figsize=(36, 12))\n",
    "snsj=sns.countplot(x=df['PlayerWeight'], palette=\"coolwarm\")\n",
    "plt.title('Histogram of Player Weight')\n",
    "plt.savefig(\"../reports/figures/data_weight.png\")"
   ]
  },
  {
   "cell_type": "code",
   "execution_count": 37,
   "metadata": {},
   "outputs": [
    {
     "data": {
      "image/png": "[encoded data removed]",
      "text/plain": [
       "<Figure size 720x720 with 1 Axes>"
      ]
     },
     "metadata": {
      "needs_background": "light"
     },
     "output_type": "display_data"
    }
   ],
   "source": [
    "plt.figure(figsize=(10, 10))\n",
    "snsj=sns.regplot(x=df['PlayerHeightInches'], y=df['PlayerWeight'])\n",
    "plt.title('Histogram of Player Height vs Weight')\n",
    "plt.savefig(\"../reports/figures/data_height_vs_weight.png\")"
   ]
  },
  {
   "cell_type": "code",
   "execution_count": 38,
   "metadata": {
    "scrolled": true
   },
   "outputs": [
    {
     "data": {
      "text/plain": [
       "0.00    28\n",
       "0.01    29\n",
       "0.02     8\n",
       "0.03    11\n",
       "0.04    11\n",
       "        ..\n",
       "0.88     1\n",
       "0.89     2\n",
       "0.92     1\n",
       "1.00     1\n",
       "1.16     1\n",
       "Name: Dis, Length: 93, dtype: int64"
      ]
     },
     "execution_count": 38,
     "metadata": {},
     "output_type": "execute_result"
    }
   ],
   "source": [
    "df['Dis'].value_counts().sort_index()"
   ]
  },
  {
   "cell_type": "code",
   "execution_count": 39,
   "metadata": {},
   "outputs": [
    {
     "data": {
      "text/plain": [
       "93"
      ]
     },
     "execution_count": 39,
     "metadata": {},
     "output_type": "execute_result"
    }
   ],
   "source": [
    "df['Dis'].nunique()"
   ]
  },
  {
   "cell_type": "code",
   "execution_count": 40,
   "metadata": {},
   "outputs": [
    {
     "data": {
      "text/plain": [
       "0.00      1\n",
       "0.02      1\n",
       "0.03      2\n",
       "0.04      1\n",
       "0.05      2\n",
       "         ..\n",
       "359.91    1\n",
       "359.93    1\n",
       "359.97    1\n",
       "359.99    2\n",
       "360.00    1\n",
       "Name: Orientation, Length: 20477, dtype: int64"
      ]
     },
     "execution_count": 40,
     "metadata": {},
     "output_type": "execute_result"
    }
   ],
   "source": [
    "df['Orientation'].value_counts().sort_index()"
   ]
  },
  {
   "cell_type": "code",
   "execution_count": 41,
   "metadata": {},
   "outputs": [
    {
     "data": {
      "text/plain": [
       "-44    15\n",
       "-43     2\n",
       "-42     5\n",
       "-41     2\n",
       "-40    11\n",
       "       ..\n",
       " 39    11\n",
       " 40     3\n",
       " 41     2\n",
       " 42     6\n",
       " 49     7\n",
       "Name: LeadDeficit, Length: 86, dtype: int64"
      ]
     },
     "execution_count": 41,
     "metadata": {},
     "output_type": "execute_result"
    }
   ],
   "source": [
    "df[df['isHomeTeam'] == 0]['LeadDeficit'].value_counts().sort_index()"
   ]
  },
  {
   "cell_type": "code",
   "execution_count": 42,
   "metadata": {},
   "outputs": [
    {
     "data": {
      "text/plain": [
       "<matplotlib.axes._subplots.AxesSubplot at 0x20b0ee908c8>"
      ]
     },
     "execution_count": 42,
     "metadata": {},
     "output_type": "execute_result"
    },
    {
     "data": {
      "image/png": "[encoded data removed]",
      "text/plain": [
       "<Figure size 432x288 with 1 Axes>"
      ]
     },
     "metadata": {
      "needs_background": "light"
     },
     "output_type": "display_data"
    }
   ],
   "source": [
    "sns.boxplot( y=df[\"YardsToTouchdown\"] )"
   ]
  },
  {
   "cell_type": "code",
   "execution_count": 43,
   "metadata": {},
   "outputs": [
    {
     "data": {
      "text/plain": [
       "<matplotlib.axes._subplots.AxesSubplot at 0x20b0ec98c88>"
      ]
     },
     "execution_count": 43,
     "metadata": {},
     "output_type": "execute_result"
    },
    {
     "data": {
      "image/png": "[encoded data removed]",
      "text/plain": [
       "<Figure size 432x288 with 1 Axes>"
      ]
     },
     "metadata": {
      "needs_background": "light"
     },
     "output_type": "display_data"
    }
   ],
   "source": [
    "sns.boxplot( y=df[\"Yards\"] )"
   ]
  },
  {
   "cell_type": "code",
   "execution_count": 44,
   "metadata": {},
   "outputs": [
    {
     "data": {
      "text/plain": [
       "<matplotlib.axes._subplots.AxesSubplot at 0x20b0ed07a08>"
      ]
     },
     "execution_count": 44,
     "metadata": {},
     "output_type": "execute_result"
    },
    {
     "data": {
      "image/png": "[encoded data removed]",
      "text/plain": [
       "<Figure size 432x288 with 1 Axes>"
      ]
     },
     "metadata": {
      "needs_background": "light"
     },
     "output_type": "display_data"
    }
   ],
   "source": [
    "sns.boxplot( y=df[\"PlayerWeight\"] )"
   ]
  },
  {
   "cell_type": "code",
   "execution_count": 45,
   "metadata": {},
   "outputs": [],
   "source": [
    "# Removing outliers based on height. Might not be needed. \n",
    "# df = df[(df['PlayerHeightInches'] <= 75)]"
   ]
  },
  {
   "cell_type": "code",
   "execution_count": 46,
   "metadata": {},
   "outputs": [
    {
     "data": {
      "text/plain": [
       "<matplotlib.axes._subplots.AxesSubplot at 0x20b0c3b0408>"
      ]
     },
     "execution_count": 46,
     "metadata": {},
     "output_type": "execute_result"
    },
    {
     "data": {
      "image/png": "[encoded data removed]",
      "text/plain": [
       "<Figure size 432x288 with 1 Axes>"
      ]
     },
     "metadata": {
      "needs_background": "light"
     },
     "output_type": "display_data"
    }
   ],
   "source": [
    "sns.boxplot( y=df[\"DefendersInTheBox\"] )"
   ]
  },
  {
   "cell_type": "code",
   "execution_count": 47,
   "metadata": {
    "scrolled": true
   },
   "outputs": [
    {
     "data": {
      "text/plain": [
       "0    6748\n",
       "1    2009\n",
       "Name: isFirstDown, dtype: int64"
      ]
     },
     "execution_count": 47,
     "metadata": {},
     "output_type": "execute_result"
    }
   ],
   "source": [
    "df[(df['DefendersInTheBox'] >=8) | (df['DefendersInTheBox'] <=5)]['isFirstDown'].value_counts()"
   ]
  },
  {
   "cell_type": "code",
   "execution_count": 48,
   "metadata": {},
   "outputs": [
    {
     "data": {
      "text/plain": [
       "<matplotlib.axes._subplots.AxesSubplot at 0x20b0c1f14c8>"
      ]
     },
     "execution_count": 48,
     "metadata": {},
     "output_type": "execute_result"
    },
    {
     "data": {
      "image/png": "[encoded data removed]",
      "text/plain": [
       "<Figure size 432x288 with 1 Axes>"
      ]
     },
     "metadata": {
      "needs_background": "light"
     },
     "output_type": "display_data"
    }
   ],
   "source": [
    "sns.boxplot( y=df[\"Distance\"] )"
   ]
  },
  {
   "cell_type": "code",
   "execution_count": 49,
   "metadata": {},
   "outputs": [
    {
     "data": {
      "text/plain": [
       "1     7187\n",
       "2    22055\n",
       "3     1080\n",
       "4      685\n",
       "Name: DistanceBins, dtype: int64"
      ]
     },
     "execution_count": 49,
     "metadata": {},
     "output_type": "execute_result"
    }
   ],
   "source": [
    "df['DistanceBins'] = pd.cut(x=df['Distance'], bins=[0, 5.5, 10.5, 16.5, 100], labels=[1,2,3,4])\n",
    "df['DistanceBins'].value_counts().sort_index()"
   ]
  },
  {
   "cell_type": "code",
   "execution_count": null,
   "metadata": {},
   "outputs": [],
   "source": []
  },
  {
   "cell_type": "code",
   "execution_count": null,
   "metadata": {},
   "outputs": [],
   "source": []
  },
  {
   "cell_type": "code",
   "execution_count": null,
   "metadata": {},
   "outputs": [],
   "source": []
  },
  {
   "cell_type": "code",
   "execution_count": null,
   "metadata": {},
   "outputs": [],
   "source": []
  },
  {
   "cell_type": "code",
   "execution_count": 50,
   "metadata": {},
   "outputs": [],
   "source": [
    "df.drop(['Dis','NflId','NflIdRusher','JerseyNumber','DisplayName','GameClock','PlayerHeight','PlayerHeightFt','PlayerHeightIn','Stadium','Temperature','WindSpeed','WindDirection','Team','FieldPosition','FieldPositionCode'], axis=1, inplace=True)"
   ]
  },
  {
   "cell_type": "code",
   "execution_count": 51,
   "metadata": {},
   "outputs": [],
   "source": [
    "df.to_csv(\"../data/processed/data_univ.csv\", index=False)"
   ]
  },
  {
   "cell_type": "code",
   "execution_count": null,
   "metadata": {},
   "outputs": [],
   "source": []
  }
 ],
 "metadata": {
  "kernelspec": {
   "display_name": "Python 3",
   "language": "python",
   "name": "python3"
  },
  "language_info": {
   "codemirror_mode": {
    "name": "ipython",
    "version": 3
   },
   "file_extension": ".py",
   "mimetype": "text/x-python",
   "name": "python",
   "nbconvert_exporter": "python",
   "pygments_lexer": "ipython3",
   "version": "3.7.4"
  }
 },
 "nbformat": 4,
 "nbformat_minor": 4
}
