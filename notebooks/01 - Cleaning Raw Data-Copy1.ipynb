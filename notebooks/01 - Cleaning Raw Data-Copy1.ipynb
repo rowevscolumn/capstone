{
 "cells": [
  {
   "cell_type": "markdown",
   "metadata": {},
   "source": [
    "# Data Cleaning, converting to prepared data set"
   ]
  },
  {
   "cell_type": "code",
   "execution_count": 2,
   "metadata": {},
   "outputs": [],
   "source": [
    "# All import insertions\n",
    "import numpy as np\n",
    "import pandas as pd\n",
    "import seaborn as sns\n",
    "from pandas import isnull\n",
    "from sklearn import preprocessing\n",
    "import os    # For file paths\n",
    "import re    # Regular Expressions\n",
    "\n",
    "import matplotlib.pyplot as plt\n",
    "%matplotlib inline\n",
    "\n",
    "import datetime as dt"
   ]
  },
  {
   "cell_type": "code",
   "execution_count": 3,
   "metadata": {},
   "outputs": [],
   "source": [
    "#Open files\n",
    "df = pd.read_csv(\"../data/raw/train.csv\", low_memory=False)"
   ]
  },
  {
   "cell_type": "code",
   "execution_count": 4,
   "metadata": {},
   "outputs": [
    {
     "data": {
      "text/html": [
       "<div>\n",
       "<style scoped>\n",
       "    .dataframe tbody tr th:only-of-type {\n",
       "        vertical-align: middle;\n",
       "    }\n",
       "\n",
       "    .dataframe tbody tr th {\n",
       "        vertical-align: top;\n",
       "    }\n",
       "\n",
       "    .dataframe thead th {\n",
       "        text-align: right;\n",
       "    }\n",
       "</style>\n",
       "<table border=\"1\" class=\"dataframe\">\n",
       "  <thead>\n",
       "    <tr style=\"text-align: right;\">\n",
       "      <th></th>\n",
       "      <th>GameId</th>\n",
       "      <th>PlayId</th>\n",
       "      <th>Team</th>\n",
       "      <th>X</th>\n",
       "      <th>Y</th>\n",
       "      <th>S</th>\n",
       "      <th>A</th>\n",
       "      <th>Dis</th>\n",
       "      <th>Orientation</th>\n",
       "      <th>Dir</th>\n",
       "      <th>...</th>\n",
       "      <th>Week</th>\n",
       "      <th>Stadium</th>\n",
       "      <th>Location</th>\n",
       "      <th>StadiumType</th>\n",
       "      <th>Turf</th>\n",
       "      <th>GameWeather</th>\n",
       "      <th>Temperature</th>\n",
       "      <th>Humidity</th>\n",
       "      <th>WindSpeed</th>\n",
       "      <th>WindDirection</th>\n",
       "    </tr>\n",
       "  </thead>\n",
       "  <tbody>\n",
       "    <tr>\n",
       "      <th>0</th>\n",
       "      <td>2017090700</td>\n",
       "      <td>20170907000118</td>\n",
       "      <td>away</td>\n",
       "      <td>73.91</td>\n",
       "      <td>34.84</td>\n",
       "      <td>1.69</td>\n",
       "      <td>1.13</td>\n",
       "      <td>0.40</td>\n",
       "      <td>81.99</td>\n",
       "      <td>177.18</td>\n",
       "      <td>...</td>\n",
       "      <td>1</td>\n",
       "      <td>Gillette Stadium</td>\n",
       "      <td>Foxborough, MA</td>\n",
       "      <td>Outdoor</td>\n",
       "      <td>Field Turf</td>\n",
       "      <td>Clear and warm</td>\n",
       "      <td>63.0</td>\n",
       "      <td>77.0</td>\n",
       "      <td>8</td>\n",
       "      <td>SW</td>\n",
       "    </tr>\n",
       "    <tr>\n",
       "      <th>1</th>\n",
       "      <td>2017090700</td>\n",
       "      <td>20170907000118</td>\n",
       "      <td>away</td>\n",
       "      <td>74.67</td>\n",
       "      <td>32.64</td>\n",
       "      <td>0.42</td>\n",
       "      <td>1.35</td>\n",
       "      <td>0.01</td>\n",
       "      <td>27.61</td>\n",
       "      <td>198.70</td>\n",
       "      <td>...</td>\n",
       "      <td>1</td>\n",
       "      <td>Gillette Stadium</td>\n",
       "      <td>Foxborough, MA</td>\n",
       "      <td>Outdoor</td>\n",
       "      <td>Field Turf</td>\n",
       "      <td>Clear and warm</td>\n",
       "      <td>63.0</td>\n",
       "      <td>77.0</td>\n",
       "      <td>8</td>\n",
       "      <td>SW</td>\n",
       "    </tr>\n",
       "    <tr>\n",
       "      <th>2</th>\n",
       "      <td>2017090700</td>\n",
       "      <td>20170907000118</td>\n",
       "      <td>away</td>\n",
       "      <td>74.00</td>\n",
       "      <td>33.20</td>\n",
       "      <td>1.22</td>\n",
       "      <td>0.59</td>\n",
       "      <td>0.31</td>\n",
       "      <td>3.01</td>\n",
       "      <td>202.73</td>\n",
       "      <td>...</td>\n",
       "      <td>1</td>\n",
       "      <td>Gillette Stadium</td>\n",
       "      <td>Foxborough, MA</td>\n",
       "      <td>Outdoor</td>\n",
       "      <td>Field Turf</td>\n",
       "      <td>Clear and warm</td>\n",
       "      <td>63.0</td>\n",
       "      <td>77.0</td>\n",
       "      <td>8</td>\n",
       "      <td>SW</td>\n",
       "    </tr>\n",
       "    <tr>\n",
       "      <th>3</th>\n",
       "      <td>2017090700</td>\n",
       "      <td>20170907000118</td>\n",
       "      <td>away</td>\n",
       "      <td>71.46</td>\n",
       "      <td>27.70</td>\n",
       "      <td>0.42</td>\n",
       "      <td>0.54</td>\n",
       "      <td>0.02</td>\n",
       "      <td>359.77</td>\n",
       "      <td>105.64</td>\n",
       "      <td>...</td>\n",
       "      <td>1</td>\n",
       "      <td>Gillette Stadium</td>\n",
       "      <td>Foxborough, MA</td>\n",
       "      <td>Outdoor</td>\n",
       "      <td>Field Turf</td>\n",
       "      <td>Clear and warm</td>\n",
       "      <td>63.0</td>\n",
       "      <td>77.0</td>\n",
       "      <td>8</td>\n",
       "      <td>SW</td>\n",
       "    </tr>\n",
       "    <tr>\n",
       "      <th>4</th>\n",
       "      <td>2017090700</td>\n",
       "      <td>20170907000118</td>\n",
       "      <td>away</td>\n",
       "      <td>69.32</td>\n",
       "      <td>35.42</td>\n",
       "      <td>1.82</td>\n",
       "      <td>2.43</td>\n",
       "      <td>0.16</td>\n",
       "      <td>12.63</td>\n",
       "      <td>164.31</td>\n",
       "      <td>...</td>\n",
       "      <td>1</td>\n",
       "      <td>Gillette Stadium</td>\n",
       "      <td>Foxborough, MA</td>\n",
       "      <td>Outdoor</td>\n",
       "      <td>Field Turf</td>\n",
       "      <td>Clear and warm</td>\n",
       "      <td>63.0</td>\n",
       "      <td>77.0</td>\n",
       "      <td>8</td>\n",
       "      <td>SW</td>\n",
       "    </tr>\n",
       "  </tbody>\n",
       "</table>\n",
       "<p>5 rows × 49 columns</p>\n",
       "</div>"
      ],
      "text/plain": [
       "       GameId          PlayId  Team      X      Y     S     A   Dis  \\\n",
       "0  2017090700  20170907000118  away  73.91  34.84  1.69  1.13  0.40   \n",
       "1  2017090700  20170907000118  away  74.67  32.64  0.42  1.35  0.01   \n",
       "2  2017090700  20170907000118  away  74.00  33.20  1.22  0.59  0.31   \n",
       "3  2017090700  20170907000118  away  71.46  27.70  0.42  0.54  0.02   \n",
       "4  2017090700  20170907000118  away  69.32  35.42  1.82  2.43  0.16   \n",
       "\n",
       "   Orientation     Dir  ...  Week           Stadium        Location  \\\n",
       "0        81.99  177.18  ...     1  Gillette Stadium  Foxborough, MA   \n",
       "1        27.61  198.70  ...     1  Gillette Stadium  Foxborough, MA   \n",
       "2         3.01  202.73  ...     1  Gillette Stadium  Foxborough, MA   \n",
       "3       359.77  105.64  ...     1  Gillette Stadium  Foxborough, MA   \n",
       "4        12.63  164.31  ...     1  Gillette Stadium  Foxborough, MA   \n",
       "\n",
       "   StadiumType        Turf     GameWeather Temperature Humidity  WindSpeed  \\\n",
       "0      Outdoor  Field Turf  Clear and warm        63.0     77.0          8   \n",
       "1      Outdoor  Field Turf  Clear and warm        63.0     77.0          8   \n",
       "2      Outdoor  Field Turf  Clear and warm        63.0     77.0          8   \n",
       "3      Outdoor  Field Turf  Clear and warm        63.0     77.0          8   \n",
       "4      Outdoor  Field Turf  Clear and warm        63.0     77.0          8   \n",
       "\n",
       "   WindDirection  \n",
       "0             SW  \n",
       "1             SW  \n",
       "2             SW  \n",
       "3             SW  \n",
       "4             SW  \n",
       "\n",
       "[5 rows x 49 columns]"
      ]
     },
     "execution_count": 4,
     "metadata": {},
     "output_type": "execute_result"
    }
   ],
   "source": [
    "df.head()"
   ]
  },
  {
   "cell_type": "code",
   "execution_count": null,
   "metadata": {},
   "outputs": [],
   "source": [
    "#Number of records in the dataframe\n",
    "df.shape"
   ]
  },
  {
   "cell_type": "code",
   "execution_count": null,
   "metadata": {
    "scrolled": true
   },
   "outputs": [],
   "source": [
    "df.dtypes\n",
    "df.columns"
   ]
  },
  {
   "cell_type": "markdown",
   "metadata": {},
   "source": [
    "## Creating the new predictor variable"
   ]
  },
  {
   "cell_type": "code",
   "execution_count": null,
   "metadata": {},
   "outputs": [],
   "source": [
    "# Add the column if the first down was met, new predictor variable\n",
    "df['isFirstDown'] = np.where(df['Distance']<=df['Yards'], 1, 0)"
   ]
  },
  {
   "cell_type": "markdown",
   "metadata": {},
   "source": [
    "## Fixing the Wind Speed and Wind Direction fields"
   ]
  },
  {
   "cell_type": "code",
   "execution_count": null,
   "metadata": {
    "scrolled": false
   },
   "outputs": [],
   "source": [
    "df['WindSpeed'].unique()"
   ]
  },
  {
   "cell_type": "code",
   "execution_count": null,
   "metadata": {},
   "outputs": [],
   "source": [
    "# Fixing the fields that are in the wrong columns\n",
    "dfindex = df['WindSpeed'].str.contains(\"[NESW]+\", regex=True, na=False)\n",
    "temp_wd=df[dfindex]['WindSpeed']\n",
    "temp_ws=df[dfindex]['WindDirection']\n",
    "\n",
    "df['WindSpeed'].iloc[temp_ws.index]=temp_ws.values\n",
    "df['WindDirection'].iloc[temp_ws.index]=temp_wd.values\n",
    "\n",
    "# Filling the missing fields\n",
    "df['WindSpeed']=df['WindSpeed'].fillna(0)\n",
    "df['WindDirection']=df['WindDirection'].fillna('No Wind')\n",
    "\n",
    "# Correcting the fields that have spare texts\n",
    "df['WindSpeed'].replace(to_replace=\"^.*(\\d+).*$\", value=r\"\\1\", regex=True, inplace=True)\n",
    "df['WindSpeed'].replace(to_replace=\"Calm\", value=r\"0\", regex=True, inplace=True)\n"
   ]
  },
  {
   "cell_type": "code",
   "execution_count": null,
   "metadata": {
    "scrolled": true
   },
   "outputs": [],
   "source": [
    "df.astype({'WindSpeed': 'float64', 'TimeHandoff':'datetime64', 'TimeSnap':'datetime64', 'GameClock':'datetime64' }) # .dtypes"
   ]
  },
  {
   "cell_type": "markdown",
   "metadata": {},
   "source": [
    "## Creating a numerical field for home/away"
   ]
  },
  {
   "cell_type": "code",
   "execution_count": null,
   "metadata": {},
   "outputs": [],
   "source": [
    "df['isHomeTeam'] = np.where(df['Team'] == 'home', 1, 0)"
   ]
  },
  {
   "cell_type": "code",
   "execution_count": null,
   "metadata": {},
   "outputs": [],
   "source": [
    "df[['Team','isHomeTeam']].head(22)"
   ]
  },
  {
   "cell_type": "markdown",
   "metadata": {},
   "source": [
    "## Fixing the abbreviated team names"
   ]
  },
  {
   "cell_type": "code",
   "execution_count": null,
   "metadata": {},
   "outputs": [],
   "source": [
    "df['HomeTeamAbbr'].sort_values().unique()"
   ]
  },
  {
   "cell_type": "code",
   "execution_count": null,
   "metadata": {},
   "outputs": [],
   "source": [
    "# Fixing the abbreviations, some of them differed from the other\n",
    "df['FieldPosition']=df['FieldPosition'].fillna('Midfield')\n",
    "df['FieldPosition']=df['FieldPosition'].replace('ARZ','ARI')\n",
    "df['FieldPosition']=df['FieldPosition'].replace('BLT','BAL')\n",
    "df['FieldPosition']=df['FieldPosition'].replace('CLV','CLE')\n",
    "df['FieldPosition']=df['FieldPosition'].replace('HST','HOU')\n",
    "\n",
    "df['FieldPosition'].sort_values().unique()"
   ]
  },
  {
   "cell_type": "code",
   "execution_count": null,
   "metadata": {},
   "outputs": [],
   "source": [
    "df['HomeTeamAbbr'].sort_values().unique()"
   ]
  },
  {
   "cell_type": "code",
   "execution_count": null,
   "metadata": {
    "scrolled": true
   },
   "outputs": [],
   "source": [
    "df['VisitorTeamAbbr'].sort_values().unique()"
   ]
  },
  {
   "cell_type": "code",
   "execution_count": null,
   "metadata": {},
   "outputs": [],
   "source": [
    "# Fixing the abbreviations, some of them differed from the other\n",
    "df['PossessionTeam']=df['PossessionTeam'].replace('ARZ','ARI')\n",
    "df['PossessionTeam']=df['PossessionTeam'].replace('BLT','BAL')\n",
    "df['PossessionTeam']=df['PossessionTeam'].replace('CLV','CLE')\n",
    "df['PossessionTeam']=df['PossessionTeam'].replace('HST','HOU')\n",
    "\n",
    "df['PossessionTeam'].sort_values().unique()"
   ]
  },
  {
   "cell_type": "code",
   "execution_count": null,
   "metadata": {
    "scrolled": true
   },
   "outputs": [],
   "source": [
    "teamabtxt=df['HomeTeamAbbr'].sort_values().unique()\n",
    "dctTeamab={}\n",
    "cnt=1\n",
    "for x in teamabtxt:\n",
    "    dctTeamab[x]=cnt\n",
    "    cnt=cnt+1\n",
    "\n",
    "df['FieldPosition']=df['FieldPosition'].fillna('Midfield')\n",
    "dctTeamab['Midfield']=0 #Mid-field\n",
    "\n",
    "df['FieldPositionCode']=df['FieldPosition'].map(lambda x: dctTeamab[x])\n",
    "df['HomeTeamAbbrCode']=df['HomeTeamAbbr'].map(lambda x: dctTeamab[x])\n",
    "df['VisitorTeamAbbrCode']=df['HomeTeamAbbr'].map(lambda x: dctTeamab[x])\n",
    "df['PossessionTeamAbbrCode']=df['PossessionTeam'].map(lambda x: dctTeamab[x])\n"
   ]
  },
  {
   "cell_type": "markdown",
   "metadata": {},
   "source": [
    "## Calculating the number of yards to the end zone, based on the yardline and which team has the bowl"
   ]
  },
  {
   "cell_type": "code",
   "execution_count": null,
   "metadata": {},
   "outputs": [],
   "source": [
    "df['YardsToTouchdown']=np.NaN"
   ]
  },
  {
   "cell_type": "code",
   "execution_count": null,
   "metadata": {},
   "outputs": [],
   "source": [
    "df['YardsToTouchdown'] = np.where( df['PossessionTeam'] == df['FieldPosition'], (50 + (50 - df['YardLine'])), df['YardLine'])"
   ]
  },
  {
   "cell_type": "code",
   "execution_count": null,
   "metadata": {},
   "outputs": [],
   "source": [
    "df['YardLine'].unique()"
   ]
  },
  {
   "cell_type": "code",
   "execution_count": null,
   "metadata": {},
   "outputs": [],
   "source": [
    "df['YardsToTouchdown'].sort_values().unique()"
   ]
  },
  {
   "cell_type": "markdown",
   "metadata": {},
   "source": [
    "## Calculating the number of seconds from snap to handoff"
   ]
  },
  {
   "cell_type": "code",
   "execution_count": null,
   "metadata": {},
   "outputs": [],
   "source": [
    "df[['TimeHandoff','TimeSnap']].head()"
   ]
  },
  {
   "cell_type": "code",
   "execution_count": null,
   "metadata": {
    "scrolled": true
   },
   "outputs": [],
   "source": [
    "df['TimeSnapDiff'] = (pd.to_datetime(df['TimeHandoff'])-pd.to_datetime(df['TimeSnap']))\n",
    "df['TimeSnapDiff']=(df['TimeSnapDiff']).dt.total_seconds()"
   ]
  },
  {
   "cell_type": "code",
   "execution_count": null,
   "metadata": {},
   "outputs": [],
   "source": [
    "df[['TimeHandoff','TimeSnap','TimeSnapDiff']].head()"
   ]
  },
  {
   "cell_type": "code",
   "execution_count": null,
   "metadata": {},
   "outputs": [],
   "source": [
    "df['TimeSnapDiff'].sort_values().value_counts()"
   ]
  },
  {
   "cell_type": "markdown",
   "metadata": {},
   "source": [
    "## Converting the player height to inches"
   ]
  },
  {
   "cell_type": "code",
   "execution_count": null,
   "metadata": {},
   "outputs": [],
   "source": [
    "df['PlayerHeight'].unique()"
   ]
  },
  {
   "cell_type": "code",
   "execution_count": null,
   "metadata": {},
   "outputs": [],
   "source": [
    "df['PlayerHeightFt'] = df['PlayerHeight'].str.extract('^(\\d+)', expand=True)\n",
    "df['PlayerHeightIn'] = df['PlayerHeight'].str.extract('(\\d+)$', expand=True)"
   ]
  },
  {
   "cell_type": "code",
   "execution_count": null,
   "metadata": {},
   "outputs": [],
   "source": [
    "df['PlayerHeightFt']=df['PlayerHeightFt'].astype('int64')\n",
    "df['PlayerHeightIn']=df['PlayerHeightIn'].astype('int64')"
   ]
  },
  {
   "cell_type": "code",
   "execution_count": null,
   "metadata": {},
   "outputs": [],
   "source": [
    "df['PlayerHeightInches'] = (df['PlayerHeightFt'].mul(12) + df['PlayerHeightIn']).astype('int64')"
   ]
  },
  {
   "cell_type": "code",
   "execution_count": null,
   "metadata": {},
   "outputs": [],
   "source": [
    "df[['PlayerHeight', 'PlayerHeightFt', 'PlayerHeightIn', 'PlayerHeightInches']]"
   ]
  },
  {
   "cell_type": "code",
   "execution_count": null,
   "metadata": {},
   "outputs": [],
   "source": [
    "df['PlayerHeight'].sort_values().value_counts()"
   ]
  },
  {
   "cell_type": "code",
   "execution_count": null,
   "metadata": {},
   "outputs": [],
   "source": [
    "df['PlayerHeightInches'].sort_values().value_counts()"
   ]
  },
  {
   "cell_type": "markdown",
   "metadata": {},
   "source": [
    "## Filling the empty fields"
   ]
  },
  {
   "cell_type": "code",
   "execution_count": null,
   "metadata": {},
   "outputs": [],
   "source": [
    "df['OffenseFormation']=df['OffenseFormation'].fillna('EMPTY')\n",
    "df['OffenseFormation'].unique()"
   ]
  },
  {
   "cell_type": "code",
   "execution_count": null,
   "metadata": {},
   "outputs": [],
   "source": [
    "df['DefendersInTheBox']=df['DefendersInTheBox'].fillna(0)\n",
    "df['DefendersInTheBox'].unique()"
   ]
  },
  {
   "cell_type": "code",
   "execution_count": null,
   "metadata": {},
   "outputs": [],
   "source": [
    "df['Orientation']=df['Orientation'].fillna(0)\n",
    "df['Orientation'].unique()"
   ]
  },
  {
   "cell_type": "code",
   "execution_count": null,
   "metadata": {},
   "outputs": [],
   "source": [
    "df['Dir']=df['Dir'].fillna(0)\n",
    "df['Dir'].unique()"
   ]
  },
  {
   "cell_type": "code",
   "execution_count": null,
   "metadata": {},
   "outputs": [],
   "source": [
    "df[df['Humidity'].isnull()]['Stadium'].unique()"
   ]
  },
  {
   "cell_type": "code",
   "execution_count": null,
   "metadata": {},
   "outputs": [],
   "source": [
    "df[(df['Stadium'] == 'Mercedes-Benz Stadium') & (df['Humidity'].isnull())][['Humidity','Temperature']]\n",
    "#df[df['Stadium'] == 'AT&T Stadium'][['Humidity','Temperature']]\n",
    "#df[df['Stadium'] == 'State Farm Stadium'][['Humidity','Temperature']]\n",
    "#df[df['Stadium'] == 'U.S. Bank Stadium'][['Humidity','Temperature']]"
   ]
  },
  {
   "cell_type": "code",
   "execution_count": null,
   "metadata": {},
   "outputs": [],
   "source": [
    "df[df['Humidity'].isnull()].to_csv(\"tmp.csv\")"
   ]
  },
  {
   "cell_type": "code",
   "execution_count": null,
   "metadata": {},
   "outputs": [],
   "source": []
  },
  {
   "cell_type": "code",
   "execution_count": null,
   "metadata": {},
   "outputs": [],
   "source": []
  },
  {
   "cell_type": "code",
   "execution_count": null,
   "metadata": {},
   "outputs": [],
   "source": [
    "df['StadiumType']=df['StadiumType'].replace('Oudoor','Outdoor')\n",
    "df['StadiumType']=df['StadiumType'].replace('Outdoors','Outdoor')\n",
    "df['StadiumType']=df['StadiumType'].replace('Outddors','Outdoor')\n",
    "df['StadiumType']=df['StadiumType'].replace('Outdor','Outdoor')\n",
    "df['StadiumType']=df['StadiumType'].replace('Ourdoor','Outdoor')\n",
    "df['StadiumType']=df['StadiumType'].replace('Outside','Outdoor')\n",
    "df['StadiumType']=df['StadiumType'].replace('OUTDOOR','Outdoor')\n",
    "\n",
    "df['StadiumType']=df['StadiumType'].replace('Indoor','Indoors')\n",
    "df['StadiumType']=df['StadiumType'].replace('indoor','Indoors')\n",
    "\n",
    "df['StadiumType']=df['StadiumType'].replace('Heinz Field','Outdoor')\n",
    "df['StadiumType']=df['StadiumType'].replace('Cloudy','Outdoor')\n",
    "\n",
    "\n",
    "df['StadiumType'].value_counts()"
   ]
  },
  {
   "cell_type": "code",
   "execution_count": null,
   "metadata": {},
   "outputs": [],
   "source": [
    "#df[df['StadiumType'] == 'Cloudy'].to_csv(\"tmp.csv\")\n",
    "df[df['Stadium'] == 'TIAA Bank Field'].to_csv(\"tmp.csv\")\n"
   ]
  },
  {
   "cell_type": "code",
   "execution_count": null,
   "metadata": {},
   "outputs": [],
   "source": [
    "df[df['StadiumType'].isnull()]['Stadium'].value_counts()"
   ]
  },
  {
   "cell_type": "code",
   "execution_count": null,
   "metadata": {
    "scrolled": true
   },
   "outputs": [],
   "source": [
    "df[df['Stadium'] == 'MetLife Stadium']['StadiumType'].unique()\n",
    "#df[df['Stadium'] == 'StubHub Center']['StadiumType'].unique()\n",
    "#df[df['Stadium'] == 'Dignity Health Sports Park']['StadiumType'].unique()\n",
    "#df[df['Stadium'] == 'TIAA Bank Field']['StadiumType'].unique()"
   ]
  },
  {
   "cell_type": "code",
   "execution_count": null,
   "metadata": {
    "scrolled": true
   },
   "outputs": [],
   "source": [
    "null_columns=df.columns[df.isnull().any()]\n",
    "df[null_columns].isnull().sum()"
   ]
  },
  {
   "cell_type": "markdown",
   "metadata": {},
   "source": [
    "# Extracting the numbers from the offensive and defensive line"
   ]
  },
  {
   "cell_type": "code",
   "execution_count": null,
   "metadata": {
    "scrolled": false
   },
   "outputs": [],
   "source": [
    "df['OffensePersonnel'].value_counts().to_csv(\"tmp.csv\")"
   ]
  },
  {
   "cell_type": "code",
   "execution_count": null,
   "metadata": {},
   "outputs": [],
   "source": [
    "#df[df['OffensePersonnel'] == '1 RB, 2 TE, 3 WR'].to_csv(\"tmp.csv\")\n",
    "#df['Position'].value_counts()\n",
    "#df['PlayId'].nunique()\n",
    "#df[df['Position'] == 'QB']['PlayId'].nunique()\n"
   ]
  },
  {
   "cell_type": "code",
   "execution_count": null,
   "metadata": {},
   "outputs": [],
   "source": [
    "df['DefensePersonnel'].value_counts()"
   ]
  },
  {
   "cell_type": "markdown",
   "metadata": {},
   "source": [
    "## Removing unnecessary fields"
   ]
  },
  {
   "cell_type": "code",
   "execution_count": 1,
   "metadata": {},
   "outputs": [
    {
     "ename": "NameError",
     "evalue": "name 'df' is not defined",
     "output_type": "error",
     "traceback": [
      "\u001b[1;31m---------------------------------------------------------------------------\u001b[0m",
      "\u001b[1;31mNameError\u001b[0m                                 Traceback (most recent call last)",
      "\u001b[1;32m<ipython-input-1-549e9e3a9346>\u001b[0m in \u001b[0;36m<module>\u001b[1;34m\u001b[0m\n\u001b[1;32m----> 1\u001b[1;33m \u001b[0mdf\u001b[0m\u001b[1;33m.\u001b[0m\u001b[0mdrop\u001b[0m\u001b[1;33m(\u001b[0m\u001b[1;33m[\u001b[0m\u001b[1;34m'JerseyNumber'\u001b[0m\u001b[1;33m]\u001b[0m\u001b[1;33m)\u001b[0m\u001b[1;33m\u001b[0m\u001b[1;33m\u001b[0m\u001b[0m\n\u001b[0m",
      "\u001b[1;31mNameError\u001b[0m: name 'df' is not defined"
     ]
    }
   ],
   "source": [
    "df.drop(['JerseyNumber'])"
   ]
  },
  {
   "cell_type": "markdown",
   "metadata": {},
   "source": [
    "### Save the new files to the appropriate directories"
   ]
  },
  {
   "cell_type": "code",
   "execution_count": null,
   "metadata": {},
   "outputs": [],
   "source": [
    "#df.to_csv(\"../data/interim/data_techcorr.csv\")"
   ]
  },
  {
   "cell_type": "code",
   "execution_count": null,
   "metadata": {},
   "outputs": [],
   "source": [
    "dfrun = df[df[\"NflIdRusher\"] == df[\"NflId\"]]\n",
    "dfrun.shape"
   ]
  },
  {
   "cell_type": "code",
   "execution_count": null,
   "metadata": {},
   "outputs": [],
   "source": [
    "dfrun.to_csv(\"../data/processed/data_cleaned.csv\")"
   ]
  },
  {
   "cell_type": "code",
   "execution_count": null,
   "metadata": {},
   "outputs": [],
   "source": [
    "df.columns"
   ]
  },
  {
   "cell_type": "code",
   "execution_count": null,
   "metadata": {},
   "outputs": [],
   "source": [
    "null_columns=df.columns[df.isnull().any()]\n",
    "df[null_columns].isnull().sum()"
   ]
  }
 ],
 "metadata": {
  "kernelspec": {
   "display_name": "Python 3",
   "language": "python",
   "name": "python3"
  },
  "language_info": {
   "codemirror_mode": {
    "name": "ipython",
    "version": 3
   },
   "file_extension": ".py",
   "mimetype": "text/x-python",
   "name": "python",
   "nbconvert_exporter": "python",
   "pygments_lexer": "ipython3",
   "version": "3.7.6"
  }
 },
 "nbformat": 4,
 "nbformat_minor": 2
}
