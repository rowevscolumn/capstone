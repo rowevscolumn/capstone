{
 "cells": [
  {
   "cell_type": "markdown",
   "metadata": {},
   "source": [
    "# Initial Report"
   ]
  },
  {
   "cell_type": "code",
   "execution_count": 1,
   "metadata": {},
   "outputs": [
    {
     "name": "stderr",
     "output_type": "stream",
     "text": [
      "D:\\Users\\sourc\\Anaconda3\\lib\\site-packages\\sklearn\\externals\\six.py:31: FutureWarning: The module is deprecated in version 0.21 and will be removed in version 0.23 since we've dropped support for Python 2.7. Please rely on the official version of six (https://pypi.org/project/six/).\n",
      "  \"(https://pypi.org/project/six/).\", FutureWarning)\n"
     ]
    }
   ],
   "source": [
    "import pandas as pd\n",
    "import numpy as np\n",
    "import matplotlib.pyplot as plt\n",
    "import seaborn as sns\n",
    "%matplotlib inline\n",
    "\n",
    "from sklearn.model_selection import train_test_split\n",
    "from sklearn.utils import resample\n",
    "from sklearn.tree import DecisionTreeClassifier #Import scikit-Tree For Decision Tree\n",
    "from sklearn import metrics #Import scikit-learn metrics module for accuracy calculation\n",
    "from sklearn.metrics import classification_report,confusion_matrix #import Confusion Matrix\n",
    "from sklearn.model_selection import train_test_split # Splitting the data\n",
    "from sklearn import preprocessing # Normalizing\n",
    "\n",
    "from sklearn.metrics import accuracy_score, precision_score, recall_score, f1_score\n",
    "\n",
    "from IPython.display import Image, display, HTML\n",
    "from sklearn.externals.six import StringIO  \n",
    "from sklearn.tree import export_graphviz\n",
    "import time\n"
   ]
  },
  {
   "cell_type": "markdown",
   "metadata": {},
   "source": [
    "## Accuracies scores"
   ]
  },
  {
   "cell_type": "code",
   "execution_count": 2,
   "metadata": {},
   "outputs": [],
   "source": [
    "dfa = pd.read_csv(\"../data/external/accuracies.csv\",index_col=0)"
   ]
  },
  {
   "cell_type": "code",
   "execution_count": 3,
   "metadata": {},
   "outputs": [
    {
     "data": {
      "text/html": [
       "<style  type=\"text/css\" >\n",
       "    #T_877aeb36_6d39_11ea_a696_40e2302f20c8row0_col0 {\n",
       "            background-color:  #ff0000;\n",
       "            color:  #f1f1f1;\n",
       "        }    #T_877aeb36_6d39_11ea_a696_40e2302f20c8row0_col1 {\n",
       "            background-color:  #ff0000;\n",
       "            color:  #f1f1f1;\n",
       "        }    #T_877aeb36_6d39_11ea_a696_40e2302f20c8row0_col2 {\n",
       "            background-color:  #ff0000;\n",
       "            color:  #f1f1f1;\n",
       "        }    #T_877aeb36_6d39_11ea_a696_40e2302f20c8row0_col3 {\n",
       "            background-color:  #ff0000;\n",
       "            color:  #f1f1f1;\n",
       "        }    #T_877aeb36_6d39_11ea_a696_40e2302f20c8row0_col4 {\n",
       "            background-color:  #ff0000;\n",
       "            color:  #f1f1f1;\n",
       "        }    #T_877aeb36_6d39_11ea_a696_40e2302f20c8row1_col0 {\n",
       "            background-color:  #f6f6ff;\n",
       "            color:  #000000;\n",
       "        }    #T_877aeb36_6d39_11ea_a696_40e2302f20c8row1_col1 {\n",
       "            background-color:  #ff4a4a;\n",
       "            color:  #000000;\n",
       "        }    #T_877aeb36_6d39_11ea_a696_40e2302f20c8row1_col2 {\n",
       "            background-color:  #ff7878;\n",
       "            color:  #000000;\n",
       "        }    #T_877aeb36_6d39_11ea_a696_40e2302f20c8row1_col3 {\n",
       "            background-color:  #ff5a5a;\n",
       "            color:  #000000;\n",
       "        }    #T_877aeb36_6d39_11ea_a696_40e2302f20c8row1_col4 {\n",
       "            background-color:  #ffb6b6;\n",
       "            color:  #000000;\n",
       "        }    #T_877aeb36_6d39_11ea_a696_40e2302f20c8row2_col0 {\n",
       "            background-color:  #c4c4ff;\n",
       "            color:  #000000;\n",
       "        }    #T_877aeb36_6d39_11ea_a696_40e2302f20c8row2_col1 {\n",
       "            background-color:  #ff4c4c;\n",
       "            color:  #000000;\n",
       "        }    #T_877aeb36_6d39_11ea_a696_40e2302f20c8row2_col2 {\n",
       "            background-color:  #ffaaaa;\n",
       "            color:  #000000;\n",
       "        }    #T_877aeb36_6d39_11ea_a696_40e2302f20c8row2_col3 {\n",
       "            background-color:  #ff7a7a;\n",
       "            color:  #000000;\n",
       "        }    #T_877aeb36_6d39_11ea_a696_40e2302f20c8row2_col4 {\n",
       "            background-color:  #ffdcdc;\n",
       "            color:  #000000;\n",
       "        }    #T_877aeb36_6d39_11ea_a696_40e2302f20c8row3_col0 {\n",
       "            background-color:  #bebeff;\n",
       "            color:  #000000;\n",
       "        }    #T_877aeb36_6d39_11ea_a696_40e2302f20c8row3_col1 {\n",
       "            background-color:  #ff4242;\n",
       "            color:  #000000;\n",
       "        }    #T_877aeb36_6d39_11ea_a696_40e2302f20c8row3_col2 {\n",
       "            background-color:  #ffb8b8;\n",
       "            color:  #000000;\n",
       "        }    #T_877aeb36_6d39_11ea_a696_40e2302f20c8row3_col3 {\n",
       "            background-color:  #ff8080;\n",
       "            color:  #000000;\n",
       "        }    #T_877aeb36_6d39_11ea_a696_40e2302f20c8row3_col4 {\n",
       "            background-color:  #ffe0e0;\n",
       "            color:  #000000;\n",
       "        }    #T_877aeb36_6d39_11ea_a696_40e2302f20c8row4_col0 {\n",
       "            background-color:  #b4b4ff;\n",
       "            color:  #000000;\n",
       "        }    #T_877aeb36_6d39_11ea_a696_40e2302f20c8row4_col1 {\n",
       "            background-color:  #ff4242;\n",
       "            color:  #000000;\n",
       "        }    #T_877aeb36_6d39_11ea_a696_40e2302f20c8row4_col2 {\n",
       "            background-color:  #ffb2b2;\n",
       "            color:  #000000;\n",
       "        }    #T_877aeb36_6d39_11ea_a696_40e2302f20c8row4_col3 {\n",
       "            background-color:  #ff7e7e;\n",
       "            color:  #000000;\n",
       "        }    #T_877aeb36_6d39_11ea_a696_40e2302f20c8row4_col4 {\n",
       "            background-color:  #ffe2e2;\n",
       "            color:  #000000;\n",
       "        }    #T_877aeb36_6d39_11ea_a696_40e2302f20c8row5_col0 {\n",
       "            background-color:  #aeaeff;\n",
       "            color:  #000000;\n",
       "        }    #T_877aeb36_6d39_11ea_a696_40e2302f20c8row5_col1 {\n",
       "            background-color:  #ff4646;\n",
       "            color:  #000000;\n",
       "        }    #T_877aeb36_6d39_11ea_a696_40e2302f20c8row5_col2 {\n",
       "            background-color:  #ffb6b6;\n",
       "            color:  #000000;\n",
       "        }    #T_877aeb36_6d39_11ea_a696_40e2302f20c8row5_col3 {\n",
       "            background-color:  #ff8080;\n",
       "            color:  #000000;\n",
       "        }    #T_877aeb36_6d39_11ea_a696_40e2302f20c8row5_col4 {\n",
       "            background-color:  #ffe8e8;\n",
       "            color:  #000000;\n",
       "        }    #T_877aeb36_6d39_11ea_a696_40e2302f20c8row6_col0 {\n",
       "            background-color:  #9898ff;\n",
       "            color:  #000000;\n",
       "        }    #T_877aeb36_6d39_11ea_a696_40e2302f20c8row6_col1 {\n",
       "            background-color:  #ff6060;\n",
       "            color:  #000000;\n",
       "        }    #T_877aeb36_6d39_11ea_a696_40e2302f20c8row6_col2 {\n",
       "            background-color:  #ffaaaa;\n",
       "            color:  #000000;\n",
       "        }    #T_877aeb36_6d39_11ea_a696_40e2302f20c8row6_col3 {\n",
       "            background-color:  #ff8080;\n",
       "            color:  #000000;\n",
       "        }    #T_877aeb36_6d39_11ea_a696_40e2302f20c8row6_col4 {\n",
       "            background-color:  #fff6f6;\n",
       "            color:  #000000;\n",
       "        }    #T_877aeb36_6d39_11ea_a696_40e2302f20c8row7_col0 {\n",
       "            background-color:  #7878ff;\n",
       "            color:  #000000;\n",
       "        }    #T_877aeb36_6d39_11ea_a696_40e2302f20c8row7_col1 {\n",
       "            background-color:  #ff6464;\n",
       "            color:  #000000;\n",
       "        }    #T_877aeb36_6d39_11ea_a696_40e2302f20c8row7_col2 {\n",
       "            background-color:  #ffd4d4;\n",
       "            color:  #000000;\n",
       "        }    #T_877aeb36_6d39_11ea_a696_40e2302f20c8row7_col3 {\n",
       "            background-color:  #ff9c9c;\n",
       "            color:  #000000;\n",
       "        }    #T_877aeb36_6d39_11ea_a696_40e2302f20c8row7_col4 {\n",
       "            background-color:  #eeeeff;\n",
       "            color:  #000000;\n",
       "        }    #T_877aeb36_6d39_11ea_a696_40e2302f20c8row8_col0 {\n",
       "            background-color:  #0000ff;\n",
       "            color:  #f1f1f1;\n",
       "        }    #T_877aeb36_6d39_11ea_a696_40e2302f20c8row8_col1 {\n",
       "            background-color:  #ffd8d8;\n",
       "            color:  #000000;\n",
       "        }    #T_877aeb36_6d39_11ea_a696_40e2302f20c8row8_col2 {\n",
       "            background-color:  #ffb6b6;\n",
       "            color:  #000000;\n",
       "        }    #T_877aeb36_6d39_11ea_a696_40e2302f20c8row8_col3 {\n",
       "            background-color:  #ffaaaa;\n",
       "            color:  #000000;\n",
       "        }    #T_877aeb36_6d39_11ea_a696_40e2302f20c8row8_col4 {\n",
       "            background-color:  #9c9cff;\n",
       "            color:  #000000;\n",
       "        }    #T_877aeb36_6d39_11ea_a696_40e2302f20c8row9_col0 {\n",
       "            background-color:  #bebeff;\n",
       "            color:  #000000;\n",
       "        }    #T_877aeb36_6d39_11ea_a696_40e2302f20c8row9_col1 {\n",
       "            background-color:  #0000ff;\n",
       "            color:  #f1f1f1;\n",
       "        }    #T_877aeb36_6d39_11ea_a696_40e2302f20c8row9_col2 {\n",
       "            background-color:  #a8a8ff;\n",
       "            color:  #000000;\n",
       "        }    #T_877aeb36_6d39_11ea_a696_40e2302f20c8row9_col3 {\n",
       "            background-color:  #9898ff;\n",
       "            color:  #000000;\n",
       "        }    #T_877aeb36_6d39_11ea_a696_40e2302f20c8row9_col4 {\n",
       "            background-color:  #5c5cff;\n",
       "            color:  #f1f1f1;\n",
       "        }    #T_877aeb36_6d39_11ea_a696_40e2302f20c8row10_col0 {\n",
       "            background-color:  #ffa6a6;\n",
       "            color:  #000000;\n",
       "        }    #T_877aeb36_6d39_11ea_a696_40e2302f20c8row10_col1 {\n",
       "            background-color:  #dedeff;\n",
       "            color:  #000000;\n",
       "        }    #T_877aeb36_6d39_11ea_a696_40e2302f20c8row10_col2 {\n",
       "            background-color:  #4e4eff;\n",
       "            color:  #f1f1f1;\n",
       "        }    #T_877aeb36_6d39_11ea_a696_40e2302f20c8row10_col3 {\n",
       "            background-color:  #7676ff;\n",
       "            color:  #000000;\n",
       "        }    #T_877aeb36_6d39_11ea_a696_40e2302f20c8row10_col4 {\n",
       "            background-color:  #4c4cff;\n",
       "            color:  #f1f1f1;\n",
       "        }    #T_877aeb36_6d39_11ea_a696_40e2302f20c8row11_col0 {\n",
       "            background-color:  #ffaeae;\n",
       "            color:  #000000;\n",
       "        }    #T_877aeb36_6d39_11ea_a696_40e2302f20c8row11_col1 {\n",
       "            background-color:  #fff0f0;\n",
       "            color:  #000000;\n",
       "        }    #T_877aeb36_6d39_11ea_a696_40e2302f20c8row11_col2 {\n",
       "            background-color:  #0000ff;\n",
       "            color:  #f1f1f1;\n",
       "        }    #T_877aeb36_6d39_11ea_a696_40e2302f20c8row11_col3 {\n",
       "            background-color:  #0000ff;\n",
       "            color:  #f1f1f1;\n",
       "        }    #T_877aeb36_6d39_11ea_a696_40e2302f20c8row11_col4 {\n",
       "            background-color:  #0000ff;\n",
       "            color:  #f1f1f1;\n",
       "        }</style><table id=\"T_877aeb36_6d39_11ea_a696_40e2302f20c8\" ><caption>Collection of Accuracy numbers from all the processes</caption><thead>    <tr>        <th class=\"blank level0\" ></th>        <th class=\"col_heading level0 col0\" >Accuracy</th>        <th class=\"col_heading level0 col1\" >Precision</th>        <th class=\"col_heading level0 col2\" >Recall</th>        <th class=\"col_heading level0 col3\" >F1</th>        <th class=\"col_heading level0 col4\" >ROC</th>    </tr></thead><tbody>\n",
       "                <tr>\n",
       "                        <th id=\"T_877aeb36_6d39_11ea_a696_40e2302f20c8level0_row0\" class=\"row_heading level0 row0\" >Decision Tree, Oversampled</th>\n",
       "                        <td id=\"T_877aeb36_6d39_11ea_a696_40e2302f20c8row0_col0\" class=\"data row0 col0\" >88.32%</td>\n",
       "                        <td id=\"T_877aeb36_6d39_11ea_a696_40e2302f20c8row0_col1\" class=\"data row0 col1\" >83.39%</td>\n",
       "                        <td id=\"T_877aeb36_6d39_11ea_a696_40e2302f20c8row0_col2\" class=\"data row0 col2\" >95.99%</td>\n",
       "                        <td id=\"T_877aeb36_6d39_11ea_a696_40e2302f20c8row0_col3\" class=\"data row0 col3\" >89.24%</td>\n",
       "                        <td id=\"T_877aeb36_6d39_11ea_a696_40e2302f20c8row0_col4\" class=\"data row0 col4\" >88.25%</td>\n",
       "            </tr>\n",
       "            <tr>\n",
       "                        <th id=\"T_877aeb36_6d39_11ea_a696_40e2302f20c8level0_row1\" class=\"row_heading level0 row1\" >K-Nearest, Oversampled</th>\n",
       "                        <td id=\"T_877aeb36_6d39_11ea_a696_40e2302f20c8row1_col0\" class=\"data row1 col0\" >75.56%</td>\n",
       "                        <td id=\"T_877aeb36_6d39_11ea_a696_40e2302f20c8row1_col1\" class=\"data row1 col1\" >76.30%</td>\n",
       "                        <td id=\"T_877aeb36_6d39_11ea_a696_40e2302f20c8row1_col2\" class=\"data row1 col2\" >74.83%</td>\n",
       "                        <td id=\"T_877aeb36_6d39_11ea_a696_40e2302f20c8row1_col3\" class=\"data row1 col3\" >75.56%</td>\n",
       "                        <td id=\"T_877aeb36_6d39_11ea_a696_40e2302f20c8row1_col4\" class=\"data row1 col4\" >75.57%</td>\n",
       "            </tr>\n",
       "            <tr>\n",
       "                        <th id=\"T_877aeb36_6d39_11ea_a696_40e2302f20c8level0_row2\" class=\"row_heading level0 row2\" >Logistic regression, Undersampled</th>\n",
       "                        <td id=\"T_877aeb36_6d39_11ea_a696_40e2302f20c8row2_col0\" class=\"data row2 col0\" >73.13%</td>\n",
       "                        <td id=\"T_877aeb36_6d39_11ea_a696_40e2302f20c8row2_col1\" class=\"data row2 col1\" >76.16%</td>\n",
       "                        <td id=\"T_877aeb36_6d39_11ea_a696_40e2302f20c8row2_col2\" class=\"data row2 col2\" >66.16%</td>\n",
       "                        <td id=\"T_877aeb36_6d39_11ea_a696_40e2302f20c8row2_col3\" class=\"data row2 col3\" >70.81%</td>\n",
       "                        <td id=\"T_877aeb36_6d39_11ea_a696_40e2302f20c8row2_col4\" class=\"data row2 col4\" >73.03%</td>\n",
       "            </tr>\n",
       "            <tr>\n",
       "                        <th id=\"T_877aeb36_6d39_11ea_a696_40e2302f20c8level0_row3\" class=\"row_heading level0 row3\" >Random Forest, Undersampled</th>\n",
       "                        <td id=\"T_877aeb36_6d39_11ea_a696_40e2302f20c8row3_col0\" class=\"data row3 col0\" >72.85%</td>\n",
       "                        <td id=\"T_877aeb36_6d39_11ea_a696_40e2302f20c8row3_col1\" class=\"data row3 col1\" >77.06%</td>\n",
       "                        <td id=\"T_877aeb36_6d39_11ea_a696_40e2302f20c8row3_col2\" class=\"data row3 col2\" >63.89%</td>\n",
       "                        <td id=\"T_877aeb36_6d39_11ea_a696_40e2302f20c8row3_col3\" class=\"data row3 col3\" >69.86%</td>\n",
       "                        <td id=\"T_877aeb36_6d39_11ea_a696_40e2302f20c8row3_col4\" class=\"data row3 col4\" >72.72%</td>\n",
       "            </tr>\n",
       "            <tr>\n",
       "                        <th id=\"T_877aeb36_6d39_11ea_a696_40e2302f20c8level0_row4\" class=\"row_heading level0 row4\" >Logistic regression, Oversampled</th>\n",
       "                        <td id=\"T_877aeb36_6d39_11ea_a696_40e2302f20c8row4_col0\" class=\"data row4 col0\" >72.44%</td>\n",
       "                        <td id=\"T_877aeb36_6d39_11ea_a696_40e2302f20c8row4_col1\" class=\"data row4 col1\" >77.02%</td>\n",
       "                        <td id=\"T_877aeb36_6d39_11ea_a696_40e2302f20c8row4_col2\" class=\"data row4 col2\" >64.72%</td>\n",
       "                        <td id=\"T_877aeb36_6d39_11ea_a696_40e2302f20c8row4_col3\" class=\"data row4 col3\" >70.33%</td>\n",
       "                        <td id=\"T_877aeb36_6d39_11ea_a696_40e2302f20c8row4_col4\" class=\"data row4 col4\" >72.52%</td>\n",
       "            </tr>\n",
       "            <tr>\n",
       "                        <th id=\"T_877aeb36_6d39_11ea_a696_40e2302f20c8level0_row5\" class=\"row_heading level0 row5\" >Random Forest, Oversampled</th>\n",
       "                        <td id=\"T_877aeb36_6d39_11ea_a696_40e2302f20c8row5_col0\" class=\"data row5 col0\" >72.07%</td>\n",
       "                        <td id=\"T_877aeb36_6d39_11ea_a696_40e2302f20c8row5_col1\" class=\"data row5 col1\" >76.71%</td>\n",
       "                        <td id=\"T_877aeb36_6d39_11ea_a696_40e2302f20c8row5_col2\" class=\"data row5 col2\" >64.15%</td>\n",
       "                        <td id=\"T_877aeb36_6d39_11ea_a696_40e2302f20c8row5_col3\" class=\"data row5 col3\" >69.87%</td>\n",
       "                        <td id=\"T_877aeb36_6d39_11ea_a696_40e2302f20c8row5_col4\" class=\"data row5 col4\" >72.15%</td>\n",
       "            </tr>\n",
       "            <tr>\n",
       "                        <th id=\"T_877aeb36_6d39_11ea_a696_40e2302f20c8level0_row6\" class=\"row_heading level0 row6\" >Logistic regression, PCA</th>\n",
       "                        <td id=\"T_877aeb36_6d39_11ea_a696_40e2302f20c8row6_col0\" class=\"data row6 col0\" >71.09%</td>\n",
       "                        <td id=\"T_877aeb36_6d39_11ea_a696_40e2302f20c8row6_col1\" class=\"data row6 col1\" >74.12%</td>\n",
       "                        <td id=\"T_877aeb36_6d39_11ea_a696_40e2302f20c8row6_col2\" class=\"data row6 col2\" >66.15%</td>\n",
       "                        <td id=\"T_877aeb36_6d39_11ea_a696_40e2302f20c8row6_col3\" class=\"data row6 col3\" >69.91%</td>\n",
       "                        <td id=\"T_877aeb36_6d39_11ea_a696_40e2302f20c8row6_col4\" class=\"data row6 col4\" >71.16%</td>\n",
       "            </tr>\n",
       "            <tr>\n",
       "                        <th id=\"T_877aeb36_6d39_11ea_a696_40e2302f20c8level0_row7\" class=\"row_heading level0 row7\" >K-Nearest, Undersampled</th>\n",
       "                        <td id=\"T_877aeb36_6d39_11ea_a696_40e2302f20c8row7_col0\" class=\"data row7 col0\" >69.54%</td>\n",
       "                        <td id=\"T_877aeb36_6d39_11ea_a696_40e2302f20c8row7_col1\" class=\"data row7 col1\" >73.90%</td>\n",
       "                        <td id=\"T_877aeb36_6d39_11ea_a696_40e2302f20c8row7_col2\" class=\"data row7 col2\" >58.97%</td>\n",
       "                        <td id=\"T_877aeb36_6d39_11ea_a696_40e2302f20c8row7_col3\" class=\"data row7 col3\" >65.60%</td>\n",
       "                        <td id=\"T_877aeb36_6d39_11ea_a696_40e2302f20c8row7_col4\" class=\"data row7 col4\" >69.38%</td>\n",
       "            </tr>\n",
       "            <tr>\n",
       "                        <th id=\"T_877aeb36_6d39_11ea_a696_40e2302f20c8level0_row8\" class=\"row_heading level0 row8\" >Decision Tree, Undersampled</th>\n",
       "                        <td id=\"T_877aeb36_6d39_11ea_a696_40e2302f20c8row8_col0\" class=\"data row8 col0\" >63.68%</td>\n",
       "                        <td id=\"T_877aeb36_6d39_11ea_a696_40e2302f20c8row8_col1\" class=\"data row8 col1\" >62.83%</td>\n",
       "                        <td id=\"T_877aeb36_6d39_11ea_a696_40e2302f20c8row8_col2\" class=\"data row8 col2\" >64.29%</td>\n",
       "                        <td id=\"T_877aeb36_6d39_11ea_a696_40e2302f20c8row8_col3\" class=\"data row8 col3\" >63.55%</td>\n",
       "                        <td id=\"T_877aeb36_6d39_11ea_a696_40e2302f20c8row8_col4\" class=\"data row8 col4\" >63.69%</td>\n",
       "            </tr>\n",
       "            <tr>\n",
       "                        <th id=\"T_877aeb36_6d39_11ea_a696_40e2302f20c8level0_row9\" class=\"row_heading level0 row9\" >Decision Tree, PCA</th>\n",
       "                        <td id=\"T_877aeb36_6d39_11ea_a696_40e2302f20c8row9_col0\" class=\"data row9 col0\" >72.84%</td>\n",
       "                        <td id=\"T_877aeb36_6d39_11ea_a696_40e2302f20c8row9_col1\" class=\"data row9 col1\" >34.84%</td>\n",
       "                        <td id=\"T_877aeb36_6d39_11ea_a696_40e2302f20c8row9_col2\" class=\"data row9 col2\" >36.32%</td>\n",
       "                        <td id=\"T_877aeb36_6d39_11ea_a696_40e2302f20c8row9_col3\" class=\"data row9 col3\" >35.56%</td>\n",
       "                        <td id=\"T_877aeb36_6d39_11ea_a696_40e2302f20c8row9_col4\" class=\"data row9 col4\" >59.33%</td>\n",
       "            </tr>\n",
       "            <tr>\n",
       "                        <th id=\"T_877aeb36_6d39_11ea_a696_40e2302f20c8level0_row10\" class=\"row_heading level0 row10\" >K-Nearest, PCA</th>\n",
       "                        <td id=\"T_877aeb36_6d39_11ea_a696_40e2302f20c8row10_col0\" class=\"data row10 col0\" >80.28%</td>\n",
       "                        <td id=\"T_877aeb36_6d39_11ea_a696_40e2302f20c8row10_col1\" class=\"data row10 col1\" >55.96%</td>\n",
       "                        <td id=\"T_877aeb36_6d39_11ea_a696_40e2302f20c8row10_col2\" class=\"data row10 col2\" >20.74%</td>\n",
       "                        <td id=\"T_877aeb36_6d39_11ea_a696_40e2302f20c8row10_col3\" class=\"data row10 col3\" >30.26%</td>\n",
       "                        <td id=\"T_877aeb36_6d39_11ea_a696_40e2302f20c8row10_col4\" class=\"data row10 col4\" >58.25%</td>\n",
       "            </tr>\n",
       "            <tr>\n",
       "                        <th id=\"T_877aeb36_6d39_11ea_a696_40e2302f20c8level0_row11\" class=\"row_heading level0 row11\" >Random Forest, PCA</th>\n",
       "                        <td id=\"T_877aeb36_6d39_11ea_a696_40e2302f20c8row11_col0\" class=\"data row11 col0\" >79.87%</td>\n",
       "                        <td id=\"T_877aeb36_6d39_11ea_a696_40e2302f20c8row11_col1\" class=\"data row11 col1\" >60.59%</td>\n",
       "                        <td id=\"T_877aeb36_6d39_11ea_a696_40e2302f20c8row11_col2\" class=\"data row11 col2\" >6.97%</td>\n",
       "                        <td id=\"T_877aeb36_6d39_11ea_a696_40e2302f20c8row11_col3\" class=\"data row11 col3\" >12.50%</td>\n",
       "                        <td id=\"T_877aeb36_6d39_11ea_a696_40e2302f20c8row11_col4\" class=\"data row11 col4\" >52.90%</td>\n",
       "            </tr>\n",
       "    </tbody></table>"
      ],
      "text/plain": [
       "<IPython.core.display.HTML object>"
      ]
     },
     "metadata": {},
     "output_type": "display_data"
    }
   ],
   "source": [
    "display(HTML((dfa.sort_values('ROC', ascending=False).style \\\n",
    "    .background_gradient(subset=['Accuracy','Precision','Recall','F1','ROC'], cmap='bwr') \\\n",
    "    .format(\"{:0.2%}\") \\\n",
    "    .set_caption('Collection of Accuracy numbers from all the processes')\n",
    ").render()))"
   ]
  },
  {
   "cell_type": "markdown",
   "metadata": {},
   "source": [
    "As we can see from this collected table, Using the Decision Tree with oversampled data gives the best result. It has the highest in all categories, including Accuracy, Precision, Recall, F1 Score, and ROC Curve. The worst score comes from the Random Forest using PCA, with the weakest Recall, F1 Score and ROC curve score. The weakest accuracy comes from Decision Tree with Undersampled data. The weakest Precision comes from the Decision Tree using PCA."
   ]
  },
  {
   "cell_type": "markdown",
   "metadata": {},
   "source": [
    "## Feature importances"
   ]
  },
  {
   "cell_type": "code",
   "execution_count": 4,
   "metadata": {
    "scrolled": false
   },
   "outputs": [],
   "source": [
    "dfi = pd.read_csv(\"../data/external/importances.csv\",index_col=0)"
   ]
  },
  {
   "cell_type": "code",
   "execution_count": 5,
   "metadata": {},
   "outputs": [
    {
     "data": {
      "text/html": [
       "<style  type=\"text/css\" >\n",
       "    #T_87a0c9f6_6d39_11ea_9aa2_40e2302f20c8row0_col1 {\n",
       "            background-color:  lightgreen;\n",
       "        }</style><table id=\"T_87a0c9f6_6d39_11ea_9aa2_40e2302f20c8\" ><thead>    <tr>        <th class=\"col_heading level0 col0\" >feature</th>        <th class=\"col_heading level0 col1\" >importance</th>    </tr></thead><tbody>\n",
       "                <tr>\n",
       "                                <td id=\"T_87a0c9f6_6d39_11ea_9aa2_40e2302f20c8row0_col0\" class=\"data row0 col0\" >Distance</td>\n",
       "                        <td id=\"T_87a0c9f6_6d39_11ea_9aa2_40e2302f20c8row0_col1\" class=\"data row0 col1\" >24.70%</td>\n",
       "            </tr>\n",
       "            <tr>\n",
       "                                <td id=\"T_87a0c9f6_6d39_11ea_9aa2_40e2302f20c8row1_col0\" class=\"data row1 col0\" >A</td>\n",
       "                        <td id=\"T_87a0c9f6_6d39_11ea_9aa2_40e2302f20c8row1_col1\" class=\"data row1 col1\" >10.90%</td>\n",
       "            </tr>\n",
       "            <tr>\n",
       "                                <td id=\"T_87a0c9f6_6d39_11ea_9aa2_40e2302f20c8row2_col0\" class=\"data row2 col0\" >S</td>\n",
       "                        <td id=\"T_87a0c9f6_6d39_11ea_9aa2_40e2302f20c8row2_col1\" class=\"data row2 col1\" >10.70%</td>\n",
       "            </tr>\n",
       "            <tr>\n",
       "                                <td id=\"T_87a0c9f6_6d39_11ea_9aa2_40e2302f20c8row3_col0\" class=\"data row3 col0\" >Y</td>\n",
       "                        <td id=\"T_87a0c9f6_6d39_11ea_9aa2_40e2302f20c8row3_col1\" class=\"data row3 col1\" >8.70%</td>\n",
       "            </tr>\n",
       "            <tr>\n",
       "                                <td id=\"T_87a0c9f6_6d39_11ea_9aa2_40e2302f20c8row4_col0\" class=\"data row4 col0\" >YardsToTouchdown</td>\n",
       "                        <td id=\"T_87a0c9f6_6d39_11ea_9aa2_40e2302f20c8row4_col1\" class=\"data row4 col1\" >7.10%</td>\n",
       "            </tr>\n",
       "            <tr>\n",
       "                                <td id=\"T_87a0c9f6_6d39_11ea_9aa2_40e2302f20c8row5_col0\" class=\"data row5 col0\" >HomeScoreBeforePlay</td>\n",
       "                        <td id=\"T_87a0c9f6_6d39_11ea_9aa2_40e2302f20c8row5_col1\" class=\"data row5 col1\" >4.70%</td>\n",
       "            </tr>\n",
       "            <tr>\n",
       "                                <td id=\"T_87a0c9f6_6d39_11ea_9aa2_40e2302f20c8row6_col0\" class=\"data row6 col0\" >Age</td>\n",
       "                        <td id=\"T_87a0c9f6_6d39_11ea_9aa2_40e2302f20c8row6_col1\" class=\"data row6 col1\" >4.50%</td>\n",
       "            </tr>\n",
       "            <tr>\n",
       "                                <td id=\"T_87a0c9f6_6d39_11ea_9aa2_40e2302f20c8row7_col0\" class=\"data row7 col0\" >PlayerHeightInches</td>\n",
       "                        <td id=\"T_87a0c9f6_6d39_11ea_9aa2_40e2302f20c8row7_col1\" class=\"data row7 col1\" >3.10%</td>\n",
       "            </tr>\n",
       "            <tr>\n",
       "                                <td id=\"T_87a0c9f6_6d39_11ea_9aa2_40e2302f20c8row8_col0\" class=\"data row8 col0\" >DefendersInTheBox</td>\n",
       "                        <td id=\"T_87a0c9f6_6d39_11ea_9aa2_40e2302f20c8row8_col1\" class=\"data row8 col1\" >2.40%</td>\n",
       "            </tr>\n",
       "            <tr>\n",
       "                                <td id=\"T_87a0c9f6_6d39_11ea_9aa2_40e2302f20c8row9_col0\" class=\"data row9 col0\" >Quarter</td>\n",
       "                        <td id=\"T_87a0c9f6_6d39_11ea_9aa2_40e2302f20c8row9_col1\" class=\"data row9 col1\" >2.00%</td>\n",
       "            </tr>\n",
       "    </tbody></table>"
      ],
      "text/plain": [
       "<IPython.core.display.HTML object>"
      ]
     },
     "execution_count": 5,
     "metadata": {},
     "output_type": "execute_result"
    }
   ],
   "source": [
    "HTML((dfi.head(10).style \\\n",
    "    .highlight_max(color='lightgreen') \\\n",
    "    .hide_index() \\\n",
    "    .format({\"importance\":\"{:0.2%}\"}) \\\n",
    ").render())"
   ]
  },
  {
   "cell_type": "markdown",
   "metadata": {},
   "source": [
    "The top 3 features with the most importance, according to the decision tree data, is:\n",
    "\n",
    "* The distance needed to make the first down\n",
    "* The acceleration speed of the running back\n",
    "* The top speed of the running back\n",
    "\n",
    "This means that the most important factor is how far they need to go to get the first down, which does make sensing seeing that the mean and median of the yards gained is 3 and 4 yards respectively. The other being the speed and acceleration of the player, which was proven earler, when the top 5 running backs with the most successful first down runs were all 26 or under, and had a combine speed between 4.50 to 4.58."
   ]
  },
  {
   "cell_type": "code",
   "execution_count": 6,
   "metadata": {},
   "outputs": [],
   "source": [
    "df = pd.read_csv(\"../data/processed/data_ready.csv\",index_col=0)"
   ]
  },
  {
   "cell_type": "code",
   "execution_count": 7,
   "metadata": {},
   "outputs": [
    {
     "data": {
      "text/plain": [
       "<matplotlib.axes._subplots.AxesSubplot at 0x1a6b8209bc8>"
      ]
     },
     "execution_count": 7,
     "metadata": {},
     "output_type": "execute_result"
    },
    {
     "data": {
      "image/png": "[encoded data removed]",
      "text/plain": [
       "<Figure size 432x288 with 1 Axes>"
      ]
     },
     "metadata": {
      "needs_background": "light"
     },
     "output_type": "display_data"
    }
   ],
   "source": [
    "sns.violinplot( y=\"Distance\", x=\"isFirstDown\", data=df, palette=\"Set1\")"
   ]
  },
  {
   "cell_type": "code",
   "execution_count": 8,
   "metadata": {},
   "outputs": [
    {
     "data": {
      "text/plain": [
       "<matplotlib.axes._subplots.AxesSubplot at 0x1a6b89cd6c8>"
      ]
     },
     "execution_count": 8,
     "metadata": {},
     "output_type": "execute_result"
    },
    {
     "data": {
      "image/png": "[encoded data removed]",
      "text/plain": [
       "<Figure size 432x288 with 1 Axes>"
      ]
     },
     "metadata": {
      "needs_background": "light"
     },
     "output_type": "display_data"
    }
   ],
   "source": [
    "sns.violinplot( y=\"A\", x=\"isFirstDown\", data=df, palette=\"Set1\")"
   ]
  },
  {
   "cell_type": "code",
   "execution_count": 9,
   "metadata": {},
   "outputs": [
    {
     "data": {
      "text/plain": [
       "<matplotlib.axes._subplots.AxesSubplot at 0x1a6b8a33088>"
      ]
     },
     "execution_count": 9,
     "metadata": {},
     "output_type": "execute_result"
    },
    {
     "data": {
      "image/png": "[encoded data removed]",
      "text/plain": [
       "<Figure size 432x288 with 1 Axes>"
      ]
     },
     "metadata": {
      "needs_background": "light"
     },
     "output_type": "display_data"
    }
   ],
   "source": [
    "sns.violinplot( y=\"S\", x=\"isFirstDown\", data=df, palette=\"Set1\")"
   ]
  },
  {
   "cell_type": "code",
   "execution_count": null,
   "metadata": {},
   "outputs": [],
   "source": []
  }
 ],
 "metadata": {
  "kernelspec": {
   "display_name": "Python 3",
   "language": "python",
   "name": "python3"
  },
  "language_info": {
   "codemirror_mode": {
    "name": "ipython",
    "version": 3
   },
   "file_extension": ".py",
   "mimetype": "text/x-python",
   "name": "python",
   "nbconvert_exporter": "python",
   "pygments_lexer": "ipython3",
   "version": "3.7.6"
  }
 },
 "nbformat": 4,
 "nbformat_minor": 4
}
