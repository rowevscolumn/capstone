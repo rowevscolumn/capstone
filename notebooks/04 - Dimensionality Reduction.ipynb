{
 "cells": [
  {
   "cell_type": "markdown",
   "metadata": {},
   "source": [
    "# 04 - Feature Selection / Dimensionality Reduction\n",
    "In this section, we will use several methods, inlcuding a variance threshold method from sklearn, Backwards elimination, forward and Embedded method. At the end, several trials and errors were created to eliminate more unnecessary fields. "
   ]
  },
  {
   "cell_type": "code",
   "execution_count": 1,
   "metadata": {},
   "outputs": [],
   "source": [
    "# All import insertions\n",
    "import pandas as pd\n",
    "import numpy as np\n",
    "import seaborn as sns\n",
    "import statsmodels.api as sm\n",
    "\n",
    "from pandas import isnull\n",
    "from sklearn import preprocessing\n",
    "import os    # For file paths\n",
    "import re    # Regular Expressions\n",
    "\n",
    "import matplotlib\n",
    "import matplotlib.pyplot as plt\n",
    "%matplotlib inline\n",
    "\n",
    "from sklearn.model_selection import train_test_split\n",
    "from sklearn.linear_model import LinearRegression\n",
    "from sklearn.feature_selection import RFE\n",
    "from sklearn.linear_model import RidgeCV, LassoCV, Ridge, Lasso\n",
    "from sklearn.feature_selection import VarianceThreshold"
   ]
  },
  {
   "cell_type": "code",
   "execution_count": 2,
   "metadata": {},
   "outputs": [],
   "source": [
    "#Open files\n",
    "df = pd.read_csv(\"../data/processed/data_bivariate.csv\", low_memory=False,index_col=0)"
   ]
  },
  {
   "cell_type": "code",
   "execution_count": 3,
   "metadata": {},
   "outputs": [],
   "source": [
    "df.drop(['PlayId'], axis=1, inplace=True)"
   ]
  },
  {
   "cell_type": "code",
   "execution_count": 4,
   "metadata": {},
   "outputs": [
    {
     "data": {
      "text/plain": [
       "(28511, 33)"
      ]
     },
     "execution_count": 4,
     "metadata": {},
     "output_type": "execute_result"
    }
   ],
   "source": [
    "df.shape"
   ]
  },
  {
   "cell_type": "code",
   "execution_count": 5,
   "metadata": {},
   "outputs": [
    {
     "data": {
      "text/html": [
       "<div>\n",
       "<style scoped>\n",
       "    .dataframe tbody tr th:only-of-type {\n",
       "        vertical-align: middle;\n",
       "    }\n",
       "\n",
       "    .dataframe tbody tr th {\n",
       "        vertical-align: top;\n",
       "    }\n",
       "\n",
       "    .dataframe thead th {\n",
       "        text-align: right;\n",
       "    }\n",
       "</style>\n",
       "<table border=\"1\" class=\"dataframe\">\n",
       "  <thead>\n",
       "    <tr style=\"text-align: right;\">\n",
       "      <th></th>\n",
       "      <th>count</th>\n",
       "      <th>mean</th>\n",
       "      <th>std</th>\n",
       "      <th>min</th>\n",
       "      <th>25%</th>\n",
       "      <th>50%</th>\n",
       "      <th>75%</th>\n",
       "      <th>max</th>\n",
       "      <th>var</th>\n",
       "      <th>skew</th>\n",
       "      <th>kurt</th>\n",
       "    </tr>\n",
       "  </thead>\n",
       "  <tbody>\n",
       "    <tr>\n",
       "      <th>isHomeTeam</th>\n",
       "      <td>28511.0</td>\n",
       "      <td>0.504051</td>\n",
       "      <td>0.499992</td>\n",
       "      <td>0.00</td>\n",
       "      <td>0.000</td>\n",
       "      <td>1.00</td>\n",
       "      <td>1.00</td>\n",
       "      <td>1.00</td>\n",
       "      <td>0.249992</td>\n",
       "      <td>-0.016206</td>\n",
       "      <td>-1.999878</td>\n",
       "    </tr>\n",
       "    <tr>\n",
       "      <th>X</th>\n",
       "      <td>28511.0</td>\n",
       "      <td>60.123478</td>\n",
       "      <td>26.207946</td>\n",
       "      <td>5.25</td>\n",
       "      <td>37.515</td>\n",
       "      <td>60.28</td>\n",
       "      <td>82.85</td>\n",
       "      <td>115.10</td>\n",
       "      <td>686.856427</td>\n",
       "      <td>-0.014068</td>\n",
       "      <td>-1.125885</td>\n",
       "    </tr>\n",
       "    <tr>\n",
       "      <th>Y</th>\n",
       "      <td>28511.0</td>\n",
       "      <td>26.827715</td>\n",
       "      <td>3.443716</td>\n",
       "      <td>9.35</td>\n",
       "      <td>24.090</td>\n",
       "      <td>26.84</td>\n",
       "      <td>29.55</td>\n",
       "      <td>44.74</td>\n",
       "      <td>11.859183</td>\n",
       "      <td>0.010594</td>\n",
       "      <td>-0.541048</td>\n",
       "    </tr>\n",
       "    <tr>\n",
       "      <th>S</th>\n",
       "      <td>28511.0</td>\n",
       "      <td>4.269283</td>\n",
       "      <td>1.043093</td>\n",
       "      <td>0.00</td>\n",
       "      <td>3.610</td>\n",
       "      <td>4.27</td>\n",
       "      <td>4.96</td>\n",
       "      <td>8.47</td>\n",
       "      <td>1.088043</td>\n",
       "      <td>-0.150453</td>\n",
       "      <td>0.406837</td>\n",
       "    </tr>\n",
       "    <tr>\n",
       "      <th>A</th>\n",
       "      <td>28511.0</td>\n",
       "      <td>2.646704</td>\n",
       "      <td>0.930003</td>\n",
       "      <td>0.00</td>\n",
       "      <td>2.060</td>\n",
       "      <td>2.64</td>\n",
       "      <td>3.21</td>\n",
       "      <td>14.71</td>\n",
       "      <td>0.864906</td>\n",
       "      <td>0.610211</td>\n",
       "      <td>3.837740</td>\n",
       "    </tr>\n",
       "    <tr>\n",
       "      <th>Orientation</th>\n",
       "      <td>28511.0</td>\n",
       "      <td>180.388089</td>\n",
       "      <td>102.543336</td>\n",
       "      <td>0.00</td>\n",
       "      <td>90.000</td>\n",
       "      <td>181.47</td>\n",
       "      <td>270.34</td>\n",
       "      <td>360.00</td>\n",
       "      <td>10515.135699</td>\n",
       "      <td>-0.018548</td>\n",
       "      <td>-1.237173</td>\n",
       "    </tr>\n",
       "    <tr>\n",
       "      <th>Dir</th>\n",
       "      <td>28511.0</td>\n",
       "      <td>179.955335</td>\n",
       "      <td>101.068075</td>\n",
       "      <td>0.02</td>\n",
       "      <td>91.540</td>\n",
       "      <td>184.40</td>\n",
       "      <td>272.80</td>\n",
       "      <td>359.92</td>\n",
       "      <td>10214.755720</td>\n",
       "      <td>-0.016030</td>\n",
       "      <td>-1.320505</td>\n",
       "    </tr>\n",
       "    <tr>\n",
       "      <th>Season</th>\n",
       "      <td>28511.0</td>\n",
       "      <td>2017.866297</td>\n",
       "      <td>0.787893</td>\n",
       "      <td>2017.00</td>\n",
       "      <td>2017.000</td>\n",
       "      <td>2018.00</td>\n",
       "      <td>2019.00</td>\n",
       "      <td>2019.00</td>\n",
       "      <td>0.620776</td>\n",
       "      <td>0.240622</td>\n",
       "      <td>-1.352983</td>\n",
       "    </tr>\n",
       "    <tr>\n",
       "      <th>Quarter</th>\n",
       "      <td>28511.0</td>\n",
       "      <td>2.500368</td>\n",
       "      <td>1.127628</td>\n",
       "      <td>1.00</td>\n",
       "      <td>1.000</td>\n",
       "      <td>3.00</td>\n",
       "      <td>4.00</td>\n",
       "      <td>4.00</td>\n",
       "      <td>1.271545</td>\n",
       "      <td>-0.007815</td>\n",
       "      <td>-1.381769</td>\n",
       "    </tr>\n",
       "    <tr>\n",
       "      <th>Down</th>\n",
       "      <td>28511.0</td>\n",
       "      <td>1.510049</td>\n",
       "      <td>0.669862</td>\n",
       "      <td>1.00</td>\n",
       "      <td>1.000</td>\n",
       "      <td>1.00</td>\n",
       "      <td>2.00</td>\n",
       "      <td>4.00</td>\n",
       "      <td>0.448715</td>\n",
       "      <td>1.120095</td>\n",
       "      <td>0.693333</td>\n",
       "    </tr>\n",
       "    <tr>\n",
       "      <th>Distance</th>\n",
       "      <td>28511.0</td>\n",
       "      <td>8.223212</td>\n",
       "      <td>3.580147</td>\n",
       "      <td>1.00</td>\n",
       "      <td>6.000</td>\n",
       "      <td>10.00</td>\n",
       "      <td>10.00</td>\n",
       "      <td>20.00</td>\n",
       "      <td>12.817449</td>\n",
       "      <td>-0.430622</td>\n",
       "      <td>0.668380</td>\n",
       "    </tr>\n",
       "    <tr>\n",
       "      <th>HomeScoreBeforePlay</th>\n",
       "      <td>28511.0</td>\n",
       "      <td>11.042861</td>\n",
       "      <td>10.107079</td>\n",
       "      <td>0.00</td>\n",
       "      <td>3.000</td>\n",
       "      <td>10.00</td>\n",
       "      <td>17.00</td>\n",
       "      <td>57.00</td>\n",
       "      <td>102.153056</td>\n",
       "      <td>0.926088</td>\n",
       "      <td>0.544584</td>\n",
       "    </tr>\n",
       "    <tr>\n",
       "      <th>VisitorScoreBeforePlay</th>\n",
       "      <td>28511.0</td>\n",
       "      <td>9.664691</td>\n",
       "      <td>9.440037</td>\n",
       "      <td>0.00</td>\n",
       "      <td>0.000</td>\n",
       "      <td>7.00</td>\n",
       "      <td>15.00</td>\n",
       "      <td>59.00</td>\n",
       "      <td>89.114291</td>\n",
       "      <td>1.041475</td>\n",
       "      <td>0.892429</td>\n",
       "    </tr>\n",
       "    <tr>\n",
       "      <th>IsPossTeamInLead</th>\n",
       "      <td>28511.0</td>\n",
       "      <td>0.371786</td>\n",
       "      <td>0.483290</td>\n",
       "      <td>0.00</td>\n",
       "      <td>0.000</td>\n",
       "      <td>0.00</td>\n",
       "      <td>1.00</td>\n",
       "      <td>1.00</td>\n",
       "      <td>0.233569</td>\n",
       "      <td>0.530624</td>\n",
       "      <td>-1.718559</td>\n",
       "    </tr>\n",
       "    <tr>\n",
       "      <th>DefendersInTheBox</th>\n",
       "      <td>28511.0</td>\n",
       "      <td>6.927186</td>\n",
       "      <td>0.973893</td>\n",
       "      <td>2.00</td>\n",
       "      <td>6.000</td>\n",
       "      <td>7.00</td>\n",
       "      <td>7.00</td>\n",
       "      <td>11.00</td>\n",
       "      <td>0.948469</td>\n",
       "      <td>0.562862</td>\n",
       "      <td>1.789951</td>\n",
       "    </tr>\n",
       "    <tr>\n",
       "      <th>isPlayDirectionLeft</th>\n",
       "      <td>28511.0</td>\n",
       "      <td>0.505209</td>\n",
       "      <td>0.499982</td>\n",
       "      <td>0.00</td>\n",
       "      <td>0.000</td>\n",
       "      <td>1.00</td>\n",
       "      <td>1.00</td>\n",
       "      <td>1.00</td>\n",
       "      <td>0.249982</td>\n",
       "      <td>-0.020836</td>\n",
       "      <td>-1.999706</td>\n",
       "    </tr>\n",
       "    <tr>\n",
       "      <th>TimeSnapDiff</th>\n",
       "      <td>28511.0</td>\n",
       "      <td>1.270317</td>\n",
       "      <td>0.459731</td>\n",
       "      <td>0.00</td>\n",
       "      <td>1.000</td>\n",
       "      <td>1.00</td>\n",
       "      <td>2.00</td>\n",
       "      <td>7.00</td>\n",
       "      <td>0.211353</td>\n",
       "      <td>0.962213</td>\n",
       "      <td>0.267659</td>\n",
       "    </tr>\n",
       "    <tr>\n",
       "      <th>YardsToTouchdown</th>\n",
       "      <td>28511.0</td>\n",
       "      <td>51.604433</td>\n",
       "      <td>25.269214</td>\n",
       "      <td>1.00</td>\n",
       "      <td>32.000</td>\n",
       "      <td>56.00</td>\n",
       "      <td>74.00</td>\n",
       "      <td>99.00</td>\n",
       "      <td>638.533174</td>\n",
       "      <td>-0.338085</td>\n",
       "      <td>-0.926736</td>\n",
       "    </tr>\n",
       "    <tr>\n",
       "      <th>PlayerHeightInches</th>\n",
       "      <td>28511.0</td>\n",
       "      <td>71.090982</td>\n",
       "      <td>1.805114</td>\n",
       "      <td>66.00</td>\n",
       "      <td>70.000</td>\n",
       "      <td>71.00</td>\n",
       "      <td>72.00</td>\n",
       "      <td>75.00</td>\n",
       "      <td>3.258435</td>\n",
       "      <td>-0.193737</td>\n",
       "      <td>-0.012643</td>\n",
       "    </tr>\n",
       "    <tr>\n",
       "      <th>Age</th>\n",
       "      <td>28511.0</td>\n",
       "      <td>25.143068</td>\n",
       "      <td>3.044055</td>\n",
       "      <td>21.00</td>\n",
       "      <td>23.000</td>\n",
       "      <td>24.00</td>\n",
       "      <td>27.00</td>\n",
       "      <td>36.00</td>\n",
       "      <td>9.266272</td>\n",
       "      <td>1.191417</td>\n",
       "      <td>1.225297</td>\n",
       "    </tr>\n",
       "    <tr>\n",
       "      <th>Week</th>\n",
       "      <td>28511.0</td>\n",
       "      <td>8.390376</td>\n",
       "      <td>4.804976</td>\n",
       "      <td>1.00</td>\n",
       "      <td>4.000</td>\n",
       "      <td>8.00</td>\n",
       "      <td>12.00</td>\n",
       "      <td>17.00</td>\n",
       "      <td>23.087798</td>\n",
       "      <td>0.153479</td>\n",
       "      <td>-1.137434</td>\n",
       "    </tr>\n",
       "    <tr>\n",
       "      <th>StadiumTypeCode</th>\n",
       "      <td>28511.0</td>\n",
       "      <td>1.477149</td>\n",
       "      <td>0.895111</td>\n",
       "      <td>1.00</td>\n",
       "      <td>1.000</td>\n",
       "      <td>1.00</td>\n",
       "      <td>2.00</td>\n",
       "      <td>4.00</td>\n",
       "      <td>0.801223</td>\n",
       "      <td>1.753270</td>\n",
       "      <td>1.792671</td>\n",
       "    </tr>\n",
       "    <tr>\n",
       "      <th>TurfCode</th>\n",
       "      <td>28511.0</td>\n",
       "      <td>1.473642</td>\n",
       "      <td>0.561414</td>\n",
       "      <td>1.00</td>\n",
       "      <td>1.000</td>\n",
       "      <td>1.00</td>\n",
       "      <td>2.00</td>\n",
       "      <td>3.00</td>\n",
       "      <td>0.315186</td>\n",
       "      <td>0.662151</td>\n",
       "      <td>-0.601838</td>\n",
       "    </tr>\n",
       "    <tr>\n",
       "      <th>isFirstDown</th>\n",
       "      <td>28511.0</td>\n",
       "      <td>0.209709</td>\n",
       "      <td>0.407108</td>\n",
       "      <td>0.00</td>\n",
       "      <td>0.000</td>\n",
       "      <td>0.00</td>\n",
       "      <td>0.00</td>\n",
       "      <td>1.00</td>\n",
       "      <td>0.165737</td>\n",
       "      <td>1.426216</td>\n",
       "      <td>0.034096</td>\n",
       "    </tr>\n",
       "    <tr>\n",
       "      <th>Centers</th>\n",
       "      <td>28511.0</td>\n",
       "      <td>1.071657</td>\n",
       "      <td>0.535142</td>\n",
       "      <td>0.00</td>\n",
       "      <td>1.000</td>\n",
       "      <td>1.00</td>\n",
       "      <td>1.00</td>\n",
       "      <td>3.00</td>\n",
       "      <td>0.286377</td>\n",
       "      <td>0.195327</td>\n",
       "      <td>0.835189</td>\n",
       "    </tr>\n",
       "    <tr>\n",
       "      <th>Cornerbacks</th>\n",
       "      <td>28511.0</td>\n",
       "      <td>2.543930</td>\n",
       "      <td>0.733254</td>\n",
       "      <td>0.00</td>\n",
       "      <td>2.000</td>\n",
       "      <td>3.00</td>\n",
       "      <td>3.00</td>\n",
       "      <td>6.00</td>\n",
       "      <td>0.537661</td>\n",
       "      <td>0.050762</td>\n",
       "      <td>1.184196</td>\n",
       "    </tr>\n",
       "    <tr>\n",
       "      <th>DefensiveEnds</th>\n",
       "      <td>28511.0</td>\n",
       "      <td>1.511802</td>\n",
       "      <td>0.872467</td>\n",
       "      <td>0.00</td>\n",
       "      <td>1.000</td>\n",
       "      <td>2.00</td>\n",
       "      <td>2.00</td>\n",
       "      <td>5.00</td>\n",
       "      <td>0.761199</td>\n",
       "      <td>-0.058170</td>\n",
       "      <td>-0.284096</td>\n",
       "    </tr>\n",
       "    <tr>\n",
       "      <th>DefensiveTackles</th>\n",
       "      <td>28511.0</td>\n",
       "      <td>1.523728</td>\n",
       "      <td>0.839562</td>\n",
       "      <td>0.00</td>\n",
       "      <td>1.000</td>\n",
       "      <td>2.00</td>\n",
       "      <td>2.00</td>\n",
       "      <td>5.00</td>\n",
       "      <td>0.704865</td>\n",
       "      <td>-0.079057</td>\n",
       "      <td>-0.125772</td>\n",
       "    </tr>\n",
       "    <tr>\n",
       "      <th>LineBackers</th>\n",
       "      <td>28511.0</td>\n",
       "      <td>3.059416</td>\n",
       "      <td>0.894963</td>\n",
       "      <td>0.00</td>\n",
       "      <td>2.000</td>\n",
       "      <td>3.00</td>\n",
       "      <td>4.00</td>\n",
       "      <td>7.00</td>\n",
       "      <td>0.800959</td>\n",
       "      <td>0.100692</td>\n",
       "      <td>-0.422493</td>\n",
       "    </tr>\n",
       "    <tr>\n",
       "      <th>NoseTackles</th>\n",
       "      <td>28511.0</td>\n",
       "      <td>0.349970</td>\n",
       "      <td>0.538324</td>\n",
       "      <td>0.00</td>\n",
       "      <td>0.000</td>\n",
       "      <td>0.00</td>\n",
       "      <td>1.00</td>\n",
       "      <td>3.00</td>\n",
       "      <td>0.289793</td>\n",
       "      <td>1.254136</td>\n",
       "      <td>0.805769</td>\n",
       "    </tr>\n",
       "    <tr>\n",
       "      <th>OffensiveGuards</th>\n",
       "      <td>28511.0</td>\n",
       "      <td>1.902318</td>\n",
       "      <td>0.699124</td>\n",
       "      <td>0.00</td>\n",
       "      <td>1.000</td>\n",
       "      <td>2.00</td>\n",
       "      <td>2.00</td>\n",
       "      <td>5.00</td>\n",
       "      <td>0.488774</td>\n",
       "      <td>0.107697</td>\n",
       "      <td>0.378517</td>\n",
       "    </tr>\n",
       "    <tr>\n",
       "      <th>Safeties</th>\n",
       "      <td>28511.0</td>\n",
       "      <td>2.006804</td>\n",
       "      <td>0.543921</td>\n",
       "      <td>0.00</td>\n",
       "      <td>2.000</td>\n",
       "      <td>2.00</td>\n",
       "      <td>2.00</td>\n",
       "      <td>5.00</td>\n",
       "      <td>0.295850</td>\n",
       "      <td>-0.174429</td>\n",
       "      <td>1.884675</td>\n",
       "    </tr>\n",
       "    <tr>\n",
       "      <th>TightEnds</th>\n",
       "      <td>28511.0</td>\n",
       "      <td>1.431588</td>\n",
       "      <td>0.651639</td>\n",
       "      <td>0.00</td>\n",
       "      <td>1.000</td>\n",
       "      <td>1.00</td>\n",
       "      <td>2.00</td>\n",
       "      <td>4.00</td>\n",
       "      <td>0.424634</td>\n",
       "      <td>0.760124</td>\n",
       "      <td>0.146617</td>\n",
       "    </tr>\n",
       "  </tbody>\n",
       "</table>\n",
       "</div>"
      ],
      "text/plain": [
       "                          count         mean         std      min       25%  \\\n",
       "isHomeTeam              28511.0     0.504051    0.499992     0.00     0.000   \n",
       "X                       28511.0    60.123478   26.207946     5.25    37.515   \n",
       "Y                       28511.0    26.827715    3.443716     9.35    24.090   \n",
       "S                       28511.0     4.269283    1.043093     0.00     3.610   \n",
       "A                       28511.0     2.646704    0.930003     0.00     2.060   \n",
       "Orientation             28511.0   180.388089  102.543336     0.00    90.000   \n",
       "Dir                     28511.0   179.955335  101.068075     0.02    91.540   \n",
       "Season                  28511.0  2017.866297    0.787893  2017.00  2017.000   \n",
       "Quarter                 28511.0     2.500368    1.127628     1.00     1.000   \n",
       "Down                    28511.0     1.510049    0.669862     1.00     1.000   \n",
       "Distance                28511.0     8.223212    3.580147     1.00     6.000   \n",
       "HomeScoreBeforePlay     28511.0    11.042861   10.107079     0.00     3.000   \n",
       "VisitorScoreBeforePlay  28511.0     9.664691    9.440037     0.00     0.000   \n",
       "IsPossTeamInLead        28511.0     0.371786    0.483290     0.00     0.000   \n",
       "DefendersInTheBox       28511.0     6.927186    0.973893     2.00     6.000   \n",
       "isPlayDirectionLeft     28511.0     0.505209    0.499982     0.00     0.000   \n",
       "TimeSnapDiff            28511.0     1.270317    0.459731     0.00     1.000   \n",
       "YardsToTouchdown        28511.0    51.604433   25.269214     1.00    32.000   \n",
       "PlayerHeightInches      28511.0    71.090982    1.805114    66.00    70.000   \n",
       "Age                     28511.0    25.143068    3.044055    21.00    23.000   \n",
       "Week                    28511.0     8.390376    4.804976     1.00     4.000   \n",
       "StadiumTypeCode         28511.0     1.477149    0.895111     1.00     1.000   \n",
       "TurfCode                28511.0     1.473642    0.561414     1.00     1.000   \n",
       "isFirstDown             28511.0     0.209709    0.407108     0.00     0.000   \n",
       "Centers                 28511.0     1.071657    0.535142     0.00     1.000   \n",
       "Cornerbacks             28511.0     2.543930    0.733254     0.00     2.000   \n",
       "DefensiveEnds           28511.0     1.511802    0.872467     0.00     1.000   \n",
       "DefensiveTackles        28511.0     1.523728    0.839562     0.00     1.000   \n",
       "LineBackers             28511.0     3.059416    0.894963     0.00     2.000   \n",
       "NoseTackles             28511.0     0.349970    0.538324     0.00     0.000   \n",
       "OffensiveGuards         28511.0     1.902318    0.699124     0.00     1.000   \n",
       "Safeties                28511.0     2.006804    0.543921     0.00     2.000   \n",
       "TightEnds               28511.0     1.431588    0.651639     0.00     1.000   \n",
       "\n",
       "                            50%      75%      max           var      skew  \\\n",
       "isHomeTeam                 1.00     1.00     1.00      0.249992 -0.016206   \n",
       "X                         60.28    82.85   115.10    686.856427 -0.014068   \n",
       "Y                         26.84    29.55    44.74     11.859183  0.010594   \n",
       "S                          4.27     4.96     8.47      1.088043 -0.150453   \n",
       "A                          2.64     3.21    14.71      0.864906  0.610211   \n",
       "Orientation              181.47   270.34   360.00  10515.135699 -0.018548   \n",
       "Dir                      184.40   272.80   359.92  10214.755720 -0.016030   \n",
       "Season                  2018.00  2019.00  2019.00      0.620776  0.240622   \n",
       "Quarter                    3.00     4.00     4.00      1.271545 -0.007815   \n",
       "Down                       1.00     2.00     4.00      0.448715  1.120095   \n",
       "Distance                  10.00    10.00    20.00     12.817449 -0.430622   \n",
       "HomeScoreBeforePlay       10.00    17.00    57.00    102.153056  0.926088   \n",
       "VisitorScoreBeforePlay     7.00    15.00    59.00     89.114291  1.041475   \n",
       "IsPossTeamInLead           0.00     1.00     1.00      0.233569  0.530624   \n",
       "DefendersInTheBox          7.00     7.00    11.00      0.948469  0.562862   \n",
       "isPlayDirectionLeft        1.00     1.00     1.00      0.249982 -0.020836   \n",
       "TimeSnapDiff               1.00     2.00     7.00      0.211353  0.962213   \n",
       "YardsToTouchdown          56.00    74.00    99.00    638.533174 -0.338085   \n",
       "PlayerHeightInches        71.00    72.00    75.00      3.258435 -0.193737   \n",
       "Age                       24.00    27.00    36.00      9.266272  1.191417   \n",
       "Week                       8.00    12.00    17.00     23.087798  0.153479   \n",
       "StadiumTypeCode            1.00     2.00     4.00      0.801223  1.753270   \n",
       "TurfCode                   1.00     2.00     3.00      0.315186  0.662151   \n",
       "isFirstDown                0.00     0.00     1.00      0.165737  1.426216   \n",
       "Centers                    1.00     1.00     3.00      0.286377  0.195327   \n",
       "Cornerbacks                3.00     3.00     6.00      0.537661  0.050762   \n",
       "DefensiveEnds              2.00     2.00     5.00      0.761199 -0.058170   \n",
       "DefensiveTackles           2.00     2.00     5.00      0.704865 -0.079057   \n",
       "LineBackers                3.00     4.00     7.00      0.800959  0.100692   \n",
       "NoseTackles                0.00     1.00     3.00      0.289793  1.254136   \n",
       "OffensiveGuards            2.00     2.00     5.00      0.488774  0.107697   \n",
       "Safeties                   2.00     2.00     5.00      0.295850 -0.174429   \n",
       "TightEnds                  1.00     2.00     4.00      0.424634  0.760124   \n",
       "\n",
       "                            kurt  \n",
       "isHomeTeam             -1.999878  \n",
       "X                      -1.125885  \n",
       "Y                      -0.541048  \n",
       "S                       0.406837  \n",
       "A                       3.837740  \n",
       "Orientation            -1.237173  \n",
       "Dir                    -1.320505  \n",
       "Season                 -1.352983  \n",
       "Quarter                -1.381769  \n",
       "Down                    0.693333  \n",
       "Distance                0.668380  \n",
       "HomeScoreBeforePlay     0.544584  \n",
       "VisitorScoreBeforePlay  0.892429  \n",
       "IsPossTeamInLead       -1.718559  \n",
       "DefendersInTheBox       1.789951  \n",
       "isPlayDirectionLeft    -1.999706  \n",
       "TimeSnapDiff            0.267659  \n",
       "YardsToTouchdown       -0.926736  \n",
       "PlayerHeightInches     -0.012643  \n",
       "Age                     1.225297  \n",
       "Week                   -1.137434  \n",
       "StadiumTypeCode         1.792671  \n",
       "TurfCode               -0.601838  \n",
       "isFirstDown             0.034096  \n",
       "Centers                 0.835189  \n",
       "Cornerbacks             1.184196  \n",
       "DefensiveEnds          -0.284096  \n",
       "DefensiveTackles       -0.125772  \n",
       "LineBackers            -0.422493  \n",
       "NoseTackles             0.805769  \n",
       "OffensiveGuards         0.378517  \n",
       "Safeties                1.884675  \n",
       "TightEnds               0.146617  "
      ]
     },
     "execution_count": 5,
     "metadata": {},
     "output_type": "execute_result"
    }
   ],
   "source": [
    "stats = df.describe()\n",
    "stats.loc['var'] = df.var().tolist()\n",
    "stats.loc['skew'] = df.skew().tolist()\n",
    "stats.loc['kurt'] = df.kurtosis().tolist()\n",
    "stats.transpose()"
   ]
  },
  {
   "cell_type": "code",
   "execution_count": 6,
   "metadata": {},
   "outputs": [],
   "source": [
    "# Splitting the data into X and Y fields, separating the predictor variable \n",
    "X = df.drop(\"isFirstDown\",1)   #Feature Matrix\n",
    "y = df[\"isFirstDown\"]          #Target Variable"
   ]
  },
  {
   "cell_type": "markdown",
   "metadata": {},
   "source": [
    "## Variance Threshhold\n",
    "In Variance Threshold, the function looks at the columns variance, and eliminates the columns that don't meet the threshold. From after a lot of threshold testing, a 0.5 was implimented, and from that, 12 columns can be removed for having little impact. None of the columns are deleted yet, so we can see if the other methods have different suggestions. "
   ]
  },
  {
   "cell_type": "code",
   "execution_count": 7,
   "metadata": {},
   "outputs": [],
   "source": [
    "thresh = 0.5 # Testing for the threshold of 0.5\n",
    "selector = VarianceThreshold(threshold=thresh)\n",
    "vt = selector.fit_transform(X)"
   ]
  },
  {
   "cell_type": "code",
   "execution_count": 8,
   "metadata": {},
   "outputs": [
    {
     "data": {
      "text/plain": [
       "array([ 1,  2,  3,  4,  5,  6,  7,  8, 10, 11, 12, 14, 17, 18, 19, 20, 21,\n",
       "       24, 25, 26, 27], dtype=int64)"
      ]
     },
     "execution_count": 8,
     "metadata": {},
     "output_type": "execute_result"
    }
   ],
   "source": [
    "idx = np.where(selector.variances_ > thresh)[0]\n",
    "idx"
   ]
  },
  {
   "cell_type": "code",
   "execution_count": 9,
   "metadata": {},
   "outputs": [
    {
     "data": {
      "text/plain": [
       "Index(['isHomeTeam', 'X', 'Y', 'S', 'A', 'Orientation', 'Dir', 'Season',\n",
       "       'Quarter', 'Down', 'Distance', 'HomeScoreBeforePlay',\n",
       "       'VisitorScoreBeforePlay', 'IsPossTeamInLead', 'DefendersInTheBox',\n",
       "       'isPlayDirectionLeft', 'TimeSnapDiff', 'YardsToTouchdown',\n",
       "       'PlayerHeightInches', 'Age', 'Week', 'StadiumTypeCode', 'TurfCode',\n",
       "       'Centers', 'Cornerbacks', 'DefensiveEnds', 'DefensiveTackles',\n",
       "       'LineBackers', 'NoseTackles', 'OffensiveGuards', 'Safeties',\n",
       "       'TightEnds'],\n",
       "      dtype='object')"
      ]
     },
     "execution_count": 9,
     "metadata": {},
     "output_type": "execute_result"
    }
   ],
   "source": [
    "# All the columns prior to Variance Threshold\n",
    "X.columns"
   ]
  },
  {
   "cell_type": "code",
   "execution_count": 10,
   "metadata": {},
   "outputs": [
    {
     "data": {
      "text/plain": [
       "Index(['X', 'Y', 'S', 'A', 'Orientation', 'Dir', 'Season', 'Quarter',\n",
       "       'Distance', 'HomeScoreBeforePlay', 'VisitorScoreBeforePlay',\n",
       "       'DefendersInTheBox', 'YardsToTouchdown', 'PlayerHeightInches', 'Age',\n",
       "       'Week', 'StadiumTypeCode', 'Cornerbacks', 'DefensiveEnds',\n",
       "       'DefensiveTackles', 'LineBackers'],\n",
       "      dtype='object')"
      ]
     },
     "execution_count": 10,
     "metadata": {},
     "output_type": "execute_result"
    }
   ],
   "source": [
    "# All the columns prior to Variance Threshold All the columns after the Threshold\n",
    "X.loc[:, selector.get_support()].columns"
   ]
  },
  {
   "cell_type": "code",
   "execution_count": 11,
   "metadata": {},
   "outputs": [
    {
     "name": "stdout",
     "output_type": "stream",
     "text": [
      "['Centers', 'Down', 'IsPossTeamInLead', 'NoseTackles', 'OffensiveGuards', 'Safeties', 'TightEnds', 'TimeSnapDiff', 'TurfCode', 'isHomeTeam', 'isPlayDirectionLeft']\n",
      "11\n"
     ]
    }
   ],
   "source": [
    "# All the columns the Variance Threshold is removing\n",
    "VarElim = (X.columns.difference(X.loc[:, selector.get_support()].columns)).tolist()\n",
    "print(VarElim)\n",
    "print(len(VarElim))"
   ]
  },
  {
   "cell_type": "markdown",
   "metadata": {},
   "source": [
    "## Backward Elimination\n",
    "Checking the performance of the model with all the features, and then removes all the weaker performers one by one, until the model hits an acceptable performance. The first set of code is running the model once, using the Ordinary Least Squares method. From this method, 14 attributes have a p-value above 0.05, so they could be removed. \n",
    "\n",
    "The second set of code uses an iterative approach and removes one at a time and outputs the attributes to keep. In this case, 11 fields are suggested to keep. "
   ]
  },
  {
   "cell_type": "code",
   "execution_count": 12,
   "metadata": {},
   "outputs": [
    {
     "data": {
      "text/plain": [
       "Distance                  0.000000e+00\n",
       "A                         8.949657e-87\n",
       "Down                      7.021526e-31\n",
       "S                         9.721935e-26\n",
       "YardsToTouchdown          2.162010e-07\n",
       "DefendersInTheBox         2.836288e-05\n",
       "const                     8.321378e-04\n",
       "Age                       1.096982e-03\n",
       "Season                    1.189559e-03\n",
       "OffensiveGuards           2.572163e-03\n",
       "StadiumTypeCode           6.451087e-02\n",
       "TightEnds                 7.963404e-02\n",
       "HomeScoreBeforePlay       1.869773e-01\n",
       "IsPossTeamInLead          2.763937e-01\n",
       "isHomeTeam                2.977205e-01\n",
       "TimeSnapDiff              3.900913e-01\n",
       "Centers                   4.123819e-01\n",
       "Y                         4.141331e-01\n",
       "NoseTackles               5.073044e-01\n",
       "isPlayDirectionLeft       5.337807e-01\n",
       "PlayerHeightInches        5.475355e-01\n",
       "Week                      5.533784e-01\n",
       "DefensiveTackles          6.660411e-01\n",
       "Quarter                   7.089202e-01\n",
       "Safeties                  7.132965e-01\n",
       "TurfCode                  7.527883e-01\n",
       "LineBackers               7.774986e-01\n",
       "VisitorScoreBeforePlay    8.034003e-01\n",
       "DefensiveEnds             8.390056e-01\n",
       "Orientation               8.424228e-01\n",
       "Dir                       8.722403e-01\n",
       "Cornerbacks               9.203225e-01\n",
       "X                         9.341958e-01\n",
       "dtype: float64"
      ]
     },
     "execution_count": 12,
     "metadata": {},
     "output_type": "execute_result"
    }
   ],
   "source": [
    "#Adding constant column of ones, mandatory for sm.OLS model\n",
    "X_1 = sm.add_constant(X)\n",
    "\n",
    "#Fitting sm.OLS model\n",
    "model = sm.OLS(y,X_1).fit()\n",
    "model.pvalues.sort_values()"
   ]
  },
  {
   "cell_type": "code",
   "execution_count": 13,
   "metadata": {},
   "outputs": [
    {
     "name": "stdout",
     "output_type": "stream",
     "text": [
      "['S', 'A', 'Season', 'Down', 'Distance', 'DefendersInTheBox', 'YardsToTouchdown', 'Age', 'OffensiveGuards', 'TightEnds']\n",
      "10\n"
     ]
    }
   ],
   "source": [
    "#Backward Elimination\n",
    "cols = list(X.columns)\n",
    "pmax = 1\n",
    "while (len(cols)>0):\n",
    "    p= []\n",
    "    X_1 = X[cols]\n",
    "    X_1 = sm.add_constant(X_1)\n",
    "    model = sm.OLS(y,X_1).fit()\n",
    "    p = pd.Series(model.pvalues.values[1:],index = cols)      \n",
    "    pmax = max(p)\n",
    "    feature_with_p_max = p.idxmax()\n",
    "    if(pmax>0.05):\n",
    "        cols.remove(feature_with_p_max)\n",
    "    else:\n",
    "        break\n",
    "selected_features_BE = cols\n",
    "print(selected_features_BE)\n",
    "print(len(selected_features_BE))"
   ]
  },
  {
   "cell_type": "markdown",
   "metadata": {},
   "source": [
    "## RFE (Recursive Feature Elimination)\n",
    "This method is similar to the backwards elimination feature but compares it to the accuracy. The first set of code uses a linear regression and RFE model to find 7 columns that could be found. \n",
    "\n",
    "The second set of code loops over all the attributes and determines how many columns would bring the highest accuracy. In this case, 25 features looks to bring the best result.\n",
    "\n",
    "The final set in this block runs the same RFE model, but with the 25 attributes that it recommends to keep."
   ]
  },
  {
   "cell_type": "code",
   "execution_count": 14,
   "metadata": {},
   "outputs": [
    {
     "name": "stdout",
     "output_type": "stream",
     "text": [
      "Index(['S', 'A', 'Down', 'Distance', 'DefendersInTheBox', 'DefensiveTackles',\n",
      "       'NoseTackles'],\n",
      "      dtype='object')\n",
      "[False False False  True  True False False False False  True  True False\n",
      " False False  True False False False False False False False False False\n",
      " False False  True False  True False False False]\n",
      "[13 25 19  1  1 26 24  5 15  1  1 21 23 12  1  8 11 20 18 14 22 10 16  9\n",
      " 17  4  1  3  1  6  2  7]\n"
     ]
    }
   ],
   "source": [
    "model = LinearRegression()\n",
    "\n",
    "#Initializing RFE model\n",
    "rfe = RFE(model, 7)\n",
    "\n",
    "#Transforming data using RFE\n",
    "X_rfe = rfe.fit_transform(X,y)  \n",
    "\n",
    "#Fitting the data to model\n",
    "model.fit(X_rfe,y)\n",
    "# Which columns can be kept\n",
    "print(X.columns[rfe.support_])\n",
    "print(rfe.support_)\n",
    "print(rfe.ranking_)"
   ]
  },
  {
   "cell_type": "code",
   "execution_count": 15,
   "metadata": {},
   "outputs": [
    {
     "name": "stdout",
     "output_type": "stream",
     "text": [
      "Optimum number of features: 27\n",
      "Score with 27 features: 0.206317\n"
     ]
    }
   ],
   "source": [
    "#no of features\n",
    "nof_list=np.arange(1,34)            \n",
    "high_score=0\n",
    "\n",
    "#Variable to store the optimum features\n",
    "nof=0           \n",
    "score_list =[]\n",
    "for n in range(len(nof_list)):\n",
    "    X_train, X_test, y_train, y_test = train_test_split(X,y, test_size = 0.3, random_state = 0)\n",
    "    model = LinearRegression()\n",
    "    rfe = RFE(model,nof_list[n])\n",
    "    X_train_rfe = rfe.fit_transform(X_train,y_train)\n",
    "    X_test_rfe = rfe.transform(X_test)\n",
    "    model.fit(X_train_rfe,y_train)\n",
    "    score = model.score(X_test_rfe,y_test)\n",
    "    score_list.append(score)\n",
    "    if(score>high_score):\n",
    "        high_score = score\n",
    "        nof = nof_list[n]\n",
    "print(\"Optimum number of features: %d\" %nof)\n",
    "print(\"Score with %d features: %f\" % (nof, high_score))"
   ]
  },
  {
   "cell_type": "code",
   "execution_count": 16,
   "metadata": {},
   "outputs": [
    {
     "name": "stdout",
     "output_type": "stream",
     "text": [
      "Index(['isHomeTeam', 'Y', 'S', 'A', 'Season', 'Quarter', 'Down', 'Distance',\n",
      "       'HomeScoreBeforePlay', 'IsPossTeamInLead', 'DefendersInTheBox',\n",
      "       'isPlayDirectionLeft', 'TimeSnapDiff', 'YardsToTouchdown',\n",
      "       'PlayerHeightInches', 'Age', 'StadiumTypeCode', 'TurfCode', 'Centers',\n",
      "       'Cornerbacks', 'DefensiveEnds', 'DefensiveTackles', 'LineBackers',\n",
      "       'NoseTackles', 'OffensiveGuards', 'Safeties', 'TightEnds'],\n",
      "      dtype='object')\n",
      "27\n"
     ]
    }
   ],
   "source": [
    "cols = list(X.columns)\n",
    "model = LinearRegression()\n",
    "\n",
    "#Initializing RFE model\n",
    "rfe = RFE(model, 27)\n",
    "\n",
    "#Transforming data using RFE\n",
    "X_rfe = rfe.fit_transform(X,y)  \n",
    "\n",
    "#Fitting the data to model\n",
    "model.fit(X_rfe,y)              \n",
    "temp = pd.Series(rfe.support_,index = cols)\n",
    "selected_features_rfe = temp[temp==True].index\n",
    "print(selected_features_rfe)\n",
    "print(len(selected_features_rfe))"
   ]
  },
  {
   "cell_type": "markdown",
   "metadata": {},
   "source": [
    "## Embedded Method\n",
    "Using the lasso regularization, this method selects the attributes that contribute the most to the data set, and marks the ones with no impact with a 0 coefficient. In this instance, 25 fields can be used for data selection, and 8 features can be removed as irrelevant to the data. "
   ]
  },
  {
   "cell_type": "code",
   "execution_count": 17,
   "metadata": {},
   "outputs": [
    {
     "name": "stdout",
     "output_type": "stream",
     "text": [
      "Best alpha using built-in LassoCV: 0.001021\n",
      "Best score using built-in LassoCV: 0.207829\n"
     ]
    }
   ],
   "source": [
    "reg = LassoCV()\n",
    "reg.fit(X, y)\n",
    "print(\"Best alpha using built-in LassoCV: %f\" % reg.alpha_)\n",
    "print(\"Best score using built-in LassoCV: %f\" %reg.score(X,y))\n",
    "coef = pd.Series(reg.coef_, index = X.columns)"
   ]
  },
  {
   "cell_type": "code",
   "execution_count": 18,
   "metadata": {},
   "outputs": [
    {
     "name": "stdout",
     "output_type": "stream",
     "text": [
      "Lasso picked 22 variables and eliminated the other 10 variables\n"
     ]
    }
   ],
   "source": [
    "print(\"Lasso picked \" + str(sum(coef != 0)) + \" variables and eliminated the other \" +  str(sum(coef == 0)) + \" variables\")"
   ]
  },
  {
   "cell_type": "code",
   "execution_count": 19,
   "metadata": {},
   "outputs": [
    {
     "data": {
      "text/plain": [
       "Text(0.5, 1.0, 'Feature importance using Lasso Model')"
      ]
     },
     "execution_count": 19,
     "metadata": {},
     "output_type": "execute_result"
    },
    {
     "data": {
      "image/png": "[encoded data removed]",
      "text/plain": [
       "<Figure size 576x720 with 1 Axes>"
      ]
     },
     "metadata": {
      "needs_background": "light"
     },
     "output_type": "display_data"
    }
   ],
   "source": [
    "imp_coef = coef.sort_values()\n",
    "matplotlib.rcParams['figure.figsize'] = (8.0, 10.0)\n",
    "imp_coef.plot(kind = \"barh\", colormap = 'coolwarm')\n",
    "plt.title(\"Feature importance using Lasso Model\")"
   ]
  },
  {
   "cell_type": "code",
   "execution_count": 20,
   "metadata": {
    "scrolled": true
   },
   "outputs": [
    {
     "name": "stdout",
     "output_type": "stream",
     "text": [
      "['DefensiveTackles', 'LineBackers', 'Centers', 'TurfCode', 'isHomeTeam', 'TimeSnapDiff', 'Safeties', 'IsPossTeamInLead', 'Quarter', 'isPlayDirectionLeft']\n",
      "10\n",
      "['Distance', 'DefendersInTheBox', 'OffensiveGuards', 'Season', 'TightEnds', 'StadiumTypeCode', 'Age', 'NoseTackles', 'PlayerHeightInches', 'Y', 'HomeScoreBeforePlay', 'Week', 'VisitorScoreBeforePlay', 'Orientation', 'X', 'Dir', 'YardsToTouchdown', 'DefensiveEnds', 'Cornerbacks', 'S', 'Down', 'A']\n",
      "22\n"
     ]
    }
   ],
   "source": [
    "#imp_coef.where((imp_coef == 0)).notna()\n",
    "sfEmbedRemove = (imp_coef[imp_coef == 0].keys()).tolist()\n",
    "print(sfEmbedRemove)\n",
    "print(len(sfEmbedRemove))\n",
    "sfEmbedAdd = (imp_coef[imp_coef != 0].keys()).tolist()\n",
    "print(sfEmbedAdd)\n",
    "print(len(sfEmbedAdd))"
   ]
  },
  {
   "cell_type": "markdown",
   "metadata": {},
   "source": [
    "## Principal Component Analysis\n",
    "A preliminary look at Principal Component Analysis to see if it would be helpful to create a prediction variable set. From the looks of it, if we add all 34 features to it, we can use 17 components and receive a 70% variance. This code can be duplicated in future methods, and the plan is to have two data sets going forward. One will be all the features intact, and another with features removed based on the above methods of feature selection, and compare the results based on accuracy, precision and recall. "
   ]
  },
  {
   "cell_type": "code",
   "execution_count": 21,
   "metadata": {},
   "outputs": [],
   "source": [
    "X = df.drop(\"isFirstDown\",1)   #Feature Matrix\n",
    "y = df[\"isFirstDown\"]          #Target Variable"
   ]
  },
  {
   "cell_type": "code",
   "execution_count": 22,
   "metadata": {},
   "outputs": [],
   "source": [
    "# Splitting data set into train and test\n",
    "from sklearn.model_selection import train_test_split # Splitting the data\n",
    "X_train, X_test, y_train, y_test = train_test_split(X, y, test_size=0.20, random_state=72)\n"
   ]
  },
  {
   "cell_type": "code",
   "execution_count": 23,
   "metadata": {},
   "outputs": [],
   "source": [
    "# Feature Scaling\n",
    "from sklearn.preprocessing import StandardScaler\n",
    "sc = StandardScaler()\n",
    "X_train = sc.fit_transform(X_train)\n",
    "X_test = sc.transform(X_test)"
   ]
  },
  {
   "cell_type": "code",
   "execution_count": 24,
   "metadata": {},
   "outputs": [],
   "source": [
    "# Applying PCA\n",
    "from sklearn.decomposition import PCA\n",
    "pca = PCA(n_components = None)\n",
    "X_train = pca.fit_transform(X_train)\n",
    "X_test = pca.transform(X_test)"
   ]
  },
  {
   "cell_type": "code",
   "execution_count": 25,
   "metadata": {},
   "outputs": [
    {
     "name": "stdout",
     "output_type": "stream",
     "text": [
      "[7.68925880e-02 7.40659861e-02 6.81204619e-02 5.70550923e-02\n",
      " 5.36511624e-02 5.21901906e-02 4.73418828e-02 4.37746894e-02\n",
      " 3.83448497e-02 3.52542292e-02 3.45913044e-02 3.32966049e-02\n",
      " 3.25588927e-02 3.16937211e-02 3.00628442e-02 2.90161702e-02\n",
      " 2.84730717e-02 2.78803379e-02 2.69529396e-02 2.60722748e-02\n",
      " 2.18559960e-02 1.94005077e-02 1.80617815e-02 1.79203821e-02\n",
      " 1.72690969e-02 1.65639098e-02 1.17480125e-02 1.11145636e-02\n",
      " 7.65816385e-03 7.24004554e-03 3.79256897e-03 8.56773748e-05]\n",
      "32\n"
     ]
    }
   ],
   "source": [
    "explained_variance = pca.explained_variance_ratio_\n",
    "print(explained_variance)\n",
    "print (np.count_nonzero(explained_variance))"
   ]
  },
  {
   "cell_type": "code",
   "execution_count": 26,
   "metadata": {},
   "outputs": [
    {
     "name": "stdout",
     "output_type": "stream",
     "text": [
      "0   0\n",
      "1   0.07689258796375692\n",
      "2   0.1509585740974067\n",
      "3   0.219079035971119\n",
      "4   0.2761341282920062\n",
      "5   0.32978529073155444\n",
      "6   0.38197548134073744\n",
      "7   0.42931736409858384\n",
      "8   0.473092053458518\n",
      "9   0.5114369031809922\n",
      "10   0.5466911324016483\n",
      "11   0.581282436823523\n",
      "12   0.6145790417537298\n",
      "13   0.6471379344865258\n",
      "14   0.6788316555993219\n",
      "15   0.7088944998320751\n",
      "16   0.7379106700200648\n",
      "17   0.7663837417267708\n",
      "18   0.7942640796368071\n",
      "19   0.8212170192513253\n",
      "20   0.8472892940873568\n",
      "21   0.8691452901135336\n",
      "22   0.888545797806852\n",
      "23   0.9066075793208066\n",
      "24   0.9245279614649773\n",
      "25   0.9417970583598683\n",
      "26   0.9583609681129995\n",
      "27   0.9701089806166038\n",
      "28   0.981223544263696\n",
      "29   0.988881708115771\n",
      "30   0.9961217536534265\n",
      "31   0.9999143226252399\n"
     ]
    }
   ],
   "source": [
    "for i in range(0,np.count_nonzero(explained_variance + 1)):\n",
    "    print(i,\" \", sum(explained_variance[0:i]))"
   ]
  },
  {
   "cell_type": "markdown",
   "metadata": {},
   "source": [
    "## Saving a dataset with all features intact\n",
    "This data will be used with PCA modelling"
   ]
  },
  {
   "cell_type": "code",
   "execution_count": 27,
   "metadata": {},
   "outputs": [
    {
     "data": {
      "text/plain": [
       "(28511, 33)"
      ]
     },
     "execution_count": 27,
     "metadata": {},
     "output_type": "execute_result"
    }
   ],
   "source": [
    "df.shape"
   ]
  },
  {
   "cell_type": "code",
   "execution_count": 28,
   "metadata": {},
   "outputs": [],
   "source": [
    "df.to_csv(\"../data/processed/data_allcolumns.csv\")"
   ]
  },
  {
   "cell_type": "markdown",
   "metadata": {},
   "source": [
    "## Final attribute drops"
   ]
  },
  {
   "cell_type": "code",
   "execution_count": 29,
   "metadata": {},
   "outputs": [],
   "source": [
    "# Removing all columns suggested, bringing the number of attributes to 12\n",
    "# df.drop(['A', 'Age', 'Centers', 'Cornerbacks', 'DefendersInTheBox', 'Distance', 'DistanceBins', 'Down', \\\n",
    "#          'isHomeTeam', 'isPlayDirectionLeft', 'IsPossTeamInLead', 'LineBackers', 'NoseTackles', \\\n",
    "#          'OffensiveGuards', 'Quarter', 'S', 'Safeties', 'Season', 'StadiumTypeCode', 'TightEnds', 'TimeSnapDiff', \\\n",
    "#          'TurfCode', 'YardsToTouchdown'], axis=1, inplace=True)"
   ]
  },
  {
   "cell_type": "code",
   "execution_count": 30,
   "metadata": {},
   "outputs": [],
   "source": [
    "toAdd = set(selected_features_rfe)\n",
    "toAdd.add('isFirstDown')\n",
    "# Removing based only on low variance\n",
    "# df.drop(VarElim, axis=1, inplace=True)\n",
    "\n",
    "# Removing based only on backwards elimination\n",
    "# df.drop(selected_features_BE, axis=1, inplace=True)\n",
    "\n",
    "# Removing based only on recursive feature extraction\n",
    "\n",
    "df = df[toAdd]\n",
    "\n",
    "# Removing based only on Embed Method\n",
    "# df.drop(sfEmbed, axis=1, inplace=True)\n",
    "\n",
    "# Removing based on low variance and Embedded method\n",
    "# toRemove = VarElim + list(set(sfEmbedRemove) - set(VarElim))\n",
    "# df.drop(toRemove, axis=1, inplace=True)\n"
   ]
  },
  {
   "cell_type": "code",
   "execution_count": 31,
   "metadata": {},
   "outputs": [
    {
     "data": {
      "text/plain": [
       "(28511, 28)"
      ]
     },
     "execution_count": 31,
     "metadata": {},
     "output_type": "execute_result"
    }
   ],
   "source": [
    "df.shape"
   ]
  },
  {
   "cell_type": "code",
   "execution_count": 32,
   "metadata": {},
   "outputs": [],
   "source": [
    "df.to_csv(\"../data/processed/data_ready.csv\")"
   ]
  }
 ],
 "metadata": {
  "kernelspec": {
   "display_name": "Python 3",
   "language": "python",
   "name": "python3"
  },
  "language_info": {
   "codemirror_mode": {
    "name": "ipython",
    "version": 3
   },
   "file_extension": ".py",
   "mimetype": "text/x-python",
   "name": "python",
   "nbconvert_exporter": "python",
   "pygments_lexer": "ipython3",
   "version": "3.7.6"
  }
 },
 "nbformat": 4,
 "nbformat_minor": 4
}
